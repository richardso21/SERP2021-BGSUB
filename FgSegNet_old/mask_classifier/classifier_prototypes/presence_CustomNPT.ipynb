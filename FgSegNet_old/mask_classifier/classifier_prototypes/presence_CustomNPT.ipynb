{
 "cells": [
  {
   "cell_type": "code",
   "execution_count": 1,
   "metadata": {
    "execution": {
     "iopub.execute_input": "2021-01-03T20:37:51.602867Z",
     "iopub.status.busy": "2021-01-03T20:37:51.602372Z",
     "iopub.status.idle": "2021-01-03T20:37:52.924361Z",
     "shell.execute_reply": "2021-01-03T20:37:52.923336Z",
     "shell.execute_reply.started": "2021-01-03T20:37:51.602809Z"
    }
   },
   "outputs": [],
   "source": [
    "import h5py, os, torch\n",
    "from pathlib import Path\n",
    "import torch.nn as nn\n",
    "import torch.nn.functional as F\n",
    "from torch.utils.data import random_split, DataLoader, Dataset\n",
    "import torchvision\n",
    "import numpy as np\n",
    "import pandas as pd\n",
    "import matplotlib.pyplot as plt\n",
    "from tqdm import tqdm"
   ]
  },
  {
   "cell_type": "code",
   "execution_count": 2,
   "metadata": {
    "execution": {
     "iopub.execute_input": "2021-01-03T20:37:52.926076Z",
     "iopub.status.busy": "2021-01-03T20:37:52.925854Z",
     "iopub.status.idle": "2021-01-03T20:37:52.929781Z",
     "shell.execute_reply": "2021-01-03T20:37:52.929077Z",
     "shell.execute_reply.started": "2021-01-03T20:37:52.926047Z"
    }
   },
   "outputs": [],
   "source": [
    "os.environ[\"CUDA_VISIBLE_DEVICES\"] = '1'"
   ]
  },
  {
   "cell_type": "markdown",
   "metadata": {},
   "source": [
    "## Outline\n",
    " - Generate a specific model for each scene\n",
    "     - Each location: 1600 images w/o presence, 800 imags w/ presence\n",
    " - Create Dataloader\n",
    "     - 80-20 split for training/testing (validation?)\n",
    "     - Each img (input size): 1024 x 720 px\n",
    " - Model Architecture\n",
    "     - Modified VGG16?\n",
    "     - Custom CNN architecture?\n",
    "     - Concatenate pixel values and put in logistic regression?"
   ]
  },
  {
   "cell_type": "markdown",
   "metadata": {},
   "source": [
    "---"
   ]
  },
  {
   "cell_type": "markdown",
   "metadata": {},
   "source": [
    "## Model Base/Helpers/Train & Test functions"
   ]
  },
  {
   "cell_type": "code",
   "execution_count": 3,
   "metadata": {
    "execution": {
     "iopub.execute_input": "2021-01-03T20:37:52.931601Z",
     "iopub.status.busy": "2021-01-03T20:37:52.931394Z",
     "iopub.status.idle": "2021-01-03T20:37:52.989874Z",
     "shell.execute_reply": "2021-01-03T20:37:52.989094Z",
     "shell.execute_reply.started": "2021-01-03T20:37:52.931575Z"
    }
   },
   "outputs": [],
   "source": [
    "def accuracy(outs, labels):\n",
    "    # check accuracy for threshold @ 0.7\n",
    "    outs_th = outs >= 0.7\n",
    "        # append onto result dictionary to be returned to function that called `accuracy()`\n",
    "    return torch.tensor(torch.sum(outs_th == labels).item() / len(outs))"
   ]
  },
  {
   "cell_type": "code",
   "execution_count": 4,
   "metadata": {
    "execution": {
     "iopub.execute_input": "2021-01-03T20:37:52.991485Z",
     "iopub.status.busy": "2021-01-03T20:37:52.991242Z",
     "iopub.status.idle": "2021-01-03T20:37:53.040478Z",
     "shell.execute_reply": "2021-01-03T20:37:53.039294Z",
     "shell.execute_reply.started": "2021-01-03T20:37:52.991457Z"
    }
   },
   "outputs": [],
   "source": [
    "class ModelBase(nn.Module):\n",
    "#     training step\n",
    "    def train_step(self, batch):\n",
    "        xb, labels = batch\n",
    "        labels = labels.view(-1, 1)\n",
    "        outs = self(xb)\n",
    "        loss = F.binary_cross_entropy(outs, labels)\n",
    "        return loss\n",
    "#     validation step\n",
    "    def val_step(self, batch):\n",
    "        xb, labels = batch\n",
    "        labels = labels.view(-1, 1)\n",
    "        outs = self(xb)\n",
    "        loss = F.binary_cross_entropy(outs, labels)\n",
    "        acc = accuracy(outs, labels)\n",
    "        return {'loss': loss.detach(), 'acc': acc}\n",
    "#     validation epoch (avg accuracies and losses)\n",
    "    def val_epoch_end(self, outputs):\n",
    "#         for i in range(10):\n",
    "#             print(outputs[i])\n",
    "        batch_loss = [x['loss'] for x in outputs]\n",
    "        avg_loss = torch.stack(batch_loss).mean()\n",
    "        batch_acc = [x['acc'] for x in outputs]\n",
    "        avg_acc = torch.stack(batch_acc).mean()\n",
    "        return {'avg_loss': avg_loss, 'avg_acc': avg_acc}\n",
    "#     print everything important\n",
    "    def epoch_end(self, epoch, avgs, test=False):\n",
    "        s = 'test' if test else 'val'\n",
    "        print(f'EPOCH {epoch + 1:<10} | {s}_loss:{avgs[\"avg_loss\"]:.3f}, {s}_acc (0.7 thr): {avgs[\"avg_acc\"]:.3f}')"
   ]
  },
  {
   "cell_type": "code",
   "execution_count": 5,
   "metadata": {
    "execution": {
     "iopub.execute_input": "2021-01-03T20:37:53.042800Z",
     "iopub.status.busy": "2021-01-03T20:37:53.042402Z",
     "iopub.status.idle": "2021-01-03T20:37:53.067976Z",
     "shell.execute_reply": "2021-01-03T20:37:53.066817Z",
     "shell.execute_reply.started": "2021-01-03T20:37:53.042749Z"
    }
   },
   "outputs": [],
   "source": [
    "@torch.no_grad()\n",
    "def evaluate(model, val_dl):\n",
    "    # eval mode\n",
    "    model.eval()\n",
    "    outputs = [model.val_step(batch) for batch in val_dl]\n",
    "    return model.val_epoch_end(outputs)\n",
    "\n",
    "\n",
    "def fit(epochs, lr, model, train_dl, val_dl, opt_func=torch.optim.Adam):\n",
    "    torch.cuda.empty_cache()\n",
    "    history = []\n",
    "    # define optimizer\n",
    "    optimizer = opt_func(model.parameters(), lr)\n",
    "    # for each epoch...\n",
    "    for epoch in range(epochs):\n",
    "        # training mode\n",
    "        model.train()\n",
    "        # (training) for each batch in train_dl...\n",
    "        for batch in tqdm(train_dl):\n",
    "            # pass thru model\n",
    "            loss = model.train_step(batch)\n",
    "            # perform gradient descent\n",
    "            loss.backward()\n",
    "            optimizer.step()\n",
    "            optimizer.zero_grad()\n",
    "        # validation\n",
    "        res = evaluate(model, val_dl)\n",
    "        # print everything useful\n",
    "        model.epoch_end(epoch, res, test=False)\n",
    "        # append to history\n",
    "        history.append(res)\n",
    "    return history"
   ]
  },
  {
   "cell_type": "markdown",
   "metadata": {},
   "source": [
    "---"
   ]
  },
  {
   "cell_type": "markdown",
   "metadata": {},
   "source": [
    "## Models"
   ]
  },
  {
   "cell_type": "code",
   "execution_count": 6,
   "metadata": {
    "execution": {
     "iopub.execute_input": "2021-01-03T20:37:53.070255Z",
     "iopub.status.busy": "2021-01-03T20:37:53.069836Z",
     "iopub.status.idle": "2021-01-03T20:37:53.089326Z",
     "shell.execute_reply": "2021-01-03T20:37:53.088171Z",
     "shell.execute_reply.started": "2021-01-03T20:37:53.070204Z"
    }
   },
   "outputs": [],
   "source": [
    "class VGG11_PT(ModelBase):\n",
    "    def __init__(self):\n",
    "        super().__init__()\n",
    "#         pretrained VGG16 model w/ batch norm\n",
    "        self.network = torchvision.models.vgg11_bn(pretrained=True)\n",
    "#         change first layer to accept only 1 dimension of color (b/w)\n",
    "        self.network.features[0] = nn.Conv2d(1, 64, kernel_size=3, stride=1, padding=1)\n",
    "#         change last fc layer to output one value\n",
    "        self.network.classifier[6] = nn.Linear(4096, 1, bias=True)\n",
    "        \n",
    "    def forward(self, xb):\n",
    "        out = self.network(xb)\n",
    "        out = F.sigmoid(out)\n",
    "        return out"
   ]
  },
  {
   "cell_type": "code",
   "execution_count": 7,
   "metadata": {
    "execution": {
     "iopub.execute_input": "2021-01-03T20:37:53.091526Z",
     "iopub.status.busy": "2021-01-03T20:37:53.091109Z",
     "iopub.status.idle": "2021-01-03T20:37:53.115130Z",
     "shell.execute_reply": "2021-01-03T20:37:53.113963Z",
     "shell.execute_reply.started": "2021-01-03T20:37:53.091473Z"
    }
   },
   "outputs": [],
   "source": [
    "class Custom_NPT(ModelBase):\n",
    "    def __init__(self):\n",
    "        super().__init__()                                       # 1 x 1024 x 720\n",
    "#         custom-defined model w/o pretrained weights\n",
    "        self.conv1 = nn.Conv2d(1, 8, kernel_size=3, padding=1)   # 8 x 1024 x 720\n",
    "        self.conv2 = nn.Conv2d(8, 16, kernel_size=3, padding=1)  # 16 x 1024 x 720\n",
    "        self.pool1 = nn.MaxPool2d(2)                             # 16 x 512 x 360\n",
    "        self.conv3 = nn.Conv2d(16, 16, kernel_size=3, padding=1) # 16 x 512 x 360\n",
    "        self.pool2 = nn.MaxPool2d(2)                             # 16 x 256 x 180\n",
    "        self.conv5 = nn.Conv2d(16, 8, kernel_size=3, padding=1)  # 8 x 256 x 180\n",
    "        self.pool3 = nn.MaxPool2d(2)                             # 8 x 128 x 90\n",
    "        self.fc1 = nn.Linear(8*128*90, 4096)\n",
    "        self.fc2 = nn.Linear(4096, 512)\n",
    "        self.fc3 = nn.Linear(512, 1)\n",
    "        \n",
    "    def forward(self, xb):\n",
    "        out = F.relu(self.conv1(xb))\n",
    "        out = F.relu(self.conv2(out))\n",
    "        out = self.pool1(out)\n",
    "        out = F.relu(self.conv3(out))\n",
    "        out = self.pool2(out)\n",
    "        out = F.relu(self.conv5(out))\n",
    "        out = self.pool3(out)\n",
    "\n",
    "        out = torch.flatten(out, 1)\n",
    "        out = F.relu(self.fc1(out))\n",
    "        out = F.relu(self.fc2(out))\n",
    "        out = self.fc3(out)\n",
    "        out = F.sigmoid(out)\n",
    "        return out"
   ]
  },
  {
   "cell_type": "markdown",
   "metadata": {},
   "source": [
    "---"
   ]
  },
  {
   "cell_type": "markdown",
   "metadata": {},
   "source": [
    "## DataSet & DataLoader"
   ]
  },
  {
   "cell_type": "code",
   "execution_count": 8,
   "metadata": {
    "execution": {
     "iopub.execute_input": "2021-01-03T20:37:53.117221Z",
     "iopub.status.busy": "2021-01-03T20:37:53.116839Z",
     "iopub.status.idle": "2021-01-03T20:37:53.142332Z",
     "shell.execute_reply": "2021-01-03T20:37:53.141251Z",
     "shell.execute_reply.started": "2021-01-03T20:37:53.117173Z"
    }
   },
   "outputs": [],
   "source": [
    "class Prudhoe_DS(Dataset):\n",
    "    def __init__(self, npy_pth, transforms=None):\n",
    "        self.transforms = transforms\n",
    "        self.npy_pth = npy_pth\n",
    "        self.masks_loc = []\n",
    "        self.labels = []\n",
    "        \n",
    "        for typ in ['pos', 'neg']:\n",
    "            for fn in os.listdir(os.path.join(self.npy_pth, typ)):\n",
    "                \n",
    "                full_fn = os.path.join(self.npy_pth, typ, fn)\n",
    "                self.masks_loc.append(full_fn)\n",
    "#                 masks.append(np.load(full_fn))\n",
    "                \n",
    "                label = 1 if typ == 'pos' else 0\n",
    "                self.labels.append(label)\n",
    "        \n",
    "        self.masks_loc = np.array(self.masks_loc)\n",
    "        self.labels = np.array(self.labels).astype('float32')\n",
    "        \n",
    "    def __len__(self):\n",
    "        return len(self.labels)\n",
    "    \n",
    "    def __getitem__(self, idx):\n",
    "        mask = np.expand_dims(np.load(self.masks_loc[idx]), axis=0).astype('float32')\n",
    "        label = self.labels[idx]\n",
    "        \n",
    "        if self.transforms:\n",
    "            mask = self.transforms()(mask)\n",
    "        \n",
    "        return mask, label"
   ]
  },
  {
   "cell_type": "markdown",
   "metadata": {},
   "source": [
    "---"
   ]
  },
  {
   "cell_type": "code",
   "execution_count": 9,
   "metadata": {
    "execution": {
     "iopub.execute_input": "2021-01-03T20:37:53.146130Z",
     "iopub.status.busy": "2021-01-03T20:37:53.145751Z",
     "iopub.status.idle": "2021-01-03T20:37:53.177618Z",
     "shell.execute_reply": "2021-01-03T20:37:53.176460Z",
     "shell.execute_reply.started": "2021-01-03T20:37:53.146069Z"
    }
   },
   "outputs": [
    {
     "data": {
      "text/plain": [
       "<torch._C.Generator at 0x7fe474ce6d80>"
      ]
     },
     "execution_count": 9,
     "metadata": {},
     "output_type": "execute_result"
    }
   ],
   "source": [
    "torch.manual_seed(42)"
   ]
  },
  {
   "cell_type": "code",
   "execution_count": 10,
   "metadata": {
    "execution": {
     "iopub.execute_input": "2021-01-03T20:37:53.180513Z",
     "iopub.status.busy": "2021-01-03T20:37:53.180123Z",
     "iopub.status.idle": "2021-01-03T20:37:53.197375Z",
     "shell.execute_reply": "2021-01-03T20:37:53.196192Z",
     "shell.execute_reply.started": "2021-01-03T20:37:53.180464Z"
    }
   },
   "outputs": [],
   "source": [
    "PTH = '/scratch/richardso21/20-21_BGSUB/'\n",
    "site = 'prudhoe_12'"
   ]
  },
  {
   "cell_type": "code",
   "execution_count": 11,
   "metadata": {
    "execution": {
     "iopub.execute_input": "2021-01-03T20:37:53.199489Z",
     "iopub.status.busy": "2021-01-03T20:37:53.199106Z",
     "iopub.status.idle": "2021-01-03T20:37:53.224974Z",
     "shell.execute_reply": "2021-01-03T20:37:53.223787Z",
     "shell.execute_reply.started": "2021-01-03T20:37:53.199439Z"
    }
   },
   "outputs": [],
   "source": [
    "npy_pth = os.path.join(PTH, 'FgSegNet_O_neg', site)"
   ]
  },
  {
   "cell_type": "code",
   "execution_count": 12,
   "metadata": {
    "execution": {
     "iopub.execute_input": "2021-01-03T20:37:53.227036Z",
     "iopub.status.busy": "2021-01-03T20:37:53.226623Z",
     "iopub.status.idle": "2021-01-03T20:37:53.269424Z",
     "shell.execute_reply": "2021-01-03T20:37:53.268401Z",
     "shell.execute_reply.started": "2021-01-03T20:37:53.226982Z"
    }
   },
   "outputs": [],
   "source": [
    "ds = Prudhoe_DS(npy_pth)\n",
    "ds_size = len(ds)"
   ]
  },
  {
   "cell_type": "code",
   "execution_count": 13,
   "metadata": {
    "execution": {
     "iopub.execute_input": "2021-01-03T20:37:53.271330Z",
     "iopub.status.busy": "2021-01-03T20:37:53.270979Z",
     "iopub.status.idle": "2021-01-03T20:37:53.276552Z",
     "shell.execute_reply": "2021-01-03T20:37:53.275541Z",
     "shell.execute_reply.started": "2021-01-03T20:37:53.271285Z"
    }
   },
   "outputs": [],
   "source": [
    "train_size = int(ds_size * .70)\n",
    "val_size = (ds_size - train_size) // 2\n",
    "test_size = ds_size - train_size - val_size"
   ]
  },
  {
   "cell_type": "code",
   "execution_count": 14,
   "metadata": {
    "execution": {
     "iopub.execute_input": "2021-01-03T20:37:53.278313Z",
     "iopub.status.busy": "2021-01-03T20:37:53.277963Z",
     "iopub.status.idle": "2021-01-03T20:37:53.300850Z",
     "shell.execute_reply": "2021-01-03T20:37:53.299769Z",
     "shell.execute_reply.started": "2021-01-03T20:37:53.278271Z"
    }
   },
   "outputs": [],
   "source": [
    "train_ds, val_ds, test_ds = random_split(ds, [train_size, val_size, test_size])"
   ]
  },
  {
   "cell_type": "code",
   "execution_count": 15,
   "metadata": {
    "execution": {
     "iopub.execute_input": "2021-01-03T20:37:53.302811Z",
     "iopub.status.busy": "2021-01-03T20:37:53.302411Z",
     "iopub.status.idle": "2021-01-03T20:37:53.325200Z",
     "shell.execute_reply": "2021-01-03T20:37:53.324104Z",
     "shell.execute_reply.started": "2021-01-03T20:37:53.302760Z"
    }
   },
   "outputs": [],
   "source": [
    "batch_size = 4"
   ]
  },
  {
   "cell_type": "code",
   "execution_count": 16,
   "metadata": {
    "execution": {
     "iopub.execute_input": "2021-01-03T20:37:53.327197Z",
     "iopub.status.busy": "2021-01-03T20:37:53.326817Z",
     "iopub.status.idle": "2021-01-03T20:37:53.350868Z",
     "shell.execute_reply": "2021-01-03T20:37:53.349736Z",
     "shell.execute_reply.started": "2021-01-03T20:37:53.327149Z"
    }
   },
   "outputs": [],
   "source": [
    "train_loader = DataLoader(train_ds, batch_size, shuffle=True, pin_memory=True, num_workers=4)\n",
    "val_loader = DataLoader(val_ds, batch_size*2, pin_memory=True, num_workers=4)\n",
    "test_loader = DataLoader(test_ds, batch_size*2, pin_memory=True, num_workers=4)"
   ]
  },
  {
   "cell_type": "markdown",
   "metadata": {},
   "source": [
    "---"
   ]
  },
  {
   "cell_type": "code",
   "execution_count": 17,
   "metadata": {
    "execution": {
     "iopub.execute_input": "2021-01-03T20:37:53.352845Z",
     "iopub.status.busy": "2021-01-03T20:37:53.352463Z",
     "iopub.status.idle": "2021-01-03T20:37:53.375496Z",
     "shell.execute_reply": "2021-01-03T20:37:53.374396Z",
     "shell.execute_reply.started": "2021-01-03T20:37:53.352796Z"
    }
   },
   "outputs": [],
   "source": [
    "def get_default_device():\n",
    "    \"\"\"Pick GPU if available, else CPU\"\"\"\n",
    "    if torch.cuda.is_available():\n",
    "        return torch.device('cuda')\n",
    "    else:\n",
    "        return torch.device('cpu')"
   ]
  },
  {
   "cell_type": "code",
   "execution_count": 18,
   "metadata": {
    "execution": {
     "iopub.execute_input": "2021-01-03T20:37:53.377342Z",
     "iopub.status.busy": "2021-01-03T20:37:53.376963Z",
     "iopub.status.idle": "2021-01-03T20:37:53.491431Z",
     "shell.execute_reply": "2021-01-03T20:37:53.490315Z",
     "shell.execute_reply.started": "2021-01-03T20:37:53.377294Z"
    }
   },
   "outputs": [
    {
     "data": {
      "text/plain": [
       "device(type='cuda')"
      ]
     },
     "execution_count": 18,
     "metadata": {},
     "output_type": "execute_result"
    }
   ],
   "source": [
    "device = get_default_device()\n",
    "device"
   ]
  },
  {
   "cell_type": "code",
   "execution_count": 19,
   "metadata": {
    "execution": {
     "iopub.execute_input": "2021-01-03T20:37:53.493629Z",
     "iopub.status.busy": "2021-01-03T20:37:53.493228Z",
     "iopub.status.idle": "2021-01-03T20:37:53.518545Z",
     "shell.execute_reply": "2021-01-03T20:37:53.517436Z",
     "shell.execute_reply.started": "2021-01-03T20:37:53.493577Z"
    }
   },
   "outputs": [],
   "source": [
    "def to_device(data, device):\n",
    "    \"\"\"Move tensor(s) to chosen device\"\"\"\n",
    "    if isinstance(data, (list,tuple)):\n",
    "        return [to_device(x, device) for x in data]\n",
    "    return data.to(device, non_blocking=True)\n",
    "\n",
    "class DeviceDataLoader():\n",
    "    \"\"\"Wrap a dataloader to move data to a device\"\"\"\n",
    "    def __init__(self, dl, device):\n",
    "        self.dl = dl\n",
    "        self.device = device\n",
    "        \n",
    "    def __iter__(self):\n",
    "        \"\"\"Yield a batch of data after moving it to device\"\"\"\n",
    "        for b in self.dl: \n",
    "            yield to_device(b, self.device)\n",
    "\n",
    "    def __len__(self):\n",
    "        \"\"\"Number of batches\"\"\"\n",
    "        return len(self.dl)"
   ]
  },
  {
   "cell_type": "code",
   "execution_count": 20,
   "metadata": {
    "execution": {
     "iopub.execute_input": "2021-01-03T20:37:53.520532Z",
     "iopub.status.busy": "2021-01-03T20:37:53.520149Z",
     "iopub.status.idle": "2021-01-03T20:37:53.548047Z",
     "shell.execute_reply": "2021-01-03T20:37:53.546976Z",
     "shell.execute_reply.started": "2021-01-03T20:37:53.520483Z"
    }
   },
   "outputs": [],
   "source": [
    "train_loader = DeviceDataLoader(train_loader, device)\n",
    "val_loader = DeviceDataLoader(val_loader, device)\n",
    "test_loader = DeviceDataLoader(test_loader, device)"
   ]
  },
  {
   "cell_type": "code",
   "execution_count": 21,
   "metadata": {
    "execution": {
     "iopub.execute_input": "2021-01-03T20:37:53.549818Z",
     "iopub.status.busy": "2021-01-03T20:37:53.549444Z",
     "iopub.status.idle": "2021-01-03T20:38:02.413392Z",
     "shell.execute_reply": "2021-01-03T20:38:02.411964Z",
     "shell.execute_reply.started": "2021-01-03T20:37:53.549772Z"
    }
   },
   "outputs": [],
   "source": [
    "model = to_device(Custom_NPT(), device)"
   ]
  },
  {
   "cell_type": "code",
   "execution_count": 22,
   "metadata": {
    "execution": {
     "iopub.execute_input": "2021-01-03T20:38:02.415768Z",
     "iopub.status.busy": "2021-01-03T20:38:02.415372Z",
     "iopub.status.idle": "2021-01-03T20:38:04.533762Z",
     "shell.execute_reply": "2021-01-03T20:38:04.532416Z",
     "shell.execute_reply.started": "2021-01-03T20:38:02.415716Z"
    }
   },
   "outputs": [
    {
     "name": "stderr",
     "output_type": "stream",
     "text": [
      "/scratch/richardso21/conda/envs/fgsegnet/lib/python3.6/site-packages/torch/nn/functional.py:1625: UserWarning: nn.functional.sigmoid is deprecated. Use torch.sigmoid instead.\n",
      "  warnings.warn(\"nn.functional.sigmoid is deprecated. Use torch.sigmoid instead.\")\n"
     ]
    },
    {
     "data": {
      "text/plain": [
       "[{'avg_loss': tensor(0.6964, device='cuda:0'), 'avg_acc': tensor(0.6273)}]"
      ]
     },
     "execution_count": 22,
     "metadata": {},
     "output_type": "execute_result"
    }
   ],
   "source": [
    "history = [evaluate(model, val_loader)]\n",
    "history"
   ]
  },
  {
   "cell_type": "code",
   "execution_count": 23,
   "metadata": {
    "execution": {
     "iopub.execute_input": "2021-01-03T20:38:04.536610Z",
     "iopub.status.busy": "2021-01-03T20:38:04.536191Z",
     "iopub.status.idle": "2021-01-03T20:55:01.700445Z",
     "shell.execute_reply": "2021-01-03T20:55:01.698962Z",
     "shell.execute_reply.started": "2021-01-03T20:38:04.536550Z"
    }
   },
   "outputs": [
    {
     "name": "stderr",
     "output_type": "stream",
     "text": [
      "100%|██████████| 496/496 [00:49<00:00, 10.12it/s]\n",
      "  0%|          | 0/496 [00:00<?, ?it/s]"
     ]
    },
    {
     "name": "stdout",
     "output_type": "stream",
     "text": [
      "EPOCH 1          | val_loss:0.662, val_acc (0.7 thr): 0.627\n"
     ]
    },
    {
     "name": "stderr",
     "output_type": "stream",
     "text": [
      "100%|██████████| 496/496 [00:49<00:00, 10.12it/s]\n",
      "  0%|          | 0/496 [00:00<?, ?it/s]"
     ]
    },
    {
     "name": "stdout",
     "output_type": "stream",
     "text": [
      "EPOCH 2          | val_loss:0.658, val_acc (0.7 thr): 0.630\n"
     ]
    },
    {
     "name": "stderr",
     "output_type": "stream",
     "text": [
      "100%|██████████| 496/496 [00:49<00:00, 10.11it/s]\n",
      "  0%|          | 0/496 [00:00<?, ?it/s]"
     ]
    },
    {
     "name": "stdout",
     "output_type": "stream",
     "text": [
      "EPOCH 3          | val_loss:0.658, val_acc (0.7 thr): 0.630\n"
     ]
    },
    {
     "name": "stderr",
     "output_type": "stream",
     "text": [
      "100%|██████████| 496/496 [00:49<00:00, 10.09it/s]\n",
      "  0%|          | 0/496 [00:00<?, ?it/s]"
     ]
    },
    {
     "name": "stdout",
     "output_type": "stream",
     "text": [
      "EPOCH 4          | val_loss:0.655, val_acc (0.7 thr): 0.627\n"
     ]
    },
    {
     "name": "stderr",
     "output_type": "stream",
     "text": [
      "100%|██████████| 496/496 [00:49<00:00, 10.07it/s]\n",
      "  0%|          | 0/496 [00:00<?, ?it/s]"
     ]
    },
    {
     "name": "stdout",
     "output_type": "stream",
     "text": [
      "EPOCH 5          | val_loss:0.666, val_acc (0.7 thr): 0.630\n"
     ]
    },
    {
     "name": "stderr",
     "output_type": "stream",
     "text": [
      "100%|██████████| 496/496 [00:49<00:00, 10.06it/s]\n",
      "  0%|          | 0/496 [00:00<?, ?it/s]"
     ]
    },
    {
     "name": "stdout",
     "output_type": "stream",
     "text": [
      "EPOCH 6          | val_loss:0.877, val_acc (0.7 thr): 0.630\n"
     ]
    },
    {
     "name": "stderr",
     "output_type": "stream",
     "text": [
      "100%|██████████| 496/496 [00:49<00:00, 10.03it/s]\n",
      "  0%|          | 0/496 [00:00<?, ?it/s]"
     ]
    },
    {
     "name": "stdout",
     "output_type": "stream",
     "text": [
      "EPOCH 7          | val_loss:0.869, val_acc (0.7 thr): 0.630\n"
     ]
    },
    {
     "name": "stderr",
     "output_type": "stream",
     "text": [
      "100%|██████████| 496/496 [00:49<00:00, 10.04it/s]\n",
      "  0%|          | 0/496 [00:00<?, ?it/s]"
     ]
    },
    {
     "name": "stdout",
     "output_type": "stream",
     "text": [
      "EPOCH 8          | val_loss:0.817, val_acc (0.7 thr): 0.671\n"
     ]
    },
    {
     "name": "stderr",
     "output_type": "stream",
     "text": [
      "100%|██████████| 496/496 [00:49<00:00, 10.03it/s]\n",
      "  0%|          | 0/496 [00:00<?, ?it/s]"
     ]
    },
    {
     "name": "stdout",
     "output_type": "stream",
     "text": [
      "EPOCH 9          | val_loss:0.799, val_acc (0.7 thr): 0.715\n"
     ]
    },
    {
     "name": "stderr",
     "output_type": "stream",
     "text": [
      "100%|██████████| 496/496 [00:49<00:00, 10.03it/s]\n",
      "  0%|          | 0/496 [00:00<?, ?it/s]"
     ]
    },
    {
     "name": "stdout",
     "output_type": "stream",
     "text": [
      "EPOCH 10         | val_loss:2.194, val_acc (0.7 thr): 0.690\n"
     ]
    },
    {
     "name": "stderr",
     "output_type": "stream",
     "text": [
      "100%|██████████| 496/496 [00:49<00:00, 10.03it/s]\n",
      "  0%|          | 0/496 [00:00<?, ?it/s]"
     ]
    },
    {
     "name": "stdout",
     "output_type": "stream",
     "text": [
      "EPOCH 11         | val_loss:1.164, val_acc (0.7 thr): 0.759\n"
     ]
    },
    {
     "name": "stderr",
     "output_type": "stream",
     "text": [
      "100%|██████████| 496/496 [00:49<00:00, 10.03it/s]\n",
      "  0%|          | 0/496 [00:00<?, ?it/s]"
     ]
    },
    {
     "name": "stdout",
     "output_type": "stream",
     "text": [
      "EPOCH 12         | val_loss:1.455, val_acc (0.7 thr): 0.745\n"
     ]
    },
    {
     "name": "stderr",
     "output_type": "stream",
     "text": [
      "100%|██████████| 496/496 [00:49<00:00, 10.03it/s]\n",
      "  0%|          | 0/496 [00:00<?, ?it/s]"
     ]
    },
    {
     "name": "stdout",
     "output_type": "stream",
     "text": [
      "EPOCH 13         | val_loss:1.183, val_acc (0.7 thr): 0.785\n"
     ]
    },
    {
     "name": "stderr",
     "output_type": "stream",
     "text": [
      "100%|██████████| 496/496 [00:49<00:00, 10.01it/s]\n",
      "  0%|          | 0/496 [00:00<?, ?it/s]"
     ]
    },
    {
     "name": "stdout",
     "output_type": "stream",
     "text": [
      "EPOCH 14         | val_loss:1.188, val_acc (0.7 thr): 0.806\n"
     ]
    },
    {
     "name": "stderr",
     "output_type": "stream",
     "text": [
      "100%|██████████| 496/496 [00:49<00:00, 10.03it/s]\n",
      "  0%|          | 0/496 [00:00<?, ?it/s]"
     ]
    },
    {
     "name": "stdout",
     "output_type": "stream",
     "text": [
      "EPOCH 15         | val_loss:1.185, val_acc (0.7 thr): 0.859\n"
     ]
    },
    {
     "name": "stderr",
     "output_type": "stream",
     "text": [
      "100%|██████████| 496/496 [00:49<00:00, 10.03it/s]\n",
      "  0%|          | 0/496 [00:00<?, ?it/s]"
     ]
    },
    {
     "name": "stdout",
     "output_type": "stream",
     "text": [
      "EPOCH 16         | val_loss:1.262, val_acc (0.7 thr): 0.840\n"
     ]
    },
    {
     "name": "stderr",
     "output_type": "stream",
     "text": [
      "100%|██████████| 496/496 [00:49<00:00, 10.02it/s]\n",
      "  0%|          | 0/496 [00:00<?, ?it/s]"
     ]
    },
    {
     "name": "stdout",
     "output_type": "stream",
     "text": [
      "EPOCH 17         | val_loss:1.961, val_acc (0.7 thr): 0.762\n"
     ]
    },
    {
     "name": "stderr",
     "output_type": "stream",
     "text": [
      "100%|██████████| 496/496 [00:49<00:00, 10.01it/s]\n",
      "  0%|          | 0/496 [00:00<?, ?it/s]"
     ]
    },
    {
     "name": "stdout",
     "output_type": "stream",
     "text": [
      "EPOCH 18         | val_loss:1.714, val_acc (0.7 thr): 0.801\n"
     ]
    },
    {
     "name": "stderr",
     "output_type": "stream",
     "text": [
      "100%|██████████| 496/496 [00:49<00:00, 10.02it/s]\n",
      "  0%|          | 0/496 [00:00<?, ?it/s]"
     ]
    },
    {
     "name": "stdout",
     "output_type": "stream",
     "text": [
      "EPOCH 19         | val_loss:1.955, val_acc (0.7 thr): 0.854\n"
     ]
    },
    {
     "name": "stderr",
     "output_type": "stream",
     "text": [
      "100%|██████████| 496/496 [00:49<00:00, 10.01it/s]\n"
     ]
    },
    {
     "name": "stdout",
     "output_type": "stream",
     "text": [
      "EPOCH 20         | val_loss:1.575, val_acc (0.7 thr): 0.850\n"
     ]
    }
   ],
   "source": [
    "history += fit(20, 1e-4, model, train_loader, val_loader)"
   ]
  },
  {
   "cell_type": "markdown",
   "metadata": {},
   "source": [
    "Loss increases, but so does accuracy ???\n",
    "probably diverging (learning rate too high / didn't use batch norm)"
   ]
  },
  {
   "cell_type": "code",
   "execution_count": 24,
   "metadata": {
    "execution": {
     "iopub.execute_input": "2021-01-03T20:55:01.703691Z",
     "iopub.status.busy": "2021-01-03T20:55:01.703264Z",
     "iopub.status.idle": "2021-01-03T20:55:11.451267Z",
     "shell.execute_reply": "2021-01-03T20:55:11.449832Z",
     "shell.execute_reply.started": "2021-01-03T20:55:01.703631Z"
    }
   },
   "outputs": [
    {
     "data": {
      "text/plain": [
       "{'avg_loss': tensor(1.5038, device='cuda:0'), 'avg_acc': tensor(0.8472)}"
      ]
     },
     "execution_count": 24,
     "metadata": {},
     "output_type": "execute_result"
    }
   ],
   "source": [
    "evl = evaluate(model, test_loader)\n",
    "evl"
   ]
  },
  {
   "cell_type": "code",
   "execution_count": 27,
   "metadata": {
    "execution": {
     "iopub.execute_input": "2021-01-03T20:58:46.384161Z",
     "iopub.status.busy": "2021-01-03T20:58:46.383612Z",
     "iopub.status.idle": "2021-01-03T21:07:14.331861Z",
     "shell.execute_reply": "2021-01-03T21:07:14.330491Z",
     "shell.execute_reply.started": "2021-01-03T20:58:46.384101Z"
    }
   },
   "outputs": [
    {
     "name": "stderr",
     "output_type": "stream",
     "text": [
      "100%|██████████| 496/496 [00:49<00:00, 10.11it/s]\n",
      "  0%|          | 0/496 [00:00<?, ?it/s]"
     ]
    },
    {
     "name": "stdout",
     "output_type": "stream",
     "text": [
      "EPOCH 1          | val_loss:1.762, val_acc (0.7 thr): 0.861\n"
     ]
    },
    {
     "name": "stderr",
     "output_type": "stream",
     "text": [
      "100%|██████████| 496/496 [00:49<00:00, 10.11it/s]\n",
      "  0%|          | 0/496 [00:00<?, ?it/s]"
     ]
    },
    {
     "name": "stdout",
     "output_type": "stream",
     "text": [
      "EPOCH 2          | val_loss:1.567, val_acc (0.7 thr): 0.866\n"
     ]
    },
    {
     "name": "stderr",
     "output_type": "stream",
     "text": [
      "100%|██████████| 496/496 [00:49<00:00, 10.10it/s]\n",
      "  0%|          | 0/496 [00:00<?, ?it/s]"
     ]
    },
    {
     "name": "stdout",
     "output_type": "stream",
     "text": [
      "EPOCH 3          | val_loss:1.568, val_acc (0.7 thr): 0.866\n"
     ]
    },
    {
     "name": "stderr",
     "output_type": "stream",
     "text": [
      "100%|██████████| 496/496 [00:49<00:00, 10.08it/s]\n",
      "  0%|          | 0/496 [00:00<?, ?it/s]"
     ]
    },
    {
     "name": "stdout",
     "output_type": "stream",
     "text": [
      "EPOCH 4          | val_loss:1.567, val_acc (0.7 thr): 0.866\n"
     ]
    },
    {
     "name": "stderr",
     "output_type": "stream",
     "text": [
      "100%|██████████| 496/496 [00:49<00:00, 10.06it/s]\n",
      "  0%|          | 0/496 [00:00<?, ?it/s]"
     ]
    },
    {
     "name": "stdout",
     "output_type": "stream",
     "text": [
      "EPOCH 5          | val_loss:1.563, val_acc (0.7 thr): 0.868\n"
     ]
    },
    {
     "name": "stderr",
     "output_type": "stream",
     "text": [
      "100%|██████████| 496/496 [00:49<00:00, 10.04it/s]\n",
      "  0%|          | 0/496 [00:00<?, ?it/s]"
     ]
    },
    {
     "name": "stdout",
     "output_type": "stream",
     "text": [
      "EPOCH 6          | val_loss:1.560, val_acc (0.7 thr): 0.875\n"
     ]
    },
    {
     "name": "stderr",
     "output_type": "stream",
     "text": [
      "100%|██████████| 496/496 [00:49<00:00, 10.04it/s]\n",
      "  0%|          | 0/496 [00:00<?, ?it/s]"
     ]
    },
    {
     "name": "stdout",
     "output_type": "stream",
     "text": [
      "EPOCH 7          | val_loss:1.563, val_acc (0.7 thr): 0.868\n"
     ]
    },
    {
     "name": "stderr",
     "output_type": "stream",
     "text": [
      "100%|██████████| 496/496 [00:49<00:00, 10.01it/s]\n",
      "  0%|          | 0/496 [00:00<?, ?it/s]"
     ]
    },
    {
     "name": "stdout",
     "output_type": "stream",
     "text": [
      "EPOCH 8          | val_loss:1.564, val_acc (0.7 thr): 0.868\n"
     ]
    },
    {
     "name": "stderr",
     "output_type": "stream",
     "text": [
      "100%|██████████| 496/496 [00:49<00:00, 10.04it/s]\n",
      "  0%|          | 0/496 [00:00<?, ?it/s]"
     ]
    },
    {
     "name": "stdout",
     "output_type": "stream",
     "text": [
      "EPOCH 9          | val_loss:1.564, val_acc (0.7 thr): 0.868\n"
     ]
    },
    {
     "name": "stderr",
     "output_type": "stream",
     "text": [
      "100%|██████████| 496/496 [00:49<00:00, 10.03it/s]\n"
     ]
    },
    {
     "name": "stdout",
     "output_type": "stream",
     "text": [
      "EPOCH 10         | val_loss:1.564, val_acc (0.7 thr): 0.870\n"
     ]
    }
   ],
   "source": [
    "history += fit(10, 1e-6, model, train_loader, val_loader)"
   ]
  },
  {
   "cell_type": "code",
   "execution_count": 57,
   "metadata": {
    "execution": {
     "iopub.execute_input": "2021-01-03T22:20:43.239848Z",
     "iopub.status.busy": "2021-01-03T22:20:43.239269Z",
     "iopub.status.idle": "2021-01-03T22:20:50.711181Z",
     "shell.execute_reply": "2021-01-03T22:20:50.709726Z",
     "shell.execute_reply.started": "2021-01-03T22:20:43.239779Z"
    }
   },
   "outputs": [
    {
     "data": {
      "text/plain": [
       "{'avg_loss': tensor(1.2770, device='cuda:0'), 'avg_acc': tensor(0.8750)}"
      ]
     },
     "execution_count": 57,
     "metadata": {},
     "output_type": "execute_result"
    }
   ],
   "source": [
    "evl = evaluate(model, test_loader)\n",
    "evl"
   ]
  },
  {
   "cell_type": "code",
   "execution_count": 28,
   "metadata": {
    "execution": {
     "iopub.execute_input": "2021-01-03T21:14:04.267684Z",
     "iopub.status.busy": "2021-01-03T21:14:04.267042Z",
     "iopub.status.idle": "2021-01-03T21:14:10.807705Z",
     "shell.execute_reply": "2021-01-03T21:14:10.806377Z",
     "shell.execute_reply.started": "2021-01-03T21:14:04.267595Z"
    }
   },
   "outputs": [],
   "source": [
    "torch.save(model.state_dict(), '/scratch/richardso21/20-21_BGSUB/CustomNPT12_2.pth')"
   ]
  },
  {
   "cell_type": "code",
   "execution_count": 26,
   "metadata": {
    "execution": {
     "iopub.execute_input": "2021-01-03T20:55:11.461276Z",
     "iopub.status.busy": "2021-01-03T20:55:11.460995Z",
     "iopub.status.idle": "2021-01-03T20:55:11.511291Z",
     "shell.execute_reply": "2021-01-03T20:55:11.510055Z",
     "shell.execute_reply.started": "2021-01-03T20:55:11.461240Z"
    }
   },
   "outputs": [],
   "source": [
    "# torch.cuda.empty_cache()"
   ]
  },
  {
   "cell_type": "code",
   "execution_count": 47,
   "metadata": {
    "execution": {
     "iopub.execute_input": "2021-01-03T22:12:42.272908Z",
     "iopub.status.busy": "2021-01-03T22:12:42.272379Z",
     "iopub.status.idle": "2021-01-03T22:12:42.289698Z",
     "shell.execute_reply": "2021-01-03T22:12:42.288688Z",
     "shell.execute_reply.started": "2021-01-03T22:12:42.272849Z"
    }
   },
   "outputs": [],
   "source": [
    "x = torch.tensor([1,2,3], device=device)"
   ]
  },
  {
   "cell_type": "code",
   "execution_count": 48,
   "metadata": {
    "execution": {
     "iopub.execute_input": "2021-01-03T22:12:46.411093Z",
     "iopub.status.busy": "2021-01-03T22:12:46.410610Z",
     "iopub.status.idle": "2021-01-03T22:12:46.416733Z",
     "shell.execute_reply": "2021-01-03T22:12:46.415204Z",
     "shell.execute_reply.started": "2021-01-03T22:12:46.411038Z"
    }
   },
   "outputs": [],
   "source": [
    "y = [x]"
   ]
  },
  {
   "cell_type": "code",
   "execution_count": 49,
   "metadata": {
    "execution": {
     "iopub.execute_input": "2021-01-03T22:12:48.043373Z",
     "iopub.status.busy": "2021-01-03T22:12:48.042892Z",
     "iopub.status.idle": "2021-01-03T22:12:48.051854Z",
     "shell.execute_reply": "2021-01-03T22:12:48.050723Z",
     "shell.execute_reply.started": "2021-01-03T22:12:48.043315Z"
    }
   },
   "outputs": [
    {
     "data": {
      "text/plain": [
       "[tensor([1, 2, 3], device='cuda:0')]"
      ]
     },
     "execution_count": 49,
     "metadata": {},
     "output_type": "execute_result"
    }
   ],
   "source": [
    "y"
   ]
  },
  {
   "cell_type": "code",
   "execution_count": 50,
   "metadata": {
    "execution": {
     "iopub.execute_input": "2021-01-03T22:13:14.781598Z",
     "iopub.status.busy": "2021-01-03T22:13:14.780679Z",
     "iopub.status.idle": "2021-01-03T22:13:14.837290Z",
     "shell.execute_reply": "2021-01-03T22:13:14.836020Z",
     "shell.execute_reply.started": "2021-01-03T22:13:14.781515Z"
    }
   },
   "outputs": [],
   "source": [
    "np.save('/scratch/richardso21/20-21_BGSUB/test3.npy', np.array(y))"
   ]
  },
  {
   "cell_type": "code",
   "execution_count": 107,
   "metadata": {
    "execution": {
     "iopub.execute_input": "2021-01-03T22:49:06.318003Z",
     "iopub.status.busy": "2021-01-03T22:49:06.313947Z",
     "iopub.status.idle": "2021-01-03T22:49:09.953632Z",
     "shell.execute_reply": "2021-01-03T22:49:09.951989Z",
     "shell.execute_reply.started": "2021-01-03T22:49:06.317922Z"
    }
   },
   "outputs": [],
   "source": [
    "model.eval()\n",
    "allOuts = np.array([])\n",
    "allLabels = np.array([])\n",
    "for batch in test_loader:\n",
    "    xb, labels = batch\n",
    "    outs = model(xb).data.view(-1)\n",
    "    allOuts = np.append(allOuts, outs.cpu().numpy())\n",
    "    allLabels = np.append(allLabels, labels.cpu().numpy())"
   ]
  },
  {
   "cell_type": "code",
   "execution_count": 108,
   "metadata": {
    "execution": {
     "iopub.execute_input": "2021-01-03T22:49:09.957046Z",
     "iopub.status.busy": "2021-01-03T22:49:09.956595Z",
     "iopub.status.idle": "2021-01-03T22:49:09.964721Z",
     "shell.execute_reply": "2021-01-03T22:49:09.963770Z",
     "shell.execute_reply.started": "2021-01-03T22:49:09.956984Z"
    }
   },
   "outputs": [
    {
     "data": {
      "text/plain": [
       "(425,)"
      ]
     },
     "execution_count": 108,
     "metadata": {},
     "output_type": "execute_result"
    }
   ],
   "source": [
    "allLabels.shape"
   ]
  },
  {
   "cell_type": "code",
   "execution_count": 109,
   "metadata": {
    "execution": {
     "iopub.execute_input": "2021-01-03T22:49:09.967078Z",
     "iopub.status.busy": "2021-01-03T22:49:09.966709Z",
     "iopub.status.idle": "2021-01-03T22:49:10.036539Z",
     "shell.execute_reply": "2021-01-03T22:49:10.035471Z",
     "shell.execute_reply.started": "2021-01-03T22:49:09.967031Z"
    }
   },
   "outputs": [
    {
     "data": {
      "text/plain": [
       "(425,)"
      ]
     },
     "execution_count": 109,
     "metadata": {},
     "output_type": "execute_result"
    }
   ],
   "source": [
    "allOuts.shape"
   ]
  },
  {
   "cell_type": "code",
   "execution_count": 69,
   "metadata": {
    "execution": {
     "iopub.execute_input": "2021-01-03T22:35:27.926991Z",
     "iopub.status.busy": "2021-01-03T22:35:27.926428Z",
     "iopub.status.idle": "2021-01-03T22:35:27.933051Z",
     "shell.execute_reply": "2021-01-03T22:35:27.931755Z",
     "shell.execute_reply.started": "2021-01-03T22:35:27.926929Z"
    }
   },
   "outputs": [],
   "source": [
    "a = np.array([])"
   ]
  },
  {
   "cell_type": "code",
   "execution_count": 75,
   "metadata": {
    "execution": {
     "iopub.execute_input": "2021-01-03T22:36:57.805496Z",
     "iopub.status.busy": "2021-01-03T22:36:57.804976Z",
     "iopub.status.idle": "2021-01-03T22:36:57.811836Z",
     "shell.execute_reply": "2021-01-03T22:36:57.810574Z",
     "shell.execute_reply.started": "2021-01-03T22:36:57.805435Z"
    }
   },
   "outputs": [],
   "source": [
    "a = np.append(a, [1,2,3])"
   ]
  },
  {
   "cell_type": "code",
   "execution_count": 77,
   "metadata": {
    "execution": {
     "iopub.execute_input": "2021-01-03T22:37:07.519559Z",
     "iopub.status.busy": "2021-01-03T22:37:07.519010Z",
     "iopub.status.idle": "2021-01-03T22:37:07.528586Z",
     "shell.execute_reply": "2021-01-03T22:37:07.527222Z",
     "shell.execute_reply.started": "2021-01-03T22:37:07.519497Z"
    }
   },
   "outputs": [],
   "source": [
    "a = np.append(a, [1])"
   ]
  },
  {
   "cell_type": "code",
   "execution_count": 78,
   "metadata": {
    "execution": {
     "iopub.execute_input": "2021-01-03T22:37:08.990443Z",
     "iopub.status.busy": "2021-01-03T22:37:08.989945Z",
     "iopub.status.idle": "2021-01-03T22:37:08.999227Z",
     "shell.execute_reply": "2021-01-03T22:37:08.997921Z",
     "shell.execute_reply.started": "2021-01-03T22:37:08.990380Z"
    }
   },
   "outputs": [
    {
     "data": {
      "text/plain": [
       "array([1., 2., 3., 1.])"
      ]
     },
     "execution_count": 78,
     "metadata": {},
     "output_type": "execute_result"
    }
   ],
   "source": [
    "a"
   ]
  },
  {
   "cell_type": "code",
   "execution_count": null,
   "metadata": {},
   "outputs": [],
   "source": []
  }
 ],
 "metadata": {
  "kernelspec": {
   "display_name": "Python 3",
   "language": "python",
   "name": "python3"
  },
  "language_info": {
   "codemirror_mode": {
    "name": "ipython",
    "version": 3
   },
   "file_extension": ".py",
   "mimetype": "text/x-python",
   "name": "python",
   "nbconvert_exporter": "python",
   "pygments_lexer": "ipython3",
   "version": "3.6.10"
  }
 },
 "nbformat": 4,
 "nbformat_minor": 4
}
