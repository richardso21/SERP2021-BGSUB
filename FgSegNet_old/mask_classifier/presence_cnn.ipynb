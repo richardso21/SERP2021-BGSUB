{
 "cells": [
  {
   "cell_type": "code",
   "execution_count": 1,
   "metadata": {
    "execution": {
     "iopub.execute_input": "2021-01-05T02:53:43.245022Z",
     "iopub.status.busy": "2021-01-05T02:53:43.244599Z",
     "iopub.status.idle": "2021-01-05T02:53:44.667722Z",
     "shell.execute_reply": "2021-01-05T02:53:44.666614Z",
     "shell.execute_reply.started": "2021-01-05T02:53:43.244965Z"
    }
   },
   "outputs": [],
   "source": [
    "import h5py, os, torch\n",
    "from pathlib import Path\n",
    "import torch.nn as nn\n",
    "import torch.nn.functional as F\n",
    "from torch.utils.data import random_split, DataLoader, Dataset\n",
    "import torchvision\n",
    "import numpy as np\n",
    "import pandas as pd\n",
    "import matplotlib.pyplot as plt\n",
    "from tqdm import tqdm"
   ]
  },
  {
   "cell_type": "code",
   "execution_count": 2,
   "metadata": {
    "execution": {
     "iopub.execute_input": "2021-01-05T02:53:44.669856Z",
     "iopub.status.busy": "2021-01-05T02:53:44.669531Z",
     "iopub.status.idle": "2021-01-05T02:53:44.674690Z",
     "shell.execute_reply": "2021-01-05T02:53:44.673835Z",
     "shell.execute_reply.started": "2021-01-05T02:53:44.669813Z"
    }
   },
   "outputs": [],
   "source": [
    "os.environ[\"CUDA_VISIBLE_DEVICES\"] = '1'"
   ]
  },
  {
   "cell_type": "markdown",
   "metadata": {},
   "source": [
    "## Outline\n",
    " - Generate a specific model for each scene\n",
    "     - Each location: 1600 images w/o presence, 800 imags w/ presence\n",
    " - Create Dataloader\n",
    "     - 80-20 split for training/testing (validation?)\n",
    "     - Each img (input size): 1024 x 720 px\n",
    " - Model Architecture\n",
    "     - Modified VGG16?\n",
    "     - Custom CNN architecture?\n",
    "     - Concatenate pixel values and put in logistic regression?"
   ]
  },
  {
   "cell_type": "markdown",
   "metadata": {},
   "source": [
    "---"
   ]
  },
  {
   "cell_type": "markdown",
   "metadata": {},
   "source": [
    "## Model Base/Helpers/Train & Test functions"
   ]
  },
  {
   "cell_type": "code",
   "execution_count": 3,
   "metadata": {
    "execution": {
     "iopub.execute_input": "2021-01-05T02:53:44.676883Z",
     "iopub.status.busy": "2021-01-05T02:53:44.676570Z",
     "iopub.status.idle": "2021-01-05T02:53:44.710622Z",
     "shell.execute_reply": "2021-01-05T02:53:44.709559Z",
     "shell.execute_reply.started": "2021-01-05T02:53:44.676843Z"
    }
   },
   "outputs": [],
   "source": [
    "def accuracy(outs, labels):\n",
    "    # check accuracy for threshold @ 0.7\n",
    "    outs_th = outs >= 0.7\n",
    "        # append onto result dictionary to be returned to function that called `accuracy()`\n",
    "    return torch.tensor(torch.sum(outs_th == labels).item() / len(outs))"
   ]
  },
  {
   "cell_type": "code",
   "execution_count": 4,
   "metadata": {
    "execution": {
     "iopub.execute_input": "2021-01-05T02:53:44.713549Z",
     "iopub.status.busy": "2021-01-05T02:53:44.713078Z",
     "iopub.status.idle": "2021-01-05T02:53:44.819978Z",
     "shell.execute_reply": "2021-01-05T02:53:44.818690Z",
     "shell.execute_reply.started": "2021-01-05T02:53:44.713492Z"
    }
   },
   "outputs": [],
   "source": [
    "class ModelBase(nn.Module):\n",
    "#     training step\n",
    "    def train_step(self, batch):\n",
    "        xb, labels = batch\n",
    "        labels = labels.view(-1, 1)\n",
    "        outs = self(xb)\n",
    "        loss = F.binary_cross_entropy(outs, labels)\n",
    "        return loss\n",
    "#     validation step\n",
    "    def val_step(self, batch):\n",
    "        xb, labels = batch\n",
    "        labels = labels.view(-1, 1)\n",
    "        outs = self(xb)\n",
    "        loss = F.binary_cross_entropy(outs, labels)\n",
    "        acc = accuracy(outs, labels)\n",
    "        return {'loss': loss.detach(), 'acc': acc}\n",
    "#     validation epoch (avg accuracies and losses)\n",
    "    def val_epoch_end(self, outputs):\n",
    "#         for i in range(10):\n",
    "#             print(outputs[i])\n",
    "        batch_loss = [x['loss'] for x in outputs]\n",
    "        avg_loss = torch.stack(batch_loss).mean()\n",
    "        batch_acc = [x['acc'] for x in outputs]\n",
    "        avg_acc = torch.stack(batch_acc).mean()\n",
    "        return {'avg_loss': avg_loss, 'avg_acc': avg_acc}\n",
    "#     print everything important\n",
    "    def epoch_end(self, epoch, avgs, test=False):\n",
    "        s = 'test' if test else 'val'\n",
    "        print(f'EPOCH {epoch + 1:<10} | {s}_loss:{avgs[\"avg_loss\"]:.3f}, {s}_acc (0.7 thr): {avgs[\"avg_acc\"]:.3f}')"
   ]
  },
  {
   "cell_type": "code",
   "execution_count": 5,
   "metadata": {
    "execution": {
     "iopub.execute_input": "2021-01-05T02:53:44.821934Z",
     "iopub.status.busy": "2021-01-05T02:53:44.821576Z",
     "iopub.status.idle": "2021-01-05T02:53:44.877351Z",
     "shell.execute_reply": "2021-01-05T02:53:44.876224Z",
     "shell.execute_reply.started": "2021-01-05T02:53:44.821885Z"
    }
   },
   "outputs": [],
   "source": [
    "@torch.no_grad()\n",
    "def evaluate(model, val_dl):\n",
    "    # eval mode\n",
    "    model.eval()\n",
    "    outputs = [model.val_step(batch) for batch in val_dl]\n",
    "    return model.val_epoch_end(outputs)\n",
    "\n",
    "\n",
    "def fit(epochs, lr, model, train_dl, val_dl, opt_func=torch.optim.Adam):\n",
    "    torch.cuda.empty_cache()\n",
    "    history = []\n",
    "    # define optimizer\n",
    "    optimizer = opt_func(model.parameters(), lr)\n",
    "    # for each epoch...\n",
    "    for epoch in range(epochs):\n",
    "        train_losses = []\n",
    "        # training mode\n",
    "        model.train()\n",
    "        # (training) for each batch in train_dl...\n",
    "        for batch in tqdm(train_dl):\n",
    "            # pass thru model\n",
    "            loss = model.train_step(batch)\n",
    "            # perform gradient descent\n",
    "            loss.backward()\n",
    "            optimizer.step()\n",
    "            optimizer.zero_grad()\n",
    "            train_losses.append(loss.detach())\n",
    "        # validation\n",
    "        res = evaluate(model, val_dl)\n",
    "        # print everything useful\n",
    "        model.epoch_end(epoch, res, test=False)\n",
    "        print(torch.stack(train_losses).mean())\n",
    "        # append to history\n",
    "        history.append(res)\n",
    "    return history"
   ]
  },
  {
   "cell_type": "markdown",
   "metadata": {},
   "source": [
    "---"
   ]
  },
  {
   "cell_type": "markdown",
   "metadata": {},
   "source": [
    "## Models"
   ]
  },
  {
   "cell_type": "code",
   "execution_count": 6,
   "metadata": {
    "execution": {
     "iopub.execute_input": "2021-01-05T02:53:44.879394Z",
     "iopub.status.busy": "2021-01-05T02:53:44.879022Z",
     "iopub.status.idle": "2021-01-05T02:53:44.909914Z",
     "shell.execute_reply": "2021-01-05T02:53:44.908790Z",
     "shell.execute_reply.started": "2021-01-05T02:53:44.879346Z"
    }
   },
   "outputs": [],
   "source": [
    "class VGG11_PT(ModelBase):\n",
    "    def __init__(self):\n",
    "        super().__init__()\n",
    "#         pretrained VGG16 model w/ batch norm\n",
    "        self.network = torchvision.models.vgg11_bn(pretrained=True)\n",
    "#         change first layer to accept only 1 dimension of color (b/w)\n",
    "        self.network.features[0] = nn.Conv2d(1, 64, kernel_size=3, stride=1, padding=1)\n",
    "#         change last fc layer to output one value\n",
    "        self.network.classifier[6] = nn.Linear(4096, 1, bias=True)\n",
    "        \n",
    "    def forward(self, xb):\n",
    "        out = self.network(xb)\n",
    "        out = F.sigmoid(out)\n",
    "        return out"
   ]
  },
  {
   "cell_type": "code",
   "execution_count": 7,
   "metadata": {
    "execution": {
     "iopub.execute_input": "2021-01-05T02:53:44.911994Z",
     "iopub.status.busy": "2021-01-05T02:53:44.911598Z",
     "iopub.status.idle": "2021-01-05T02:53:44.950648Z",
     "shell.execute_reply": "2021-01-05T02:53:44.949616Z",
     "shell.execute_reply.started": "2021-01-05T02:53:44.911943Z"
    }
   },
   "outputs": [],
   "source": [
    "class Custom_PT(ModelBase):\n",
    "    def __init__(self):\n",
    "        super().__init__()                                       # 1 x 1024 x 720\n",
    "#         custom-defined model w/o pretrained weights\n",
    "        self.conv1 = nn.Conv2d(1, 8, kernel_size=3, padding=1)   # 8 x 1024 x 720\n",
    "        self.bn1 = nn.BatchNorm2d(8)\n",
    "        self.conv2 = nn.Conv2d(8, 16, kernel_size=3, padding=1)  # 16 x 1024 x 720\n",
    "        self.bn2 = nn.BatchNorm2d(16)\n",
    "        self.pool1 = nn.MaxPool2d(2)                             # 16 x 512 x 360\n",
    "        self.conv3 = nn.Conv2d(16, 16, kernel_size=3, padding=1) # 16 x 512 x 360\n",
    "        self.bn3 = nn.BatchNorm2d(16)\n",
    "        self.pool2 = nn.MaxPool2d(2)                             # 16 x 256 x 180\n",
    "        self.conv4 = nn.Conv2d(16, 8, kernel_size=3, padding=1)  # 8 x 256 x 180\n",
    "        self.bn4 = nn.BatchNorm2d(8)\n",
    "        self.pool3 = nn.MaxPool2d(2)                             # 8 x 128 x 90\n",
    "        self.fc1 = nn.Linear(8*128*90, 4096)\n",
    "        self.fc2 = nn.Linear(4096, 512)\n",
    "        self.fc3 = nn.Linear(512, 1)\n",
    "        \n",
    "    def forward(self, xb):\n",
    "        out = F.relu(self.bn1(self.conv1(xb)))\n",
    "        out = F.relu(self.bn2(self.conv2(out)))\n",
    "        out = self.pool1(out)\n",
    "        out = F.relu(self.bn3(self.conv3(out)))\n",
    "        out = self.pool2(out)\n",
    "        out = F.relu(self.bn4(self.conv4(out)))\n",
    "        out = self.pool3(out)\n",
    "\n",
    "        out = torch.flatten(out, 1)\n",
    "        out = F.relu(self.fc1(out))\n",
    "        out = F.relu(self.fc2(out))\n",
    "        out = self.fc3(out)\n",
    "        out = F.sigmoid(out)\n",
    "        return out"
   ]
  },
  {
   "cell_type": "code",
   "execution_count": 8,
   "metadata": {
    "execution": {
     "iopub.execute_input": "2021-01-05T02:53:44.953931Z",
     "iopub.status.busy": "2021-01-05T02:53:44.953577Z",
     "iopub.status.idle": "2021-01-05T02:53:44.994967Z",
     "shell.execute_reply": "2021-01-05T02:53:44.993952Z",
     "shell.execute_reply.started": "2021-01-05T02:53:44.953885Z"
    }
   },
   "outputs": [],
   "source": [
    "class Custom_SPT(ModelBase):\n",
    "    def __init__(self):\n",
    "        super().__init__()                                        # 1 x 1024 x 720\n",
    "#         custom-defined model w/o pretrained weights\n",
    "        self.conv1 = nn.Conv2d(1, 4, kernel_size=3, padding=1)    # 4 x 1024 x 720\n",
    "        self.bn1 = nn.BatchNorm2d(4)\n",
    "        self.pool1 = nn.MaxPool2d(2)                              # 4 x 512 x 360\n",
    "        self.conv2 = nn.Conv2d(4, 4, kernel_size=3, padding=1)    # 4 x 512 x 360\n",
    "        self.bn2 = nn.BatchNorm2d(4)\n",
    "#         self.pool2 = nn.MaxPool2d(2)                              # 8 x 256 x 180\n",
    "#         self.conv3 = nn.Conv2d(8, 8, kernel_size=3, padding=1)    # 8 x 256 x 180\n",
    "#         self.bn3 = nn.BatchNorm2d(8)\n",
    "        self.pool3 = nn.AvgPool2d(4)                             # 4 x 128 x 90\n",
    "\n",
    "        self.fc1 = nn.Linear(4*128*90, 512)\n",
    "        self.fc2 = nn.Linear(512, 1)\n",
    "        \n",
    "    def forward(self, xb):\n",
    "        out = F.relu(self.bn1(self.conv1(xb)))\n",
    "        out = self.pool1(out)\n",
    "        out = F.relu(self.bn2(self.conv2(out)))\n",
    "#         out = self.pool2(out)\n",
    "#         out = F.relu(self.bn3(self.conv3(out)))\n",
    "        out = self.pool3(out)\n",
    "\n",
    "        out = torch.flatten(out, 1)\n",
    "        out = F.relu(self.fc1(out))\n",
    "        out = self.fc2(out)\n",
    "        out = F.sigmoid(out)\n",
    "        return out"
   ]
  },
  {
   "cell_type": "markdown",
   "metadata": {},
   "source": [
    "---"
   ]
  },
  {
   "cell_type": "markdown",
   "metadata": {},
   "source": [
    "## DataSet & DataLoader"
   ]
  },
  {
   "cell_type": "code",
   "execution_count": 9,
   "metadata": {
    "execution": {
     "iopub.execute_input": "2021-01-05T02:53:44.997480Z",
     "iopub.status.busy": "2021-01-05T02:53:44.997149Z",
     "iopub.status.idle": "2021-01-05T02:53:45.037629Z",
     "shell.execute_reply": "2021-01-05T02:53:45.036591Z",
     "shell.execute_reply.started": "2021-01-05T02:53:44.997438Z"
    }
   },
   "outputs": [],
   "source": [
    "class Prudhoe_DS(Dataset):\n",
    "    def __init__(self, npy_pth, transforms=None):\n",
    "        self.transforms = transforms\n",
    "        self.npy_pth = npy_pth\n",
    "        self.masks_loc = []\n",
    "        self.labels = []\n",
    "        \n",
    "        for typ in ['pos', 'neg']:\n",
    "            for fn in os.listdir(os.path.join(self.npy_pth, typ)):\n",
    "                \n",
    "                full_fn = os.path.join(self.npy_pth, typ, fn)\n",
    "                self.masks_loc.append(full_fn)\n",
    "#                 masks.append(np.load(full_fn))\n",
    "                \n",
    "                label = 1 if typ == 'pos' else 0\n",
    "                self.labels.append(label)\n",
    "        \n",
    "        self.masks_loc = np.array(self.masks_loc)\n",
    "        self.labels = np.array(self.labels).astype('float32')\n",
    "        \n",
    "    def __len__(self):\n",
    "        return len(self.labels)\n",
    "    \n",
    "    def __getitem__(self, idx):\n",
    "        mask = np.expand_dims(np.load(self.masks_loc[idx]), axis=0).astype('float32')\n",
    "        label = self.labels[idx]\n",
    "        \n",
    "        if self.transforms:\n",
    "            mask = self.transforms()(mask)\n",
    "        \n",
    "        return mask, label"
   ]
  },
  {
   "cell_type": "markdown",
   "metadata": {},
   "source": [
    "---"
   ]
  },
  {
   "cell_type": "code",
   "execution_count": 10,
   "metadata": {
    "execution": {
     "iopub.execute_input": "2021-01-05T02:53:45.039721Z",
     "iopub.status.busy": "2021-01-05T02:53:45.039320Z",
     "iopub.status.idle": "2021-01-05T02:53:45.085112Z",
     "shell.execute_reply": "2021-01-05T02:53:45.084083Z",
     "shell.execute_reply.started": "2021-01-05T02:53:45.039668Z"
    }
   },
   "outputs": [
    {
     "data": {
      "text/plain": [
       "<torch._C.Generator at 0x7fbb1c710d80>"
      ]
     },
     "execution_count": 10,
     "metadata": {},
     "output_type": "execute_result"
    }
   ],
   "source": [
    "torch.manual_seed(42)"
   ]
  },
  {
   "cell_type": "code",
   "execution_count": 11,
   "metadata": {
    "execution": {
     "iopub.execute_input": "2021-01-05T02:53:45.087143Z",
     "iopub.status.busy": "2021-01-05T02:53:45.086761Z",
     "iopub.status.idle": "2021-01-05T02:53:45.126712Z",
     "shell.execute_reply": "2021-01-05T02:53:45.125207Z",
     "shell.execute_reply.started": "2021-01-05T02:53:45.087094Z"
    }
   },
   "outputs": [],
   "source": [
    "PTH = '/scratch/richardso21/20-21_BGSUB/'\n",
    "site = 'prudhoe_12'"
   ]
  },
  {
   "cell_type": "code",
   "execution_count": 12,
   "metadata": {
    "execution": {
     "iopub.execute_input": "2021-01-05T02:53:45.129051Z",
     "iopub.status.busy": "2021-01-05T02:53:45.128617Z",
     "iopub.status.idle": "2021-01-05T02:53:45.165203Z",
     "shell.execute_reply": "2021-01-05T02:53:45.164022Z",
     "shell.execute_reply.started": "2021-01-05T02:53:45.128994Z"
    }
   },
   "outputs": [],
   "source": [
    "npy_pth = os.path.join(PTH, 'FgSegNet_O_neg', site)"
   ]
  },
  {
   "cell_type": "code",
   "execution_count": 13,
   "metadata": {
    "execution": {
     "iopub.execute_input": "2021-01-05T02:53:45.167363Z",
     "iopub.status.busy": "2021-01-05T02:53:45.166958Z",
     "iopub.status.idle": "2021-01-05T02:53:45.231622Z",
     "shell.execute_reply": "2021-01-05T02:53:45.230520Z",
     "shell.execute_reply.started": "2021-01-05T02:53:45.167310Z"
    }
   },
   "outputs": [],
   "source": [
    "ds = Prudhoe_DS(npy_pth)\n",
    "ds_size = len(ds)"
   ]
  },
  {
   "cell_type": "code",
   "execution_count": 14,
   "metadata": {
    "execution": {
     "iopub.execute_input": "2021-01-05T02:53:45.233719Z",
     "iopub.status.busy": "2021-01-05T02:53:45.233326Z",
     "iopub.status.idle": "2021-01-05T02:53:45.258846Z",
     "shell.execute_reply": "2021-01-05T02:53:45.257693Z",
     "shell.execute_reply.started": "2021-01-05T02:53:45.233668Z"
    }
   },
   "outputs": [],
   "source": [
    "train_size = int(ds_size * .70)\n",
    "val_size = (ds_size - train_size) // 2\n",
    "test_size = ds_size - train_size - val_size"
   ]
  },
  {
   "cell_type": "code",
   "execution_count": 15,
   "metadata": {
    "execution": {
     "iopub.execute_input": "2021-01-05T02:53:45.261001Z",
     "iopub.status.busy": "2021-01-05T02:53:45.260578Z",
     "iopub.status.idle": "2021-01-05T02:53:45.314481Z",
     "shell.execute_reply": "2021-01-05T02:53:45.313248Z",
     "shell.execute_reply.started": "2021-01-05T02:53:45.260945Z"
    }
   },
   "outputs": [],
   "source": [
    "train_ds, val_ds, test_ds = random_split(ds, [train_size, val_size, test_size])"
   ]
  },
  {
   "cell_type": "code",
   "execution_count": 16,
   "metadata": {
    "execution": {
     "iopub.execute_input": "2021-01-05T02:53:45.316832Z",
     "iopub.status.busy": "2021-01-05T02:53:45.316397Z",
     "iopub.status.idle": "2021-01-05T02:53:45.350962Z",
     "shell.execute_reply": "2021-01-05T02:53:45.349706Z",
     "shell.execute_reply.started": "2021-01-05T02:53:45.316775Z"
    }
   },
   "outputs": [],
   "source": [
    "batch_size = 4"
   ]
  },
  {
   "cell_type": "code",
   "execution_count": 17,
   "metadata": {
    "execution": {
     "iopub.execute_input": "2021-01-05T02:53:45.353245Z",
     "iopub.status.busy": "2021-01-05T02:53:45.352806Z",
     "iopub.status.idle": "2021-01-05T02:53:45.397255Z",
     "shell.execute_reply": "2021-01-05T02:53:45.396292Z",
     "shell.execute_reply.started": "2021-01-05T02:53:45.353188Z"
    }
   },
   "outputs": [],
   "source": [
    "train_loader = DataLoader(train_ds, batch_size, shuffle=True, pin_memory=True, num_workers=4)\n",
    "val_loader = DataLoader(val_ds, batch_size*2, pin_memory=True, num_workers=4)\n",
    "test_loader = DataLoader(test_ds, batch_size*2, pin_memory=True, num_workers=4)"
   ]
  },
  {
   "cell_type": "markdown",
   "metadata": {},
   "source": [
    "---"
   ]
  },
  {
   "cell_type": "code",
   "execution_count": 18,
   "metadata": {
    "execution": {
     "iopub.execute_input": "2021-01-05T02:53:45.399063Z",
     "iopub.status.busy": "2021-01-05T02:53:45.398730Z",
     "iopub.status.idle": "2021-01-05T02:53:45.428131Z",
     "shell.execute_reply": "2021-01-05T02:53:45.427126Z",
     "shell.execute_reply.started": "2021-01-05T02:53:45.399019Z"
    }
   },
   "outputs": [],
   "source": [
    "def get_default_device():\n",
    "    \"\"\"Pick GPU if available, else CPU\"\"\"\n",
    "    if torch.cuda.is_available():\n",
    "        return torch.device('cuda')\n",
    "    else:\n",
    "        return torch.device('cpu')"
   ]
  },
  {
   "cell_type": "code",
   "execution_count": 19,
   "metadata": {
    "execution": {
     "iopub.execute_input": "2021-01-05T02:53:45.429960Z",
     "iopub.status.busy": "2021-01-05T02:53:45.429477Z",
     "iopub.status.idle": "2021-01-05T02:53:45.497239Z",
     "shell.execute_reply": "2021-01-05T02:53:45.496059Z",
     "shell.execute_reply.started": "2021-01-05T02:53:45.429916Z"
    }
   },
   "outputs": [
    {
     "data": {
      "text/plain": [
       "device(type='cuda')"
      ]
     },
     "execution_count": 19,
     "metadata": {},
     "output_type": "execute_result"
    }
   ],
   "source": [
    "device = get_default_device()\n",
    "device"
   ]
  },
  {
   "cell_type": "code",
   "execution_count": 20,
   "metadata": {
    "execution": {
     "iopub.execute_input": "2021-01-05T02:53:45.499661Z",
     "iopub.status.busy": "2021-01-05T02:53:45.499188Z",
     "iopub.status.idle": "2021-01-05T02:53:45.533173Z",
     "shell.execute_reply": "2021-01-05T02:53:45.532028Z",
     "shell.execute_reply.started": "2021-01-05T02:53:45.499603Z"
    }
   },
   "outputs": [],
   "source": [
    "def to_device(data, device):\n",
    "    \"\"\"Move tensor(s) to chosen device\"\"\"\n",
    "    if isinstance(data, (list,tuple)):\n",
    "        return [to_device(x, device) for x in data]\n",
    "    return data.to(device, non_blocking=True)\n",
    "\n",
    "class DeviceDataLoader():\n",
    "    \"\"\"Wrap a dataloader to move data to a device\"\"\"\n",
    "    def __init__(self, dl, device):\n",
    "        self.dl = dl\n",
    "        self.device = device\n",
    "        \n",
    "    def __iter__(self):\n",
    "        \"\"\"Yield a batch of data after moving it to device\"\"\"\n",
    "        for b in self.dl: \n",
    "            yield to_device(b, self.device)\n",
    "\n",
    "    def __len__(self):\n",
    "        \"\"\"Number of batches\"\"\"\n",
    "        return len(self.dl)"
   ]
  },
  {
   "cell_type": "code",
   "execution_count": 21,
   "metadata": {
    "execution": {
     "iopub.execute_input": "2021-01-05T02:53:45.535392Z",
     "iopub.status.busy": "2021-01-05T02:53:45.534983Z",
     "iopub.status.idle": "2021-01-05T02:53:45.590298Z",
     "shell.execute_reply": "2021-01-05T02:53:45.589200Z",
     "shell.execute_reply.started": "2021-01-05T02:53:45.535338Z"
    }
   },
   "outputs": [],
   "source": [
    "train_loader = DeviceDataLoader(train_loader, device)\n",
    "val_loader = DeviceDataLoader(val_loader, device)\n",
    "test_loader = DeviceDataLoader(test_loader, device)"
   ]
  },
  {
   "cell_type": "code",
   "execution_count": 22,
   "metadata": {
    "execution": {
     "iopub.execute_input": "2021-01-05T02:53:45.592277Z",
     "iopub.status.busy": "2021-01-05T02:53:45.591895Z",
     "iopub.status.idle": "2021-01-05T02:53:50.322612Z",
     "shell.execute_reply": "2021-01-05T02:53:50.321274Z",
     "shell.execute_reply.started": "2021-01-05T02:53:45.592227Z"
    }
   },
   "outputs": [],
   "source": [
    "model = to_device(Custom_SPT(), device)"
   ]
  },
  {
   "cell_type": "code",
   "execution_count": 23,
   "metadata": {
    "execution": {
     "iopub.execute_input": "2021-01-05T02:53:50.327622Z",
     "iopub.status.busy": "2021-01-05T02:53:50.327237Z",
     "iopub.status.idle": "2021-01-05T02:53:52.472357Z",
     "shell.execute_reply": "2021-01-05T02:53:52.471231Z",
     "shell.execute_reply.started": "2021-01-05T02:53:50.327571Z"
    }
   },
   "outputs": [
    {
     "name": "stderr",
     "output_type": "stream",
     "text": [
      "/scratch/richardso21/conda/envs/fgsegnet/lib/python3.6/site-packages/torch/nn/functional.py:1625: UserWarning: nn.functional.sigmoid is deprecated. Use torch.sigmoid instead.\n",
      "  warnings.warn(\"nn.functional.sigmoid is deprecated. Use torch.sigmoid instead.\")\n"
     ]
    },
    {
     "data": {
      "text/plain": [
       "[{'avg_loss': tensor(0.6908, device='cuda:0'), 'avg_acc': tensor(0.6273)}]"
      ]
     },
     "execution_count": 23,
     "metadata": {},
     "output_type": "execute_result"
    }
   ],
   "source": [
    "history = [evaluate(model, val_loader)]\n",
    "history"
   ]
  },
  {
   "cell_type": "code",
   "execution_count": 24,
   "metadata": {
    "execution": {
     "iopub.execute_input": "2021-01-05T02:53:52.474822Z",
     "iopub.status.busy": "2021-01-05T02:53:52.474499Z",
     "iopub.status.idle": "2021-01-05T02:56:57.356618Z",
     "shell.execute_reply": "2021-01-05T02:56:57.355217Z",
     "shell.execute_reply.started": "2021-01-05T02:53:52.474776Z"
    }
   },
   "outputs": [
    {
     "name": "stderr",
     "output_type": "stream",
     "text": [
      "100%|██████████| 496/496 [00:18<00:00, 26.60it/s]\n",
      "  0%|          | 0/496 [00:00<?, ?it/s]"
     ]
    },
    {
     "name": "stdout",
     "output_type": "stream",
     "text": [
      "EPOCH 1          | val_loss:0.639, val_acc (0.7 thr): 0.630\n",
      "tensor(0.5642, device='cuda:0')\n"
     ]
    },
    {
     "name": "stderr",
     "output_type": "stream",
     "text": [
      "100%|██████████| 496/496 [00:10<00:00, 47.56it/s]\n",
      "  0%|          | 0/496 [00:00<?, ?it/s]"
     ]
    },
    {
     "name": "stdout",
     "output_type": "stream",
     "text": [
      "EPOCH 2          | val_loss:0.615, val_acc (0.7 thr): 0.632\n",
      "tensor(0.4330, device='cuda:0')\n"
     ]
    },
    {
     "name": "stderr",
     "output_type": "stream",
     "text": [
      "100%|██████████| 496/496 [00:10<00:00, 47.32it/s]\n",
      "  0%|          | 0/496 [00:00<?, ?it/s]"
     ]
    },
    {
     "name": "stdout",
     "output_type": "stream",
     "text": [
      "EPOCH 3          | val_loss:0.573, val_acc (0.7 thr): 0.667\n",
      "tensor(0.3755, device='cuda:0')\n"
     ]
    },
    {
     "name": "stderr",
     "output_type": "stream",
     "text": [
      "100%|██████████| 496/496 [00:10<00:00, 47.38it/s]\n",
      "  0%|          | 0/496 [00:00<?, ?it/s]"
     ]
    },
    {
     "name": "stdout",
     "output_type": "stream",
     "text": [
      "EPOCH 4          | val_loss:0.545, val_acc (0.7 thr): 0.650\n",
      "tensor(0.3395, device='cuda:0')\n"
     ]
    },
    {
     "name": "stderr",
     "output_type": "stream",
     "text": [
      "100%|██████████| 496/496 [00:10<00:00, 47.41it/s]\n",
      "  0%|          | 0/496 [00:00<?, ?it/s]"
     ]
    },
    {
     "name": "stdout",
     "output_type": "stream",
     "text": [
      "EPOCH 5          | val_loss:0.534, val_acc (0.7 thr): 0.676\n",
      "tensor(0.3139, device='cuda:0')\n"
     ]
    },
    {
     "name": "stderr",
     "output_type": "stream",
     "text": [
      "100%|██████████| 496/496 [00:10<00:00, 47.43it/s]\n",
      "  0%|          | 0/496 [00:00<?, ?it/s]"
     ]
    },
    {
     "name": "stdout",
     "output_type": "stream",
     "text": [
      "EPOCH 6          | val_loss:0.842, val_acc (0.7 thr): 0.641\n",
      "tensor(0.2944, device='cuda:0')\n"
     ]
    },
    {
     "name": "stderr",
     "output_type": "stream",
     "text": [
      "100%|██████████| 496/496 [00:10<00:00, 47.30it/s]\n",
      "  0%|          | 0/496 [00:00<?, ?it/s]"
     ]
    },
    {
     "name": "stdout",
     "output_type": "stream",
     "text": [
      "EPOCH 7          | val_loss:0.705, val_acc (0.7 thr): 0.630\n",
      "tensor(0.2795, device='cuda:0')\n"
     ]
    },
    {
     "name": "stderr",
     "output_type": "stream",
     "text": [
      "100%|██████████| 496/496 [00:10<00:00, 47.30it/s]\n",
      "  0%|          | 0/496 [00:00<?, ?it/s]"
     ]
    },
    {
     "name": "stdout",
     "output_type": "stream",
     "text": [
      "EPOCH 8          | val_loss:0.728, val_acc (0.7 thr): 0.678\n",
      "tensor(0.2772, device='cuda:0')\n"
     ]
    },
    {
     "name": "stderr",
     "output_type": "stream",
     "text": [
      "100%|██████████| 496/496 [00:10<00:00, 47.36it/s]\n",
      "  0%|          | 0/496 [00:00<?, ?it/s]"
     ]
    },
    {
     "name": "stdout",
     "output_type": "stream",
     "text": [
      "EPOCH 9          | val_loss:0.654, val_acc (0.7 thr): 0.655\n",
      "tensor(0.2586, device='cuda:0')\n"
     ]
    },
    {
     "name": "stderr",
     "output_type": "stream",
     "text": [
      "100%|██████████| 496/496 [00:10<00:00, 47.45it/s]\n",
      "  0%|          | 0/496 [00:00<?, ?it/s]"
     ]
    },
    {
     "name": "stdout",
     "output_type": "stream",
     "text": [
      "EPOCH 10         | val_loss:0.577, val_acc (0.7 thr): 0.662\n",
      "tensor(0.2439, device='cuda:0')\n"
     ]
    },
    {
     "name": "stderr",
     "output_type": "stream",
     "text": [
      "100%|██████████| 496/496 [00:10<00:00, 47.30it/s]\n",
      "  0%|          | 0/496 [00:00<?, ?it/s]"
     ]
    },
    {
     "name": "stdout",
     "output_type": "stream",
     "text": [
      "EPOCH 11         | val_loss:0.818, val_acc (0.7 thr): 0.632\n",
      "tensor(0.2325, device='cuda:0')\n"
     ]
    },
    {
     "name": "stderr",
     "output_type": "stream",
     "text": [
      "100%|██████████| 496/496 [00:10<00:00, 47.45it/s]\n",
      "  0%|          | 0/496 [00:00<?, ?it/s]"
     ]
    },
    {
     "name": "stdout",
     "output_type": "stream",
     "text": [
      "EPOCH 12         | val_loss:0.972, val_acc (0.7 thr): 0.634\n",
      "tensor(0.2321, device='cuda:0')\n"
     ]
    },
    {
     "name": "stderr",
     "output_type": "stream",
     "text": [
      "100%|██████████| 496/496 [00:10<00:00, 47.32it/s]\n",
      "  0%|          | 0/496 [00:00<?, ?it/s]"
     ]
    },
    {
     "name": "stdout",
     "output_type": "stream",
     "text": [
      "EPOCH 13         | val_loss:0.747, val_acc (0.7 thr): 0.669\n",
      "tensor(0.2227, device='cuda:0')\n"
     ]
    },
    {
     "name": "stderr",
     "output_type": "stream",
     "text": [
      "100%|██████████| 496/496 [00:10<00:00, 47.42it/s]\n",
      "  0%|          | 0/496 [00:00<?, ?it/s]"
     ]
    },
    {
     "name": "stdout",
     "output_type": "stream",
     "text": [
      "EPOCH 14         | val_loss:0.772, val_acc (0.7 thr): 0.850\n",
      "tensor(0.2132, device='cuda:0')\n"
     ]
    },
    {
     "name": "stderr",
     "output_type": "stream",
     "text": [
      "100%|██████████| 496/496 [00:10<00:00, 47.27it/s]\n"
     ]
    },
    {
     "name": "stdout",
     "output_type": "stream",
     "text": [
      "EPOCH 15         | val_loss:0.661, val_acc (0.7 thr): 0.620\n",
      "tensor(0.2022, device='cuda:0')\n"
     ]
    }
   ],
   "source": [
    "history += fit(15, 1e-5, model, train_loader, val_loader)"
   ]
  },
  {
   "cell_type": "code",
   "execution_count": 25,
   "metadata": {
    "execution": {
     "iopub.execute_input": "2021-01-05T02:56:57.359463Z",
     "iopub.status.busy": "2021-01-05T02:56:57.359123Z",
     "iopub.status.idle": "2021-01-05T02:56:57.363354Z",
     "shell.execute_reply": "2021-01-05T02:56:57.362525Z",
     "shell.execute_reply.started": "2021-01-05T02:56:57.359412Z"
    }
   },
   "outputs": [],
   "source": [
    "# evl = evaluate(model, test_loader)\n",
    "# evl"
   ]
  },
  {
   "cell_type": "code",
   "execution_count": 26,
   "metadata": {
    "execution": {
     "iopub.execute_input": "2021-01-05T02:56:57.364828Z",
     "iopub.status.busy": "2021-01-05T02:56:57.364534Z",
     "iopub.status.idle": "2021-01-05T02:56:57.428920Z",
     "shell.execute_reply": "2021-01-05T02:56:57.427784Z",
     "shell.execute_reply.started": "2021-01-05T02:56:57.364790Z"
    }
   },
   "outputs": [],
   "source": [
    "# torch.save(model.state_dict(), '/scratch/richardso21/20-21_BGSUB/CustomPT12.pth')"
   ]
  },
  {
   "cell_type": "code",
   "execution_count": 27,
   "metadata": {
    "execution": {
     "iopub.execute_input": "2021-01-05T02:56:57.431067Z",
     "iopub.status.busy": "2021-01-05T02:56:57.430655Z",
     "iopub.status.idle": "2021-01-05T02:56:57.470741Z",
     "shell.execute_reply": "2021-01-05T02:56:57.469617Z",
     "shell.execute_reply.started": "2021-01-05T02:56:57.431014Z"
    }
   },
   "outputs": [],
   "source": [
    "# history += fit(15, 1e-6, model, train_loader, val_loader)"
   ]
  },
  {
   "cell_type": "code",
   "execution_count": 28,
   "metadata": {
    "execution": {
     "iopub.execute_input": "2021-01-05T02:56:57.472759Z",
     "iopub.status.busy": "2021-01-05T02:56:57.472363Z",
     "iopub.status.idle": "2021-01-05T02:56:57.487684Z",
     "shell.execute_reply": "2021-01-05T02:56:57.486568Z",
     "shell.execute_reply.started": "2021-01-05T02:56:57.472708Z"
    }
   },
   "outputs": [],
   "source": [
    "# evl2 = evaluate(model, test_loader)\n",
    "# evl2"
   ]
  },
  {
   "cell_type": "code",
   "execution_count": 29,
   "metadata": {
    "execution": {
     "iopub.execute_input": "2021-01-05T02:56:57.489679Z",
     "iopub.status.busy": "2021-01-05T02:56:57.489280Z",
     "iopub.status.idle": "2021-01-05T02:56:57.512923Z",
     "shell.execute_reply": "2021-01-05T02:56:57.511838Z",
     "shell.execute_reply.started": "2021-01-05T02:56:57.489627Z"
    }
   },
   "outputs": [],
   "source": [
    "# torch.save(model.state_dict(), '/scratch/richardso21/20-21_BGSUB/CustomPT12.pth')"
   ]
  },
  {
   "cell_type": "code",
   "execution_count": 30,
   "metadata": {
    "execution": {
     "iopub.execute_input": "2021-01-05T02:56:57.514846Z",
     "iopub.status.busy": "2021-01-05T02:56:57.514466Z",
     "iopub.status.idle": "2021-01-05T02:56:57.533057Z",
     "shell.execute_reply": "2021-01-05T02:56:57.532009Z",
     "shell.execute_reply.started": "2021-01-05T02:56:57.514798Z"
    }
   },
   "outputs": [],
   "source": [
    "# torch.cuda.empty_cache()"
   ]
  },
  {
   "cell_type": "code",
   "execution_count": null,
   "metadata": {},
   "outputs": [],
   "source": []
  }
 ],
 "metadata": {
  "kernelspec": {
   "display_name": "Python 3",
   "language": "python",
   "name": "python3"
  },
  "language_info": {
   "codemirror_mode": {
    "name": "ipython",
    "version": 3
   },
   "file_extension": ".py",
   "mimetype": "text/x-python",
   "name": "python",
   "nbconvert_exporter": "python",
   "pygments_lexer": "ipython3",
   "version": "3.6.10"
  }
 },
 "nbformat": 4,
 "nbformat_minor": 4
}
