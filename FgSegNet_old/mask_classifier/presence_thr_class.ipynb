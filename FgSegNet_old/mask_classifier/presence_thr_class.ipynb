{
 "cells": [
  {
   "cell_type": "code",
   "execution_count": 41,
   "metadata": {
    "execution": {
     "iopub.execute_input": "2021-01-05T03:15:37.937952Z",
     "iopub.status.busy": "2021-01-05T03:15:37.937451Z",
     "iopub.status.idle": "2021-01-05T03:15:37.945930Z",
     "shell.execute_reply": "2021-01-05T03:15:37.944755Z",
     "shell.execute_reply.started": "2021-01-05T03:15:37.937894Z"
    }
   },
   "outputs": [],
   "source": [
    "import numpy as np\n",
    "import pandas as pd\n",
    "import matplotlib.pyplot as plt\n",
    "import matplotlib.image as mpimg\n",
    "import os\n",
    "from os.path import join\n",
    "from tqdm import tqdm\n",
    "from scipy import stats\n",
    "from sklearn import metrics\n",
    "from sklearn.model_selection import train_test_split"
   ]
  },
  {
   "cell_type": "code",
   "execution_count": 42,
   "metadata": {
    "execution": {
     "iopub.execute_input": "2021-01-05T03:47:20.338486Z",
     "iopub.status.busy": "2021-01-05T03:47:20.337905Z",
     "iopub.status.idle": "2021-01-05T03:47:20.395613Z",
     "shell.execute_reply": "2021-01-05T03:47:20.394394Z",
     "shell.execute_reply.started": "2021-01-05T03:47:20.338425Z"
    }
   },
   "outputs": [],
   "source": [
    "np.random.seed(42)"
   ]
  },
  {
   "cell_type": "markdown",
   "metadata": {},
   "source": [
    "---"
   ]
  },
  {
   "cell_type": "code",
   "execution_count": 2,
   "metadata": {
    "execution": {
     "iopub.execute_input": "2020-12-21T21:32:39.291818Z",
     "iopub.status.busy": "2020-12-21T21:32:39.291344Z",
     "iopub.status.idle": "2020-12-21T21:32:39.297399Z",
     "shell.execute_reply": "2020-12-21T21:32:39.296275Z",
     "shell.execute_reply.started": "2020-12-21T21:32:39.291762Z"
    }
   },
   "outputs": [],
   "source": [
    "SITES = ['prudhoe_12', 'prudhoe_15', 'prudhoe_22']\n",
    "DIR = '/scratch/richardso21/20-21_BGSUB/FgSegNet_O_neg/'"
   ]
  },
  {
   "cell_type": "code",
   "execution_count": 15,
   "metadata": {
    "execution": {
     "iopub.execute_input": "2020-12-21T22:23:49.195696Z",
     "iopub.status.busy": "2020-12-21T22:23:49.195197Z",
     "iopub.status.idle": "2020-12-21T22:23:49.223073Z",
     "shell.execute_reply": "2020-12-21T22:23:49.221901Z",
     "shell.execute_reply.started": "2020-12-21T22:23:49.195642Z"
    }
   },
   "outputs": [],
   "source": [
    "class DataSite:\n",
    "    def __init__(self, output_path):\n",
    "        print(output_path)\n",
    "        self.output_path = output_path\n",
    "        self.PDIR = join(output_path, 'pos')\n",
    "        self.NDIR = join(output_path, 'neg')\n",
    "        \n",
    "        pmaxesl = []\n",
    "        ptotalsl = []\n",
    "        nmaxesl = []\n",
    "        ntotalsl = []\n",
    "        \n",
    "        for fn in tqdm(os.listdir(self.PDIR)):\n",
    "            full_fn = join(self.PDIR, fn)\n",
    "            npy = np.load(full_fn)\n",
    "            pmaxesl.append(np.max(npy))\n",
    "            ptotalsl.append(np.sum(npy))\n",
    "\n",
    "        for fn in tqdm(os.listdir(self.NDIR)):\n",
    "            full_fn = join(self.NDIR, fn)\n",
    "            npy = np.load(full_fn)\n",
    "            nmaxesl.append(np.max(npy))\n",
    "            ntotalsl.append(np.sum(npy))\n",
    "        \n",
    "        self.pmaxes = np.array(pmaxesl)\n",
    "        self.ptotals = np.array(ptotalsl)\n",
    "        self.nmaxes = np.array(nmaxesl)\n",
    "        self.ntotals = np.array(ntotalsl)\n",
    "        \n",
    "    def maxProb(self, title=\"Histogram comparison of Max probabilities\", save=\"\"):\n",
    "        plt.hist(self.pmaxes, alpha=0.75, label='positive')\n",
    "        plt.hist(self.nmaxes, alpha=0.75, label='negative')\n",
    "        \n",
    "        plt.title(title)\n",
    "        plt.legend()\n",
    "        \n",
    "        if not save==\"\":\n",
    "            plt.savefig(save)\n",
    "        \n",
    "    def sumProb(self, zscore=0, rg=(0,250), title=\"Comparison of summed pixel probabilities\", save=\"\"):\n",
    "#         fig, (ax1, ax2) = plt.subplots(1, 2, figsize=(10, 5), dpi=80, sharey=True)\n",
    "#         if zBool:\n",
    "#             ptotalsz = np.delete(self.ptotals, np.where(np.abs(stats.zscore(self.ptotals) > 2)))\n",
    "#             ntotalsz = np.delete(self.ntotals, np.where(np.abs(stats.zscore(self.ntotals) > 2)))\n",
    "#         else:\n",
    "#             ptotalsz = self.ptotals\n",
    "#             ntotalsz = self.ntotals\n",
    "#         ax1.hist(ptotalsz, range=rg, alpha=0.75)\n",
    "#         ax1.title.set_text(\"Positive Labels\")\n",
    "#         ax2.hist(ntotalsz, range=rg, alpha=0.75)\n",
    "#         ax2.title.set_text(\"Negative Labels\")\n",
    "#         fig.suptitle(title)\n",
    "        if zscore > 0:\n",
    "            ptotalsz = np.delete(self.ptotals, np.where(np.abs(stats.zscore(self.ptotals) > zscore)))\n",
    "            ntotalsz = np.delete(self.ntotals, np.where(np.abs(stats.zscore(self.ntotals) > zscore)))\n",
    "        else:\n",
    "            ptotalsz = self.ptotals\n",
    "            ntotalsz = self.ntotals\n",
    "        plt.hist(ptotalsz, range=rg, alpha=0.75, label='positive')\n",
    "        plt.hist(ntotalsz, range=rg, alpha=0.75, label='negative')\n",
    "        \n",
    "        plt.title(title)\n",
    "        plt.legend()\n",
    "        \n",
    "        if not save==\"\":\n",
    "            plt.savefig(save)"
   ]
  },
  {
   "cell_type": "code",
   "execution_count": 16,
   "metadata": {
    "execution": {
     "iopub.execute_input": "2020-12-21T22:23:51.768838Z",
     "iopub.status.busy": "2020-12-21T22:23:51.768506Z",
     "iopub.status.idle": "2020-12-21T22:25:10.846746Z",
     "shell.execute_reply": "2020-12-21T22:25:10.845453Z",
     "shell.execute_reply.started": "2020-12-21T22:23:51.768800Z"
    }
   },
   "outputs": [
    {
     "name": "stderr",
     "output_type": "stream",
     "text": [
      "  6%|▌         | 54/961 [00:00<00:01, 535.31it/s]"
     ]
    },
    {
     "name": "stdout",
     "output_type": "stream",
     "text": [
      "/scratch/richardso21/20-21_BGSUB/FgSegNet_O_neg/prudhoe_12\n"
     ]
    },
    {
     "name": "stderr",
     "output_type": "stream",
     "text": [
      "100%|██████████| 961/961 [00:22<00:00, 42.36it/s] \n",
      "100%|██████████| 1871/1871 [00:56<00:00, 33.19it/s]\n"
     ]
    }
   ],
   "source": [
    "p12 = DataSite(join(DIR, SITES[0]))"
   ]
  },
  {
   "cell_type": "code",
   "execution_count": 17,
   "metadata": {
    "execution": {
     "iopub.execute_input": "2020-12-21T22:25:10.849582Z",
     "iopub.status.busy": "2020-12-21T22:25:10.849178Z",
     "iopub.status.idle": "2020-12-21T22:25:11.241371Z",
     "shell.execute_reply": "2020-12-21T22:25:11.240476Z",
     "shell.execute_reply.started": "2020-12-21T22:25:10.849528Z"
    }
   },
   "outputs": [
    {
     "data": {
      "image/png": "[encoded data removed]",
      "text/plain": [
       "<Figure size 432x288 with 1 Axes>"
      ]
     },
     "metadata": {
      "needs_background": "light"
     },
     "output_type": "display_data"
    }
   ],
   "source": [
    "p12.maxProb()"
   ]
  },
  {
   "cell_type": "code",
   "execution_count": 37,
   "metadata": {
    "execution": {
     "iopub.execute_input": "2020-12-21T22:35:32.756031Z",
     "iopub.status.busy": "2020-12-21T22:35:32.755576Z",
     "iopub.status.idle": "2020-12-21T22:35:33.145929Z",
     "shell.execute_reply": "2020-12-21T22:35:33.145050Z",
     "shell.execute_reply.started": "2020-12-21T22:35:32.755969Z"
    }
   },
   "outputs": [
    {
     "data": {
      "image/png": "[encoded data removed]",
      "text/plain": [
       "<Figure size 432x288 with 1 Axes>"
      ]
     },
     "metadata": {
      "needs_background": "light"
     },
     "output_type": "display_data"
    }
   ],
   "source": [
    "p12.sumProb(zscore=0, rg=(0, 300))"
   ]
  },
  {
   "cell_type": "code",
   "execution_count": 36,
   "metadata": {
    "execution": {
     "iopub.execute_input": "2020-12-21T22:34:06.149171Z",
     "iopub.status.busy": "2020-12-21T22:34:06.148711Z",
     "iopub.status.idle": "2020-12-21T22:35:32.752699Z",
     "shell.execute_reply": "2020-12-21T22:35:32.751249Z",
     "shell.execute_reply.started": "2020-12-21T22:34:06.149118Z"
    }
   },
   "outputs": [
    {
     "name": "stderr",
     "output_type": "stream",
     "text": [
      "  0%|          | 2/518 [00:00<00:31, 16.38it/s]"
     ]
    },
    {
     "name": "stdout",
     "output_type": "stream",
     "text": [
      "/scratch/richardso21/20-21_BGSUB/FgSegNet_O_neg/prudhoe_15\n"
     ]
    },
    {
     "name": "stderr",
     "output_type": "stream",
     "text": [
      "100%|██████████| 518/518 [00:26<00:00, 19.24it/s]\n",
      "100%|██████████| 1032/1032 [00:59<00:00, 17.30it/s]\n"
     ]
    }
   ],
   "source": [
    "p15 = DataSite(join(DIR, SITES[1]))"
   ]
  },
  {
   "cell_type": "code",
   "execution_count": 38,
   "metadata": {
    "execution": {
     "iopub.execute_input": "2020-12-21T22:35:33.147940Z",
     "iopub.status.busy": "2020-12-21T22:35:33.147654Z",
     "iopub.status.idle": "2020-12-21T22:35:33.488489Z",
     "shell.execute_reply": "2020-12-21T22:35:33.487533Z",
     "shell.execute_reply.started": "2020-12-21T22:35:33.147904Z"
    }
   },
   "outputs": [
    {
     "data": {
      "image/png": "[encoded data removed]",
      "text/plain": [
       "<Figure size 432x288 with 1 Axes>"
      ]
     },
     "metadata": {
      "needs_background": "light"
     },
     "output_type": "display_data"
    }
   ],
   "source": [
    "p15.maxProb()"
   ]
  },
  {
   "cell_type": "code",
   "execution_count": 40,
   "metadata": {
    "execution": {
     "iopub.execute_input": "2020-12-21T22:35:43.566606Z",
     "iopub.status.busy": "2020-12-21T22:35:43.566123Z",
     "iopub.status.idle": "2020-12-21T22:35:43.928651Z",
     "shell.execute_reply": "2020-12-21T22:35:43.927755Z",
     "shell.execute_reply.started": "2020-12-21T22:35:43.566553Z"
    }
   },
   "outputs": [
    {
     "data": {
      "image/png": "[encoded data removed]",
      "text/plain": [
       "<Figure size 432x288 with 1 Axes>"
      ]
     },
     "metadata": {
      "needs_background": "light"
     },
     "output_type": "display_data"
    }
   ],
   "source": [
    "p15.sumProb(zscore=0, rg=(0, 300))"
   ]
  },
  {
   "cell_type": "markdown",
   "metadata": {},
   "source": [
    "---"
   ]
  },
  {
   "cell_type": "code",
   "execution_count": 57,
   "metadata": {
    "execution": {
     "iopub.execute_input": "2021-01-05T22:54:24.440972Z",
     "iopub.status.busy": "2021-01-05T22:54:24.440356Z",
     "iopub.status.idle": "2021-01-05T22:54:24.463827Z",
     "shell.execute_reply": "2021-01-05T22:54:24.462642Z",
     "shell.execute_reply.started": "2021-01-05T22:54:24.440903Z"
    }
   },
   "outputs": [],
   "source": [
    "class ThresholdSite(DataSite):\n",
    "    def __init__(self, output_path):\n",
    "        super().__init__(output_path)\n",
    "        self.bestThr = 0\n",
    "        self.trainSp = None\n",
    "        self.testSp = None\n",
    "        \n",
    "    def dataSplits(self):\n",
    "        X = np.concatenate((self.ptotals, self.ntotals))\n",
    "        y = np.concatenate((np.ones(len(self.ptotals)), np.zeros(len(self.ntotals))))\n",
    "        X_train, X_test, y_train, y_test = train_test_split(X, y, test_size=0.2, random_state=1)\n",
    "#         X_train, X_val, y_train, y_val = train_test_split(X_train, y_train, test_size=0.15, random_state=1)\n",
    "        \n",
    "        self.trainSp = X_train, y_train\n",
    "#         self.valSp = X_val, y_val\n",
    "        self.testSp = X_test, y_test\n",
    "        \n",
    "    def findThr(self, L=None, H=None):\n",
    "        if H is None:\n",
    "            H = max(self.trainSp[0])\n",
    "        if L is None:\n",
    "            L = min(self.trainSp[0])\n",
    "            \n",
    "        if self.trainSp is None:\n",
    "            print('Running dataSplits first!')\n",
    "            self.dataSplits()\n",
    "        \n",
    "        if H - L < 50:\n",
    "            print('lower or higher limit outside of valid scope!')\n",
    "            return\n",
    "        \n",
    "        accs = {}\n",
    "#         check accuracy of thresholding pixel sums in 50 increments between the lower/upper limits\n",
    "        for i in np.linspace(L, H, 50):\n",
    "            print(f'Checking Threshold Accuracy of: {i}')\n",
    "            thr_arr = self.trainSp[0] > i\n",
    "            res = thr_arr == self.trainSp[1]\n",
    "#             take average accuracy\n",
    "            accs[i] = sum(res) / len(res)\n",
    "            del thr_arr\n",
    "        print(accs)\n",
    "        self.bestThr = max(accs, key=accs.get)\n",
    "        print(f'Finding best threshold: {self.bestThr}')\n"
   ]
  },
  {
   "cell_type": "code",
   "execution_count": 59,
   "metadata": {
    "execution": {
     "iopub.execute_input": "2021-01-05T22:54:45.253306Z",
     "iopub.status.busy": "2021-01-05T22:54:45.252755Z",
     "iopub.status.idle": "2021-01-05T22:56:26.519048Z",
     "shell.execute_reply": "2021-01-05T22:56:26.517578Z",
     "shell.execute_reply.started": "2021-01-05T22:54:45.253246Z"
    }
   },
   "outputs": [
    {
     "name": "stderr",
     "output_type": "stream",
     "text": [
      "  0%|          | 3/961 [00:00<00:42, 22.42it/s]"
     ]
    },
    {
     "name": "stdout",
     "output_type": "stream",
     "text": [
      "/scratch/richardso21/20-21_BGSUB/FgSegNet_O_neg/prudhoe_12\n"
     ]
    },
    {
     "name": "stderr",
     "output_type": "stream",
     "text": [
      "100%|██████████| 961/961 [00:33<00:00, 28.85it/s]\n",
      "100%|██████████| 1871/1871 [01:07<00:00, 27.54it/s]\n"
     ]
    }
   ],
   "source": [
    "p12_thr = ThresholdSite(join(DIR, SITES[0]))"
   ]
  },
  {
   "cell_type": "code",
   "execution_count": 60,
   "metadata": {
    "execution": {
     "iopub.execute_input": "2021-01-05T22:56:30.882067Z",
     "iopub.status.busy": "2021-01-05T22:56:30.881513Z",
     "iopub.status.idle": "2021-01-05T22:56:30.890952Z",
     "shell.execute_reply": "2021-01-05T22:56:30.889839Z",
     "shell.execute_reply.started": "2021-01-05T22:56:30.881999Z"
    }
   },
   "outputs": [],
   "source": [
    "p12_thr.dataSplits()"
   ]
  },
  {
   "cell_type": "code",
   "execution_count": 61,
   "metadata": {
    "execution": {
     "iopub.execute_input": "2021-01-05T22:56:31.758382Z",
     "iopub.status.busy": "2021-01-05T22:56:31.757880Z",
     "iopub.status.idle": "2021-01-05T22:56:32.227627Z",
     "shell.execute_reply": "2021-01-05T22:56:32.226753Z",
     "shell.execute_reply.started": "2021-01-05T22:56:31.758327Z"
    },
    "scrolled": true
   },
   "outputs": [
    {
     "name": "stdout",
     "output_type": "stream",
     "text": [
      "Checking Threshold Accuracy of: 0.14927828311920166\n",
      "Checking Threshold Accuracy of: 2403.2288210732595\n",
      "Checking Threshold Accuracy of: 4806.3083638634\n",
      "Checking Threshold Accuracy of: 7209.38790665354\n",
      "Checking Threshold Accuracy of: 9612.46744944368\n",
      "Checking Threshold Accuracy of: 12015.54699223382\n",
      "Checking Threshold Accuracy of: 14418.626535023961\n",
      "Checking Threshold Accuracy of: 16821.706077814102\n",
      "Checking Threshold Accuracy of: 19224.78562060424\n",
      "Checking Threshold Accuracy of: 21627.86516339438\n",
      "Checking Threshold Accuracy of: 24030.94470618452\n",
      "Checking Threshold Accuracy of: 26434.024248974663\n",
      "Checking Threshold Accuracy of: 28837.103791764803\n",
      "Checking Threshold Accuracy of: 31240.183334554942\n",
      "Checking Threshold Accuracy of: 33643.262877345085\n",
      "Checking Threshold Accuracy of: 36046.342420135225\n",
      "Checking Threshold Accuracy of: 38449.421962925364\n",
      "Checking Threshold Accuracy of: 40852.5015057155\n",
      "Checking Threshold Accuracy of: 43255.58104850564\n",
      "Checking Threshold Accuracy of: 45658.66059129578\n",
      "Checking Threshold Accuracy of: 48061.74013408592\n",
      "Checking Threshold Accuracy of: 50464.81967687607\n",
      "Checking Threshold Accuracy of: 52867.89921966621\n",
      "Checking Threshold Accuracy of: 55270.97876245635\n",
      "Checking Threshold Accuracy of: 57674.058305246486\n",
      "Checking Threshold Accuracy of: 60077.137848036626\n",
      "Checking Threshold Accuracy of: 62480.217390826765\n",
      "Checking Threshold Accuracy of: 64883.296933616904\n",
      "Checking Threshold Accuracy of: 67286.37647640705\n",
      "Checking Threshold Accuracy of: 69689.45601919718\n",
      "Checking Threshold Accuracy of: 72092.53556198733\n",
      "Checking Threshold Accuracy of: 74495.61510477746\n",
      "Checking Threshold Accuracy of: 76898.69464756761\n",
      "Checking Threshold Accuracy of: 79301.77419035776\n",
      "Checking Threshold Accuracy of: 81704.85373314789\n",
      "Checking Threshold Accuracy of: 84107.93327593803\n",
      "Checking Threshold Accuracy of: 86511.01281872817\n",
      "Checking Threshold Accuracy of: 88914.09236151831\n",
      "Checking Threshold Accuracy of: 91317.17190430844\n",
      "Checking Threshold Accuracy of: 93720.25144709859\n",
      "Checking Threshold Accuracy of: 96123.33098988872\n",
      "Checking Threshold Accuracy of: 98526.41053267887\n",
      "Checking Threshold Accuracy of: 100929.49007546902\n",
      "Checking Threshold Accuracy of: 103332.56961825915\n",
      "Checking Threshold Accuracy of: 105735.6491610493\n",
      "Checking Threshold Accuracy of: 108138.72870383943\n",
      "Checking Threshold Accuracy of: 110541.80824662957\n",
      "Checking Threshold Accuracy of: 112944.8877894197\n",
      "Checking Threshold Accuracy of: 115347.96733220985\n",
      "Checking Threshold Accuracy of: 117751.046875\n",
      "{0.14927828311920166: 0.33774834437086093, 2403.2288210732595: 0.658719646799117, 4806.3083638634: 0.6631346578366446, 7209.38790665354: 0.6635761589403973, 9612.46744944368: 0.6640176600441501, 12015.54699223382: 0.6644591611479028, 14418.626535023961: 0.6640176600441501, 16821.706077814102: 0.6640176600441501, 19224.78562060424: 0.6644591611479028, 21627.86516339438: 0.6649006622516557, 24030.94470618452: 0.6653421633554084, 26434.024248974663: 0.6653421633554084, 28837.103791764803: 0.6657836644591612, 31240.183334554942: 0.6657836644591612, 33643.262877345085: 0.6657836644591612, 36046.342420135225: 0.6657836644591612, 38449.421962925364: 0.6653421633554084, 40852.5015057155: 0.6657836644591612, 43255.58104850564: 0.6653421633554084, 45658.66059129578: 0.6653421633554084, 48061.74013408592: 0.6657836644591612, 50464.81967687607: 0.6653421633554084, 52867.89921966621: 0.6653421633554084, 55270.97876245635: 0.6653421633554084, 57674.058305246486: 0.6644591611479028, 60077.137848036626: 0.6644591611479028, 62480.217390826765: 0.6640176600441501, 64883.296933616904: 0.6640176600441501, 67286.37647640705: 0.6635761589403973, 69689.45601919718: 0.6631346578366446, 72092.53556198733: 0.6631346578366446, 74495.61510477746: 0.6631346578366446, 76898.69464756761: 0.6631346578366446, 79301.77419035776: 0.6626931567328919, 81704.85373314789: 0.6626931567328919, 84107.93327593803: 0.6626931567328919, 86511.01281872817: 0.6626931567328919, 88914.09236151831: 0.6626931567328919, 91317.17190430844: 0.6626931567328919, 93720.25144709859: 0.6626931567328919, 96123.33098988872: 0.6626931567328919, 98526.41053267887: 0.6622516556291391, 100929.49007546902: 0.6622516556291391, 103332.56961825915: 0.6622516556291391, 105735.6491610493: 0.6622516556291391, 108138.72870383943: 0.6622516556291391, 110541.80824662957: 0.6622516556291391, 112944.8877894197: 0.6622516556291391, 115347.96733220985: 0.6622516556291391, 117751.046875: 0.6618101545253863}\n",
      "Finding best threshold: 28837.103791764803\n"
     ]
    }
   ],
   "source": [
    "p12_thr.findThr()"
   ]
  },
  {
   "cell_type": "code",
   "execution_count": 62,
   "metadata": {
    "execution": {
     "iopub.execute_input": "2021-01-05T22:58:08.411317Z",
     "iopub.status.busy": "2021-01-05T22:58:08.410758Z",
     "iopub.status.idle": "2021-01-05T22:58:08.916758Z",
     "shell.execute_reply": "2021-01-05T22:58:08.915630Z",
     "shell.execute_reply.started": "2021-01-05T22:58:08.411258Z"
    },
    "scrolled": true
   },
   "outputs": [
    {
     "name": "stdout",
     "output_type": "stream",
     "text": [
      "Checking Threshold Accuracy of: 26434.0\n",
      "Checking Threshold Accuracy of: 26483.04081632653\n",
      "Checking Threshold Accuracy of: 26532.081632653062\n",
      "Checking Threshold Accuracy of: 26581.122448979593\n",
      "Checking Threshold Accuracy of: 26630.163265306124\n",
      "Checking Threshold Accuracy of: 26679.20408163265\n",
      "Checking Threshold Accuracy of: 26728.244897959183\n",
      "Checking Threshold Accuracy of: 26777.285714285714\n",
      "Checking Threshold Accuracy of: 26826.326530612245\n",
      "Checking Threshold Accuracy of: 26875.367346938776\n",
      "Checking Threshold Accuracy of: 26924.408163265307\n",
      "Checking Threshold Accuracy of: 26973.448979591838\n",
      "Checking Threshold Accuracy of: 27022.48979591837\n",
      "Checking Threshold Accuracy of: 27071.530612244896\n",
      "Checking Threshold Accuracy of: 27120.571428571428\n",
      "Checking Threshold Accuracy of: 27169.61224489796\n",
      "Checking Threshold Accuracy of: 27218.65306122449\n",
      "Checking Threshold Accuracy of: 27267.69387755102\n",
      "Checking Threshold Accuracy of: 27316.73469387755\n",
      "Checking Threshold Accuracy of: 27365.775510204083\n",
      "Checking Threshold Accuracy of: 27414.816326530614\n",
      "Checking Threshold Accuracy of: 27463.85714285714\n",
      "Checking Threshold Accuracy of: 27512.897959183672\n",
      "Checking Threshold Accuracy of: 27561.938775510203\n",
      "Checking Threshold Accuracy of: 27610.979591836734\n",
      "Checking Threshold Accuracy of: 27660.020408163266\n",
      "Checking Threshold Accuracy of: 27709.061224489797\n",
      "Checking Threshold Accuracy of: 27758.102040816328\n",
      "Checking Threshold Accuracy of: 27807.14285714286\n",
      "Checking Threshold Accuracy of: 27856.183673469386\n",
      "Checking Threshold Accuracy of: 27905.224489795917\n",
      "Checking Threshold Accuracy of: 27954.26530612245\n",
      "Checking Threshold Accuracy of: 28003.30612244898\n",
      "Checking Threshold Accuracy of: 28052.34693877551\n",
      "Checking Threshold Accuracy of: 28101.38775510204\n",
      "Checking Threshold Accuracy of: 28150.428571428572\n",
      "Checking Threshold Accuracy of: 28199.469387755104\n",
      "Checking Threshold Accuracy of: 28248.51020408163\n",
      "Checking Threshold Accuracy of: 28297.551020408162\n",
      "Checking Threshold Accuracy of: 28346.591836734693\n",
      "Checking Threshold Accuracy of: 28395.632653061224\n",
      "Checking Threshold Accuracy of: 28444.673469387755\n",
      "Checking Threshold Accuracy of: 28493.714285714286\n",
      "Checking Threshold Accuracy of: 28542.755102040817\n",
      "Checking Threshold Accuracy of: 28591.79591836735\n",
      "Checking Threshold Accuracy of: 28640.836734693876\n",
      "Checking Threshold Accuracy of: 28689.877551020407\n",
      "Checking Threshold Accuracy of: 28738.918367346938\n",
      "Checking Threshold Accuracy of: 28787.95918367347\n",
      "Checking Threshold Accuracy of: 28837.0\n",
      "{26434.0: 0.6653421633554084, 26483.04081632653: 0.6653421633554084, 26532.081632653062: 0.6657836644591612, 26581.122448979593: 0.6657836644591612, 26630.163265306124: 0.6657836644591612, 26679.20408163265: 0.6657836644591612, 26728.244897959183: 0.6657836644591612, 26777.285714285714: 0.6657836644591612, 26826.326530612245: 0.6657836644591612, 26875.367346938776: 0.6657836644591612, 26924.408163265307: 0.6657836644591612, 26973.448979591838: 0.6657836644591612, 27022.48979591837: 0.6657836644591612, 27071.530612244896: 0.6657836644591612, 27120.571428571428: 0.6657836644591612, 27169.61224489796: 0.6657836644591612, 27218.65306122449: 0.6657836644591612, 27267.69387755102: 0.6657836644591612, 27316.73469387755: 0.6657836644591612, 27365.775510204083: 0.6657836644591612, 27414.816326530614: 0.6657836644591612, 27463.85714285714: 0.6657836644591612, 27512.897959183672: 0.6657836644591612, 27561.938775510203: 0.6657836644591612, 27610.979591836734: 0.6657836644591612, 27660.020408163266: 0.6657836644591612, 27709.061224489797: 0.6657836644591612, 27758.102040816328: 0.6657836644591612, 27807.14285714286: 0.6657836644591612, 27856.183673469386: 0.6657836644591612, 27905.224489795917: 0.6657836644591612, 27954.26530612245: 0.6657836644591612, 28003.30612244898: 0.6657836644591612, 28052.34693877551: 0.6657836644591612, 28101.38775510204: 0.6657836644591612, 28150.428571428572: 0.6657836644591612, 28199.469387755104: 0.6657836644591612, 28248.51020408163: 0.6657836644591612, 28297.551020408162: 0.6657836644591612, 28346.591836734693: 0.6657836644591612, 28395.632653061224: 0.6657836644591612, 28444.673469387755: 0.6657836644591612, 28493.714285714286: 0.6657836644591612, 28542.755102040817: 0.6657836644591612, 28591.79591836735: 0.6657836644591612, 28640.836734693876: 0.6657836644591612, 28689.877551020407: 0.6657836644591612, 28738.918367346938: 0.6657836644591612, 28787.95918367347: 0.6657836644591612, 28837.0: 0.6657836644591612}\n",
      "Finding best threshold: 26532.081632653062\n"
     ]
    }
   ],
   "source": [
    "p12_thr.findThr(26434, 28837)"
   ]
  },
  {
   "cell_type": "code",
   "execution_count": 63,
   "metadata": {
    "execution": {
     "iopub.execute_input": "2021-01-05T23:00:11.333024Z",
     "iopub.status.busy": "2021-01-05T23:00:11.332487Z",
     "iopub.status.idle": "2021-01-05T23:01:41.010464Z",
     "shell.execute_reply": "2021-01-05T23:01:41.009018Z",
     "shell.execute_reply.started": "2021-01-05T23:00:11.332965Z"
    }
   },
   "outputs": [
    {
     "name": "stderr",
     "output_type": "stream",
     "text": [
      "  0%|          | 2/518 [00:00<00:31, 16.61it/s]"
     ]
    },
    {
     "name": "stdout",
     "output_type": "stream",
     "text": [
      "/scratch/richardso21/20-21_BGSUB/FgSegNet_O_neg/prudhoe_15\n"
     ]
    },
    {
     "name": "stderr",
     "output_type": "stream",
     "text": [
      "100%|██████████| 518/518 [00:27<00:00, 19.05it/s]\n",
      "100%|██████████| 1032/1032 [01:02<00:00, 16.52it/s]\n"
     ]
    }
   ],
   "source": [
    "p15_thr = ThresholdSite(join(DIR, SITES[1]))"
   ]
  },
  {
   "cell_type": "code",
   "execution_count": 65,
   "metadata": {
    "execution": {
     "iopub.execute_input": "2021-01-05T23:02:00.643040Z",
     "iopub.status.busy": "2021-01-05T23:02:00.642523Z",
     "iopub.status.idle": "2021-01-05T23:02:00.650721Z",
     "shell.execute_reply": "2021-01-05T23:02:00.649521Z",
     "shell.execute_reply.started": "2021-01-05T23:02:00.642984Z"
    }
   },
   "outputs": [],
   "source": [
    "p15_thr.dataSplits()"
   ]
  },
  {
   "cell_type": "code",
   "execution_count": 66,
   "metadata": {
    "execution": {
     "iopub.execute_input": "2021-01-05T23:02:07.205945Z",
     "iopub.status.busy": "2021-01-05T23:02:07.205393Z",
     "iopub.status.idle": "2021-01-05T23:02:07.472446Z",
     "shell.execute_reply": "2021-01-05T23:02:07.471280Z",
     "shell.execute_reply.started": "2021-01-05T23:02:07.205886Z"
    },
    "scrolled": true
   },
   "outputs": [
    {
     "name": "stdout",
     "output_type": "stream",
     "text": [
      "Checking Threshold Accuracy of: 0.7730931043624878\n",
      "Checking Threshold Accuracy of: 4076.2471116124366\n",
      "Checking Threshold Accuracy of: 8151.721130120511\n",
      "Checking Threshold Accuracy of: 12227.195148628585\n",
      "Checking Threshold Accuracy of: 16302.669167136659\n",
      "Checking Threshold Accuracy of: 20378.143185644734\n",
      "Checking Threshold Accuracy of: 24453.617204152808\n",
      "Checking Threshold Accuracy of: 28529.09122266088\n",
      "Checking Threshold Accuracy of: 32604.565241168955\n",
      "Checking Threshold Accuracy of: 36680.03925967703\n",
      "Checking Threshold Accuracy of: 40755.513278185106\n",
      "Checking Threshold Accuracy of: 44830.98729669318\n",
      "Checking Threshold Accuracy of: 48906.46131520125\n",
      "Checking Threshold Accuracy of: 52981.93533370933\n",
      "Checking Threshold Accuracy of: 57057.4093522174\n",
      "Checking Threshold Accuracy of: 61132.883370725474\n",
      "Checking Threshold Accuracy of: 65208.35738923355\n",
      "Checking Threshold Accuracy of: 69283.83140774163\n",
      "Checking Threshold Accuracy of: 73359.3054262497\n",
      "Checking Threshold Accuracy of: 77434.77944475778\n",
      "Checking Threshold Accuracy of: 81510.25346326585\n",
      "Checking Threshold Accuracy of: 85585.72748177392\n",
      "Checking Threshold Accuracy of: 89661.201500282\n",
      "Checking Threshold Accuracy of: 93736.67551879007\n",
      "Checking Threshold Accuracy of: 97812.14953729814\n",
      "Checking Threshold Accuracy of: 101887.62355580622\n",
      "Checking Threshold Accuracy of: 105963.09757431429\n",
      "Checking Threshold Accuracy of: 110038.57159282237\n",
      "Checking Threshold Accuracy of: 114114.04561133044\n",
      "Checking Threshold Accuracy of: 118189.51962983851\n",
      "Checking Threshold Accuracy of: 122264.99364834659\n",
      "Checking Threshold Accuracy of: 126340.46766685466\n",
      "Checking Threshold Accuracy of: 130415.94168536273\n",
      "Checking Threshold Accuracy of: 134491.41570387082\n",
      "Checking Threshold Accuracy of: 138566.8897223789\n",
      "Checking Threshold Accuracy of: 142642.36374088697\n",
      "Checking Threshold Accuracy of: 146717.83775939504\n",
      "Checking Threshold Accuracy of: 150793.31177790312\n",
      "Checking Threshold Accuracy of: 154868.7857964112\n",
      "Checking Threshold Accuracy of: 158944.25981491926\n",
      "Checking Threshold Accuracy of: 163019.73383342734\n",
      "Checking Threshold Accuracy of: 167095.2078519354\n",
      "Checking Threshold Accuracy of: 171170.68187044348\n",
      "Checking Threshold Accuracy of: 175246.15588895156\n",
      "Checking Threshold Accuracy of: 179321.62990745963\n",
      "Checking Threshold Accuracy of: 183397.1039259677\n",
      "Checking Threshold Accuracy of: 187472.57794447578\n",
      "Checking Threshold Accuracy of: 191548.05196298385\n",
      "Checking Threshold Accuracy of: 195623.52598149193\n",
      "Checking Threshold Accuracy of: 199699.0\n",
      "{0.7730931043624878: 0.34838709677419355, 4076.2471116124366: 0.6516129032258065, 8151.721130120511: 0.6540322580645161, 12227.195148628585: 0.6556451612903226, 16302.669167136659: 0.657258064516129, 20378.143185644734: 0.6564516129032258, 24453.617204152808: 0.6564516129032258, 28529.09122266088: 0.6548387096774193, 32604.565241168955: 0.6532258064516129, 36680.03925967703: 0.6540322580645161, 40755.513278185106: 0.6516129032258065, 44830.98729669318: 0.6516129032258065, 48906.46131520125: 0.6516129032258065, 52981.93533370933: 0.6508064516129032, 57057.4093522174: 0.6508064516129032, 61132.883370725474: 0.6508064516129032, 65208.35738923355: 0.6508064516129032, 69283.83140774163: 0.6508064516129032, 73359.3054262497: 0.6508064516129032, 77434.77944475778: 0.6508064516129032, 81510.25346326585: 0.6508064516129032, 85585.72748177392: 0.6508064516129032, 89661.201500282: 0.6508064516129032, 93736.67551879007: 0.6508064516129032, 97812.14953729814: 0.6508064516129032, 101887.62355580622: 0.6508064516129032, 105963.09757431429: 0.6508064516129032, 110038.57159282237: 0.6516129032258065, 114114.04561133044: 0.6516129032258065, 118189.51962983851: 0.6508064516129032, 122264.99364834659: 0.6508064516129032, 126340.46766685466: 0.6508064516129032, 130415.94168536273: 0.6516129032258065, 134491.41570387082: 0.6516129032258065, 138566.8897223789: 0.6516129032258065, 142642.36374088697: 0.6524193548387097, 146717.83775939504: 0.6524193548387097, 150793.31177790312: 0.6524193548387097, 154868.7857964112: 0.6524193548387097, 158944.25981491926: 0.6524193548387097, 163019.73383342734: 0.6524193548387097, 167095.2078519354: 0.6524193548387097, 171170.68187044348: 0.6524193548387097, 175246.15588895156: 0.6524193548387097, 179321.62990745963: 0.6532258064516129, 183397.1039259677: 0.6532258064516129, 187472.57794447578: 0.6532258064516129, 191548.05196298385: 0.6532258064516129, 195623.52598149193: 0.6532258064516129, 199699.0: 0.6524193548387097}\n",
      "Finding best threshold: 16302.669167136659\n"
     ]
    }
   ],
   "source": [
    "p15_thr.findThr()"
   ]
  },
  {
   "cell_type": "code",
   "execution_count": null,
   "metadata": {},
   "outputs": [],
   "source": []
  }
 ],
 "metadata": {
  "kernelspec": {
   "display_name": "Python 3",
   "language": "python",
   "name": "python3"
  },
  "language_info": {
   "codemirror_mode": {
    "name": "ipython",
    "version": 3
   },
   "file_extension": ".py",
   "mimetype": "text/x-python",
   "name": "python",
   "nbconvert_exporter": "python",
   "pygments_lexer": "ipython3",
   "version": "3.6.10"
  }
 },
 "nbformat": 4,
 "nbformat_minor": 4
}
