{
 "cells": [
  {
   "cell_type": "code",
   "execution_count": 1,
   "metadata": {
    "execution": {
     "iopub.execute_input": "2021-01-02T21:48:41.146157Z",
     "iopub.status.busy": "2021-01-02T21:48:41.145704Z",
     "iopub.status.idle": "2021-01-02T21:48:42.483918Z",
     "shell.execute_reply": "2021-01-02T21:48:42.483008Z",
     "shell.execute_reply.started": "2021-01-02T21:48:41.146083Z"
    }
   },
   "outputs": [],
   "source": [
    "import h5py, os, torch\n",
    "from pathlib import Path\n",
    "import torch.nn as nn\n",
    "import torch.nn.functional as F\n",
    "from torch.utils.data import random_split, DataLoader, Dataset\n",
    "import torchvision\n",
    "import numpy as np\n",
    "import pandas as pd\n",
    "import matplotlib.pyplot as plt\n",
    "from tqdm import tqdm"
   ]
  },
  {
   "cell_type": "code",
   "execution_count": 2,
   "metadata": {
    "execution": {
     "iopub.execute_input": "2021-01-02T21:48:42.485732Z",
     "iopub.status.busy": "2021-01-02T21:48:42.485497Z",
     "iopub.status.idle": "2021-01-02T21:48:42.489166Z",
     "shell.execute_reply": "2021-01-02T21:48:42.488479Z",
     "shell.execute_reply.started": "2021-01-02T21:48:42.485703Z"
    }
   },
   "outputs": [],
   "source": [
    "os.environ[\"CUDA_VISIBLE_DEVICES\"] = '1'"
   ]
  },
  {
   "cell_type": "markdown",
   "metadata": {},
   "source": [
    "## Outline\n",
    " - Generate a specific model for each scene\n",
    "     - Each location: 1600 images w/o presence, 800 imags w/ presence\n",
    " - Create Dataloader\n",
    "     - 80-20 split for training/testing (validation?)\n",
    "     - Each img (input size): 1024 x 720 px\n",
    " - Model Architecture\n",
    "     - Modified VGG16?\n",
    "     - Custom CNN architecture?\n",
    "     - Concatenate pixel values and put in logistic regression?"
   ]
  },
  {
   "cell_type": "markdown",
   "metadata": {},
   "source": [
    "---"
   ]
  },
  {
   "cell_type": "markdown",
   "metadata": {},
   "source": [
    "## Model Base/Helpers/Train & Test functions"
   ]
  },
  {
   "cell_type": "code",
   "execution_count": 3,
   "metadata": {
    "execution": {
     "iopub.execute_input": "2021-01-02T21:48:42.491127Z",
     "iopub.status.busy": "2021-01-02T21:48:42.490899Z",
     "iopub.status.idle": "2021-01-02T21:48:42.547327Z",
     "shell.execute_reply": "2021-01-02T21:48:42.546639Z",
     "shell.execute_reply.started": "2021-01-02T21:48:42.491099Z"
    }
   },
   "outputs": [],
   "source": [
    "def accuracy(outs, labels):\n",
    "    # check accuracy for threshold @ 0.7\n",
    "    outs_th = outs >= 0.7\n",
    "        # append onto result dictionary to be returned to function that called `accuracy()`\n",
    "    return torch.tensor(torch.sum(outs_th == labels).item() / len(outs))"
   ]
  },
  {
   "cell_type": "code",
   "execution_count": 4,
   "metadata": {
    "execution": {
     "iopub.execute_input": "2021-01-02T21:48:42.548937Z",
     "iopub.status.busy": "2021-01-02T21:48:42.548666Z",
     "iopub.status.idle": "2021-01-02T21:48:42.575331Z",
     "shell.execute_reply": "2021-01-02T21:48:42.574217Z",
     "shell.execute_reply.started": "2021-01-02T21:48:42.548906Z"
    }
   },
   "outputs": [],
   "source": [
    "class ModelBase(nn.Module):\n",
    "#     training step\n",
    "    def train_step(self, batch):\n",
    "        xb, labels = batch\n",
    "        labels = labels.view(-1, 1)\n",
    "        outs = self(xb)\n",
    "        loss = F.binary_cross_entropy(outs, labels)\n",
    "        return loss\n",
    "#     validation step\n",
    "    def val_step(self, batch):\n",
    "        xb, labels = batch\n",
    "        labels = labels.view(-1, 1)\n",
    "        outs = self(xb)\n",
    "        loss = F.binary_cross_entropy(outs, labels)\n",
    "        acc = accuracy(outs, labels)\n",
    "        return {'loss': loss.detach(), 'acc': acc}\n",
    "#     validation epoch (avg accuracies and losses)\n",
    "    def val_epoch_end(self, outputs):\n",
    "#         for i in range(10):\n",
    "#             print(outputs[i])\n",
    "        batch_loss = [x['loss'] for x in outputs]\n",
    "        avg_loss = torch.stack(batch_loss).mean()\n",
    "        batch_acc = [x['acc'] for x in outputs]\n",
    "        avg_acc = torch.stack(batch_acc).mean()\n",
    "        return {'avg_loss': avg_loss, 'avg_acc': avg_acc}\n",
    "#     print everything important\n",
    "    def epoch_end(self, epoch, avgs, test=False):\n",
    "        s = 'test' if test else 'val'\n",
    "        print(f'EPOCH {epoch + 1:<10} | {s}_loss:{avgs[\"avg_loss\"]:.3f}, {s}_acc (0.7 thr): {avgs[\"avg_acc\"]:.3f}')"
   ]
  },
  {
   "cell_type": "code",
   "execution_count": 5,
   "metadata": {
    "execution": {
     "iopub.execute_input": "2021-01-02T21:48:42.577610Z",
     "iopub.status.busy": "2021-01-02T21:48:42.577200Z",
     "iopub.status.idle": "2021-01-02T21:48:42.603291Z",
     "shell.execute_reply": "2021-01-02T21:48:42.602294Z",
     "shell.execute_reply.started": "2021-01-02T21:48:42.577560Z"
    }
   },
   "outputs": [],
   "source": [
    "@torch.no_grad()\n",
    "def evaluate(model, val_dl):\n",
    "    # eval mode\n",
    "    model.eval()\n",
    "    outputs = [model.val_step(batch) for batch in val_dl]\n",
    "    return model.val_epoch_end(outputs)\n",
    "\n",
    "\n",
    "def fit(epochs, lr, model, train_dl, val_dl, opt_func=torch.optim.Adam):\n",
    "    torch.cuda.empty_cache()\n",
    "    history = []\n",
    "    # define optimizer\n",
    "    optimizer = opt_func(model.parameters(), lr)\n",
    "    # for each epoch...\n",
    "    for epoch in range(epochs):\n",
    "        # training mode\n",
    "        model.train()\n",
    "        # (training) for each batch in train_dl...\n",
    "        for batch in tqdm(train_dl):\n",
    "            # pass thru model\n",
    "            loss = model.train_step(batch)\n",
    "            # perform gradient descent\n",
    "            loss.backward()\n",
    "            optimizer.step()\n",
    "            optimizer.zero_grad()\n",
    "        # validation\n",
    "        res = evaluate(model, val_dl)\n",
    "        # print everything useful\n",
    "        model.epoch_end(epoch, res, test=False)\n",
    "        # append to history\n",
    "        history.append(res)\n",
    "    return history"
   ]
  },
  {
   "cell_type": "markdown",
   "metadata": {},
   "source": [
    "---"
   ]
  },
  {
   "cell_type": "markdown",
   "metadata": {},
   "source": [
    "## Models"
   ]
  },
  {
   "cell_type": "code",
   "execution_count": 6,
   "metadata": {
    "execution": {
     "iopub.execute_input": "2021-01-02T21:48:42.605127Z",
     "iopub.status.busy": "2021-01-02T21:48:42.604768Z",
     "iopub.status.idle": "2021-01-02T21:48:42.627960Z",
     "shell.execute_reply": "2021-01-02T21:48:42.626957Z",
     "shell.execute_reply.started": "2021-01-02T21:48:42.605081Z"
    }
   },
   "outputs": [],
   "source": [
    "class VGG11_PT(ModelBase):\n",
    "    def __init__(self):\n",
    "        super().__init__()\n",
    "#         pretrained VGG16 model w/ batch norm\n",
    "        self.network = torchvision.models.vgg11_bn(pretrained=True)\n",
    "#         change first layer to accept only 1 dimension of color (b/w)\n",
    "        self.network.features[0] = nn.Conv2d(1, 64, kernel_size=3, stride=1, padding=1)\n",
    "#         change last fc layer to output one value\n",
    "        self.network.classifier[6] = nn.Linear(4096, 1, bias=True)\n",
    "        \n",
    "    def forward(self, xb):\n",
    "        out = self.network(xb)\n",
    "        out = F.sigmoid(out)\n",
    "        return out"
   ]
  },
  {
   "cell_type": "code",
   "execution_count": 7,
   "metadata": {
    "execution": {
     "iopub.execute_input": "2021-01-02T21:48:42.630076Z",
     "iopub.status.busy": "2021-01-02T21:48:42.629682Z",
     "iopub.status.idle": "2021-01-02T21:48:42.654033Z",
     "shell.execute_reply": "2021-01-02T21:48:42.652944Z",
     "shell.execute_reply.started": "2021-01-02T21:48:42.630029Z"
    }
   },
   "outputs": [],
   "source": [
    "class Custom_NPT(ModelBase):\n",
    "    def __init__(self):\n",
    "        super().__init__()                                       # 1 x 1024 x 720\n",
    "#         custom-defined model w/o pretrained weights\n",
    "        self.conv1 = nn.Conv2d(1, 8, kernel_size=3, padding=1)   # 8 x 1024 x 720\n",
    "        self.conv2 = nn.Conv2d(8, 16, kernel_size=3, padding=1)  # 16 x 1024 x 720\n",
    "        self.pool1 = nn.MaxPool2d(2)                             # 16 x 512 x 360\n",
    "        self.conv3 = nn.Conv2d(16, 16, kernel_size=3, padding=1) # 16 x 512 x 360\n",
    "        self.pool2 = nn.MaxPool2d(2)                             # 16 x 256 x 180\n",
    "        self.conv5 = nn.Conv2d(16, 8, kernel_size=3, padding=1)  # 8 x 256 x 180\n",
    "        self.pool3 = nn.MaxPool2d(2)                             # 8 x 128 x 90\n",
    "        self.fc1 = nn.Linear(8*128*90, 4096)\n",
    "        self.fc2 = nn.Linear(4096, 512)\n",
    "        self.fc3 = nn.Linear(512, 1)\n",
    "        \n",
    "    def forward(self, xb):\n",
    "        out = F.relu(self.conv1(xb))\n",
    "        out = F.relu(self.conv2(out))\n",
    "        out = self.pool1(out)\n",
    "        out = F.relu(self.conv3(out))\n",
    "        out = self.pool2(out)\n",
    "        out = F.relu(self.conv5(out))\n",
    "        out = self.pool3(out)\n",
    "\n",
    "        out = torch.flatten(out, 1)\n",
    "        out = F.relu(self.fc1(out))\n",
    "        out = F.relu(self.fc2(out))\n",
    "        out = self.fc3(out)\n",
    "        out = F.sigmoid(out)\n",
    "        return out"
   ]
  },
  {
   "cell_type": "markdown",
   "metadata": {},
   "source": [
    "---"
   ]
  },
  {
   "cell_type": "markdown",
   "metadata": {},
   "source": [
    "## DataSet & DataLoader"
   ]
  },
  {
   "cell_type": "code",
   "execution_count": 8,
   "metadata": {
    "execution": {
     "iopub.execute_input": "2021-01-02T21:48:42.656149Z",
     "iopub.status.busy": "2021-01-02T21:48:42.655766Z",
     "iopub.status.idle": "2021-01-02T21:48:42.679115Z",
     "shell.execute_reply": "2021-01-02T21:48:42.678151Z",
     "shell.execute_reply.started": "2021-01-02T21:48:42.656101Z"
    }
   },
   "outputs": [],
   "source": [
    "class Prudhoe_DS(Dataset):\n",
    "    def __init__(self, npy_pth, transforms=None):\n",
    "        self.transforms = transforms\n",
    "        self.npy_pth = npy_pth\n",
    "        self.masks_loc = []\n",
    "        self.labels = []\n",
    "        \n",
    "        for typ in ['pos', 'neg']:\n",
    "            for fn in os.listdir(os.path.join(self.npy_pth, typ)):\n",
    "                \n",
    "                full_fn = os.path.join(self.npy_pth, typ, fn)\n",
    "                self.masks_loc.append(full_fn)\n",
    "#                 masks.append(np.load(full_fn))\n",
    "                \n",
    "                label = 1 if typ == 'pos' else 0\n",
    "                self.labels.append(label)\n",
    "        \n",
    "        self.masks_loc = np.array(self.masks_loc)\n",
    "        self.labels = np.array(self.labels).astype('float32')\n",
    "        \n",
    "    def __len__(self):\n",
    "        return len(self.labels)\n",
    "    \n",
    "    def __getitem__(self, idx):\n",
    "        mask = np.expand_dims(np.load(self.masks_loc[idx]), axis=0).astype('float32')\n",
    "        label = self.labels[idx]\n",
    "        \n",
    "        if self.transforms:\n",
    "            mask = self.transforms()(mask)\n",
    "        \n",
    "        return mask, label"
   ]
  },
  {
   "cell_type": "markdown",
   "metadata": {},
   "source": [
    "---"
   ]
  },
  {
   "cell_type": "code",
   "execution_count": 9,
   "metadata": {
    "execution": {
     "iopub.execute_input": "2021-01-02T21:48:42.682993Z",
     "iopub.status.busy": "2021-01-02T21:48:42.682604Z",
     "iopub.status.idle": "2021-01-02T21:48:42.708968Z",
     "shell.execute_reply": "2021-01-02T21:48:42.707937Z",
     "shell.execute_reply.started": "2021-01-02T21:48:42.682945Z"
    }
   },
   "outputs": [
    {
     "data": {
      "text/plain": [
       "<torch._C.Generator at 0x7f35fb9e8d80>"
      ]
     },
     "execution_count": 9,
     "metadata": {},
     "output_type": "execute_result"
    }
   ],
   "source": [
    "torch.manual_seed(42)"
   ]
  },
  {
   "cell_type": "code",
   "execution_count": 10,
   "metadata": {
    "execution": {
     "iopub.execute_input": "2021-01-02T21:48:42.711365Z",
     "iopub.status.busy": "2021-01-02T21:48:42.710998Z",
     "iopub.status.idle": "2021-01-02T21:48:42.728503Z",
     "shell.execute_reply": "2021-01-02T21:48:42.727405Z",
     "shell.execute_reply.started": "2021-01-02T21:48:42.711320Z"
    }
   },
   "outputs": [],
   "source": [
    "PTH = '/scratch/richardso21/20-21_BGSUB/'\n",
    "site = 'prudhoe_12'"
   ]
  },
  {
   "cell_type": "code",
   "execution_count": 11,
   "metadata": {
    "execution": {
     "iopub.execute_input": "2021-01-02T21:48:42.730758Z",
     "iopub.status.busy": "2021-01-02T21:48:42.730335Z",
     "iopub.status.idle": "2021-01-02T21:48:42.753507Z",
     "shell.execute_reply": "2021-01-02T21:48:42.752456Z",
     "shell.execute_reply.started": "2021-01-02T21:48:42.730710Z"
    }
   },
   "outputs": [],
   "source": [
    "npy_pth = os.path.join(PTH, 'FgSegNet_O_neg', site)"
   ]
  },
  {
   "cell_type": "code",
   "execution_count": 12,
   "metadata": {
    "execution": {
     "iopub.execute_input": "2021-01-02T21:48:42.755451Z",
     "iopub.status.busy": "2021-01-02T21:48:42.755098Z",
     "iopub.status.idle": "2021-01-02T21:48:42.796557Z",
     "shell.execute_reply": "2021-01-02T21:48:42.795523Z",
     "shell.execute_reply.started": "2021-01-02T21:48:42.755407Z"
    }
   },
   "outputs": [],
   "source": [
    "ds = Prudhoe_DS(npy_pth)\n",
    "ds_size = len(ds)"
   ]
  },
  {
   "cell_type": "code",
   "execution_count": 13,
   "metadata": {
    "execution": {
     "iopub.execute_input": "2021-01-02T21:48:42.798764Z",
     "iopub.status.busy": "2021-01-02T21:48:42.798329Z",
     "iopub.status.idle": "2021-01-02T21:48:42.805156Z",
     "shell.execute_reply": "2021-01-02T21:48:42.804066Z",
     "shell.execute_reply.started": "2021-01-02T21:48:42.798711Z"
    }
   },
   "outputs": [],
   "source": [
    "train_size = int(ds_size * .70)\n",
    "val_size = (ds_size - train_size) // 2\n",
    "test_size = ds_size - train_size - val_size"
   ]
  },
  {
   "cell_type": "code",
   "execution_count": 14,
   "metadata": {
    "execution": {
     "iopub.execute_input": "2021-01-02T21:48:42.807313Z",
     "iopub.status.busy": "2021-01-02T21:48:42.806896Z",
     "iopub.status.idle": "2021-01-02T21:48:42.830157Z",
     "shell.execute_reply": "2021-01-02T21:48:42.828989Z",
     "shell.execute_reply.started": "2021-01-02T21:48:42.807261Z"
    }
   },
   "outputs": [],
   "source": [
    "train_ds, val_ds, test_ds = random_split(ds, [train_size, val_size, test_size])"
   ]
  },
  {
   "cell_type": "code",
   "execution_count": 15,
   "metadata": {
    "execution": {
     "iopub.execute_input": "2021-01-02T21:48:42.832192Z",
     "iopub.status.busy": "2021-01-02T21:48:42.831808Z",
     "iopub.status.idle": "2021-01-02T21:48:42.854101Z",
     "shell.execute_reply": "2021-01-02T21:48:42.852922Z",
     "shell.execute_reply.started": "2021-01-02T21:48:42.832144Z"
    }
   },
   "outputs": [],
   "source": [
    "batch_size = 2"
   ]
  },
  {
   "cell_type": "code",
   "execution_count": 16,
   "metadata": {
    "execution": {
     "iopub.execute_input": "2021-01-02T21:48:42.856347Z",
     "iopub.status.busy": "2021-01-02T21:48:42.855942Z",
     "iopub.status.idle": "2021-01-02T21:48:42.880362Z",
     "shell.execute_reply": "2021-01-02T21:48:42.879149Z",
     "shell.execute_reply.started": "2021-01-02T21:48:42.856296Z"
    }
   },
   "outputs": [],
   "source": [
    "train_loader = DataLoader(train_ds, batch_size, shuffle=True, pin_memory=True, num_workers=4)\n",
    "val_loader = DataLoader(val_ds, batch_size*2, pin_memory=True, num_workers=4)\n",
    "test_loader = DataLoader(test_ds, batch_size*2, pin_memory=True, num_workers=4)"
   ]
  },
  {
   "cell_type": "markdown",
   "metadata": {},
   "source": [
    "---"
   ]
  },
  {
   "cell_type": "code",
   "execution_count": 17,
   "metadata": {
    "execution": {
     "iopub.execute_input": "2021-01-02T21:48:42.882696Z",
     "iopub.status.busy": "2021-01-02T21:48:42.882268Z",
     "iopub.status.idle": "2021-01-02T21:48:42.904394Z",
     "shell.execute_reply": "2021-01-02T21:48:42.903226Z",
     "shell.execute_reply.started": "2021-01-02T21:48:42.882641Z"
    }
   },
   "outputs": [],
   "source": [
    "def get_default_device():\n",
    "    \"\"\"Pick GPU if available, else CPU\"\"\"\n",
    "    if torch.cuda.is_available():\n",
    "        return torch.device('cuda')\n",
    "    else:\n",
    "        return torch.device('cpu')"
   ]
  },
  {
   "cell_type": "code",
   "execution_count": 18,
   "metadata": {
    "execution": {
     "iopub.execute_input": "2021-01-02T21:48:42.906670Z",
     "iopub.status.busy": "2021-01-02T21:48:42.906220Z",
     "iopub.status.idle": "2021-01-02T21:48:43.033380Z",
     "shell.execute_reply": "2021-01-02T21:48:43.032405Z",
     "shell.execute_reply.started": "2021-01-02T21:48:42.906604Z"
    }
   },
   "outputs": [
    {
     "data": {
      "text/plain": [
       "device(type='cuda')"
      ]
     },
     "execution_count": 18,
     "metadata": {},
     "output_type": "execute_result"
    }
   ],
   "source": [
    "device = get_default_device()\n",
    "device"
   ]
  },
  {
   "cell_type": "code",
   "execution_count": 19,
   "metadata": {
    "execution": {
     "iopub.execute_input": "2021-01-02T21:48:43.035254Z",
     "iopub.status.busy": "2021-01-02T21:48:43.034928Z",
     "iopub.status.idle": "2021-01-02T21:48:43.060147Z",
     "shell.execute_reply": "2021-01-02T21:48:43.058997Z",
     "shell.execute_reply.started": "2021-01-02T21:48:43.035213Z"
    }
   },
   "outputs": [],
   "source": [
    "def to_device(data, device):\n",
    "    \"\"\"Move tensor(s) to chosen device\"\"\"\n",
    "    if isinstance(data, (list,tuple)):\n",
    "        return [to_device(x, device) for x in data]\n",
    "    return data.to(device, non_blocking=True)\n",
    "\n",
    "class DeviceDataLoader():\n",
    "    \"\"\"Wrap a dataloader to move data to a device\"\"\"\n",
    "    def __init__(self, dl, device):\n",
    "        self.dl = dl\n",
    "        self.device = device\n",
    "        \n",
    "    def __iter__(self):\n",
    "        \"\"\"Yield a batch of data after moving it to device\"\"\"\n",
    "        for b in self.dl: \n",
    "            yield to_device(b, self.device)\n",
    "\n",
    "    def __len__(self):\n",
    "        \"\"\"Number of batches\"\"\"\n",
    "        return len(self.dl)"
   ]
  },
  {
   "cell_type": "code",
   "execution_count": 20,
   "metadata": {
    "execution": {
     "iopub.execute_input": "2021-01-02T21:48:43.062311Z",
     "iopub.status.busy": "2021-01-02T21:48:43.061894Z",
     "iopub.status.idle": "2021-01-02T21:48:43.087727Z",
     "shell.execute_reply": "2021-01-02T21:48:43.086612Z",
     "shell.execute_reply.started": "2021-01-02T21:48:43.062261Z"
    }
   },
   "outputs": [],
   "source": [
    "train_loader = DeviceDataLoader(train_loader, device)\n",
    "val_loader = DeviceDataLoader(val_loader, device)\n",
    "test_loader = DeviceDataLoader(test_loader, device)"
   ]
  },
  {
   "cell_type": "code",
   "execution_count": 21,
   "metadata": {
    "execution": {
     "iopub.execute_input": "2021-01-02T21:48:43.090044Z",
     "iopub.status.busy": "2021-01-02T21:48:43.089589Z",
     "iopub.status.idle": "2021-01-02T21:48:51.726593Z",
     "shell.execute_reply": "2021-01-02T21:48:51.724673Z",
     "shell.execute_reply.started": "2021-01-02T21:48:43.089990Z"
    }
   },
   "outputs": [],
   "source": [
    "model = to_device(Custom_NPT(), device)"
   ]
  },
  {
   "cell_type": "code",
   "execution_count": 22,
   "metadata": {
    "execution": {
     "iopub.execute_input": "2021-01-02T21:48:51.729683Z",
     "iopub.status.busy": "2021-01-02T21:48:51.729249Z",
     "iopub.status.idle": "2021-01-02T21:48:53.825792Z",
     "shell.execute_reply": "2021-01-02T21:48:53.824632Z",
     "shell.execute_reply.started": "2021-01-02T21:48:51.729624Z"
    }
   },
   "outputs": [
    {
     "name": "stderr",
     "output_type": "stream",
     "text": [
      "/scratch/richardso21/conda/envs/fgsegnet/lib/python3.6/site-packages/torch/nn/functional.py:1625: UserWarning: nn.functional.sigmoid is deprecated. Use torch.sigmoid instead.\n",
      "  warnings.warn(\"nn.functional.sigmoid is deprecated. Use torch.sigmoid instead.\")\n"
     ]
    },
    {
     "data": {
      "text/plain": [
       "[{'avg_loss': tensor(0.6965, device='cuda:0'), 'avg_acc': tensor(0.6332)}]"
      ]
     },
     "execution_count": 22,
     "metadata": {},
     "output_type": "execute_result"
    }
   ],
   "source": [
    "history = [evaluate(model, val_loader)]\n",
    "history"
   ]
  },
  {
   "cell_type": "code",
   "execution_count": 23,
   "metadata": {
    "execution": {
     "iopub.execute_input": "2021-01-02T21:48:53.828758Z",
     "iopub.status.busy": "2021-01-02T21:48:53.828271Z",
     "iopub.status.idle": "2021-01-02T22:18:20.182860Z",
     "shell.execute_reply": "2021-01-02T22:18:20.181334Z",
     "shell.execute_reply.started": "2021-01-02T21:48:53.828696Z"
    }
   },
   "outputs": [
    {
     "name": "stderr",
     "output_type": "stream",
     "text": [
      "100%|██████████| 991/991 [01:26<00:00, 11.44it/s]\n",
      "  0%|          | 0/991 [00:00<?, ?it/s]"
     ]
    },
    {
     "name": "stdout",
     "output_type": "stream",
     "text": [
      "EPOCH 1          | val_loss:0.656, val_acc (0.7 thr): 0.633\n"
     ]
    },
    {
     "name": "stderr",
     "output_type": "stream",
     "text": [
      "100%|██████████| 991/991 [01:26<00:00, 11.45it/s]\n",
      "  0%|          | 0/991 [00:00<?, ?it/s]"
     ]
    },
    {
     "name": "stdout",
     "output_type": "stream",
     "text": [
      "EPOCH 2          | val_loss:0.653, val_acc (0.7 thr): 0.636\n"
     ]
    },
    {
     "name": "stderr",
     "output_type": "stream",
     "text": [
      "100%|██████████| 991/991 [01:26<00:00, 11.43it/s]\n",
      "  0%|          | 0/991 [00:00<?, ?it/s]"
     ]
    },
    {
     "name": "stdout",
     "output_type": "stream",
     "text": [
      "EPOCH 3          | val_loss:0.653, val_acc (0.7 thr): 0.636\n"
     ]
    },
    {
     "name": "stderr",
     "output_type": "stream",
     "text": [
      "100%|██████████| 991/991 [01:26<00:00, 11.44it/s]\n",
      "  0%|          | 0/991 [00:00<?, ?it/s]"
     ]
    },
    {
     "name": "stdout",
     "output_type": "stream",
     "text": [
      "EPOCH 4          | val_loss:0.653, val_acc (0.7 thr): 0.633\n"
     ]
    },
    {
     "name": "stderr",
     "output_type": "stream",
     "text": [
      "100%|██████████| 991/991 [01:26<00:00, 11.44it/s]\n",
      "  0%|          | 0/991 [00:00<?, ?it/s]"
     ]
    },
    {
     "name": "stdout",
     "output_type": "stream",
     "text": [
      "EPOCH 5          | val_loss:0.662, val_acc (0.7 thr): 0.636\n"
     ]
    },
    {
     "name": "stderr",
     "output_type": "stream",
     "text": [
      "100%|██████████| 991/991 [01:26<00:00, 11.43it/s]\n",
      "  0%|          | 0/991 [00:00<?, ?it/s]"
     ]
    },
    {
     "name": "stdout",
     "output_type": "stream",
     "text": [
      "EPOCH 6          | val_loss:0.872, val_acc (0.7 thr): 0.636\n"
     ]
    },
    {
     "name": "stderr",
     "output_type": "stream",
     "text": [
      "100%|██████████| 991/991 [01:26<00:00, 11.44it/s]\n",
      "  0%|          | 0/991 [00:00<?, ?it/s]"
     ]
    },
    {
     "name": "stdout",
     "output_type": "stream",
     "text": [
      "EPOCH 7          | val_loss:0.819, val_acc (0.7 thr): 0.657\n"
     ]
    },
    {
     "name": "stderr",
     "output_type": "stream",
     "text": [
      "100%|██████████| 991/991 [01:26<00:00, 11.43it/s]\n",
      "  0%|          | 0/991 [00:00<?, ?it/s]"
     ]
    },
    {
     "name": "stdout",
     "output_type": "stream",
     "text": [
      "EPOCH 8          | val_loss:0.785, val_acc (0.7 thr): 0.706\n"
     ]
    },
    {
     "name": "stderr",
     "output_type": "stream",
     "text": [
      "100%|██████████| 991/991 [01:26<00:00, 11.41it/s]\n",
      "  0%|          | 0/991 [00:00<?, ?it/s]"
     ]
    },
    {
     "name": "stdout",
     "output_type": "stream",
     "text": [
      "EPOCH 9          | val_loss:0.574, val_acc (0.7 thr): 0.713\n"
     ]
    },
    {
     "name": "stderr",
     "output_type": "stream",
     "text": [
      "100%|██████████| 991/991 [01:26<00:00, 11.42it/s]\n",
      "  0%|          | 0/991 [00:00<?, ?it/s]"
     ]
    },
    {
     "name": "stdout",
     "output_type": "stream",
     "text": [
      "EPOCH 10         | val_loss:1.003, val_acc (0.7 thr): 0.741\n"
     ]
    },
    {
     "name": "stderr",
     "output_type": "stream",
     "text": [
      "100%|██████████| 991/991 [01:26<00:00, 11.42it/s]\n",
      "  0%|          | 0/991 [00:00<?, ?it/s]"
     ]
    },
    {
     "name": "stdout",
     "output_type": "stream",
     "text": [
      "EPOCH 11         | val_loss:0.705, val_acc (0.7 thr): 0.808\n"
     ]
    },
    {
     "name": "stderr",
     "output_type": "stream",
     "text": [
      "100%|██████████| 991/991 [01:26<00:00, 11.43it/s]\n",
      "  0%|          | 0/991 [00:00<?, ?it/s]"
     ]
    },
    {
     "name": "stdout",
     "output_type": "stream",
     "text": [
      "EPOCH 12         | val_loss:0.940, val_acc (0.7 thr): 0.811\n"
     ]
    },
    {
     "name": "stderr",
     "output_type": "stream",
     "text": [
      "100%|██████████| 991/991 [01:27<00:00, 11.38it/s]\n",
      "  0%|          | 0/991 [00:00<?, ?it/s]"
     ]
    },
    {
     "name": "stdout",
     "output_type": "stream",
     "text": [
      "EPOCH 13         | val_loss:0.960, val_acc (0.7 thr): 0.808\n"
     ]
    },
    {
     "name": "stderr",
     "output_type": "stream",
     "text": [
      "100%|██████████| 991/991 [01:26<00:00, 11.42it/s]\n",
      "  0%|          | 0/991 [00:00<?, ?it/s]"
     ]
    },
    {
     "name": "stdout",
     "output_type": "stream",
     "text": [
      "EPOCH 14         | val_loss:0.942, val_acc (0.7 thr): 0.825\n"
     ]
    },
    {
     "name": "stderr",
     "output_type": "stream",
     "text": [
      "100%|██████████| 991/991 [01:26<00:00, 11.41it/s]\n",
      "  0%|          | 0/991 [00:00<?, ?it/s]"
     ]
    },
    {
     "name": "stdout",
     "output_type": "stream",
     "text": [
      "EPOCH 15         | val_loss:0.946, val_acc (0.7 thr): 0.848\n"
     ]
    },
    {
     "name": "stderr",
     "output_type": "stream",
     "text": [
      "100%|██████████| 991/991 [01:26<00:00, 11.42it/s]\n",
      "  0%|          | 0/991 [00:00<?, ?it/s]"
     ]
    },
    {
     "name": "stdout",
     "output_type": "stream",
     "text": [
      "EPOCH 16         | val_loss:1.252, val_acc (0.7 thr): 0.806\n"
     ]
    },
    {
     "name": "stderr",
     "output_type": "stream",
     "text": [
      "100%|██████████| 991/991 [01:26<00:00, 11.41it/s]\n",
      "  0%|          | 0/991 [00:00<?, ?it/s]"
     ]
    },
    {
     "name": "stdout",
     "output_type": "stream",
     "text": [
      "EPOCH 17         | val_loss:1.494, val_acc (0.7 thr): 0.822\n"
     ]
    },
    {
     "name": "stderr",
     "output_type": "stream",
     "text": [
      "100%|██████████| 991/991 [01:26<00:00, 11.42it/s]\n",
      "  0%|          | 0/991 [00:00<?, ?it/s]"
     ]
    },
    {
     "name": "stdout",
     "output_type": "stream",
     "text": [
      "EPOCH 18         | val_loss:1.429, val_acc (0.7 thr): 0.846\n"
     ]
    },
    {
     "name": "stderr",
     "output_type": "stream",
     "text": [
      "100%|██████████| 991/991 [01:26<00:00, 11.42it/s]\n",
      "  0%|          | 0/991 [00:00<?, ?it/s]"
     ]
    },
    {
     "name": "stdout",
     "output_type": "stream",
     "text": [
      "EPOCH 19         | val_loss:1.427, val_acc (0.7 thr): 0.869\n"
     ]
    },
    {
     "name": "stderr",
     "output_type": "stream",
     "text": [
      "100%|██████████| 991/991 [01:26<00:00, 11.42it/s]\n"
     ]
    },
    {
     "name": "stdout",
     "output_type": "stream",
     "text": [
      "EPOCH 20         | val_loss:1.743, val_acc (0.7 thr): 0.862\n"
     ]
    }
   ],
   "source": [
    "history += fit(20, 1e-4, model, train_loader, val_loader)"
   ]
  },
  {
   "cell_type": "markdown",
   "metadata": {},
   "source": [
    "Loss increases, but so does accuracy ???\n",
    "probably diverging (learning rate too high / didn't use batch norm)"
   ]
  },
  {
   "cell_type": "code",
   "execution_count": 25,
   "metadata": {
    "execution": {
     "iopub.execute_input": "2021-01-02T22:20:18.610182Z",
     "iopub.status.busy": "2021-01-02T22:20:18.609684Z",
     "iopub.status.idle": "2021-01-02T22:20:30.267150Z",
     "shell.execute_reply": "2021-01-02T22:20:30.265790Z",
     "shell.execute_reply.started": "2021-01-02T22:20:18.610124Z"
    }
   },
   "outputs": [
    {
     "name": "stderr",
     "output_type": "stream",
     "text": [
      "/scratch/richardso21/conda/envs/fgsegnet/lib/python3.6/site-packages/torch/nn/functional.py:1625: UserWarning: nn.functional.sigmoid is deprecated. Use torch.sigmoid instead.\n",
      "  warnings.warn(\"nn.functional.sigmoid is deprecated. Use torch.sigmoid instead.\")\n"
     ]
    },
    {
     "data": {
      "text/plain": [
       "{'avg_loss': tensor(1.6531, device='cuda:0'), 'avg_acc': tensor(0.8435)}"
      ]
     },
     "execution_count": 25,
     "metadata": {},
     "output_type": "execute_result"
    }
   ],
   "source": [
    "evl = evaluate(model, test_loader)\n",
    "evl"
   ]
  },
  {
   "cell_type": "code",
   "execution_count": 27,
   "metadata": {
    "execution": {
     "iopub.execute_input": "2021-01-02T22:25:06.302329Z",
     "iopub.status.busy": "2021-01-02T22:25:06.301667Z",
     "iopub.status.idle": "2021-01-02T22:25:12.913926Z",
     "shell.execute_reply": "2021-01-02T22:25:12.912463Z",
     "shell.execute_reply.started": "2021-01-02T22:25:06.302253Z"
    }
   },
   "outputs": [],
   "source": [
    "torch.save(model.state_dict(), '/scratch/richardso21/20-21_BGSUB/CustomNPT12.pth')"
   ]
  },
  {
   "cell_type": "code",
   "execution_count": 28,
   "metadata": {
    "execution": {
     "iopub.execute_input": "2021-01-02T22:31:30.375510Z",
     "iopub.status.busy": "2021-01-02T22:31:30.374947Z",
     "iopub.status.idle": "2021-01-02T22:46:30.108195Z",
     "shell.execute_reply": "2021-01-02T22:46:30.106404Z",
     "shell.execute_reply.started": "2021-01-02T22:31:30.375437Z"
    }
   },
   "outputs": [
    {
     "name": "stderr",
     "output_type": "stream",
     "text": [
      "  0%|          | 0/991 [00:00<?, ?it/s]/scratch/richardso21/conda/envs/fgsegnet/lib/python3.6/site-packages/torch/nn/functional.py:1625: UserWarning: nn.functional.sigmoid is deprecated. Use torch.sigmoid instead.\n",
      "  warnings.warn(\"nn.functional.sigmoid is deprecated. Use torch.sigmoid instead.\")\n",
      "100%|██████████| 991/991 [01:26<00:00, 11.46it/s]\n",
      "  0%|          | 0/991 [00:00<?, ?it/s]"
     ]
    },
    {
     "name": "stdout",
     "output_type": "stream",
     "text": [
      "EPOCH 1          | val_loss:1.750, val_acc (0.7 thr): 0.867\n"
     ]
    },
    {
     "name": "stderr",
     "output_type": "stream",
     "text": [
      "100%|██████████| 991/991 [01:26<00:00, 11.46it/s]\n",
      "  0%|          | 0/991 [00:00<?, ?it/s]"
     ]
    },
    {
     "name": "stdout",
     "output_type": "stream",
     "text": [
      "EPOCH 2          | val_loss:1.755, val_acc (0.7 thr): 0.871\n"
     ]
    },
    {
     "name": "stderr",
     "output_type": "stream",
     "text": [
      "100%|██████████| 991/991 [01:26<00:00, 11.45it/s]\n",
      "  0%|          | 0/991 [00:00<?, ?it/s]"
     ]
    },
    {
     "name": "stdout",
     "output_type": "stream",
     "text": [
      "EPOCH 3          | val_loss:1.762, val_acc (0.7 thr): 0.871\n"
     ]
    },
    {
     "name": "stderr",
     "output_type": "stream",
     "text": [
      "100%|██████████| 991/991 [01:26<00:00, 11.45it/s]\n",
      "  0%|          | 0/991 [00:00<?, ?it/s]"
     ]
    },
    {
     "name": "stdout",
     "output_type": "stream",
     "text": [
      "EPOCH 4          | val_loss:1.770, val_acc (0.7 thr): 0.871\n"
     ]
    },
    {
     "name": "stderr",
     "output_type": "stream",
     "text": [
      "100%|██████████| 991/991 [01:26<00:00, 11.44it/s]\n",
      "  0%|          | 0/991 [00:00<?, ?it/s]"
     ]
    },
    {
     "name": "stdout",
     "output_type": "stream",
     "text": [
      "EPOCH 5          | val_loss:1.779, val_acc (0.7 thr): 0.871\n"
     ]
    },
    {
     "name": "stderr",
     "output_type": "stream",
     "text": [
      "100%|██████████| 991/991 [01:26<00:00, 11.44it/s]\n",
      "  0%|          | 0/991 [00:00<?, ?it/s]"
     ]
    },
    {
     "name": "stdout",
     "output_type": "stream",
     "text": [
      "EPOCH 6          | val_loss:1.779, val_acc (0.7 thr): 0.876\n"
     ]
    },
    {
     "name": "stderr",
     "output_type": "stream",
     "text": [
      "100%|██████████| 991/991 [01:26<00:00, 11.43it/s]\n",
      "  0%|          | 0/991 [00:00<?, ?it/s]"
     ]
    },
    {
     "name": "stdout",
     "output_type": "stream",
     "text": [
      "EPOCH 7          | val_loss:1.785, val_acc (0.7 thr): 0.874\n"
     ]
    },
    {
     "name": "stderr",
     "output_type": "stream",
     "text": [
      "100%|██████████| 991/991 [01:26<00:00, 11.42it/s]\n",
      "  0%|          | 0/991 [00:00<?, ?it/s]"
     ]
    },
    {
     "name": "stdout",
     "output_type": "stream",
     "text": [
      "EPOCH 8          | val_loss:1.789, val_acc (0.7 thr): 0.876\n"
     ]
    },
    {
     "name": "stderr",
     "output_type": "stream",
     "text": [
      "100%|██████████| 991/991 [01:26<00:00, 11.42it/s]\n",
      "  0%|          | 0/991 [00:00<?, ?it/s]"
     ]
    },
    {
     "name": "stdout",
     "output_type": "stream",
     "text": [
      "EPOCH 9          | val_loss:1.796, val_acc (0.7 thr): 0.876\n"
     ]
    },
    {
     "name": "stderr",
     "output_type": "stream",
     "text": [
      "100%|██████████| 991/991 [01:26<00:00, 11.42it/s]\n",
      "  0%|          | 0/991 [00:00<?, ?it/s]"
     ]
    },
    {
     "name": "stdout",
     "output_type": "stream",
     "text": [
      "EPOCH 10         | val_loss:1.802, val_acc (0.7 thr): 0.874\n"
     ]
    },
    {
     "name": "stderr",
     "output_type": "stream",
     "text": [
      " 20%|█▉        | 198/991 [00:17<01:09, 11.39it/s]\n"
     ]
    },
    {
     "ename": "KeyboardInterrupt",
     "evalue": "",
     "output_type": "error",
     "traceback": [
      "\u001b[0;31m---------------------------------------------------------------------------\u001b[0m",
      "\u001b[0;31mKeyboardInterrupt\u001b[0m                         Traceback (most recent call last)",
      "\u001b[0;32m<ipython-input-28-a0987d576273>\u001b[0m in \u001b[0;36m<module>\u001b[0;34m\u001b[0m\n\u001b[0;32m----> 1\u001b[0;31m \u001b[0mhistory\u001b[0m \u001b[0;34m+=\u001b[0m \u001b[0mfit\u001b[0m\u001b[0;34m(\u001b[0m\u001b[0;36m15\u001b[0m\u001b[0;34m,\u001b[0m \u001b[0;36m1e-6\u001b[0m\u001b[0;34m,\u001b[0m \u001b[0mmodel\u001b[0m\u001b[0;34m,\u001b[0m \u001b[0mtrain_loader\u001b[0m\u001b[0;34m,\u001b[0m \u001b[0mval_loader\u001b[0m\u001b[0;34m)\u001b[0m\u001b[0;34m\u001b[0m\u001b[0;34m\u001b[0m\u001b[0m\n\u001b[0m",
      "\u001b[0;32m<ipython-input-5-a675254e2b07>\u001b[0m in \u001b[0;36mfit\u001b[0;34m(epochs, lr, model, train_dl, val_dl, opt_func)\u001b[0m\n\u001b[1;32m     21\u001b[0m             \u001b[0mloss\u001b[0m \u001b[0;34m=\u001b[0m \u001b[0mmodel\u001b[0m\u001b[0;34m.\u001b[0m\u001b[0mtrain_step\u001b[0m\u001b[0;34m(\u001b[0m\u001b[0mbatch\u001b[0m\u001b[0;34m)\u001b[0m\u001b[0;34m\u001b[0m\u001b[0;34m\u001b[0m\u001b[0m\n\u001b[1;32m     22\u001b[0m             \u001b[0;31m# perform gradient descent\u001b[0m\u001b[0;34m\u001b[0m\u001b[0;34m\u001b[0m\u001b[0;34m\u001b[0m\u001b[0m\n\u001b[0;32m---> 23\u001b[0;31m             \u001b[0mloss\u001b[0m\u001b[0;34m.\u001b[0m\u001b[0mbackward\u001b[0m\u001b[0;34m(\u001b[0m\u001b[0;34m)\u001b[0m\u001b[0;34m\u001b[0m\u001b[0;34m\u001b[0m\u001b[0m\n\u001b[0m\u001b[1;32m     24\u001b[0m             \u001b[0moptimizer\u001b[0m\u001b[0;34m.\u001b[0m\u001b[0mstep\u001b[0m\u001b[0;34m(\u001b[0m\u001b[0;34m)\u001b[0m\u001b[0;34m\u001b[0m\u001b[0;34m\u001b[0m\u001b[0m\n\u001b[1;32m     25\u001b[0m             \u001b[0moptimizer\u001b[0m\u001b[0;34m.\u001b[0m\u001b[0mzero_grad\u001b[0m\u001b[0;34m(\u001b[0m\u001b[0;34m)\u001b[0m\u001b[0;34m\u001b[0m\u001b[0;34m\u001b[0m\u001b[0m\n",
      "\u001b[0;32m/scratch/richardso21/conda/envs/fgsegnet/lib/python3.6/site-packages/torch/tensor.py\u001b[0m in \u001b[0;36mbackward\u001b[0;34m(self, gradient, retain_graph, create_graph)\u001b[0m\n\u001b[1;32m    183\u001b[0m                 \u001b[0mproducts\u001b[0m\u001b[0;34m.\u001b[0m \u001b[0mDefaults\u001b[0m \u001b[0mto\u001b[0m\u001b[0;31m \u001b[0m\u001b[0;31m`\u001b[0m\u001b[0;31m`\u001b[0m\u001b[0;32mFalse\u001b[0m\u001b[0;31m`\u001b[0m\u001b[0;31m`\u001b[0m\u001b[0;34m.\u001b[0m\u001b[0;34m\u001b[0m\u001b[0;34m\u001b[0m\u001b[0m\n\u001b[1;32m    184\u001b[0m         \"\"\"\n\u001b[0;32m--> 185\u001b[0;31m         \u001b[0mtorch\u001b[0m\u001b[0;34m.\u001b[0m\u001b[0mautograd\u001b[0m\u001b[0;34m.\u001b[0m\u001b[0mbackward\u001b[0m\u001b[0;34m(\u001b[0m\u001b[0mself\u001b[0m\u001b[0;34m,\u001b[0m \u001b[0mgradient\u001b[0m\u001b[0;34m,\u001b[0m \u001b[0mretain_graph\u001b[0m\u001b[0;34m,\u001b[0m \u001b[0mcreate_graph\u001b[0m\u001b[0;34m)\u001b[0m\u001b[0;34m\u001b[0m\u001b[0;34m\u001b[0m\u001b[0m\n\u001b[0m\u001b[1;32m    186\u001b[0m \u001b[0;34m\u001b[0m\u001b[0m\n\u001b[1;32m    187\u001b[0m     \u001b[0;32mdef\u001b[0m \u001b[0mregister_hook\u001b[0m\u001b[0;34m(\u001b[0m\u001b[0mself\u001b[0m\u001b[0;34m,\u001b[0m \u001b[0mhook\u001b[0m\u001b[0;34m)\u001b[0m\u001b[0;34m:\u001b[0m\u001b[0;34m\u001b[0m\u001b[0;34m\u001b[0m\u001b[0m\n",
      "\u001b[0;32m/scratch/richardso21/conda/envs/fgsegnet/lib/python3.6/site-packages/torch/autograd/__init__.py\u001b[0m in \u001b[0;36mbackward\u001b[0;34m(tensors, grad_tensors, retain_graph, create_graph, grad_variables)\u001b[0m\n\u001b[1;32m    125\u001b[0m     Variable._execution_engine.run_backward(\n\u001b[1;32m    126\u001b[0m         \u001b[0mtensors\u001b[0m\u001b[0;34m,\u001b[0m \u001b[0mgrad_tensors\u001b[0m\u001b[0;34m,\u001b[0m \u001b[0mretain_graph\u001b[0m\u001b[0;34m,\u001b[0m \u001b[0mcreate_graph\u001b[0m\u001b[0;34m,\u001b[0m\u001b[0;34m\u001b[0m\u001b[0;34m\u001b[0m\u001b[0m\n\u001b[0;32m--> 127\u001b[0;31m         allow_unreachable=True)  # allow_unreachable flag\n\u001b[0m\u001b[1;32m    128\u001b[0m \u001b[0;34m\u001b[0m\u001b[0m\n\u001b[1;32m    129\u001b[0m \u001b[0;34m\u001b[0m\u001b[0m\n",
      "\u001b[0;31mKeyboardInterrupt\u001b[0m: "
     ]
    }
   ],
   "source": [
    "history += fit(15, 1e-6, model, train_loader, val_loader)"
   ]
  },
  {
   "cell_type": "code",
   "execution_count": 29,
   "metadata": {
    "execution": {
     "iopub.execute_input": "2021-01-02T22:46:46.887417Z",
     "iopub.status.busy": "2021-01-02T22:46:46.886834Z",
     "iopub.status.idle": "2021-01-02T22:46:56.159585Z",
     "shell.execute_reply": "2021-01-02T22:46:56.158367Z",
     "shell.execute_reply.started": "2021-01-02T22:46:46.887351Z"
    }
   },
   "outputs": [
    {
     "data": {
      "text/plain": [
       "{'avg_loss': tensor(1.6303, device='cuda:0'), 'avg_acc': tensor(0.8762)}"
      ]
     },
     "execution_count": 29,
     "metadata": {},
     "output_type": "execute_result"
    }
   ],
   "source": [
    "evl2 = evaluate(model, test_loader)\n",
    "evl2"
   ]
  },
  {
   "cell_type": "code",
   "execution_count": 30,
   "metadata": {
    "execution": {
     "iopub.execute_input": "2021-01-02T22:47:31.162322Z",
     "iopub.status.busy": "2021-01-02T22:47:31.161757Z",
     "iopub.status.idle": "2021-01-02T22:47:38.324379Z",
     "shell.execute_reply": "2021-01-02T22:47:38.323087Z",
     "shell.execute_reply.started": "2021-01-02T22:47:31.162254Z"
    }
   },
   "outputs": [],
   "source": [
    "torch.save(model.state_dict(), '/scratch/richardso21/20-21_BGSUB/CustomNPT12.pth')"
   ]
  },
  {
   "cell_type": "code",
   "execution_count": 24,
   "metadata": {
    "execution": {
     "iopub.execute_input": "2021-01-02T22:18:20.186166Z",
     "iopub.status.busy": "2021-01-02T22:18:20.185686Z",
     "iopub.status.idle": "2021-01-02T22:18:20.191448Z",
     "shell.execute_reply": "2021-01-02T22:18:20.190400Z",
     "shell.execute_reply.started": "2021-01-02T22:18:20.186083Z"
    }
   },
   "outputs": [],
   "source": [
    "# torch.cuda.empty_cache()"
   ]
  },
  {
   "cell_type": "code",
   "execution_count": null,
   "metadata": {},
   "outputs": [],
   "source": []
  }
 ],
 "metadata": {
  "kernelspec": {
   "display_name": "Python 3",
   "language": "python",
   "name": "python3"
  },
  "language_info": {
   "codemirror_mode": {
    "name": "ipython",
    "version": 3
   },
   "file_extension": ".py",
   "mimetype": "text/x-python",
   "name": "python",
   "nbconvert_exporter": "python",
   "pygments_lexer": "ipython3",
   "version": "3.6.10"
  }
 },
 "nbformat": 4,
 "nbformat_minor": 4
}
