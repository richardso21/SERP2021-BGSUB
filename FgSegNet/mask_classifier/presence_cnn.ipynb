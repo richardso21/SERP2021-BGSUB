{
 "cells": [
  {
   "cell_type": "code",
   "execution_count": 1,
   "metadata": {
    "execution": {
     "iopub.execute_input": "2020-10-27T01:34:52.471603Z",
     "iopub.status.busy": "2020-10-27T01:34:52.469691Z",
     "iopub.status.idle": "2020-10-27T01:35:15.269530Z",
     "shell.execute_reply": "2020-10-27T01:35:15.268598Z",
     "shell.execute_reply.started": "2020-10-27T01:34:52.471390Z"
    }
   },
   "outputs": [],
   "source": [
    "import h5py, os, torch\n",
    "from pathlib import Path\n",
    "import torch.nn as nn\n",
    "import torch.nn.functional as F\n",
    "from torch.utils.data import random_split, DataLoader, Dataset\n",
    "import torchvision\n",
    "import numpy as np\n",
    "import pandas as pd\n",
    "import matplotlib.pyplot as plt\n",
    "from tqdm import tqdm"
   ]
  },
  {
   "cell_type": "markdown",
   "metadata": {},
   "source": [
    "## Outline\n",
    " - Generate a specific model for each scene\n",
    "     - Each location: 1600 images w/o presence, 800 imags w/ presence\n",
    " - Create Dataloader\n",
    "     - 80-20 split for training/testing (validation?)\n",
    "     - Each img (input size): 1024 x 720 px\n",
    " - Model Architecture\n",
    "     - Modified VGG16?\n",
    "     - Custom CNN architecture?\n",
    "     - Concatenate pixel values and put in logistic regression?"
   ]
  },
  {
   "cell_type": "markdown",
   "metadata": {},
   "source": [
    "---"
   ]
  },
  {
   "cell_type": "markdown",
   "metadata": {},
   "source": [
    "## Model Base/Helpers/Train & Test functions"
   ]
  },
  {
   "cell_type": "code",
   "execution_count": 2,
   "metadata": {
    "execution": {
     "iopub.execute_input": "2020-10-27T01:35:15.271427Z",
     "iopub.status.busy": "2020-10-27T01:35:15.271128Z",
     "iopub.status.idle": "2020-10-27T01:35:15.277286Z",
     "shell.execute_reply": "2020-10-27T01:35:15.276445Z",
     "shell.execute_reply.started": "2020-10-27T01:35:15.271391Z"
    }
   },
   "outputs": [],
   "source": [
    "def accuracy(outs, labels):\n",
    "    res = {}\n",
    "    # check accuracy for 3 different thresholds\n",
    "    for th in [.50, .75, .80]:\n",
    "        outs_th = outs >= th\n",
    "        # append onto result dictionary to be returned to function that called `accuracy()`\n",
    "        res[th] = torch.tensor(torch.sum(outs_th == labels).item() / len(outs))\n",
    "    return res"
   ]
  },
  {
   "cell_type": "code",
   "execution_count": 3,
   "metadata": {
    "execution": {
     "iopub.execute_input": "2020-10-27T01:35:15.279393Z",
     "iopub.status.busy": "2020-10-27T01:35:15.279106Z",
     "iopub.status.idle": "2020-10-27T01:35:15.417947Z",
     "shell.execute_reply": "2020-10-27T01:35:15.416804Z",
     "shell.execute_reply.started": "2020-10-27T01:35:15.279358Z"
    }
   },
   "outputs": [],
   "source": [
    "class ModelBase(nn.Module):\n",
    "#     training step\n",
    "    def train_step(self, batch):\n",
    "        xb, labels = batch\n",
    "#         xb = xb.float()\n",
    "#         labels = labels.float()\n",
    "        outs = self(xb)\n",
    "        loss = F.binary_cross_entropy(outs, labels)\n",
    "        return loss\n",
    "#     validation step\n",
    "    def val_step(self, batch):\n",
    "        xb, labels = batch\n",
    "#         xb = xb.float()\n",
    "#         labels = labels.float()\n",
    "        outs = self(xb)\n",
    "        loss = F.binary_cross_entropy(outs, labels)\n",
    "        acc = accuracy(outs, labels)\n",
    "        return {'loss': loss.detach(), 'acc': acc}\n",
    "#     validation epoch (avg accuracies and losses)\n",
    "    def val_epoch_end(self, outputs):\n",
    "        for i in range(10):\n",
    "            print(outputs[i])\n",
    "        batch_loss = [x['loss'] for x in outputs]\n",
    "        avg_loss = torch.stack(batch_loss).mean()\n",
    "        batch_acc50 = [x['acc'][.50] for x in outputs]\n",
    "        batch_acc75 = [x['acc'][.75] for x in outputs]\n",
    "        batch_acc80 = [x['acc'][.80] for x in outputs]\n",
    "        avg_acc50 = torch.stack(batch_acc50).mean()\n",
    "        avg_acc75 = torch.stack(batch_acc75).mean()\n",
    "        avg_acc80 = torch.stack(batch_acc80).mean()\n",
    "        return {'avg_loss': avg_loss, 'avg_acc': [avg_acc50, avg_acc75, avg_acc80]}\n",
    "#     print everything important\n",
    "    def epoch_end(self, epoch, avgs, test=False):\n",
    "        s = 'test' if test else 'val'\n",
    "        print(f'EPOCH {epoch + 1:<10} | {s}_loss:{avgs[\"avg_loss\"]:.3f}, {s}_acc (threshold): (.50){avgs[\"avg_acc\"][0]:.3f}, (.75){avgs[\"avg_acc\"][1]:.3f}, (.80){avgs[\"avg_acc\"][2]:.3f}')"
   ]
  },
  {
   "cell_type": "code",
   "execution_count": 4,
   "metadata": {
    "execution": {
     "iopub.execute_input": "2020-10-27T01:35:15.420815Z",
     "iopub.status.busy": "2020-10-27T01:35:15.420348Z",
     "iopub.status.idle": "2020-10-27T01:35:15.574262Z",
     "shell.execute_reply": "2020-10-27T01:35:15.573107Z",
     "shell.execute_reply.started": "2020-10-27T01:35:15.420758Z"
    }
   },
   "outputs": [],
   "source": [
    "@torch.no_grad()\n",
    "def evaluate(model, val_dl):\n",
    "    # eval mode\n",
    "    model.eval()\n",
    "    outputs = [model.val_step(batch) for batch in val_dl]\n",
    "    return model.val_epoch_end(outputs)\n",
    "\n",
    "\n",
    "def fit(epochs, lr, model, train_dl, val_dl, opt_func=torch.optim.Adam):\n",
    "    torch.cuda.empty_cache()\n",
    "    history = []\n",
    "    # define optimizer\n",
    "    optimizer = opt_func(model.parameters(), lr)\n",
    "    # for each epoch...\n",
    "    for epoch in range(epochs):\n",
    "        # training mode\n",
    "        model.train()\n",
    "        # (training) for each batch in train_dl...\n",
    "        for batch in tqdm(train_dl):\n",
    "            # pass thru model\n",
    "            loss = model.train_step(batch)\n",
    "            # perform gradient descent\n",
    "            loss.backward()\n",
    "            optimizer.step()\n",
    "            optimizer.zero_grad()\n",
    "        # validation\n",
    "        res = evaluate(model, val_dl)\n",
    "        # print everything useful\n",
    "        model.epoch_end(epoch, res, test=False)\n",
    "        # append to history\n",
    "        history.append(res)\n",
    "    return history"
   ]
  },
  {
   "cell_type": "markdown",
   "metadata": {},
   "source": [
    "---"
   ]
  },
  {
   "cell_type": "markdown",
   "metadata": {},
   "source": [
    "## Models"
   ]
  },
  {
   "cell_type": "code",
   "execution_count": 5,
   "metadata": {
    "execution": {
     "iopub.execute_input": "2020-10-27T01:35:15.576639Z",
     "iopub.status.busy": "2020-10-27T01:35:15.576177Z",
     "iopub.status.idle": "2020-10-27T01:35:15.635187Z",
     "shell.execute_reply": "2020-10-27T01:35:15.634117Z",
     "shell.execute_reply.started": "2020-10-27T01:35:15.576585Z"
    }
   },
   "outputs": [],
   "source": [
    "class VGG16_PT(ModelBase):\n",
    "    def __init__(self):\n",
    "        super().__init__()\n",
    "#         pretrained VGG16 model w/ batch norm\n",
    "        self.network = torchvision.models.vgg16_bn(pretrained=True)\n",
    "#         change first layer to accept only 1 dimension of color (b/w)\n",
    "        self.network.features[0] = nn.Conv2d(1, 64, kernel_size=3, stride=1, padding=1)\n",
    "#         change last fc layer to output one value\n",
    "        self.network.classifier[6] = nn.Linear(4096, 1, bias=True)\n",
    "        \n",
    "    def forward(self, xb):\n",
    "        out = self.network(xb)\n",
    "        out = F.sigmoid(out)\n",
    "        return out"
   ]
  },
  {
   "cell_type": "code",
   "execution_count": 6,
   "metadata": {
    "execution": {
     "iopub.execute_input": "2020-10-27T01:35:15.637134Z",
     "iopub.status.busy": "2020-10-27T01:35:15.636748Z",
     "iopub.status.idle": "2020-10-27T01:35:15.685455Z",
     "shell.execute_reply": "2020-10-27T01:35:15.684385Z",
     "shell.execute_reply.started": "2020-10-27T01:35:15.637082Z"
    }
   },
   "outputs": [],
   "source": [
    "class VGG11_PT(ModelBase):\n",
    "    def __init__(self):\n",
    "        super().__init__()\n",
    "#         pretrained VGG16 model w/ batch norm\n",
    "        self.network = torchvision.models.vgg11_bn(pretrained=True)\n",
    "#         change first layer to accept only 1 dimension of color (b/w)\n",
    "        self.network.features[0] = nn.Conv2d(1, 64, kernel_size=3, stride=1, padding=1)\n",
    "#         change last fc layer to output one value\n",
    "        self.network.classifier[6] = nn.Linear(4096, 1, bias=True)\n",
    "        \n",
    "    def forward(self, xb):\n",
    "        out = self.network(xb)\n",
    "        out = F.sigmoid(out)\n",
    "        return out"
   ]
  },
  {
   "cell_type": "code",
   "execution_count": 7,
   "metadata": {
    "execution": {
     "iopub.execute_input": "2020-10-27T01:35:15.687472Z",
     "iopub.status.busy": "2020-10-27T01:35:15.687063Z",
     "iopub.status.idle": "2020-10-27T01:35:15.811331Z",
     "shell.execute_reply": "2020-10-27T01:35:15.810157Z",
     "shell.execute_reply.started": "2020-10-27T01:35:15.687419Z"
    }
   },
   "outputs": [],
   "source": [
    "# class Custom_NPT(ModelBase):\n",
    "#     def __init__(self):\n",
    "#         super().__init__()                                       # 1 x 1024 x 720\n",
    "# #         custom-defined model w/o pretrained weights\n",
    "#         self.conv1 = nn.Conv2d(1, 8, kernel_size=3, padding=1)   # 8 x 1024 x 720\n",
    "#         self.conv2 = nn.Conv2d(8, 16, kernel_size=3, padding=1)  # 16 x 1024 x 720\n",
    "#         self.pool1 = nn.MaxPool2d(2)                             # 16 x 512 x 360\n",
    "#         self.conv3 = nn.Conv2d(16, 32, kernel_size=3, padding=1) # 32 x 512 x 360\n",
    "#         self.conv4 = nn.Conv2d(32, 32, kernel_size=3, padding=1) # 32 x 512 x 360\n",
    "#         self.pool2 = nn.MaxPool2d(2)                             # 32 x 256 x 180\n",
    "#         self.conv5 = nn.Conv2d(32, 16, kernel_size=3, padding=1) # 16 x 256 x 180\n",
    "#         self.pool3 = nn.MaxPool2d(2)                             # 8 x 256 x 180\n",
    "#         self.fc1 = nn.Linear(8*256*180, 4096)\n",
    "#         self.fc2 = nn.Linear(4096, 512)\n",
    "#         self.fc3 = nn.Linear(512, 1)\n",
    "        \n",
    "#     def forward(self, xb):\n",
    "#         out = F.relu(self.conv1(xb))\n",
    "#         out = F.relu(self.conv2(out))\n",
    "#         out = self.pool1(out)\n",
    "#         out = F.relu(self.conv3(out))\n",
    "#         out = F.relu(self.conv4(out))\n",
    "#         out = self.pool2(out)\n",
    "#         out = F.relu(self.conv5(out))\n",
    "#         out = self.pool3(out)\n",
    "        \n",
    "#         out = torch.flatten(out, 1)\n",
    "#         out = F.relu(self.fc1(out))"
   ]
  },
  {
   "cell_type": "code",
   "execution_count": 8,
   "metadata": {
    "execution": {
     "iopub.execute_input": "2020-10-27T01:35:15.813436Z",
     "iopub.status.busy": "2020-10-27T01:35:15.813048Z",
     "iopub.status.idle": "2020-10-27T01:35:15.958144Z",
     "shell.execute_reply": "2020-10-27T01:35:15.957059Z",
     "shell.execute_reply.started": "2020-10-27T01:35:15.813383Z"
    }
   },
   "outputs": [],
   "source": [
    "class VGG16_NPT(ModelBase):\n",
    "    def __init__(self):\n",
    "        super().__init__()\n",
    "#         pretrained VGG16 model w/ batch norm\n",
    "        self.network = torchvision.models.vgg16_bn(pretrained=False)\n",
    "#         change first layer to accept only 1 dimension of color (b/w)\n",
    "        self.network.features[0] = nn.Conv2d(1, 64, kernel_size=3, stride=1, padding=1)\n",
    "#         change last fc layer to output one value\n",
    "        self.network.classifier[6] = nn.Linear(4096, 1, bias=True)\n",
    "        \n",
    "    def forward(self, xb):\n",
    "        out = self.network(xb)\n",
    "        out = F.sigmoid(out)\n",
    "        return out"
   ]
  },
  {
   "cell_type": "markdown",
   "metadata": {},
   "source": [
    "---"
   ]
  },
  {
   "cell_type": "markdown",
   "metadata": {},
   "source": [
    "## DataSet & DataLoader"
   ]
  },
  {
   "cell_type": "code",
   "execution_count": 9,
   "metadata": {
    "execution": {
     "iopub.execute_input": "2020-10-27T01:35:15.963439Z",
     "iopub.status.busy": "2020-10-27T01:35:15.962381Z",
     "iopub.status.idle": "2020-10-27T01:35:16.055808Z",
     "shell.execute_reply": "2020-10-27T01:35:16.054589Z",
     "shell.execute_reply.started": "2020-10-27T01:35:15.963379Z"
    }
   },
   "outputs": [],
   "source": [
    "class Prudhoe_DS(Dataset):\n",
    "    def __init__(self, h5_pth, transforms=None):\n",
    "        self.transforms = transforms\n",
    "        self.h5_pth = h5_pth\n",
    "        self.mask_locs = []\n",
    "        \n",
    "        with h5py.File(self.h5_pth, 'r') as F:\n",
    "            pos_shape = F['POS'].attrs['shape'][0]\n",
    "            neg_shape = F['NEG'].attrs['shape'][0]\n",
    "            for shape, key in zip([pos_shape, neg_shape], ['POS', 'NEG']):\n",
    "                for i in range(shape):\n",
    "                    self.mask_locs.append({'key': key,\n",
    "                                          'key_idx': i})\n",
    "        \n",
    "    def __len__(self):\n",
    "        return len(self.mask_locs)\n",
    "    \n",
    "    def __getitem__(self, idx):\n",
    "        mask_loc = self.mask_locs[idx]\n",
    "        with h5py.File(self.h5_pth, 'r') as F:\n",
    "            mask = F[mask_loc['key']][mask_loc['key_idx']]\n",
    "            mask = np.array(mask)\n",
    "            \n",
    "            if self.transforms:\n",
    "                mask = self.transforms()(mask)\n",
    "#             mask = mask.unsqueeze(0)\n",
    "            \n",
    "        label = 1 if mask_loc['key'] == 'POS' else 0\n",
    "        return mask, label"
   ]
  },
  {
   "cell_type": "code",
   "execution_count": 10,
   "metadata": {
    "execution": {
     "iopub.execute_input": "2020-10-27T01:35:16.059681Z",
     "iopub.status.busy": "2020-10-27T01:35:16.058855Z",
     "iopub.status.idle": "2020-10-27T01:35:16.125410Z",
     "shell.execute_reply": "2020-10-27T01:35:16.124565Z",
     "shell.execute_reply.started": "2020-10-27T01:35:16.059618Z"
    }
   },
   "outputs": [],
   "source": [
    "# PTH = '/scratch/richardso21/20-21_BGSUB/'\n",
    "# site = 'prudhoe_12'"
   ]
  },
  {
   "cell_type": "code",
   "execution_count": 11,
   "metadata": {
    "execution": {
     "iopub.execute_input": "2020-10-27T01:35:16.127156Z",
     "iopub.status.busy": "2020-10-27T01:35:16.126823Z",
     "iopub.status.idle": "2020-10-27T01:35:16.210996Z",
     "shell.execute_reply": "2020-10-27T01:35:16.209801Z",
     "shell.execute_reply.started": "2020-10-27T01:35:16.127122Z"
    }
   },
   "outputs": [],
   "source": [
    "# h5F = os.path.join(PTH, 'FgSegNet_O', f'{site}.h5')"
   ]
  },
  {
   "cell_type": "code",
   "execution_count": 12,
   "metadata": {
    "execution": {
     "iopub.execute_input": "2020-10-27T01:35:16.213901Z",
     "iopub.status.busy": "2020-10-27T01:35:16.213170Z",
     "iopub.status.idle": "2020-10-27T01:35:16.260191Z",
     "shell.execute_reply": "2020-10-27T01:35:16.259082Z",
     "shell.execute_reply.started": "2020-10-27T01:35:16.213847Z"
    }
   },
   "outputs": [],
   "source": [
    "# f = h5py.File(h5F, 'r')"
   ]
  },
  {
   "cell_type": "code",
   "execution_count": 13,
   "metadata": {
    "execution": {
     "iopub.execute_input": "2020-10-27T01:35:16.263910Z",
     "iopub.status.busy": "2020-10-27T01:35:16.261712Z",
     "iopub.status.idle": "2020-10-27T01:35:16.370145Z",
     "shell.execute_reply": "2020-10-27T01:35:16.369052Z",
     "shell.execute_reply.started": "2020-10-27T01:35:16.262055Z"
    }
   },
   "outputs": [],
   "source": [
    "# test = np.vstack([f['POS'],f['NEG']])"
   ]
  },
  {
   "cell_type": "code",
   "execution_count": 14,
   "metadata": {
    "execution": {
     "iopub.execute_input": "2020-10-27T01:35:16.372548Z",
     "iopub.status.busy": "2020-10-27T01:35:16.372167Z",
     "iopub.status.idle": "2020-10-27T01:35:16.493203Z",
     "shell.execute_reply": "2020-10-27T01:35:16.492271Z",
     "shell.execute_reply.started": "2020-10-27T01:35:16.372497Z"
    }
   },
   "outputs": [],
   "source": [
    "# test.shape"
   ]
  },
  {
   "cell_type": "code",
   "execution_count": 15,
   "metadata": {
    "execution": {
     "iopub.execute_input": "2020-10-27T01:35:16.495342Z",
     "iopub.status.busy": "2020-10-27T01:35:16.494956Z",
     "iopub.status.idle": "2020-10-27T01:35:16.686781Z",
     "shell.execute_reply": "2020-10-27T01:35:16.685688Z",
     "shell.execute_reply.started": "2020-10-27T01:35:16.495291Z"
    }
   },
   "outputs": [],
   "source": [
    "# y = np.expand_dims(test, axis=1)"
   ]
  },
  {
   "cell_type": "code",
   "execution_count": 16,
   "metadata": {
    "execution": {
     "iopub.execute_input": "2020-10-27T01:35:16.689138Z",
     "iopub.status.busy": "2020-10-27T01:35:16.688554Z",
     "iopub.status.idle": "2020-10-27T01:35:16.817091Z",
     "shell.execute_reply": "2020-10-27T01:35:16.815667Z",
     "shell.execute_reply.started": "2020-10-27T01:35:16.689083Z"
    }
   },
   "outputs": [],
   "source": [
    "# y.shape"
   ]
  },
  {
   "cell_type": "code",
   "execution_count": 17,
   "metadata": {
    "execution": {
     "iopub.execute_input": "2020-10-27T01:35:16.820443Z",
     "iopub.status.busy": "2020-10-27T01:35:16.819623Z",
     "iopub.status.idle": "2020-10-27T01:35:16.873542Z",
     "shell.execute_reply": "2020-10-27T01:35:16.872465Z",
     "shell.execute_reply.started": "2020-10-27T01:35:16.820379Z"
    }
   },
   "outputs": [],
   "source": [
    "# del y, test"
   ]
  },
  {
   "cell_type": "code",
   "execution_count": 18,
   "metadata": {
    "execution": {
     "iopub.execute_input": "2020-10-27T01:35:16.875557Z",
     "iopub.status.busy": "2020-10-27T01:35:16.875180Z",
     "iopub.status.idle": "2020-10-27T01:35:16.952588Z",
     "shell.execute_reply": "2020-10-27T01:35:16.951508Z",
     "shell.execute_reply.started": "2020-10-27T01:35:16.875509Z"
    }
   },
   "outputs": [],
   "source": [
    "# f.close()"
   ]
  },
  {
   "cell_type": "code",
   "execution_count": 19,
   "metadata": {
    "execution": {
     "iopub.execute_input": "2020-10-27T01:35:16.954439Z",
     "iopub.status.busy": "2020-10-27T01:35:16.954071Z",
     "iopub.status.idle": "2020-10-27T01:35:17.017373Z",
     "shell.execute_reply": "2020-10-27T01:35:17.016479Z",
     "shell.execute_reply.started": "2020-10-27T01:35:16.954390Z"
    }
   },
   "outputs": [],
   "source": [
    "class Prudhoe_DS_v2(Dataset):\n",
    "    def __init__(self, h5_pth, transforms=None):\n",
    "        self.transforms = transforms\n",
    "        self.h5_pth = h5_pth\n",
    "        self.masks = []\n",
    "        self.labels = []\n",
    "        \n",
    "        with h5py.File(self.h5_pth, 'r') as F:\n",
    "            pos = F['POS']\n",
    "            neg = F['NEG']\n",
    "            pos_len = pos.attrs['shape'][0]\n",
    "            neg_len = neg.attrs['shape'][0]\n",
    "            \n",
    "            self.masks = np.expand_dims(np.vstack([pos, neg]), axis=1).astype('float32')\n",
    "            self.labels = np.concatenate([np.ones(pos_len),\n",
    "                                          np.zeros(neg_len)]).astype('float32')\n",
    "        \n",
    "    def __len__(self):\n",
    "        return len(self.labels)\n",
    "    \n",
    "    def __getitem__(self, idx):\n",
    "        mask = self.masks[idx]\n",
    "        label = self.labels[idx]\n",
    "        \n",
    "        return mask, label"
   ]
  },
  {
   "cell_type": "markdown",
   "metadata": {},
   "source": [
    "---"
   ]
  },
  {
   "cell_type": "code",
   "execution_count": 20,
   "metadata": {
    "execution": {
     "iopub.execute_input": "2020-10-27T01:35:17.019710Z",
     "iopub.status.busy": "2020-10-27T01:35:17.019402Z",
     "iopub.status.idle": "2020-10-27T01:35:17.213073Z",
     "shell.execute_reply": "2020-10-27T01:35:17.211833Z",
     "shell.execute_reply.started": "2020-10-27T01:35:17.019671Z"
    }
   },
   "outputs": [
    {
     "data": {
      "text/plain": [
       "<torch._C.Generator at 0x7f6a6cb25d80>"
      ]
     },
     "execution_count": 20,
     "metadata": {},
     "output_type": "execute_result"
    }
   ],
   "source": [
    "torch.manual_seed(42)"
   ]
  },
  {
   "cell_type": "code",
   "execution_count": 21,
   "metadata": {
    "execution": {
     "iopub.execute_input": "2020-10-27T01:35:17.216063Z",
     "iopub.status.busy": "2020-10-27T01:35:17.215322Z",
     "iopub.status.idle": "2020-10-27T01:35:17.227663Z",
     "shell.execute_reply": "2020-10-27T01:35:17.226613Z",
     "shell.execute_reply.started": "2020-10-27T01:35:17.216009Z"
    }
   },
   "outputs": [],
   "source": [
    "PTH = '/scratch/richardso21/20-21_BGSUB/'\n",
    "site = 'prudhoe_12'"
   ]
  },
  {
   "cell_type": "code",
   "execution_count": 22,
   "metadata": {
    "execution": {
     "iopub.execute_input": "2020-10-27T01:35:17.230294Z",
     "iopub.status.busy": "2020-10-27T01:35:17.229541Z",
     "iopub.status.idle": "2020-10-27T01:35:17.341550Z",
     "shell.execute_reply": "2020-10-27T01:35:17.340742Z",
     "shell.execute_reply.started": "2020-10-27T01:35:17.230221Z"
    }
   },
   "outputs": [],
   "source": [
    "h5F = os.path.join(PTH, 'FgSegNet_O', f'{site}.h5')"
   ]
  },
  {
   "cell_type": "code",
   "execution_count": 23,
   "metadata": {
    "execution": {
     "iopub.execute_input": "2020-10-27T01:35:17.343379Z",
     "iopub.status.busy": "2020-10-27T01:35:17.343031Z",
     "iopub.status.idle": "2020-10-27T01:37:24.336550Z",
     "shell.execute_reply": "2020-10-27T01:37:24.335277Z",
     "shell.execute_reply.started": "2020-10-27T01:35:17.343342Z"
    }
   },
   "outputs": [],
   "source": [
    "ds = Prudhoe_DS_v2(h5F)\n",
    "ds_size = len(ds)"
   ]
  },
  {
   "cell_type": "code",
   "execution_count": 24,
   "metadata": {
    "execution": {
     "iopub.execute_input": "2020-10-27T01:37:24.338620Z",
     "iopub.status.busy": "2020-10-27T01:37:24.338352Z",
     "iopub.status.idle": "2020-10-27T01:37:24.343762Z",
     "shell.execute_reply": "2020-10-27T01:37:24.342938Z",
     "shell.execute_reply.started": "2020-10-27T01:37:24.338587Z"
    }
   },
   "outputs": [],
   "source": [
    "train_size = int(ds_size * .70)\n",
    "val_size = (ds_size - train_size) // 2\n",
    "test_size = ds_size - train_size - val_size"
   ]
  },
  {
   "cell_type": "code",
   "execution_count": 25,
   "metadata": {
    "execution": {
     "iopub.execute_input": "2020-10-27T01:37:24.344979Z",
     "iopub.status.busy": "2020-10-27T01:37:24.344744Z",
     "iopub.status.idle": "2020-10-27T01:37:24.448386Z",
     "shell.execute_reply": "2020-10-27T01:37:24.447542Z",
     "shell.execute_reply.started": "2020-10-27T01:37:24.344949Z"
    }
   },
   "outputs": [],
   "source": [
    "train_ds, val_ds, test_ds = random_split(ds, [train_size, val_size, test_size])"
   ]
  },
  {
   "cell_type": "code",
   "execution_count": 26,
   "metadata": {
    "execution": {
     "iopub.execute_input": "2020-10-27T01:37:24.450050Z",
     "iopub.status.busy": "2020-10-27T01:37:24.449729Z",
     "iopub.status.idle": "2020-10-27T01:37:24.498360Z",
     "shell.execute_reply": "2020-10-27T01:37:24.497589Z",
     "shell.execute_reply.started": "2020-10-27T01:37:24.450010Z"
    }
   },
   "outputs": [],
   "source": [
    "batch_size = 4"
   ]
  },
  {
   "cell_type": "code",
   "execution_count": 27,
   "metadata": {
    "execution": {
     "iopub.execute_input": "2020-10-27T01:37:24.502182Z",
     "iopub.status.busy": "2020-10-27T01:37:24.501894Z",
     "iopub.status.idle": "2020-10-27T01:37:24.548800Z",
     "shell.execute_reply": "2020-10-27T01:37:24.547883Z",
     "shell.execute_reply.started": "2020-10-27T01:37:24.502147Z"
    }
   },
   "outputs": [],
   "source": [
    "train_loader = DataLoader(train_ds, batch_size, shuffle=True, pin_memory=True, num_workers=4)\n",
    "val_loader = DataLoader(val_ds, batch_size*2, pin_memory=True, num_workers=4)\n",
    "test_loader = DataLoader(test_ds, batch_size*2, pin_memory=True, num_workers=4)"
   ]
  },
  {
   "cell_type": "code",
   "execution_count": 28,
   "metadata": {
    "execution": {
     "iopub.execute_input": "2020-10-27T01:37:24.550781Z",
     "iopub.status.busy": "2020-10-27T01:37:24.550438Z",
     "iopub.status.idle": "2020-10-27T01:37:24.597809Z",
     "shell.execute_reply": "2020-10-27T01:37:24.596944Z",
     "shell.execute_reply.started": "2020-10-27T01:37:24.550735Z"
    }
   },
   "outputs": [],
   "source": [
    "# from torchvision.utils import make_grid"
   ]
  },
  {
   "cell_type": "code",
   "execution_count": 29,
   "metadata": {
    "execution": {
     "iopub.execute_input": "2020-10-27T01:37:24.602206Z",
     "iopub.status.busy": "2020-10-27T01:37:24.599940Z",
     "iopub.status.idle": "2020-10-27T01:37:24.648764Z",
     "shell.execute_reply": "2020-10-27T01:37:24.647681Z",
     "shell.execute_reply.started": "2020-10-27T01:37:24.602150Z"
    }
   },
   "outputs": [],
   "source": [
    "# for images, _ in train_loader:\n",
    "#     print('images.shape:', images.shape)\n",
    "#     print(_)\n",
    "#     plt.figure(figsize=(24,12))\n",
    "#     plt.axis('off')\n",
    "#     plt.imshow(make_grid(images, nrow=16).permute((1, 2, 0)))\n",
    "#     break"
   ]
  },
  {
   "cell_type": "markdown",
   "metadata": {},
   "source": [
    "---"
   ]
  },
  {
   "cell_type": "code",
   "execution_count": 30,
   "metadata": {
    "execution": {
     "iopub.execute_input": "2020-10-27T01:37:24.652645Z",
     "iopub.status.busy": "2020-10-27T01:37:24.652241Z",
     "iopub.status.idle": "2020-10-27T01:37:24.692319Z",
     "shell.execute_reply": "2020-10-27T01:37:24.691354Z",
     "shell.execute_reply.started": "2020-10-27T01:37:24.652591Z"
    }
   },
   "outputs": [],
   "source": [
    "def get_default_device():\n",
    "    \"\"\"Pick GPU if available, else CPU\"\"\"\n",
    "    if torch.cuda.is_available():\n",
    "        return torch.device('cuda')\n",
    "    else:\n",
    "        return torch.device('cpu')"
   ]
  },
  {
   "cell_type": "code",
   "execution_count": 31,
   "metadata": {
    "execution": {
     "iopub.execute_input": "2020-10-27T01:37:24.693966Z",
     "iopub.status.busy": "2020-10-27T01:37:24.693604Z",
     "iopub.status.idle": "2020-10-27T01:37:29.106723Z",
     "shell.execute_reply": "2020-10-27T01:37:29.105802Z",
     "shell.execute_reply.started": "2020-10-27T01:37:24.693918Z"
    }
   },
   "outputs": [
    {
     "data": {
      "text/plain": [
       "device(type='cuda')"
      ]
     },
     "execution_count": 31,
     "metadata": {},
     "output_type": "execute_result"
    }
   ],
   "source": [
    "device = get_default_device()\n",
    "device"
   ]
  },
  {
   "cell_type": "code",
   "execution_count": 32,
   "metadata": {
    "execution": {
     "iopub.execute_input": "2020-10-27T01:37:29.109145Z",
     "iopub.status.busy": "2020-10-27T01:37:29.108465Z",
     "iopub.status.idle": "2020-10-27T01:37:29.151659Z",
     "shell.execute_reply": "2020-10-27T01:37:29.150873Z",
     "shell.execute_reply.started": "2020-10-27T01:37:29.109093Z"
    }
   },
   "outputs": [],
   "source": [
    "def to_device(data, device):\n",
    "    \"\"\"Move tensor(s) to chosen device\"\"\"\n",
    "    if isinstance(data, (list,tuple)):\n",
    "        return [to_device(x, device) for x in data]\n",
    "    return data.to(device, non_blocking=True)\n",
    "\n",
    "class DeviceDataLoader():\n",
    "    \"\"\"Wrap a dataloader to move data to a device\"\"\"\n",
    "    def __init__(self, dl, device):\n",
    "        self.dl = dl\n",
    "        self.device = device\n",
    "        \n",
    "    def __iter__(self):\n",
    "        \"\"\"Yield a batch of data after moving it to device\"\"\"\n",
    "        for b in self.dl: \n",
    "            yield to_device(b, self.device)\n",
    "\n",
    "    def __len__(self):\n",
    "        \"\"\"Number of batches\"\"\"\n",
    "        return len(self.dl)"
   ]
  },
  {
   "cell_type": "code",
   "execution_count": 33,
   "metadata": {
    "execution": {
     "iopub.execute_input": "2020-10-27T01:37:29.153179Z",
     "iopub.status.busy": "2020-10-27T01:37:29.152934Z",
     "iopub.status.idle": "2020-10-27T01:37:29.215580Z",
     "shell.execute_reply": "2020-10-27T01:37:29.214584Z",
     "shell.execute_reply.started": "2020-10-27T01:37:29.153147Z"
    }
   },
   "outputs": [],
   "source": [
    "train_loader = DeviceDataLoader(train_loader, device)\n",
    "val_loader = DeviceDataLoader(val_loader, device)\n",
    "test_loader = DeviceDataLoader(test_loader, device)"
   ]
  },
  {
   "cell_type": "code",
   "execution_count": 34,
   "metadata": {
    "execution": {
     "iopub.execute_input": "2020-10-27T01:37:29.217351Z",
     "iopub.status.busy": "2020-10-27T01:37:29.217004Z",
     "iopub.status.idle": "2020-10-27T01:37:45.874917Z",
     "shell.execute_reply": "2020-10-27T01:37:45.872315Z",
     "shell.execute_reply.started": "2020-10-27T01:37:29.217304Z"
    }
   },
   "outputs": [],
   "source": [
    "model = to_device(VGG11_PT(), device)"
   ]
  },
  {
   "cell_type": "code",
   "execution_count": 35,
   "metadata": {
    "execution": {
     "iopub.execute_input": "2020-10-27T01:37:45.880291Z",
     "iopub.status.busy": "2020-10-27T01:37:45.879018Z",
     "iopub.status.idle": "2020-10-27T01:37:45.888544Z",
     "shell.execute_reply": "2020-10-27T01:37:45.887502Z",
     "shell.execute_reply.started": "2020-10-27T01:37:45.880216Z"
    }
   },
   "outputs": [],
   "source": [
    "# model = model.double()"
   ]
  },
  {
   "cell_type": "code",
   "execution_count": 36,
   "metadata": {
    "execution": {
     "iopub.execute_input": "2020-10-27T01:37:45.891948Z",
     "iopub.status.busy": "2020-10-27T01:37:45.890169Z",
     "iopub.status.idle": "2020-10-27T01:38:01.736383Z",
     "shell.execute_reply": "2020-10-27T01:38:01.735400Z",
     "shell.execute_reply.started": "2020-10-27T01:37:45.891900Z"
    }
   },
   "outputs": [
    {
     "name": "stderr",
     "output_type": "stream",
     "text": [
      "/scratch/richardso21/conda/envs/fgsegnet/lib/python3.6/site-packages/torch/nn/functional.py:1625: UserWarning: nn.functional.sigmoid is deprecated. Use torch.sigmoid instead.\n",
      "  warnings.warn(\"nn.functional.sigmoid is deprecated. Use torch.sigmoid instead.\")\n",
      "/scratch/richardso21/conda/envs/fgsegnet/lib/python3.6/site-packages/ipykernel_launcher.py:16: UserWarning: Using a target size (torch.Size([8])) that is different to the input size (torch.Size([8, 1])) is deprecated. Please ensure they have the same size.\n",
      "  app.launch_new_instance()\n"
     ]
    },
    {
     "name": "stdout",
     "output_type": "stream",
     "text": [
      "{'loss': tensor(0.6872, device='cuda:0'), 'acc': {0.5: tensor(4.), 0.75: tensor(4.), 0.8: tensor(4.)}}\n",
      "{'loss': tensor(0.6899, device='cuda:0'), 'acc': {0.5: tensor(6.), 0.75: tensor(6.), 0.8: tensor(6.)}}\n",
      "{'loss': tensor(0.6913, device='cuda:0'), 'acc': {0.5: tensor(5.), 0.75: tensor(5.), 0.8: tensor(5.)}}\n",
      "{'loss': tensor(0.6957, device='cuda:0'), 'acc': {0.5: tensor(4.), 0.75: tensor(4.), 0.8: tensor(4.)}}\n",
      "{'loss': tensor(0.6875, device='cuda:0'), 'acc': {0.5: tensor(8.), 0.75: tensor(8.), 0.8: tensor(8.)}}\n",
      "{'loss': tensor(0.6891, device='cuda:0'), 'acc': {0.5: tensor(6.2500), 0.75: tensor(7.), 0.8: tensor(7.)}}\n",
      "{'loss': tensor(0.6909, device='cuda:0'), 'acc': {0.5: tensor(5.), 0.75: tensor(5.), 0.8: tensor(5.)}}\n",
      "{'loss': tensor(0.6894, device='cuda:0'), 'acc': {0.5: tensor(6.), 0.75: tensor(6.), 0.8: tensor(6.)}}\n",
      "{'loss': tensor(0.6900, device='cuda:0'), 'acc': {0.5: tensor(6.), 0.75: tensor(6.), 0.8: tensor(6.)}}\n",
      "{'loss': tensor(0.6907, device='cuda:0'), 'acc': {0.5: tensor(6.), 0.75: tensor(6.), 0.8: tensor(6.)}}\n"
     ]
    },
    {
     "data": {
      "text/plain": [
       "[{'avg_loss': tensor(0.6916, device='cuda:0'),\n",
       "  'avg_acc': [tensor(5.1321), tensor(5.2642), tensor(5.2642)]}]"
      ]
     },
     "execution_count": 36,
     "metadata": {},
     "output_type": "execute_result"
    }
   ],
   "source": [
    "history = [evaluate(model, val_loader)]\n",
    "history"
   ]
  },
  {
   "cell_type": "markdown",
   "metadata": {},
   "source": [
    "**TODO**: figure out accuracy bug!"
   ]
  },
  {
   "cell_type": "code",
   "execution_count": 37,
   "metadata": {
    "execution": {
     "iopub.execute_input": "2020-10-27T01:38:01.738390Z",
     "iopub.status.busy": "2020-10-27T01:38:01.738100Z",
     "iopub.status.idle": "2020-10-27T01:38:01.744133Z",
     "shell.execute_reply": "2020-10-27T01:38:01.743267Z",
     "shell.execute_reply.started": "2020-10-27T01:38:01.738356Z"
    }
   },
   "outputs": [],
   "source": [
    "# torch.cuda.empty_cache()"
   ]
  },
  {
   "cell_type": "code",
   "execution_count": null,
   "metadata": {},
   "outputs": [],
   "source": []
  }
 ],
 "metadata": {
  "kernelspec": {
   "display_name": "Python 3",
   "language": "python",
   "name": "python3"
  },
  "language_info": {
   "codemirror_mode": {
    "name": "ipython",
    "version": 3
   },
   "file_extension": ".py",
   "mimetype": "text/x-python",
   "name": "python",
   "nbconvert_exporter": "python",
   "pygments_lexer": "ipython3",
   "version": "3.6.10"
  }
 },
 "nbformat": 4,
 "nbformat_minor": 4
}
