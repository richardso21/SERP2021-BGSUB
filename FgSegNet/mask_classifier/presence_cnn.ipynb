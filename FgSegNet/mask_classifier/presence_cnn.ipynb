{
 "cells": [
  {
   "cell_type": "code",
   "execution_count": 1,
   "metadata": {
    "execution": {
     "iopub.execute_input": "2020-12-22T21:14:41.195616Z",
     "iopub.status.busy": "2020-12-22T21:14:41.195281Z",
     "iopub.status.idle": "2020-12-22T21:14:42.509328Z",
     "shell.execute_reply": "2020-12-22T21:14:42.508181Z",
     "shell.execute_reply.started": "2020-12-22T21:14:41.195576Z"
    }
   },
   "outputs": [],
   "source": [
    "import h5py, os, torch\n",
    "from pathlib import Path\n",
    "import torch.nn as nn\n",
    "import torch.nn.functional as F\n",
    "from torch.utils.data import random_split, DataLoader, Dataset\n",
    "import torchvision\n",
    "import numpy as np\n",
    "import pandas as pd\n",
    "import matplotlib.pyplot as plt\n",
    "from tqdm import tqdm"
   ]
  },
  {
   "cell_type": "code",
   "execution_count": 2,
   "metadata": {
    "execution": {
     "iopub.execute_input": "2020-12-22T21:14:42.511875Z",
     "iopub.status.busy": "2020-12-22T21:14:42.511472Z",
     "iopub.status.idle": "2020-12-22T21:14:42.516932Z",
     "shell.execute_reply": "2020-12-22T21:14:42.516016Z",
     "shell.execute_reply.started": "2020-12-22T21:14:42.511823Z"
    }
   },
   "outputs": [],
   "source": [
    "os.environ[\"CUDA_VISIBLE_DEVICES\"] = '1'"
   ]
  },
  {
   "cell_type": "markdown",
   "metadata": {},
   "source": [
    "## Outline\n",
    " - Generate a specific model for each scene\n",
    "     - Each location: 1600 images w/o presence, 800 imags w/ presence\n",
    " - Create Dataloader\n",
    "     - 80-20 split for training/testing (validation?)\n",
    "     - Each img (input size): 1024 x 720 px\n",
    " - Model Architecture\n",
    "     - Modified VGG16?\n",
    "     - Custom CNN architecture?\n",
    "     - Concatenate pixel values and put in logistic regression?"
   ]
  },
  {
   "cell_type": "markdown",
   "metadata": {},
   "source": [
    "---"
   ]
  },
  {
   "cell_type": "markdown",
   "metadata": {},
   "source": [
    "## Model Base/Helpers/Train & Test functions"
   ]
  },
  {
   "cell_type": "code",
   "execution_count": 3,
   "metadata": {
    "execution": {
     "iopub.execute_input": "2020-12-22T21:14:42.519619Z",
     "iopub.status.busy": "2020-12-22T21:14:42.519239Z",
     "iopub.status.idle": "2020-12-22T21:14:42.538962Z",
     "shell.execute_reply": "2020-12-22T21:14:42.538054Z",
     "shell.execute_reply.started": "2020-12-22T21:14:42.519573Z"
    }
   },
   "outputs": [],
   "source": [
    "def accuracy(outs, labels):\n",
    "    res = {}\n",
    "    # check accuracy for 3 different thresholds\n",
    "    for th in [.50, .75, .80]:\n",
    "        outs_th = outs >= th\n",
    "        # append onto result dictionary to be returned to function that called `accuracy()`\n",
    "        res[th] = torch.tensor(torch.sum(outs_th == labels).item() / len(outs))\n",
    "    return res"
   ]
  },
  {
   "cell_type": "code",
   "execution_count": 4,
   "metadata": {
    "execution": {
     "iopub.execute_input": "2020-12-22T21:14:42.541201Z",
     "iopub.status.busy": "2020-12-22T21:14:42.540840Z",
     "iopub.status.idle": "2020-12-22T21:14:42.608918Z",
     "shell.execute_reply": "2020-12-22T21:14:42.607861Z",
     "shell.execute_reply.started": "2020-12-22T21:14:42.541156Z"
    }
   },
   "outputs": [],
   "source": [
    "class ModelBase(nn.Module):\n",
    "#     training step\n",
    "    def train_step(self, batch):\n",
    "        xb, labels = batch\n",
    "        labels = labels.view(-1, 1)\n",
    "        outs = self(xb)\n",
    "        loss = F.binary_cross_entropy(outs, labels)\n",
    "        return loss\n",
    "#     validation step\n",
    "    def val_step(self, batch):\n",
    "        xb, labels = batch\n",
    "        labels = labels.view(-1, 1)\n",
    "        outs = self(xb)\n",
    "        loss = F.binary_cross_entropy(outs, labels)\n",
    "        acc = accuracy(outs, labels)\n",
    "        return {'loss': loss.detach(), 'acc': acc}\n",
    "#     validation epoch (avg accuracies and losses)\n",
    "    def val_epoch_end(self, outputs):\n",
    "#         for i in range(10):\n",
    "#             print(outputs[i])\n",
    "        batch_loss = [x['loss'] for x in outputs]\n",
    "        avg_loss = torch.stack(batch_loss).mean()\n",
    "        batch_acc50 = [x['acc'][.50] for x in outputs]\n",
    "        batch_acc75 = [x['acc'][.75] for x in outputs]\n",
    "        batch_acc80 = [x['acc'][.80] for x in outputs]\n",
    "        avg_acc50 = torch.stack(batch_acc50).mean()\n",
    "        avg_acc75 = torch.stack(batch_acc75).mean()\n",
    "        avg_acc80 = torch.stack(batch_acc80).mean()\n",
    "        return {'avg_loss': avg_loss, 'avg_acc': [avg_acc50, avg_acc75, avg_acc80]}\n",
    "#     print everything important\n",
    "    def epoch_end(self, epoch, avgs, test=False):\n",
    "        s = 'test' if test else 'val'\n",
    "        print(f'EPOCH {epoch + 1:<10} | {s}_loss:{avgs[\"avg_loss\"]:.3f}, {s}_acc (threshold): (.50){avgs[\"avg_acc\"][0]:.3f}, (.75){avgs[\"avg_acc\"][1]:.3f}, (.80){avgs[\"avg_acc\"][2]:.3f}')"
   ]
  },
  {
   "cell_type": "code",
   "execution_count": 5,
   "metadata": {
    "execution": {
     "iopub.execute_input": "2020-12-22T21:14:42.611281Z",
     "iopub.status.busy": "2020-12-22T21:14:42.610820Z",
     "iopub.status.idle": "2020-12-22T21:14:42.631266Z",
     "shell.execute_reply": "2020-12-22T21:14:42.630176Z",
     "shell.execute_reply.started": "2020-12-22T21:14:42.611229Z"
    }
   },
   "outputs": [],
   "source": [
    "@torch.no_grad()\n",
    "def evaluate(model, val_dl):\n",
    "    # eval mode\n",
    "    model.eval()\n",
    "    outputs = [model.val_step(batch) for batch in val_dl]\n",
    "    return model.val_epoch_end(outputs)\n",
    "\n",
    "\n",
    "def fit(epochs, lr, model, train_dl, val_dl, opt_func=torch.optim.Adam):\n",
    "    torch.cuda.empty_cache()\n",
    "    history = []\n",
    "    # define optimizer\n",
    "    optimizer = opt_func(model.parameters(), lr)\n",
    "    # for each epoch...\n",
    "    for epoch in range(epochs):\n",
    "        # training mode\n",
    "        model.train()\n",
    "        # (training) for each batch in train_dl...\n",
    "        for batch in tqdm(train_dl):\n",
    "            # pass thru model\n",
    "            loss = model.train_step(batch)\n",
    "            # perform gradient descent\n",
    "            loss.backward()\n",
    "            optimizer.step()\n",
    "            optimizer.zero_grad()\n",
    "        # validation\n",
    "        res = evaluate(model, val_dl)\n",
    "        # print everything useful\n",
    "        model.epoch_end(epoch, res, test=False)\n",
    "        # append to history\n",
    "        history.append(res)\n",
    "    return history"
   ]
  },
  {
   "cell_type": "markdown",
   "metadata": {},
   "source": [
    "---"
   ]
  },
  {
   "cell_type": "markdown",
   "metadata": {},
   "source": [
    "## Models"
   ]
  },
  {
   "cell_type": "code",
   "execution_count": 6,
   "metadata": {
    "execution": {
     "iopub.execute_input": "2020-12-22T21:14:42.633311Z",
     "iopub.status.busy": "2020-12-22T21:14:42.632924Z",
     "iopub.status.idle": "2020-12-22T21:14:42.658800Z",
     "shell.execute_reply": "2020-12-22T21:14:42.657726Z",
     "shell.execute_reply.started": "2020-12-22T21:14:42.633263Z"
    }
   },
   "outputs": [],
   "source": [
    "class VGG16_PT(ModelBase):\n",
    "    def __init__(self):\n",
    "        super().__init__()\n",
    "#         pretrained VGG16 model w/ batch norm\n",
    "        self.network = torchvision.models.vgg16_bn(pretrained=True)\n",
    "#         change first layer to accept only 1 dimension of color (b/w)\n",
    "        self.network.features[0] = nn.Conv2d(1, 64, kernel_size=3, stride=1, padding=1)\n",
    "#         change last fc layer to output one value\n",
    "        self.network.classifier[6] = nn.Linear(4096, 1, bias=True)\n",
    "        \n",
    "    def forward(self, xb):\n",
    "        out = self.network(xb)\n",
    "        out = F.sigmoid(out)\n",
    "        return out"
   ]
  },
  {
   "cell_type": "code",
   "execution_count": 7,
   "metadata": {
    "execution": {
     "iopub.execute_input": "2020-12-22T21:14:42.660678Z",
     "iopub.status.busy": "2020-12-22T21:14:42.660322Z",
     "iopub.status.idle": "2020-12-22T21:14:42.684171Z",
     "shell.execute_reply": "2020-12-22T21:14:42.683124Z",
     "shell.execute_reply.started": "2020-12-22T21:14:42.660634Z"
    }
   },
   "outputs": [],
   "source": [
    "class VGG11_PT(ModelBase):\n",
    "    def __init__(self):\n",
    "        super().__init__()\n",
    "#         pretrained VGG16 model w/ batch norm\n",
    "        self.network = torchvision.models.vgg11_bn(pretrained=True)\n",
    "#         change first layer to accept only 1 dimension of color (b/w)\n",
    "        self.network.features[0] = nn.Conv2d(1, 64, kernel_size=3, stride=1, padding=1)\n",
    "#         change last fc layer to output one value\n",
    "        self.network.classifier[6] = nn.Linear(4096, 1, bias=True)\n",
    "        \n",
    "    def forward(self, xb):\n",
    "        out = self.network(xb)\n",
    "        out = F.sigmoid(out)\n",
    "        return out"
   ]
  },
  {
   "cell_type": "code",
   "execution_count": 8,
   "metadata": {
    "execution": {
     "iopub.execute_input": "2020-12-22T21:14:42.686462Z",
     "iopub.status.busy": "2020-12-22T21:14:42.686021Z",
     "iopub.status.idle": "2020-12-22T21:14:42.709389Z",
     "shell.execute_reply": "2020-12-22T21:14:42.708402Z",
     "shell.execute_reply.started": "2020-12-22T21:14:42.686412Z"
    }
   },
   "outputs": [],
   "source": [
    "# class Custom_NPT(ModelBase):\n",
    "#     def __init__(self):\n",
    "#         super().__init__()                                       # 1 x 1024 x 720\n",
    "# #         custom-defined model w/o pretrained weights\n",
    "#         self.conv1 = nn.Conv2d(1, 8, kernel_size=3, padding=1)   # 8 x 1024 x 720\n",
    "#         self.conv2 = nn.Conv2d(8, 16, kernel_size=3, padding=1)  # 16 x 1024 x 720\n",
    "#         self.pool1 = nn.MaxPool2d(2)                             # 16 x 512 x 360\n",
    "#         self.conv3 = nn.Conv2d(16, 32, kernel_size=3, padding=1) # 32 x 512 x 360\n",
    "#         self.conv4 = nn.Conv2d(32, 32, kernel_size=3, padding=1) # 32 x 512 x 360\n",
    "#         self.pool2 = nn.MaxPool2d(2)                             # 32 x 256 x 180\n",
    "#         self.conv5 = nn.Conv2d(32, 16, kernel_size=3, padding=1) # 16 x 256 x 180\n",
    "#         self.pool3 = nn.MaxPool2d(2)                             # 8 x 256 x 180\n",
    "#         self.fc1 = nn.Linear(8*256*180, 4096)\n",
    "#         self.fc2 = nn.Linear(4096, 512)\n",
    "#         self.fc3 = nn.Linear(512, 1)\n",
    "        \n",
    "#     def forward(self, xb):\n",
    "#         out = F.relu(self.conv1(xb))\n",
    "#         out = F.relu(self.conv2(out))\n",
    "#         out = self.pool1(out)\n",
    "#         out = F.relu(self.conv3(out))\n",
    "#         out = F.relu(self.conv4(out))\n",
    "#         out = self.pool2(out)\n",
    "#         out = F.relu(self.conv5(out))\n",
    "#         out = self.pool3(out)\n",
    "        \n",
    "#         out = torch.flatten(out, 1)\n",
    "#         out = F.relu(self.fc1(out))"
   ]
  },
  {
   "cell_type": "code",
   "execution_count": 9,
   "metadata": {
    "execution": {
     "iopub.execute_input": "2020-12-22T21:14:42.712924Z",
     "iopub.status.busy": "2020-12-22T21:14:42.712583Z",
     "iopub.status.idle": "2020-12-22T21:14:42.733284Z",
     "shell.execute_reply": "2020-12-22T21:14:42.732258Z",
     "shell.execute_reply.started": "2020-12-22T21:14:42.712882Z"
    }
   },
   "outputs": [],
   "source": [
    "class VGG16_NPT(ModelBase):\n",
    "    def __init__(self):\n",
    "        super().__init__()\n",
    "#         pretrained VGG16 model w/ batch norm\n",
    "        self.network = torchvision.models.vgg16_bn(pretrained=False)\n",
    "#         change first layer to accept only 1 dimension of color (b/w)\n",
    "        self.network.features[0] = nn.Conv2d(1, 64, kernel_size=3, stride=1, padding=1)\n",
    "#         change last fc layer to output one value\n",
    "        self.network.classifier[6] = nn.Linear(4096, 1, bias=True)\n",
    "        \n",
    "    def forward(self, xb):\n",
    "        out = self.network(xb)\n",
    "        out = F.sigmoid(out)\n",
    "        return out"
   ]
  },
  {
   "cell_type": "markdown",
   "metadata": {},
   "source": [
    "---"
   ]
  },
  {
   "cell_type": "markdown",
   "metadata": {},
   "source": [
    "## DataSet & DataLoader"
   ]
  },
  {
   "cell_type": "code",
   "execution_count": 10,
   "metadata": {
    "execution": {
     "iopub.execute_input": "2020-12-22T21:14:42.735914Z",
     "iopub.status.busy": "2020-12-22T21:14:42.735556Z",
     "iopub.status.idle": "2020-12-22T21:14:42.762039Z",
     "shell.execute_reply": "2020-12-22T21:14:42.760998Z",
     "shell.execute_reply.started": "2020-12-22T21:14:42.735870Z"
    }
   },
   "outputs": [],
   "source": [
    "# class Prudhoe_DS(Dataset):\n",
    "#     def __init__(self, h5_pth, transforms=None):\n",
    "#         self.transforms = transforms\n",
    "#         self.h5_pth = h5_pth\n",
    "#         self.mask_locs = []\n",
    "        \n",
    "#         with h5py.File(self.h5_pth, 'r') as F:\n",
    "#             pos_shape = F['POS'].attrs['shape'][0]\n",
    "#             neg_shape = F['NEG'].attrs['shape'][0]\n",
    "#             for shape, key in zip([pos_shape, neg_shape], ['POS', 'NEG']):\n",
    "#                 for i in range(shape):\n",
    "#                     self.mask_locs.append({'key': key,\n",
    "#                                           'key_idx': i})\n",
    "        \n",
    "#     def __len__(self):\n",
    "#         return len(self.mask_locs)\n",
    "    \n",
    "#     def __getitem__(self, idx):\n",
    "#         mask_loc = self.mask_locs[idx]\n",
    "#         with h5py.File(self.h5_pth, 'r') as F:\n",
    "#             mask = F[mask_loc['key']][mask_loc['key_idx']]\n",
    "#             mask = np.array(mask)\n",
    "            \n",
    "#             if self.transforms:\n",
    "#                 mask = self.transforms()(mask)\n",
    "# #             mask = mask.unsqueeze(0)\n",
    "            \n",
    "#         label = 1 if mask_loc['key'] == 'POS' else 0\n",
    "#         return mask, label"
   ]
  },
  {
   "cell_type": "code",
   "execution_count": 11,
   "metadata": {
    "execution": {
     "iopub.execute_input": "2020-12-22T21:14:42.764303Z",
     "iopub.status.busy": "2020-12-22T21:14:42.763889Z",
     "iopub.status.idle": "2020-12-22T21:14:42.786908Z",
     "shell.execute_reply": "2020-12-22T21:14:42.785986Z",
     "shell.execute_reply.started": "2020-12-22T21:14:42.764253Z"
    }
   },
   "outputs": [],
   "source": [
    "# class Prudhoe_DS_v2(Dataset):\n",
    "#     def __init__(self, h5_pth, transforms=None):\n",
    "#         self.transforms = transforms\n",
    "#         self.h5_pth = h5_pth\n",
    "#         self.masks = []\n",
    "#         self.labels = []\n",
    "        \n",
    "#         with h5py.File(self.h5_pth, 'r') as F:\n",
    "#             pos = F['POS']\n",
    "#             neg = F['NEG']\n",
    "#             pos_len = pos.attrs['shape'][0]\n",
    "#             neg_len = neg.attrs['shape'][0]\n",
    "            \n",
    "#             self.masks = np.expand_dims(np.vstack([pos, neg]), axis=1).astype('float32')\n",
    "#             self.labels = np.concatenate([np.ones(pos_len),\n",
    "#                                           np.zeros(neg_len)]).astype('float32')\n",
    "        \n",
    "#     def __len__(self):\n",
    "#         return len(self.labels)\n",
    "    \n",
    "#     def __getitem__(self, idx):\n",
    "#         mask = self.masks[idx]\n",
    "#         label = self.labels[idx]\n",
    "        \n",
    "#         return mask, label"
   ]
  },
  {
   "cell_type": "code",
   "execution_count": 12,
   "metadata": {
    "execution": {
     "iopub.execute_input": "2020-12-22T21:14:42.788931Z",
     "iopub.status.busy": "2020-12-22T21:14:42.788553Z",
     "iopub.status.idle": "2020-12-22T21:14:42.817672Z",
     "shell.execute_reply": "2020-12-22T21:14:42.816652Z",
     "shell.execute_reply.started": "2020-12-22T21:14:42.788884Z"
    }
   },
   "outputs": [],
   "source": [
    "class Prudhoe_DS(Dataset):\n",
    "    def __init__(self, npy_pth, transforms=None):\n",
    "        self.transforms = transforms\n",
    "        self.npy_pth = npy_pth\n",
    "        self.masks_loc = []\n",
    "        self.labels = []\n",
    "        \n",
    "        for typ in ['pos', 'neg']:\n",
    "            for fn in os.listdir(os.path.join(self.npy_pth, typ)):\n",
    "                \n",
    "                full_fn = os.path.join(self.npy_pth, typ, fn)\n",
    "                self.masks_loc.append(full_fn)\n",
    "#                 masks.append(np.load(full_fn))\n",
    "                \n",
    "                label = 1 if typ == 'pos' else 0\n",
    "                self.labels.append(label)\n",
    "        \n",
    "        self.masks_loc = np.array(self.masks_loc)\n",
    "        self.labels = np.array(self.labels).astype('float32')\n",
    "        \n",
    "    def __len__(self):\n",
    "        return len(self.labels)\n",
    "    \n",
    "    def __getitem__(self, idx):\n",
    "        mask = np.expand_dims(np.load(self.masks_loc[idx]), axis=0).astype('float32')\n",
    "        label = self.labels[idx]\n",
    "        \n",
    "        if self.transforms:\n",
    "            mask = self.transforms()(mask)\n",
    "        \n",
    "        return mask, label"
   ]
  },
  {
   "cell_type": "markdown",
   "metadata": {},
   "source": [
    "---"
   ]
  },
  {
   "cell_type": "code",
   "execution_count": 13,
   "metadata": {
    "execution": {
     "iopub.execute_input": "2020-12-22T21:14:42.819530Z",
     "iopub.status.busy": "2020-12-22T21:14:42.819179Z",
     "iopub.status.idle": "2020-12-22T21:14:42.853581Z",
     "shell.execute_reply": "2020-12-22T21:14:42.852626Z",
     "shell.execute_reply.started": "2020-12-22T21:14:42.819487Z"
    }
   },
   "outputs": [
    {
     "data": {
      "text/plain": [
       "<torch._C.Generator at 0x7fd69c21bd80>"
      ]
     },
     "execution_count": 13,
     "metadata": {},
     "output_type": "execute_result"
    }
   ],
   "source": [
    "torch.manual_seed(42)"
   ]
  },
  {
   "cell_type": "code",
   "execution_count": 14,
   "metadata": {
    "execution": {
     "iopub.execute_input": "2020-12-22T21:14:42.855767Z",
     "iopub.status.busy": "2020-12-22T21:14:42.855362Z",
     "iopub.status.idle": "2020-12-22T21:14:42.875246Z",
     "shell.execute_reply": "2020-12-22T21:14:42.874166Z",
     "shell.execute_reply.started": "2020-12-22T21:14:42.855718Z"
    }
   },
   "outputs": [],
   "source": [
    "PTH = '/scratch/richardso21/20-21_BGSUB/'\n",
    "site = 'prudhoe_12'"
   ]
  },
  {
   "cell_type": "code",
   "execution_count": 15,
   "metadata": {
    "execution": {
     "iopub.execute_input": "2020-12-22T21:14:42.877199Z",
     "iopub.status.busy": "2020-12-22T21:14:42.876836Z",
     "iopub.status.idle": "2020-12-22T21:14:42.901914Z",
     "shell.execute_reply": "2020-12-22T21:14:42.900883Z",
     "shell.execute_reply.started": "2020-12-22T21:14:42.877154Z"
    }
   },
   "outputs": [],
   "source": [
    "npy_pth = os.path.join(PTH, 'FgSegNet_O_neg', site)"
   ]
  },
  {
   "cell_type": "code",
   "execution_count": 16,
   "metadata": {
    "execution": {
     "iopub.execute_input": "2020-12-22T21:14:42.904030Z",
     "iopub.status.busy": "2020-12-22T21:14:42.903635Z",
     "iopub.status.idle": "2020-12-22T21:14:42.946205Z",
     "shell.execute_reply": "2020-12-22T21:14:42.945176Z",
     "shell.execute_reply.started": "2020-12-22T21:14:42.903983Z"
    }
   },
   "outputs": [],
   "source": [
    "ds = Prudhoe_DS(npy_pth)\n",
    "ds_size = len(ds)"
   ]
  },
  {
   "cell_type": "code",
   "execution_count": 17,
   "metadata": {
    "execution": {
     "iopub.execute_input": "2020-12-22T21:14:42.947996Z",
     "iopub.status.busy": "2020-12-22T21:14:42.947656Z",
     "iopub.status.idle": "2020-12-22T21:14:42.954766Z",
     "shell.execute_reply": "2020-12-22T21:14:42.953761Z",
     "shell.execute_reply.started": "2020-12-22T21:14:42.947954Z"
    }
   },
   "outputs": [],
   "source": [
    "# for i in ds:\n",
    "#     print(i, i[0].shape)\n",
    "#     break"
   ]
  },
  {
   "cell_type": "code",
   "execution_count": 18,
   "metadata": {
    "execution": {
     "iopub.execute_input": "2020-12-22T21:14:42.956490Z",
     "iopub.status.busy": "2020-12-22T21:14:42.956166Z",
     "iopub.status.idle": "2020-12-22T21:14:43.004082Z",
     "shell.execute_reply": "2020-12-22T21:14:43.003038Z",
     "shell.execute_reply.started": "2020-12-22T21:14:42.956450Z"
    }
   },
   "outputs": [],
   "source": [
    "train_size = int(ds_size * .70)\n",
    "val_size = (ds_size - train_size) // 2\n",
    "test_size = ds_size - train_size - val_size"
   ]
  },
  {
   "cell_type": "code",
   "execution_count": 19,
   "metadata": {
    "execution": {
     "iopub.execute_input": "2020-12-22T21:14:43.005794Z",
     "iopub.status.busy": "2020-12-22T21:14:43.005471Z",
     "iopub.status.idle": "2020-12-22T21:14:43.030127Z",
     "shell.execute_reply": "2020-12-22T21:14:43.029089Z",
     "shell.execute_reply.started": "2020-12-22T21:14:43.005755Z"
    }
   },
   "outputs": [],
   "source": [
    "train_ds, val_ds, test_ds = random_split(ds, [train_size, val_size, test_size])"
   ]
  },
  {
   "cell_type": "code",
   "execution_count": 20,
   "metadata": {
    "execution": {
     "iopub.execute_input": "2020-12-22T21:14:43.032035Z",
     "iopub.status.busy": "2020-12-22T21:14:43.031675Z",
     "iopub.status.idle": "2020-12-22T21:14:43.073319Z",
     "shell.execute_reply": "2020-12-22T21:14:43.072239Z",
     "shell.execute_reply.started": "2020-12-22T21:14:43.031991Z"
    }
   },
   "outputs": [],
   "source": [
    "batch_size = 2"
   ]
  },
  {
   "cell_type": "code",
   "execution_count": 21,
   "metadata": {
    "execution": {
     "iopub.execute_input": "2020-12-22T21:14:43.075385Z",
     "iopub.status.busy": "2020-12-22T21:14:43.075006Z",
     "iopub.status.idle": "2020-12-22T21:14:43.102512Z",
     "shell.execute_reply": "2020-12-22T21:14:43.101423Z",
     "shell.execute_reply.started": "2020-12-22T21:14:43.075338Z"
    }
   },
   "outputs": [],
   "source": [
    "train_loader = DataLoader(train_ds, batch_size, shuffle=True, pin_memory=True, num_workers=4)\n",
    "val_loader = DataLoader(val_ds, batch_size*2, pin_memory=True, num_workers=4)\n",
    "test_loader = DataLoader(test_ds, batch_size*2, pin_memory=True, num_workers=4)"
   ]
  },
  {
   "cell_type": "code",
   "execution_count": 22,
   "metadata": {
    "execution": {
     "iopub.execute_input": "2020-12-22T21:14:43.105252Z",
     "iopub.status.busy": "2020-12-22T21:14:43.104139Z",
     "iopub.status.idle": "2020-12-22T21:14:43.131199Z",
     "shell.execute_reply": "2020-12-22T21:14:43.130202Z",
     "shell.execute_reply.started": "2020-12-22T21:14:43.105203Z"
    }
   },
   "outputs": [],
   "source": [
    "# from torchvision.utils import make_grid"
   ]
  },
  {
   "cell_type": "code",
   "execution_count": 23,
   "metadata": {
    "execution": {
     "iopub.execute_input": "2020-12-22T21:14:43.133056Z",
     "iopub.status.busy": "2020-12-22T21:14:43.132699Z",
     "iopub.status.idle": "2020-12-22T21:14:43.157267Z",
     "shell.execute_reply": "2020-12-22T21:14:43.156291Z",
     "shell.execute_reply.started": "2020-12-22T21:14:43.133013Z"
    }
   },
   "outputs": [],
   "source": [
    "# for images, _ in train_loader:\n",
    "#     print('images.shape:', images.shape)\n",
    "#     print(_)\n",
    "#     plt.figure(figsize=(12,6))\n",
    "#     plt.axis('off')\n",
    "#     plt.imshow(make_grid(images, nrow=2).permute((1, 2, 0)))\n",
    "#     break"
   ]
  },
  {
   "cell_type": "markdown",
   "metadata": {},
   "source": [
    "---"
   ]
  },
  {
   "cell_type": "code",
   "execution_count": 24,
   "metadata": {
    "execution": {
     "iopub.execute_input": "2020-12-22T21:14:43.159268Z",
     "iopub.status.busy": "2020-12-22T21:14:43.158925Z",
     "iopub.status.idle": "2020-12-22T21:14:43.179776Z",
     "shell.execute_reply": "2020-12-22T21:14:43.178643Z",
     "shell.execute_reply.started": "2020-12-22T21:14:43.159226Z"
    }
   },
   "outputs": [],
   "source": [
    "def get_default_device():\n",
    "    \"\"\"Pick GPU if available, else CPU\"\"\"\n",
    "    if torch.cuda.is_available():\n",
    "        return torch.device('cuda')\n",
    "    else:\n",
    "        return torch.device('cpu')"
   ]
  },
  {
   "cell_type": "code",
   "execution_count": 25,
   "metadata": {
    "execution": {
     "iopub.execute_input": "2020-12-22T21:14:43.181987Z",
     "iopub.status.busy": "2020-12-22T21:14:43.181574Z",
     "iopub.status.idle": "2020-12-22T21:14:43.236310Z",
     "shell.execute_reply": "2020-12-22T21:14:43.235449Z",
     "shell.execute_reply.started": "2020-12-22T21:14:43.181938Z"
    }
   },
   "outputs": [
    {
     "data": {
      "text/plain": [
       "device(type='cuda')"
      ]
     },
     "execution_count": 25,
     "metadata": {},
     "output_type": "execute_result"
    }
   ],
   "source": [
    "device = get_default_device()\n",
    "device"
   ]
  },
  {
   "cell_type": "code",
   "execution_count": 26,
   "metadata": {
    "execution": {
     "iopub.execute_input": "2020-12-22T21:14:43.237998Z",
     "iopub.status.busy": "2020-12-22T21:14:43.237721Z",
     "iopub.status.idle": "2020-12-22T21:14:43.258233Z",
     "shell.execute_reply": "2020-12-22T21:14:43.257302Z",
     "shell.execute_reply.started": "2020-12-22T21:14:43.237963Z"
    }
   },
   "outputs": [],
   "source": [
    "def to_device(data, device):\n",
    "    \"\"\"Move tensor(s) to chosen device\"\"\"\n",
    "    if isinstance(data, (list,tuple)):\n",
    "        return [to_device(x, device) for x in data]\n",
    "    return data.to(device, non_blocking=True)\n",
    "\n",
    "class DeviceDataLoader():\n",
    "    \"\"\"Wrap a dataloader to move data to a device\"\"\"\n",
    "    def __init__(self, dl, device):\n",
    "        self.dl = dl\n",
    "        self.device = device\n",
    "        \n",
    "    def __iter__(self):\n",
    "        \"\"\"Yield a batch of data after moving it to device\"\"\"\n",
    "        for b in self.dl: \n",
    "            yield to_device(b, self.device)\n",
    "\n",
    "    def __len__(self):\n",
    "        \"\"\"Number of batches\"\"\"\n",
    "        return len(self.dl)"
   ]
  },
  {
   "cell_type": "code",
   "execution_count": 27,
   "metadata": {
    "execution": {
     "iopub.execute_input": "2020-12-22T21:14:43.262722Z",
     "iopub.status.busy": "2020-12-22T21:14:43.262307Z",
     "iopub.status.idle": "2020-12-22T21:14:43.279577Z",
     "shell.execute_reply": "2020-12-22T21:14:43.278572Z",
     "shell.execute_reply.started": "2020-12-22T21:14:43.262671Z"
    }
   },
   "outputs": [],
   "source": [
    "train_loader = DeviceDataLoader(train_loader, device)\n",
    "val_loader = DeviceDataLoader(val_loader, device)\n",
    "test_loader = DeviceDataLoader(test_loader, device)"
   ]
  },
  {
   "cell_type": "code",
   "execution_count": 28,
   "metadata": {
    "execution": {
     "iopub.execute_input": "2020-12-22T21:14:43.281574Z",
     "iopub.status.busy": "2020-12-22T21:14:43.281235Z",
     "iopub.status.idle": "2020-12-22T21:14:50.626948Z",
     "shell.execute_reply": "2020-12-22T21:14:50.625837Z",
     "shell.execute_reply.started": "2020-12-22T21:14:43.281532Z"
    }
   },
   "outputs": [],
   "source": [
    "model = to_device(VGG11_PT(), device)"
   ]
  },
  {
   "cell_type": "code",
   "execution_count": 29,
   "metadata": {
    "execution": {
     "iopub.execute_input": "2020-12-22T21:14:50.628875Z",
     "iopub.status.busy": "2020-12-22T21:14:50.628603Z",
     "iopub.status.idle": "2020-12-22T21:14:50.632737Z",
     "shell.execute_reply": "2020-12-22T21:14:50.632121Z",
     "shell.execute_reply.started": "2020-12-22T21:14:50.628838Z"
    }
   },
   "outputs": [],
   "source": [
    "history = []"
   ]
  },
  {
   "cell_type": "code",
   "execution_count": 30,
   "metadata": {
    "execution": {
     "iopub.execute_input": "2020-12-22T21:14:50.633966Z",
     "iopub.status.busy": "2020-12-22T21:14:50.633729Z",
     "iopub.status.idle": "2020-12-22T21:14:50.672052Z",
     "shell.execute_reply": "2020-12-22T21:14:50.671198Z",
     "shell.execute_reply.started": "2020-12-22T21:14:50.633936Z"
    },
    "scrolled": true
   },
   "outputs": [],
   "source": [
    "# history = [evaluate(model, val_loader)]\n",
    "# history"
   ]
  },
  {
   "cell_type": "code",
   "execution_count": 31,
   "metadata": {
    "execution": {
     "iopub.execute_input": "2020-12-22T21:14:50.674031Z",
     "iopub.status.busy": "2020-12-22T21:14:50.673626Z",
     "iopub.status.idle": "2020-12-22T22:18:30.844844Z",
     "shell.execute_reply": "2020-12-22T22:18:30.843689Z",
     "shell.execute_reply.started": "2020-12-22T21:14:50.673982Z"
    },
    "scrolled": true
   },
   "outputs": [
    {
     "name": "stderr",
     "output_type": "stream",
     "text": [
      "  0%|          | 0/991 [00:00<?, ?it/s]/scratch/richardso21/conda/envs/fgsegnet/lib/python3.6/site-packages/torch/nn/functional.py:1625: UserWarning: nn.functional.sigmoid is deprecated. Use torch.sigmoid instead.\n",
      "  warnings.warn(\"nn.functional.sigmoid is deprecated. Use torch.sigmoid instead.\")\n",
      "100%|██████████| 991/991 [02:59<00:00,  5.52it/s]\n",
      "  0%|          | 0/991 [00:00<?, ?it/s]"
     ]
    },
    {
     "name": "stdout",
     "output_type": "stream",
     "text": [
      "EPOCH 1          | val_loss:0.634, val_acc (threshold): (.50)0.664, (.75)0.636, (.80)0.636\n"
     ]
    },
    {
     "name": "stderr",
     "output_type": "stream",
     "text": [
      "100%|██████████| 991/991 [02:59<00:00,  5.51it/s]\n",
      "  0%|          | 0/991 [00:00<?, ?it/s]"
     ]
    },
    {
     "name": "stdout",
     "output_type": "stream",
     "text": [
      "EPOCH 2          | val_loss:0.615, val_acc (threshold): (.50)0.680, (.75)0.636, (.80)0.633\n"
     ]
    },
    {
     "name": "stderr",
     "output_type": "stream",
     "text": [
      "100%|██████████| 991/991 [03:00<00:00,  5.50it/s]\n",
      "  0%|          | 0/991 [00:00<?, ?it/s]"
     ]
    },
    {
     "name": "stdout",
     "output_type": "stream",
     "text": [
      "EPOCH 3          | val_loss:0.643, val_acc (threshold): (.50)0.638, (.75)0.633, (.80)0.633\n"
     ]
    },
    {
     "name": "stderr",
     "output_type": "stream",
     "text": [
      "100%|██████████| 991/991 [03:00<00:00,  5.48it/s]\n",
      "  0%|          | 0/991 [00:00<?, ?it/s]"
     ]
    },
    {
     "name": "stdout",
     "output_type": "stream",
     "text": [
      "EPOCH 4          | val_loss:0.448, val_acc (threshold): (.50)0.808, (.75)0.713, (.80)0.685\n"
     ]
    },
    {
     "name": "stderr",
     "output_type": "stream",
     "text": [
      "100%|██████████| 991/991 [03:01<00:00,  5.47it/s]\n",
      "  0%|          | 0/991 [00:00<?, ?it/s]"
     ]
    },
    {
     "name": "stdout",
     "output_type": "stream",
     "text": [
      "EPOCH 5          | val_loss:0.631, val_acc (threshold): (.50)0.664, (.75)0.636, (.80)0.636\n"
     ]
    },
    {
     "name": "stderr",
     "output_type": "stream",
     "text": [
      "100%|██████████| 991/991 [03:00<00:00,  5.50it/s]\n",
      "  0%|          | 0/991 [00:00<?, ?it/s]"
     ]
    },
    {
     "name": "stdout",
     "output_type": "stream",
     "text": [
      "EPOCH 6          | val_loss:0.601, val_acc (threshold): (.50)0.685, (.75)0.636, (.80)0.636\n"
     ]
    },
    {
     "name": "stderr",
     "output_type": "stream",
     "text": [
      "100%|██████████| 991/991 [03:00<00:00,  5.50it/s]\n",
      "  0%|          | 0/991 [00:00<?, ?it/s]"
     ]
    },
    {
     "name": "stdout",
     "output_type": "stream",
     "text": [
      "EPOCH 7          | val_loss:0.371, val_acc (threshold): (.50)0.874, (.75)0.836, (.80)0.792\n"
     ]
    },
    {
     "name": "stderr",
     "output_type": "stream",
     "text": [
      "100%|██████████| 991/991 [03:00<00:00,  5.50it/s]\n",
      "  0%|          | 0/991 [00:00<?, ?it/s]"
     ]
    },
    {
     "name": "stdout",
     "output_type": "stream",
     "text": [
      "EPOCH 8          | val_loss:0.412, val_acc (threshold): (.50)0.839, (.75)0.773, (.80)0.759\n"
     ]
    },
    {
     "name": "stderr",
     "output_type": "stream",
     "text": [
      "100%|██████████| 991/991 [03:00<00:00,  5.49it/s]\n",
      "  0%|          | 0/991 [00:00<?, ?it/s]"
     ]
    },
    {
     "name": "stdout",
     "output_type": "stream",
     "text": [
      "EPOCH 9          | val_loss:0.641, val_acc (threshold): (.50)0.650, (.75)0.631, (.80)0.636\n"
     ]
    },
    {
     "name": "stderr",
     "output_type": "stream",
     "text": [
      "100%|██████████| 991/991 [03:00<00:00,  5.48it/s]\n",
      "  0%|          | 0/991 [00:00<?, ?it/s]"
     ]
    },
    {
     "name": "stdout",
     "output_type": "stream",
     "text": [
      "EPOCH 10         | val_loss:0.550, val_acc (threshold): (.50)0.748, (.75)0.685, (.80)0.678\n"
     ]
    },
    {
     "name": "stderr",
     "output_type": "stream",
     "text": [
      "100%|██████████| 991/991 [02:59<00:00,  5.52it/s]\n",
      "  0%|          | 0/991 [00:00<?, ?it/s]"
     ]
    },
    {
     "name": "stdout",
     "output_type": "stream",
     "text": [
      "EPOCH 11         | val_loss:0.466, val_acc (threshold): (.50)0.836, (.75)0.715, (.80)0.692\n"
     ]
    },
    {
     "name": "stderr",
     "output_type": "stream",
     "text": [
      "100%|██████████| 991/991 [02:45<00:00,  5.97it/s]\n",
      "  0%|          | 0/991 [00:00<?, ?it/s]"
     ]
    },
    {
     "name": "stdout",
     "output_type": "stream",
     "text": [
      "EPOCH 12         | val_loss:0.470, val_acc (threshold): (.50)0.836, (.75)0.759, (.80)0.748\n"
     ]
    },
    {
     "name": "stderr",
     "output_type": "stream",
     "text": [
      "100%|██████████| 991/991 [02:57<00:00,  5.58it/s]\n",
      "  0%|          | 0/991 [00:00<?, ?it/s]"
     ]
    },
    {
     "name": "stdout",
     "output_type": "stream",
     "text": [
      "EPOCH 13         | val_loss:0.560, val_acc (threshold): (.50)0.741, (.75)0.769, (.80)0.743\n"
     ]
    },
    {
     "name": "stderr",
     "output_type": "stream",
     "text": [
      "100%|██████████| 991/991 [02:59<00:00,  5.52it/s]\n",
      "  0%|          | 0/991 [00:00<?, ?it/s]"
     ]
    },
    {
     "name": "stdout",
     "output_type": "stream",
     "text": [
      "EPOCH 14         | val_loss:0.479, val_acc (threshold): (.50)0.804, (.75)0.773, (.80)0.738\n"
     ]
    },
    {
     "name": "stderr",
     "output_type": "stream",
     "text": [
      "100%|██████████| 991/991 [03:01<00:00,  5.47it/s]\n",
      "  0%|          | 0/991 [00:00<?, ?it/s]"
     ]
    },
    {
     "name": "stdout",
     "output_type": "stream",
     "text": [
      "EPOCH 15         | val_loss:0.465, val_acc (threshold): (.50)0.808, (.75)0.785, (.80)0.764\n"
     ]
    },
    {
     "name": "stderr",
     "output_type": "stream",
     "text": [
      "100%|██████████| 991/991 [03:00<00:00,  5.50it/s]\n",
      "  0%|          | 0/991 [00:00<?, ?it/s]"
     ]
    },
    {
     "name": "stdout",
     "output_type": "stream",
     "text": [
      "EPOCH 16         | val_loss:0.526, val_acc (threshold): (.50)0.748, (.75)0.706, (.80)0.703\n"
     ]
    },
    {
     "name": "stderr",
     "output_type": "stream",
     "text": [
      "100%|██████████| 991/991 [03:01<00:00,  5.47it/s]\n",
      "  0%|          | 0/991 [00:00<?, ?it/s]"
     ]
    },
    {
     "name": "stdout",
     "output_type": "stream",
     "text": [
      "EPOCH 17         | val_loss:0.501, val_acc (threshold): (.50)0.794, (.75)0.741, (.80)0.722\n"
     ]
    },
    {
     "name": "stderr",
     "output_type": "stream",
     "text": [
      "100%|██████████| 991/991 [03:01<00:00,  5.47it/s]\n",
      "  0%|          | 0/991 [00:00<?, ?it/s]"
     ]
    },
    {
     "name": "stdout",
     "output_type": "stream",
     "text": [
      "EPOCH 18         | val_loss:0.592, val_acc (threshold): (.50)0.708, (.75)0.680, (.80)0.673\n"
     ]
    },
    {
     "name": "stderr",
     "output_type": "stream",
     "text": [
      "100%|██████████| 991/991 [03:01<00:00,  5.46it/s]\n",
      "  0%|          | 0/991 [00:00<?, ?it/s]"
     ]
    },
    {
     "name": "stdout",
     "output_type": "stream",
     "text": [
      "EPOCH 19         | val_loss:0.586, val_acc (threshold): (.50)0.722, (.75)0.685, (.80)0.673\n"
     ]
    },
    {
     "name": "stderr",
     "output_type": "stream",
     "text": [
      "100%|██████████| 991/991 [03:01<00:00,  5.45it/s]\n"
     ]
    },
    {
     "name": "stdout",
     "output_type": "stream",
     "text": [
      "EPOCH 20         | val_loss:0.951, val_acc (threshold): (.50)0.843, (.75)0.829, (.80)0.801\n"
     ]
    }
   ],
   "source": [
    "history += fit(20, 1e-5, model, train_loader, val_loader)"
   ]
  },
  {
   "cell_type": "code",
   "execution_count": 32,
   "metadata": {
    "execution": {
     "iopub.execute_input": "2020-12-22T22:18:30.847258Z",
     "iopub.status.busy": "2020-12-22T22:18:30.846943Z",
     "iopub.status.idle": "2020-12-22T22:18:30.851479Z",
     "shell.execute_reply": "2020-12-22T22:18:30.850746Z",
     "shell.execute_reply.started": "2020-12-22T22:18:30.847215Z"
    }
   },
   "outputs": [],
   "source": [
    "# torch.cuda.empty_cache()"
   ]
  },
  {
   "cell_type": "code",
   "execution_count": 33,
   "metadata": {
    "execution": {
     "iopub.execute_input": "2020-12-22T22:24:13.154219Z",
     "iopub.status.busy": "2020-12-22T22:24:13.153705Z",
     "iopub.status.idle": "2020-12-22T22:24:15.658093Z",
     "shell.execute_reply": "2020-12-22T22:24:15.656954Z",
     "shell.execute_reply.started": "2020-12-22T22:24:13.154163Z"
    }
   },
   "outputs": [],
   "source": [
    "torch.save(model.state_dict(), '/scratch/richardso21/20-21_BGSUB/prescenceCNN.pth')"
   ]
  },
  {
   "cell_type": "code",
   "execution_count": 34,
   "metadata": {
    "execution": {
     "iopub.execute_input": "2020-12-22T22:25:24.027677Z",
     "iopub.status.busy": "2020-12-22T22:25:24.027173Z",
     "iopub.status.idle": "2020-12-22T22:57:19.168242Z",
     "shell.execute_reply": "2020-12-22T22:57:19.166968Z",
     "shell.execute_reply.started": "2020-12-22T22:25:24.027617Z"
    }
   },
   "outputs": [
    {
     "name": "stderr",
     "output_type": "stream",
     "text": [
      "  0%|          | 0/991 [00:00<?, ?it/s]/scratch/richardso21/conda/envs/fgsegnet/lib/python3.6/site-packages/torch/nn/functional.py:1625: UserWarning: nn.functional.sigmoid is deprecated. Use torch.sigmoid instead.\n",
      "  warnings.warn(\"nn.functional.sigmoid is deprecated. Use torch.sigmoid instead.\")\n",
      "100%|██████████| 991/991 [02:56<00:00,  5.62it/s]\n",
      "  0%|          | 0/991 [00:00<?, ?it/s]"
     ]
    },
    {
     "name": "stdout",
     "output_type": "stream",
     "text": [
      "EPOCH 1          | val_loss:0.926, val_acc (threshold): (.50)0.808, (.75)0.762, (.80)0.741\n"
     ]
    },
    {
     "name": "stderr",
     "output_type": "stream",
     "text": [
      "100%|██████████| 991/991 [03:00<00:00,  5.49it/s]\n",
      "  0%|          | 0/991 [00:00<?, ?it/s]"
     ]
    },
    {
     "name": "stdout",
     "output_type": "stream",
     "text": [
      "EPOCH 2          | val_loss:0.645, val_acc (threshold): (.50)0.685, (.75)0.631, (.80)0.631\n"
     ]
    },
    {
     "name": "stderr",
     "output_type": "stream",
     "text": [
      "100%|██████████| 991/991 [03:00<00:00,  5.50it/s]\n",
      "  0%|          | 0/991 [00:00<?, ?it/s]"
     ]
    },
    {
     "name": "stdout",
     "output_type": "stream",
     "text": [
      "EPOCH 3          | val_loss:0.622, val_acc (threshold): (.50)0.867, (.75)0.825, (.80)0.794\n"
     ]
    },
    {
     "name": "stderr",
     "output_type": "stream",
     "text": [
      "100%|██████████| 991/991 [02:59<00:00,  5.52it/s]\n",
      "  0%|          | 0/991 [00:00<?, ?it/s]"
     ]
    },
    {
     "name": "stdout",
     "output_type": "stream",
     "text": [
      "EPOCH 4          | val_loss:0.607, val_acc (threshold): (.50)0.699, (.75)0.675, (.80)0.671\n"
     ]
    },
    {
     "name": "stderr",
     "output_type": "stream",
     "text": [
      "100%|██████████| 991/991 [03:00<00:00,  5.49it/s]\n",
      "  0%|          | 0/991 [00:00<?, ?it/s]"
     ]
    },
    {
     "name": "stdout",
     "output_type": "stream",
     "text": [
      "EPOCH 5          | val_loss:0.475, val_acc (threshold): (.50)0.797, (.75)0.745, (.80)0.729\n"
     ]
    },
    {
     "name": "stderr",
     "output_type": "stream",
     "text": [
      "100%|██████████| 991/991 [03:02<00:00,  5.44it/s]\n",
      "  0%|          | 0/991 [00:00<?, ?it/s]"
     ]
    },
    {
     "name": "stdout",
     "output_type": "stream",
     "text": [
      "EPOCH 6          | val_loss:0.627, val_acc (threshold): (.50)0.876, (.75)0.850, (.80)0.839\n"
     ]
    },
    {
     "name": "stderr",
     "output_type": "stream",
     "text": [
      "100%|██████████| 991/991 [03:00<00:00,  5.49it/s]\n",
      "  0%|          | 0/991 [00:00<?, ?it/s]"
     ]
    },
    {
     "name": "stdout",
     "output_type": "stream",
     "text": [
      "EPOCH 7          | val_loss:0.588, val_acc (threshold): (.50)0.706, (.75)0.678, (.80)0.668\n"
     ]
    },
    {
     "name": "stderr",
     "output_type": "stream",
     "text": [
      "100%|██████████| 991/991 [03:00<00:00,  5.48it/s]\n",
      "  0%|          | 0/991 [00:00<?, ?it/s]"
     ]
    },
    {
     "name": "stdout",
     "output_type": "stream",
     "text": [
      "EPOCH 8          | val_loss:0.637, val_acc (threshold): (.50)0.848, (.75)0.829, (.80)0.804\n"
     ]
    },
    {
     "name": "stderr",
     "output_type": "stream",
     "text": [
      "100%|██████████| 991/991 [03:00<00:00,  5.48it/s]\n",
      "  0%|          | 0/991 [00:00<?, ?it/s]"
     ]
    },
    {
     "name": "stdout",
     "output_type": "stream",
     "text": [
      "EPOCH 9          | val_loss:0.576, val_acc (threshold): (.50)0.734, (.75)0.694, (.80)0.678\n"
     ]
    },
    {
     "name": "stderr",
     "output_type": "stream",
     "text": [
      "100%|██████████| 991/991 [03:00<00:00,  5.50it/s]\n"
     ]
    },
    {
     "name": "stdout",
     "output_type": "stream",
     "text": [
      "EPOCH 10         | val_loss:0.593, val_acc (threshold): (.50)0.703, (.75)0.692, (.80)0.675\n"
     ]
    }
   ],
   "source": [
    "history += fit(10, 1e-6, model, train_loader, val_loader)"
   ]
  },
  {
   "cell_type": "code",
   "execution_count": 35,
   "metadata": {
    "execution": {
     "iopub.execute_input": "2020-12-22T22:59:18.889689Z",
     "iopub.status.busy": "2020-12-22T22:59:18.889179Z",
     "iopub.status.idle": "2020-12-22T23:15:14.784356Z",
     "shell.execute_reply": "2020-12-22T23:15:14.783314Z",
     "shell.execute_reply.started": "2020-12-22T22:59:18.889624Z"
    }
   },
   "outputs": [
    {
     "name": "stderr",
     "output_type": "stream",
     "text": [
      "100%|██████████| 991/991 [02:57<00:00,  5.57it/s]\n",
      "  0%|          | 0/991 [00:00<?, ?it/s]"
     ]
    },
    {
     "name": "stdout",
     "output_type": "stream",
     "text": [
      "EPOCH 1          | val_loss:0.600, val_acc (threshold): (.50)0.696, (.75)0.671, (.80)0.668\n"
     ]
    },
    {
     "name": "stderr",
     "output_type": "stream",
     "text": [
      "100%|██████████| 991/991 [02:59<00:00,  5.53it/s]\n",
      "  0%|          | 0/991 [00:00<?, ?it/s]"
     ]
    },
    {
     "name": "stdout",
     "output_type": "stream",
     "text": [
      "EPOCH 2          | val_loss:0.561, val_acc (threshold): (.50)0.734, (.75)0.706, (.80)0.694\n"
     ]
    },
    {
     "name": "stderr",
     "output_type": "stream",
     "text": [
      "100%|██████████| 991/991 [03:00<00:00,  5.50it/s]\n",
      "  0%|          | 0/991 [00:00<?, ?it/s]"
     ]
    },
    {
     "name": "stdout",
     "output_type": "stream",
     "text": [
      "EPOCH 3          | val_loss:0.680, val_acc (threshold): (.50)0.787, (.75)0.778, (.80)0.745\n"
     ]
    },
    {
     "name": "stderr",
     "output_type": "stream",
     "text": [
      "100%|██████████| 991/991 [03:00<00:00,  5.48it/s]\n",
      "  0%|          | 0/991 [00:00<?, ?it/s]"
     ]
    },
    {
     "name": "stdout",
     "output_type": "stream",
     "text": [
      "EPOCH 4          | val_loss:0.618, val_acc (threshold): (.50)0.692, (.75)0.645, (.80)0.638\n"
     ]
    },
    {
     "name": "stderr",
     "output_type": "stream",
     "text": [
      "100%|██████████| 991/991 [03:00<00:00,  5.50it/s]\n"
     ]
    },
    {
     "name": "stdout",
     "output_type": "stream",
     "text": [
      "EPOCH 5          | val_loss:0.561, val_acc (threshold): (.50)0.743, (.75)0.706, (.80)0.687\n"
     ]
    }
   ],
   "source": [
    "history += fit(5, 1e-7, model, train_loader, val_loader)"
   ]
  },
  {
   "cell_type": "code",
   "execution_count": 36,
   "metadata": {
    "execution": {
     "iopub.execute_input": "2020-12-22T23:17:38.913026Z",
     "iopub.status.busy": "2020-12-22T23:17:38.912455Z",
     "iopub.status.idle": "2020-12-22T23:17:38.969568Z",
     "shell.execute_reply": "2020-12-22T23:17:38.968297Z",
     "shell.execute_reply.started": "2020-12-22T23:17:38.912920Z"
    }
   },
   "outputs": [],
   "source": [
    "torch.cuda.empty_cache()"
   ]
  },
  {
   "cell_type": "markdown",
   "metadata": {},
   "source": [
    "---"
   ]
  },
  {
   "cell_type": "code",
   "execution_count": 38,
   "metadata": {
    "execution": {
     "iopub.execute_input": "2020-12-22T23:18:40.612141Z",
     "iopub.status.busy": "2020-12-22T23:18:40.611785Z",
     "iopub.status.idle": "2020-12-22T23:18:40.635794Z",
     "shell.execute_reply": "2020-12-22T23:18:40.634826Z",
     "shell.execute_reply.started": "2020-12-22T23:18:40.612101Z"
    }
   },
   "outputs": [
    {
     "data": {
      "text/plain": [
       "[{'avg_loss': tensor(0.6344, device='cuda:0'),\n",
       "  'avg_acc': [tensor(0.6636), tensor(0.6355), tensor(0.6355)]},\n",
       " {'avg_loss': tensor(0.6152, device='cuda:0'),\n",
       "  'avg_acc': [tensor(0.6799), tensor(0.6355), tensor(0.6332)]}]"
      ]
     },
     "execution_count": 38,
     "metadata": {},
     "output_type": "execute_result"
    }
   ],
   "source": [
    "history[:2]"
   ]
  },
  {
   "cell_type": "code",
   "execution_count": 39,
   "metadata": {
    "execution": {
     "iopub.execute_input": "2020-12-22T23:19:47.498198Z",
     "iopub.status.busy": "2020-12-22T23:19:47.497707Z",
     "iopub.status.idle": "2020-12-22T23:19:47.841118Z",
     "shell.execute_reply": "2020-12-22T23:19:47.839999Z",
     "shell.execute_reply.started": "2020-12-22T23:19:47.498143Z"
    }
   },
   "outputs": [
    {
     "data": {
      "image/png": "[encoded data removed]",
      "text/plain": [
       "<Figure size 432x288 with 1 Axes>"
      ]
     },
     "metadata": {
      "needs_background": "light"
     },
     "output_type": "display_data"
    }
   ],
   "source": [
    "plt.plot([x['avg_loss'] for x in history])\n",
    "plt.title('Avg Training Loss over epochs')\n",
    "plt.ylabel('loss')\n",
    "plt.xlabel('# epoch')\n",
    "plt.show()"
   ]
  },
  {
   "cell_type": "code",
   "execution_count": 42,
   "metadata": {
    "execution": {
     "iopub.execute_input": "2020-12-22T23:21:39.959880Z",
     "iopub.status.busy": "2020-12-22T23:21:39.959398Z",
     "iopub.status.idle": "2020-12-22T23:21:40.246063Z",
     "shell.execute_reply": "2020-12-22T23:21:40.245125Z",
     "shell.execute_reply.started": "2020-12-22T23:21:39.959820Z"
    }
   },
   "outputs": [
    {
     "data": {
      "image/png": "[encoded data removed]",
      "text/plain": [
       "<Figure size 432x288 with 1 Axes>"
      ]
     },
     "metadata": {
      "needs_background": "light"
     },
     "output_type": "display_data"
    }
   ],
   "source": [
    "plt.plot([x['avg_acc'][0] for x in history])\n",
    "plt.title('Avg Validation Accuracy over epochs')\n",
    "plt.ylabel('accuracy')\n",
    "plt.xlabel('# epoch')\n",
    "plt.show()"
   ]
  },
  {
   "cell_type": "code",
   "execution_count": null,
   "metadata": {},
   "outputs": [],
   "source": []
  }
 ],
 "metadata": {
  "kernelspec": {
   "display_name": "Python 3",
   "language": "python",
   "name": "python3"
  },
  "language_info": {
   "codemirror_mode": {
    "name": "ipython",
    "version": 3
   },
   "file_extension": ".py",
   "mimetype": "text/x-python",
   "name": "python",
   "nbconvert_exporter": "python",
   "pygments_lexer": "ipython3",
   "version": "3.6.10"
  }
 },
 "nbformat": 4,
 "nbformat_minor": 4
}
