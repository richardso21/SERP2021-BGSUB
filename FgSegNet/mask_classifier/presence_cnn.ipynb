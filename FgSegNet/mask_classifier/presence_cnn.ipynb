{
 "cells": [
  {
   "cell_type": "code",
   "execution_count": 1,
   "metadata": {
    "execution": {
     "iopub.execute_input": "2021-01-03T00:49:09.691514Z",
     "iopub.status.busy": "2021-01-03T00:49:09.691091Z",
     "iopub.status.idle": "2021-01-03T00:49:11.177044Z",
     "shell.execute_reply": "2021-01-03T00:49:11.175922Z",
     "shell.execute_reply.started": "2021-01-03T00:49:09.691457Z"
    }
   },
   "outputs": [],
   "source": [
    "import h5py, os, torch\n",
    "from pathlib import Path\n",
    "import torch.nn as nn\n",
    "import torch.nn.functional as F\n",
    "from torch.utils.data import random_split, DataLoader, Dataset\n",
    "import torchvision\n",
    "import numpy as np\n",
    "import pandas as pd\n",
    "import matplotlib.pyplot as plt\n",
    "from tqdm import tqdm"
   ]
  },
  {
   "cell_type": "code",
   "execution_count": 2,
   "metadata": {
    "execution": {
     "iopub.execute_input": "2021-01-03T00:49:11.179074Z",
     "iopub.status.busy": "2021-01-03T00:49:11.178775Z",
     "iopub.status.idle": "2021-01-03T00:49:11.183313Z",
     "shell.execute_reply": "2021-01-03T00:49:11.182397Z",
     "shell.execute_reply.started": "2021-01-03T00:49:11.179035Z"
    }
   },
   "outputs": [],
   "source": [
    "os.environ[\"CUDA_VISIBLE_DEVICES\"] = '1'"
   ]
  },
  {
   "cell_type": "markdown",
   "metadata": {},
   "source": [
    "## Outline\n",
    " - Generate a specific model for each scene\n",
    "     - Each location: 1600 images w/o presence, 800 imags w/ presence\n",
    " - Create Dataloader\n",
    "     - 80-20 split for training/testing (validation?)\n",
    "     - Each img (input size): 1024 x 720 px\n",
    " - Model Architecture\n",
    "     - Modified VGG16?\n",
    "     - Custom CNN architecture?\n",
    "     - Concatenate pixel values and put in logistic regression?"
   ]
  },
  {
   "cell_type": "markdown",
   "metadata": {},
   "source": [
    "---"
   ]
  },
  {
   "cell_type": "markdown",
   "metadata": {},
   "source": [
    "## Model Base/Helpers/Train & Test functions"
   ]
  },
  {
   "cell_type": "code",
   "execution_count": 3,
   "metadata": {
    "execution": {
     "iopub.execute_input": "2021-01-03T00:49:11.185413Z",
     "iopub.status.busy": "2021-01-03T00:49:11.185132Z",
     "iopub.status.idle": "2021-01-03T00:49:11.241650Z",
     "shell.execute_reply": "2021-01-03T00:49:11.240531Z",
     "shell.execute_reply.started": "2021-01-03T00:49:11.185378Z"
    }
   },
   "outputs": [],
   "source": [
    "def accuracy(outs, labels):\n",
    "    # check accuracy for threshold @ 0.7\n",
    "    outs_th = outs >= 0.7\n",
    "        # append onto result dictionary to be returned to function that called `accuracy()`\n",
    "    return torch.tensor(torch.sum(outs_th == labels).item() / len(outs))"
   ]
  },
  {
   "cell_type": "code",
   "execution_count": 4,
   "metadata": {
    "execution": {
     "iopub.execute_input": "2021-01-03T00:49:11.244245Z",
     "iopub.status.busy": "2021-01-03T00:49:11.243842Z",
     "iopub.status.idle": "2021-01-03T00:49:11.265781Z",
     "shell.execute_reply": "2021-01-03T00:49:11.264659Z",
     "shell.execute_reply.started": "2021-01-03T00:49:11.244195Z"
    }
   },
   "outputs": [],
   "source": [
    "class ModelBase(nn.Module):\n",
    "#     training step\n",
    "    def train_step(self, batch):\n",
    "        xb, labels = batch\n",
    "        labels = labels.view(-1, 1)\n",
    "        outs = self(xb)\n",
    "        loss = F.binary_cross_entropy(outs, labels)\n",
    "        return loss\n",
    "#     validation step\n",
    "    def val_step(self, batch):\n",
    "        xb, labels = batch\n",
    "        labels = labels.view(-1, 1)\n",
    "        outs = self(xb)\n",
    "        loss = F.binary_cross_entropy(outs, labels)\n",
    "        acc = accuracy(outs, labels)\n",
    "        return {'loss': loss.detach(), 'acc': acc}\n",
    "#     validation epoch (avg accuracies and losses)\n",
    "    def val_epoch_end(self, outputs):\n",
    "#         for i in range(10):\n",
    "#             print(outputs[i])\n",
    "        batch_loss = [x['loss'] for x in outputs]\n",
    "        avg_loss = torch.stack(batch_loss).mean()\n",
    "        batch_acc = [x['acc'] for x in outputs]\n",
    "        avg_acc = torch.stack(batch_acc).mean()\n",
    "        return {'avg_loss': avg_loss, 'avg_acc': avg_acc}\n",
    "#     print everything important\n",
    "    def epoch_end(self, epoch, avgs, test=False):\n",
    "        s = 'test' if test else 'val'\n",
    "        print(f'EPOCH {epoch + 1:<10} | {s}_loss:{avgs[\"avg_loss\"]:.3f}, {s}_acc (0.7 thr): {avgs[\"avg_acc\"]:.3f}')"
   ]
  },
  {
   "cell_type": "code",
   "execution_count": 5,
   "metadata": {
    "execution": {
     "iopub.execute_input": "2021-01-03T00:49:11.267919Z",
     "iopub.status.busy": "2021-01-03T00:49:11.267538Z",
     "iopub.status.idle": "2021-01-03T00:49:11.292734Z",
     "shell.execute_reply": "2021-01-03T00:49:11.291603Z",
     "shell.execute_reply.started": "2021-01-03T00:49:11.267870Z"
    }
   },
   "outputs": [],
   "source": [
    "@torch.no_grad()\n",
    "def evaluate(model, val_dl):\n",
    "    # eval mode\n",
    "    model.eval()\n",
    "    outputs = [model.val_step(batch) for batch in val_dl]\n",
    "    return model.val_epoch_end(outputs)\n",
    "\n",
    "\n",
    "def fit(epochs, lr, model, train_dl, val_dl, opt_func=torch.optim.Adam):\n",
    "    torch.cuda.empty_cache()\n",
    "    history = []\n",
    "    # define optimizer\n",
    "    optimizer = opt_func(model.parameters(), lr)\n",
    "    # for each epoch...\n",
    "    for epoch in range(epochs):\n",
    "        # training mode\n",
    "        model.train()\n",
    "        # (training) for each batch in train_dl...\n",
    "        for batch in tqdm(train_dl):\n",
    "            # pass thru model\n",
    "            loss = model.train_step(batch)\n",
    "            # perform gradient descent\n",
    "            loss.backward()\n",
    "            optimizer.step()\n",
    "            optimizer.zero_grad()\n",
    "        # validation\n",
    "        res = evaluate(model, val_dl)\n",
    "        # print everything useful\n",
    "        model.epoch_end(epoch, res, test=False)\n",
    "        # append to history\n",
    "        history.append(res)\n",
    "    return history"
   ]
  },
  {
   "cell_type": "markdown",
   "metadata": {},
   "source": [
    "---"
   ]
  },
  {
   "cell_type": "markdown",
   "metadata": {},
   "source": [
    "## Models"
   ]
  },
  {
   "cell_type": "code",
   "execution_count": 6,
   "metadata": {
    "execution": {
     "iopub.execute_input": "2021-01-03T00:49:11.294718Z",
     "iopub.status.busy": "2021-01-03T00:49:11.294356Z",
     "iopub.status.idle": "2021-01-03T00:49:11.314839Z",
     "shell.execute_reply": "2021-01-03T00:49:11.313656Z",
     "shell.execute_reply.started": "2021-01-03T00:49:11.294673Z"
    }
   },
   "outputs": [],
   "source": [
    "class VGG11_PT(ModelBase):\n",
    "    def __init__(self):\n",
    "        super().__init__()\n",
    "#         pretrained VGG16 model w/ batch norm\n",
    "        self.network = torchvision.models.vgg11_bn(pretrained=True)\n",
    "#         change first layer to accept only 1 dimension of color (b/w)\n",
    "        self.network.features[0] = nn.Conv2d(1, 64, kernel_size=3, stride=1, padding=1)\n",
    "#         change last fc layer to output one value\n",
    "        self.network.classifier[6] = nn.Linear(4096, 1, bias=True)\n",
    "        \n",
    "    def forward(self, xb):\n",
    "        out = self.network(xb)\n",
    "        out = F.sigmoid(out)\n",
    "        return out"
   ]
  },
  {
   "cell_type": "code",
   "execution_count": 7,
   "metadata": {
    "execution": {
     "iopub.execute_input": "2021-01-03T00:49:11.317123Z",
     "iopub.status.busy": "2021-01-03T00:49:11.316725Z",
     "iopub.status.idle": "2021-01-03T00:49:11.344435Z",
     "shell.execute_reply": "2021-01-03T00:49:11.343225Z",
     "shell.execute_reply.started": "2021-01-03T00:49:11.317074Z"
    }
   },
   "outputs": [],
   "source": [
    "class Custom_PT(ModelBase):\n",
    "    def __init__(self):\n",
    "        super().__init__()                                       # 1 x 1024 x 720\n",
    "#         custom-defined model w/o pretrained weights\n",
    "        self.conv1 = nn.Conv2d(1, 8, kernel_size=3, padding=1)   # 8 x 1024 x 720\n",
    "        self.bn1 = nn.BatchNorm2d(8)\n",
    "        self.conv2 = nn.Conv2d(8, 16, kernel_size=3, padding=1)  # 16 x 1024 x 720\n",
    "        self.bn2 = nn.BatchNorm2d(16)\n",
    "        self.pool1 = nn.MaxPool2d(2)                             # 16 x 512 x 360\n",
    "        self.conv3 = nn.Conv2d(16, 16, kernel_size=3, padding=1) # 16 x 512 x 360\n",
    "        self.bn3 = nn.BatchNorm2d(16)\n",
    "        self.pool2 = nn.MaxPool2d(2)                             # 16 x 256 x 180\n",
    "        self.conv4 = nn.Conv2d(16, 8, kernel_size=3, padding=1)  # 8 x 256 x 180\n",
    "        self.bn4 = nn.BatchNorm2d(8)\n",
    "        self.pool3 = nn.MaxPool2d(2)                             # 8 x 128 x 90\n",
    "        self.fc1 = nn.Linear(8*128*90, 2048)\n",
    "        self.fc2 = nn.Linear(2048, 256)\n",
    "        self.fc3 = nn.Linear(256, 1)\n",
    "        \n",
    "    def forward(self, xb):\n",
    "        out = F.relu(self.bn1(self.conv1(xb)))\n",
    "        out = F.relu(self.bn2(self.conv2(out)))\n",
    "        out = self.pool1(out)\n",
    "        out = F.relu(self.bn3(self.conv3(out)))\n",
    "        out = self.pool2(out)\n",
    "        out = F.relu(self.bn4(self.conv4(out)))\n",
    "        out = self.pool3(out)\n",
    "\n",
    "        out = torch.flatten(out, 1)\n",
    "        out = F.relu(self.fc1(out))\n",
    "        out = F.relu(self.fc2(out))\n",
    "        out = self.fc3(out)\n",
    "        out = F.sigmoid(out)\n",
    "        return out"
   ]
  },
  {
   "cell_type": "markdown",
   "metadata": {},
   "source": [
    "---"
   ]
  },
  {
   "cell_type": "markdown",
   "metadata": {},
   "source": [
    "## DataSet & DataLoader"
   ]
  },
  {
   "cell_type": "code",
   "execution_count": 8,
   "metadata": {
    "execution": {
     "iopub.execute_input": "2021-01-03T00:49:11.346767Z",
     "iopub.status.busy": "2021-01-03T00:49:11.346353Z",
     "iopub.status.idle": "2021-01-03T00:49:11.377081Z",
     "shell.execute_reply": "2021-01-03T00:49:11.375992Z",
     "shell.execute_reply.started": "2021-01-03T00:49:11.346714Z"
    }
   },
   "outputs": [],
   "source": [
    "class Prudhoe_DS(Dataset):\n",
    "    def __init__(self, npy_pth, transforms=None):\n",
    "        self.transforms = transforms\n",
    "        self.npy_pth = npy_pth\n",
    "        self.masks_loc = []\n",
    "        self.labels = []\n",
    "        \n",
    "        for typ in ['pos', 'neg']:\n",
    "            for fn in os.listdir(os.path.join(self.npy_pth, typ)):\n",
    "                \n",
    "                full_fn = os.path.join(self.npy_pth, typ, fn)\n",
    "                self.masks_loc.append(full_fn)\n",
    "#                 masks.append(np.load(full_fn))\n",
    "                \n",
    "                label = 1 if typ == 'pos' else 0\n",
    "                self.labels.append(label)\n",
    "        \n",
    "        self.masks_loc = np.array(self.masks_loc)\n",
    "        self.labels = np.array(self.labels).astype('float32')\n",
    "        \n",
    "    def __len__(self):\n",
    "        return len(self.labels)\n",
    "    \n",
    "    def __getitem__(self, idx):\n",
    "        mask = np.expand_dims(np.load(self.masks_loc[idx]), axis=0).astype('float32')\n",
    "        label = self.labels[idx]\n",
    "        \n",
    "        if self.transforms:\n",
    "            mask = self.transforms()(mask)\n",
    "        \n",
    "        return mask, label"
   ]
  },
  {
   "cell_type": "markdown",
   "metadata": {},
   "source": [
    "---"
   ]
  },
  {
   "cell_type": "code",
   "execution_count": 9,
   "metadata": {
    "execution": {
     "iopub.execute_input": "2021-01-03T00:49:11.381507Z",
     "iopub.status.busy": "2021-01-03T00:49:11.381082Z",
     "iopub.status.idle": "2021-01-03T00:49:11.406582Z",
     "shell.execute_reply": "2021-01-03T00:49:11.405542Z",
     "shell.execute_reply.started": "2021-01-03T00:49:11.381453Z"
    }
   },
   "outputs": [
    {
     "data": {
      "text/plain": [
       "<torch._C.Generator at 0x7f06040a9d80>"
      ]
     },
     "execution_count": 9,
     "metadata": {},
     "output_type": "execute_result"
    }
   ],
   "source": [
    "torch.manual_seed(42)"
   ]
  },
  {
   "cell_type": "code",
   "execution_count": 10,
   "metadata": {
    "execution": {
     "iopub.execute_input": "2021-01-03T00:49:11.409431Z",
     "iopub.status.busy": "2021-01-03T00:49:11.409033Z",
     "iopub.status.idle": "2021-01-03T00:49:11.425279Z",
     "shell.execute_reply": "2021-01-03T00:49:11.424224Z",
     "shell.execute_reply.started": "2021-01-03T00:49:11.409380Z"
    }
   },
   "outputs": [],
   "source": [
    "PTH = '/scratch/richardso21/20-21_BGSUB/'\n",
    "site = 'prudhoe_12'"
   ]
  },
  {
   "cell_type": "code",
   "execution_count": 11,
   "metadata": {
    "execution": {
     "iopub.execute_input": "2021-01-03T00:49:11.427256Z",
     "iopub.status.busy": "2021-01-03T00:49:11.426895Z",
     "iopub.status.idle": "2021-01-03T00:49:11.450370Z",
     "shell.execute_reply": "2021-01-03T00:49:11.449322Z",
     "shell.execute_reply.started": "2021-01-03T00:49:11.427211Z"
    }
   },
   "outputs": [],
   "source": [
    "npy_pth = os.path.join(PTH, 'FgSegNet_O_neg', site)"
   ]
  },
  {
   "cell_type": "code",
   "execution_count": 12,
   "metadata": {
    "execution": {
     "iopub.execute_input": "2021-01-03T00:49:11.452376Z",
     "iopub.status.busy": "2021-01-03T00:49:11.451985Z",
     "iopub.status.idle": "2021-01-03T00:49:11.493441Z",
     "shell.execute_reply": "2021-01-03T00:49:11.492466Z",
     "shell.execute_reply.started": "2021-01-03T00:49:11.452327Z"
    }
   },
   "outputs": [],
   "source": [
    "ds = Prudhoe_DS(npy_pth)\n",
    "ds_size = len(ds)"
   ]
  },
  {
   "cell_type": "code",
   "execution_count": 13,
   "metadata": {
    "execution": {
     "iopub.execute_input": "2021-01-03T00:49:11.495301Z",
     "iopub.status.busy": "2021-01-03T00:49:11.494960Z",
     "iopub.status.idle": "2021-01-03T00:49:11.500541Z",
     "shell.execute_reply": "2021-01-03T00:49:11.499596Z",
     "shell.execute_reply.started": "2021-01-03T00:49:11.495258Z"
    }
   },
   "outputs": [],
   "source": [
    "train_size = int(ds_size * .70)\n",
    "val_size = (ds_size - train_size) // 2\n",
    "test_size = ds_size - train_size - val_size"
   ]
  },
  {
   "cell_type": "code",
   "execution_count": 14,
   "metadata": {
    "execution": {
     "iopub.execute_input": "2021-01-03T00:49:11.502253Z",
     "iopub.status.busy": "2021-01-03T00:49:11.501917Z",
     "iopub.status.idle": "2021-01-03T00:49:11.527926Z",
     "shell.execute_reply": "2021-01-03T00:49:11.526761Z",
     "shell.execute_reply.started": "2021-01-03T00:49:11.502212Z"
    }
   },
   "outputs": [],
   "source": [
    "train_ds, val_ds, test_ds = random_split(ds, [train_size, val_size, test_size])"
   ]
  },
  {
   "cell_type": "code",
   "execution_count": 15,
   "metadata": {
    "execution": {
     "iopub.execute_input": "2021-01-03T00:49:11.530090Z",
     "iopub.status.busy": "2021-01-03T00:49:11.529673Z",
     "iopub.status.idle": "2021-01-03T00:49:11.548446Z",
     "shell.execute_reply": "2021-01-03T00:49:11.547379Z",
     "shell.execute_reply.started": "2021-01-03T00:49:11.530037Z"
    }
   },
   "outputs": [],
   "source": [
    "batch_size = 4"
   ]
  },
  {
   "cell_type": "code",
   "execution_count": 16,
   "metadata": {
    "execution": {
     "iopub.execute_input": "2021-01-03T00:49:11.550655Z",
     "iopub.status.busy": "2021-01-03T00:49:11.550247Z",
     "iopub.status.idle": "2021-01-03T00:49:11.573935Z",
     "shell.execute_reply": "2021-01-03T00:49:11.572918Z",
     "shell.execute_reply.started": "2021-01-03T00:49:11.550604Z"
    }
   },
   "outputs": [],
   "source": [
    "train_loader = DataLoader(train_ds, batch_size, shuffle=True, pin_memory=True, num_workers=4)\n",
    "val_loader = DataLoader(val_ds, batch_size*2, pin_memory=True, num_workers=4)\n",
    "test_loader = DataLoader(test_ds, batch_size*2, pin_memory=True, num_workers=4)"
   ]
  },
  {
   "cell_type": "markdown",
   "metadata": {},
   "source": [
    "---"
   ]
  },
  {
   "cell_type": "code",
   "execution_count": 17,
   "metadata": {
    "execution": {
     "iopub.execute_input": "2021-01-03T00:49:11.575975Z",
     "iopub.status.busy": "2021-01-03T00:49:11.575593Z",
     "iopub.status.idle": "2021-01-03T00:49:11.601487Z",
     "shell.execute_reply": "2021-01-03T00:49:11.600398Z",
     "shell.execute_reply.started": "2021-01-03T00:49:11.575928Z"
    }
   },
   "outputs": [],
   "source": [
    "def get_default_device():\n",
    "    \"\"\"Pick GPU if available, else CPU\"\"\"\n",
    "    if torch.cuda.is_available():\n",
    "        return torch.device('cuda')\n",
    "    else:\n",
    "        return torch.device('cpu')"
   ]
  },
  {
   "cell_type": "code",
   "execution_count": 18,
   "metadata": {
    "execution": {
     "iopub.execute_input": "2021-01-03T00:49:11.603630Z",
     "iopub.status.busy": "2021-01-03T00:49:11.603230Z",
     "iopub.status.idle": "2021-01-03T00:49:11.720292Z",
     "shell.execute_reply": "2021-01-03T00:49:11.719222Z",
     "shell.execute_reply.started": "2021-01-03T00:49:11.603581Z"
    }
   },
   "outputs": [
    {
     "data": {
      "text/plain": [
       "device(type='cuda')"
      ]
     },
     "execution_count": 18,
     "metadata": {},
     "output_type": "execute_result"
    }
   ],
   "source": [
    "device = get_default_device()\n",
    "device"
   ]
  },
  {
   "cell_type": "code",
   "execution_count": 19,
   "metadata": {
    "execution": {
     "iopub.execute_input": "2021-01-03T00:49:11.722154Z",
     "iopub.status.busy": "2021-01-03T00:49:11.721815Z",
     "iopub.status.idle": "2021-01-03T00:49:11.749138Z",
     "shell.execute_reply": "2021-01-03T00:49:11.748134Z",
     "shell.execute_reply.started": "2021-01-03T00:49:11.722093Z"
    }
   },
   "outputs": [],
   "source": [
    "def to_device(data, device):\n",
    "    \"\"\"Move tensor(s) to chosen device\"\"\"\n",
    "    if isinstance(data, (list,tuple)):\n",
    "        return [to_device(x, device) for x in data]\n",
    "    return data.to(device, non_blocking=True)\n",
    "\n",
    "class DeviceDataLoader():\n",
    "    \"\"\"Wrap a dataloader to move data to a device\"\"\"\n",
    "    def __init__(self, dl, device):\n",
    "        self.dl = dl\n",
    "        self.device = device\n",
    "        \n",
    "    def __iter__(self):\n",
    "        \"\"\"Yield a batch of data after moving it to device\"\"\"\n",
    "        for b in self.dl: \n",
    "            yield to_device(b, self.device)\n",
    "\n",
    "    def __len__(self):\n",
    "        \"\"\"Number of batches\"\"\"\n",
    "        return len(self.dl)"
   ]
  },
  {
   "cell_type": "code",
   "execution_count": 20,
   "metadata": {
    "execution": {
     "iopub.execute_input": "2021-01-03T00:49:11.750819Z",
     "iopub.status.busy": "2021-01-03T00:49:11.750518Z",
     "iopub.status.idle": "2021-01-03T00:49:11.776294Z",
     "shell.execute_reply": "2021-01-03T00:49:11.775295Z",
     "shell.execute_reply.started": "2021-01-03T00:49:11.750781Z"
    }
   },
   "outputs": [],
   "source": [
    "train_loader = DeviceDataLoader(train_loader, device)\n",
    "val_loader = DeviceDataLoader(val_loader, device)\n",
    "test_loader = DeviceDataLoader(test_loader, device)"
   ]
  },
  {
   "cell_type": "code",
   "execution_count": 21,
   "metadata": {
    "execution": {
     "iopub.execute_input": "2021-01-03T00:49:11.777852Z",
     "iopub.status.busy": "2021-01-03T00:49:11.777556Z",
     "iopub.status.idle": "2021-01-03T00:49:19.060975Z",
     "shell.execute_reply": "2021-01-03T00:49:19.059727Z",
     "shell.execute_reply.started": "2021-01-03T00:49:11.777815Z"
    }
   },
   "outputs": [],
   "source": [
    "model = to_device(Custom_PT(), device)"
   ]
  },
  {
   "cell_type": "code",
   "execution_count": 22,
   "metadata": {
    "execution": {
     "iopub.execute_input": "2021-01-03T00:49:19.062952Z",
     "iopub.status.busy": "2021-01-03T00:49:19.062709Z",
     "iopub.status.idle": "2021-01-03T00:49:21.234481Z",
     "shell.execute_reply": "2021-01-03T00:49:21.233498Z",
     "shell.execute_reply.started": "2021-01-03T00:49:19.062919Z"
    }
   },
   "outputs": [
    {
     "name": "stderr",
     "output_type": "stream",
     "text": [
      "/scratch/richardso21/conda/envs/fgsegnet/lib/python3.6/site-packages/torch/nn/functional.py:1625: UserWarning: nn.functional.sigmoid is deprecated. Use torch.sigmoid instead.\n",
      "  warnings.warn(\"nn.functional.sigmoid is deprecated. Use torch.sigmoid instead.\")\n"
     ]
    },
    {
     "data": {
      "text/plain": [
       "[{'avg_loss': tensor(0.6960, device='cuda:0'), 'avg_acc': tensor(0.6273)}]"
      ]
     },
     "execution_count": 22,
     "metadata": {},
     "output_type": "execute_result"
    }
   ],
   "source": [
    "history = [evaluate(model, val_loader)]\n",
    "history"
   ]
  },
  {
   "cell_type": "code",
   "execution_count": 23,
   "metadata": {
    "execution": {
     "iopub.execute_input": "2021-01-03T00:49:21.236730Z",
     "iopub.status.busy": "2021-01-03T00:49:21.236343Z",
     "iopub.status.idle": "2021-01-03T01:03:27.222682Z",
     "shell.execute_reply": "2021-01-03T01:03:27.221521Z",
     "shell.execute_reply.started": "2021-01-03T00:49:21.236681Z"
    }
   },
   "outputs": [
    {
     "name": "stderr",
     "output_type": "stream",
     "text": [
      "100%|██████████| 496/496 [00:40<00:00, 12.32it/s]\n",
      "  0%|          | 0/496 [00:00<?, ?it/s]"
     ]
    },
    {
     "name": "stdout",
     "output_type": "stream",
     "text": [
      "EPOCH 1          | val_loss:0.648, val_acc (0.7 thr): 0.627\n"
     ]
    },
    {
     "name": "stderr",
     "output_type": "stream",
     "text": [
      "100%|██████████| 496/496 [00:40<00:00, 12.29it/s]\n",
      "  0%|          | 0/496 [00:00<?, ?it/s]"
     ]
    },
    {
     "name": "stdout",
     "output_type": "stream",
     "text": [
      "EPOCH 2          | val_loss:0.608, val_acc (0.7 thr): 0.627\n"
     ]
    },
    {
     "name": "stderr",
     "output_type": "stream",
     "text": [
      "100%|██████████| 496/496 [00:40<00:00, 12.25it/s]\n",
      "  0%|          | 0/496 [00:00<?, ?it/s]"
     ]
    },
    {
     "name": "stdout",
     "output_type": "stream",
     "text": [
      "EPOCH 3          | val_loss:0.626, val_acc (0.7 thr): 0.630\n"
     ]
    },
    {
     "name": "stderr",
     "output_type": "stream",
     "text": [
      "100%|██████████| 496/496 [00:40<00:00, 12.26it/s]\n",
      "  0%|          | 0/496 [00:00<?, ?it/s]"
     ]
    },
    {
     "name": "stdout",
     "output_type": "stream",
     "text": [
      "EPOCH 4          | val_loss:0.637, val_acc (0.7 thr): 0.627\n"
     ]
    },
    {
     "name": "stderr",
     "output_type": "stream",
     "text": [
      "100%|██████████| 496/496 [00:40<00:00, 12.26it/s]\n",
      "  0%|          | 0/496 [00:00<?, ?it/s]"
     ]
    },
    {
     "name": "stdout",
     "output_type": "stream",
     "text": [
      "EPOCH 5          | val_loss:0.478, val_acc (0.7 thr): 0.678\n"
     ]
    },
    {
     "name": "stderr",
     "output_type": "stream",
     "text": [
      "100%|██████████| 496/496 [00:40<00:00, 12.25it/s]\n",
      "  0%|          | 0/496 [00:00<?, ?it/s]"
     ]
    },
    {
     "name": "stdout",
     "output_type": "stream",
     "text": [
      "EPOCH 6          | val_loss:0.636, val_acc (0.7 thr): 0.627\n"
     ]
    },
    {
     "name": "stderr",
     "output_type": "stream",
     "text": [
      "100%|██████████| 496/496 [00:40<00:00, 12.26it/s]\n",
      "  0%|          | 0/496 [00:00<?, ?it/s]"
     ]
    },
    {
     "name": "stdout",
     "output_type": "stream",
     "text": [
      "EPOCH 7          | val_loss:0.574, val_acc (0.7 thr): 0.634\n"
     ]
    },
    {
     "name": "stderr",
     "output_type": "stream",
     "text": [
      "100%|██████████| 496/496 [00:40<00:00, 12.21it/s]\n",
      "  0%|          | 0/496 [00:00<?, ?it/s]"
     ]
    },
    {
     "name": "stdout",
     "output_type": "stream",
     "text": [
      "EPOCH 8          | val_loss:0.631, val_acc (0.7 thr): 0.662\n"
     ]
    },
    {
     "name": "stderr",
     "output_type": "stream",
     "text": [
      "100%|██████████| 496/496 [00:40<00:00, 12.19it/s]\n",
      "  0%|          | 0/496 [00:00<?, ?it/s]"
     ]
    },
    {
     "name": "stdout",
     "output_type": "stream",
     "text": [
      "EPOCH 9          | val_loss:0.640, val_acc (0.7 thr): 0.627\n"
     ]
    },
    {
     "name": "stderr",
     "output_type": "stream",
     "text": [
      "100%|██████████| 496/496 [00:40<00:00, 12.17it/s]\n",
      "  0%|          | 0/496 [00:00<?, ?it/s]"
     ]
    },
    {
     "name": "stdout",
     "output_type": "stream",
     "text": [
      "EPOCH 10         | val_loss:0.714, val_acc (0.7 thr): 0.667\n"
     ]
    },
    {
     "name": "stderr",
     "output_type": "stream",
     "text": [
      "100%|██████████| 496/496 [00:40<00:00, 12.14it/s]\n",
      "  0%|          | 0/496 [00:00<?, ?it/s]"
     ]
    },
    {
     "name": "stdout",
     "output_type": "stream",
     "text": [
      "EPOCH 11         | val_loss:0.697, val_acc (0.7 thr): 0.630\n"
     ]
    },
    {
     "name": "stderr",
     "output_type": "stream",
     "text": [
      "100%|██████████| 496/496 [00:40<00:00, 12.13it/s]\n",
      "  0%|          | 0/496 [00:00<?, ?it/s]"
     ]
    },
    {
     "name": "stdout",
     "output_type": "stream",
     "text": [
      "EPOCH 12         | val_loss:0.719, val_acc (0.7 thr): 0.620\n"
     ]
    },
    {
     "name": "stderr",
     "output_type": "stream",
     "text": [
      "100%|██████████| 496/496 [00:40<00:00, 12.13it/s]\n",
      "  0%|          | 0/496 [00:00<?, ?it/s]"
     ]
    },
    {
     "name": "stdout",
     "output_type": "stream",
     "text": [
      "EPOCH 13         | val_loss:0.684, val_acc (0.7 thr): 0.657\n"
     ]
    },
    {
     "name": "stderr",
     "output_type": "stream",
     "text": [
      "100%|██████████| 496/496 [00:40<00:00, 12.13it/s]\n",
      "  0%|          | 0/496 [00:00<?, ?it/s]"
     ]
    },
    {
     "name": "stdout",
     "output_type": "stream",
     "text": [
      "EPOCH 14         | val_loss:0.868, val_acc (0.7 thr): 0.685\n"
     ]
    },
    {
     "name": "stderr",
     "output_type": "stream",
     "text": [
      "100%|██████████| 496/496 [00:40<00:00, 12.12it/s]\n",
      "  0%|          | 0/496 [00:00<?, ?it/s]"
     ]
    },
    {
     "name": "stdout",
     "output_type": "stream",
     "text": [
      "EPOCH 15         | val_loss:0.945, val_acc (0.7 thr): 0.650\n"
     ]
    },
    {
     "name": "stderr",
     "output_type": "stream",
     "text": [
      "100%|██████████| 496/496 [00:40<00:00, 12.11it/s]\n",
      "  0%|          | 0/496 [00:00<?, ?it/s]"
     ]
    },
    {
     "name": "stdout",
     "output_type": "stream",
     "text": [
      "EPOCH 16         | val_loss:0.780, val_acc (0.7 thr): 0.655\n"
     ]
    },
    {
     "name": "stderr",
     "output_type": "stream",
     "text": [
      "100%|██████████| 496/496 [00:40<00:00, 12.11it/s]\n",
      "  0%|          | 0/496 [00:00<?, ?it/s]"
     ]
    },
    {
     "name": "stdout",
     "output_type": "stream",
     "text": [
      "EPOCH 17         | val_loss:0.719, val_acc (0.7 thr): 0.627\n"
     ]
    },
    {
     "name": "stderr",
     "output_type": "stream",
     "text": [
      "100%|██████████| 496/496 [00:40<00:00, 12.10it/s]\n",
      "  0%|          | 0/496 [00:00<?, ?it/s]"
     ]
    },
    {
     "name": "stdout",
     "output_type": "stream",
     "text": [
      "EPOCH 18         | val_loss:0.892, val_acc (0.7 thr): 0.620\n"
     ]
    },
    {
     "name": "stderr",
     "output_type": "stream",
     "text": [
      "100%|██████████| 496/496 [00:40<00:00, 12.11it/s]\n",
      "  0%|          | 0/496 [00:00<?, ?it/s]"
     ]
    },
    {
     "name": "stdout",
     "output_type": "stream",
     "text": [
      "EPOCH 19         | val_loss:0.978, val_acc (0.7 thr): 0.671\n"
     ]
    },
    {
     "name": "stderr",
     "output_type": "stream",
     "text": [
      "100%|██████████| 496/496 [00:40<00:00, 12.10it/s]\n"
     ]
    },
    {
     "name": "stdout",
     "output_type": "stream",
     "text": [
      "EPOCH 20         | val_loss:1.188, val_acc (0.7 thr): 0.678\n"
     ]
    }
   ],
   "source": [
    "history += fit(20, 1e-6, model, train_loader, val_loader)"
   ]
  },
  {
   "cell_type": "code",
   "execution_count": 24,
   "metadata": {
    "execution": {
     "iopub.execute_input": "2021-01-03T01:03:27.225335Z",
     "iopub.status.busy": "2021-01-03T01:03:27.224975Z",
     "iopub.status.idle": "2021-01-03T01:03:27.230434Z",
     "shell.execute_reply": "2021-01-03T01:03:27.229192Z",
     "shell.execute_reply.started": "2021-01-03T01:03:27.225284Z"
    }
   },
   "outputs": [],
   "source": [
    "# evl = evaluate(model, test_loader)\n",
    "# evl"
   ]
  },
  {
   "cell_type": "code",
   "execution_count": 25,
   "metadata": {
    "execution": {
     "iopub.execute_input": "2021-01-03T01:03:27.232692Z",
     "iopub.status.busy": "2021-01-03T01:03:27.232275Z",
     "iopub.status.idle": "2021-01-03T01:03:27.266205Z",
     "shell.execute_reply": "2021-01-03T01:03:27.265115Z",
     "shell.execute_reply.started": "2021-01-03T01:03:27.232644Z"
    }
   },
   "outputs": [],
   "source": [
    "# torch.save(model.state_dict(), '/scratch/richardso21/20-21_BGSUB/CustomPT12.pth')"
   ]
  },
  {
   "cell_type": "code",
   "execution_count": 26,
   "metadata": {
    "execution": {
     "iopub.execute_input": "2021-01-03T01:03:27.268289Z",
     "iopub.status.busy": "2021-01-03T01:03:27.267906Z",
     "iopub.status.idle": "2021-01-03T01:03:27.293962Z",
     "shell.execute_reply": "2021-01-03T01:03:27.292953Z",
     "shell.execute_reply.started": "2021-01-03T01:03:27.268241Z"
    }
   },
   "outputs": [],
   "source": [
    "# history += fit(15, 1e-6, model, train_loader, val_loader)"
   ]
  },
  {
   "cell_type": "code",
   "execution_count": 27,
   "metadata": {
    "execution": {
     "iopub.execute_input": "2021-01-03T01:03:27.299343Z",
     "iopub.status.busy": "2021-01-03T01:03:27.298928Z",
     "iopub.status.idle": "2021-01-03T01:03:27.319073Z",
     "shell.execute_reply": "2021-01-03T01:03:27.317924Z",
     "shell.execute_reply.started": "2021-01-03T01:03:27.299292Z"
    }
   },
   "outputs": [],
   "source": [
    "# evl2 = evaluate(model, test_loader)\n",
    "# evl2"
   ]
  },
  {
   "cell_type": "code",
   "execution_count": 28,
   "metadata": {
    "execution": {
     "iopub.execute_input": "2021-01-03T01:03:27.321197Z",
     "iopub.status.busy": "2021-01-03T01:03:27.320819Z",
     "iopub.status.idle": "2021-01-03T01:03:27.344219Z",
     "shell.execute_reply": "2021-01-03T01:03:27.343058Z",
     "shell.execute_reply.started": "2021-01-03T01:03:27.321149Z"
    }
   },
   "outputs": [],
   "source": [
    "# torch.save(model.state_dict(), '/scratch/richardso21/20-21_BGSUB/CustomPT12.pth')"
   ]
  },
  {
   "cell_type": "code",
   "execution_count": 29,
   "metadata": {
    "execution": {
     "iopub.execute_input": "2021-01-03T01:03:27.346484Z",
     "iopub.status.busy": "2021-01-03T01:03:27.346045Z",
     "iopub.status.idle": "2021-01-03T01:03:27.366180Z",
     "shell.execute_reply": "2021-01-03T01:03:27.365003Z",
     "shell.execute_reply.started": "2021-01-03T01:03:27.346435Z"
    }
   },
   "outputs": [],
   "source": [
    "# torch.cuda.empty_cache()"
   ]
  },
  {
   "cell_type": "code",
   "execution_count": null,
   "metadata": {},
   "outputs": [],
   "source": []
  }
 ],
 "metadata": {
  "kernelspec": {
   "display_name": "Python 3",
   "language": "python",
   "name": "python3"
  },
  "language_info": {
   "codemirror_mode": {
    "name": "ipython",
    "version": 3
   },
   "file_extension": ".py",
   "mimetype": "text/x-python",
   "name": "python",
   "nbconvert_exporter": "python",
   "pygments_lexer": "ipython3",
   "version": "3.6.10"
  }
 },
 "nbformat": 4,
 "nbformat_minor": 4
}
