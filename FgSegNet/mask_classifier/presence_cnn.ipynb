{
 "cells": [
  {
   "cell_type": "code",
   "execution_count": 1,
   "metadata": {
    "execution": {
     "iopub.execute_input": "2021-01-03T20:11:35.250086Z",
     "iopub.status.busy": "2021-01-03T20:11:35.249630Z",
     "iopub.status.idle": "2021-01-03T20:11:36.625862Z",
     "shell.execute_reply": "2021-01-03T20:11:36.624890Z",
     "shell.execute_reply.started": "2021-01-03T20:11:35.250029Z"
    }
   },
   "outputs": [],
   "source": [
    "import h5py, os, torch\n",
    "from pathlib import Path\n",
    "import torch.nn as nn\n",
    "import torch.nn.functional as F\n",
    "from torch.utils.data import random_split, DataLoader, Dataset\n",
    "import torchvision\n",
    "import numpy as np\n",
    "import pandas as pd\n",
    "import matplotlib.pyplot as plt\n",
    "from tqdm import tqdm"
   ]
  },
  {
   "cell_type": "code",
   "execution_count": 2,
   "metadata": {
    "execution": {
     "iopub.execute_input": "2021-01-03T20:11:36.627931Z",
     "iopub.status.busy": "2021-01-03T20:11:36.627648Z",
     "iopub.status.idle": "2021-01-03T20:11:36.632417Z",
     "shell.execute_reply": "2021-01-03T20:11:36.631386Z",
     "shell.execute_reply.started": "2021-01-03T20:11:36.627895Z"
    }
   },
   "outputs": [],
   "source": [
    "os.environ[\"CUDA_VISIBLE_DEVICES\"] = '1'"
   ]
  },
  {
   "cell_type": "markdown",
   "metadata": {},
   "source": [
    "## Outline\n",
    " - Generate a specific model for each scene\n",
    "     - Each location: 1600 images w/o presence, 800 imags w/ presence\n",
    " - Create Dataloader\n",
    "     - 80-20 split for training/testing (validation?)\n",
    "     - Each img (input size): 1024 x 720 px\n",
    " - Model Architecture\n",
    "     - Modified VGG16?\n",
    "     - Custom CNN architecture?\n",
    "     - Concatenate pixel values and put in logistic regression?"
   ]
  },
  {
   "cell_type": "markdown",
   "metadata": {},
   "source": [
    "---"
   ]
  },
  {
   "cell_type": "markdown",
   "metadata": {},
   "source": [
    "## Model Base/Helpers/Train & Test functions"
   ]
  },
  {
   "cell_type": "code",
   "execution_count": 3,
   "metadata": {
    "execution": {
     "iopub.execute_input": "2021-01-03T20:11:36.634430Z",
     "iopub.status.busy": "2021-01-03T20:11:36.634151Z",
     "iopub.status.idle": "2021-01-03T20:11:36.657390Z",
     "shell.execute_reply": "2021-01-03T20:11:36.656253Z",
     "shell.execute_reply.started": "2021-01-03T20:11:36.634396Z"
    }
   },
   "outputs": [],
   "source": [
    "def accuracy(outs, labels):\n",
    "    # check accuracy for threshold @ 0.7\n",
    "    outs_th = outs >= 0.7\n",
    "        # append onto result dictionary to be returned to function that called `accuracy()`\n",
    "    return torch.tensor(torch.sum(outs_th == labels).item() / len(outs))"
   ]
  },
  {
   "cell_type": "code",
   "execution_count": 4,
   "metadata": {
    "execution": {
     "iopub.execute_input": "2021-01-03T20:11:36.659909Z",
     "iopub.status.busy": "2021-01-03T20:11:36.659529Z",
     "iopub.status.idle": "2021-01-03T20:11:36.683816Z",
     "shell.execute_reply": "2021-01-03T20:11:36.682761Z",
     "shell.execute_reply.started": "2021-01-03T20:11:36.659861Z"
    }
   },
   "outputs": [],
   "source": [
    "class ModelBase(nn.Module):\n",
    "#     training step\n",
    "    def train_step(self, batch):\n",
    "        xb, labels = batch\n",
    "        labels = labels.view(-1, 1)\n",
    "        outs = self(xb)\n",
    "        loss = F.binary_cross_entropy(outs, labels)\n",
    "        return loss\n",
    "#     validation step\n",
    "    def val_step(self, batch):\n",
    "        xb, labels = batch\n",
    "        labels = labels.view(-1, 1)\n",
    "        outs = self(xb)\n",
    "        loss = F.binary_cross_entropy(outs, labels)\n",
    "        acc = accuracy(outs, labels)\n",
    "        return {'loss': loss.detach(), 'acc': acc}\n",
    "#     validation epoch (avg accuracies and losses)\n",
    "    def val_epoch_end(self, outputs):\n",
    "#         for i in range(10):\n",
    "#             print(outputs[i])\n",
    "        batch_loss = [x['loss'] for x in outputs]\n",
    "        avg_loss = torch.stack(batch_loss).mean()\n",
    "        batch_acc = [x['acc'] for x in outputs]\n",
    "        avg_acc = torch.stack(batch_acc).mean()\n",
    "        return {'avg_loss': avg_loss, 'avg_acc': avg_acc}\n",
    "#     print everything important\n",
    "    def epoch_end(self, epoch, avgs, test=False):\n",
    "        s = 'test' if test else 'val'\n",
    "        print(f'EPOCH {epoch + 1:<10} | {s}_loss:{avgs[\"avg_loss\"]:.3f}, {s}_acc (0.7 thr): {avgs[\"avg_acc\"]:.3f}')"
   ]
  },
  {
   "cell_type": "code",
   "execution_count": 5,
   "metadata": {
    "execution": {
     "iopub.execute_input": "2021-01-03T20:11:36.686035Z",
     "iopub.status.busy": "2021-01-03T20:11:36.685628Z",
     "iopub.status.idle": "2021-01-03T20:11:36.708001Z",
     "shell.execute_reply": "2021-01-03T20:11:36.706880Z",
     "shell.execute_reply.started": "2021-01-03T20:11:36.685984Z"
    }
   },
   "outputs": [],
   "source": [
    "@torch.no_grad()\n",
    "def evaluate(model, val_dl):\n",
    "    # eval mode\n",
    "    model.eval()\n",
    "    outputs = [model.val_step(batch) for batch in val_dl]\n",
    "    return model.val_epoch_end(outputs)\n",
    "\n",
    "\n",
    "def fit(epochs, lr, model, train_dl, val_dl, opt_func=torch.optim.Adam):\n",
    "    torch.cuda.empty_cache()\n",
    "    history = []\n",
    "    # define optimizer\n",
    "    optimizer = opt_func(model.parameters(), lr)\n",
    "    # for each epoch...\n",
    "    for epoch in range(epochs):\n",
    "        # training mode\n",
    "        model.train()\n",
    "        # (training) for each batch in train_dl...\n",
    "        for batch in tqdm(train_dl):\n",
    "            # pass thru model\n",
    "            loss = model.train_step(batch)\n",
    "            # perform gradient descent\n",
    "            loss.backward()\n",
    "            optimizer.step()\n",
    "            optimizer.zero_grad()\n",
    "        # validation\n",
    "        res = evaluate(model, val_dl)\n",
    "        # print everything useful\n",
    "        model.epoch_end(epoch, res, test=False)\n",
    "        # append to history\n",
    "        history.append(res)\n",
    "    return history"
   ]
  },
  {
   "cell_type": "markdown",
   "metadata": {},
   "source": [
    "---"
   ]
  },
  {
   "cell_type": "markdown",
   "metadata": {},
   "source": [
    "## Models"
   ]
  },
  {
   "cell_type": "code",
   "execution_count": 6,
   "metadata": {
    "execution": {
     "iopub.execute_input": "2021-01-03T20:11:36.709906Z",
     "iopub.status.busy": "2021-01-03T20:11:36.709624Z",
     "iopub.status.idle": "2021-01-03T20:11:36.732622Z",
     "shell.execute_reply": "2021-01-03T20:11:36.731641Z",
     "shell.execute_reply.started": "2021-01-03T20:11:36.709875Z"
    }
   },
   "outputs": [],
   "source": [
    "class VGG11_PT(ModelBase):\n",
    "    def __init__(self):\n",
    "        super().__init__()\n",
    "#         pretrained VGG16 model w/ batch norm\n",
    "        self.network = torchvision.models.vgg11_bn(pretrained=True)\n",
    "#         change first layer to accept only 1 dimension of color (b/w)\n",
    "        self.network.features[0] = nn.Conv2d(1, 64, kernel_size=3, stride=1, padding=1)\n",
    "#         change last fc layer to output one value\n",
    "        self.network.classifier[6] = nn.Linear(4096, 1, bias=True)\n",
    "        \n",
    "    def forward(self, xb):\n",
    "        out = self.network(xb)\n",
    "        out = F.sigmoid(out)\n",
    "        return out"
   ]
  },
  {
   "cell_type": "code",
   "execution_count": 7,
   "metadata": {
    "execution": {
     "iopub.execute_input": "2021-01-03T20:11:36.734621Z",
     "iopub.status.busy": "2021-01-03T20:11:36.734252Z",
     "iopub.status.idle": "2021-01-03T20:11:36.775355Z",
     "shell.execute_reply": "2021-01-03T20:11:36.774311Z",
     "shell.execute_reply.started": "2021-01-03T20:11:36.734575Z"
    }
   },
   "outputs": [],
   "source": [
    "class Custom_PT(ModelBase):\n",
    "    def __init__(self):\n",
    "        super().__init__()                                       # 1 x 1024 x 720\n",
    "#         custom-defined model w/o pretrained weights\n",
    "        self.conv1 = nn.Conv2d(1, 8, kernel_size=3, padding=1)   # 8 x 1024 x 720\n",
    "        self.bn1 = nn.BatchNorm2d(8)\n",
    "        self.conv2 = nn.Conv2d(8, 16, kernel_size=3, padding=1)  # 16 x 1024 x 720\n",
    "        self.bn2 = nn.BatchNorm2d(16)\n",
    "        self.pool1 = nn.MaxPool2d(2)                             # 16 x 512 x 360\n",
    "        self.conv3 = nn.Conv2d(16, 16, kernel_size=3, padding=1) # 16 x 512 x 360\n",
    "        self.bn3 = nn.BatchNorm2d(16)\n",
    "        self.pool2 = nn.MaxPool2d(2)                             # 16 x 256 x 180\n",
    "        self.conv4 = nn.Conv2d(16, 8, kernel_size=3, padding=1)  # 8 x 256 x 180\n",
    "        self.bn4 = nn.BatchNorm2d(8)\n",
    "        self.pool3 = nn.MaxPool2d(2)                             # 8 x 128 x 90\n",
    "        self.fc1 = nn.Linear(8*128*90, 4096)\n",
    "        self.fc2 = nn.Linear(4096, 512)\n",
    "        self.fc3 = nn.Linear(512, 1)\n",
    "        \n",
    "    def forward(self, xb):\n",
    "        out = F.relu(self.bn1(self.conv1(xb)))\n",
    "        out = F.relu(self.bn2(self.conv2(out)))\n",
    "        out = self.pool1(out)\n",
    "        out = F.relu(self.bn3(self.conv3(out)))\n",
    "        out = self.pool2(out)\n",
    "        out = F.relu(self.bn4(self.conv4(out)))\n",
    "        out = self.pool3(out)\n",
    "\n",
    "        out = torch.flatten(out, 1)\n",
    "        out = F.relu(self.fc1(out))\n",
    "        out = F.relu(self.fc2(out))\n",
    "        out = self.fc3(out)\n",
    "        out = F.sigmoid(out)\n",
    "        return out"
   ]
  },
  {
   "cell_type": "markdown",
   "metadata": {},
   "source": [
    "---"
   ]
  },
  {
   "cell_type": "markdown",
   "metadata": {},
   "source": [
    "## DataSet & DataLoader"
   ]
  },
  {
   "cell_type": "code",
   "execution_count": 8,
   "metadata": {
    "execution": {
     "iopub.execute_input": "2021-01-03T20:11:36.777472Z",
     "iopub.status.busy": "2021-01-03T20:11:36.776954Z",
     "iopub.status.idle": "2021-01-03T20:11:36.799758Z",
     "shell.execute_reply": "2021-01-03T20:11:36.798748Z",
     "shell.execute_reply.started": "2021-01-03T20:11:36.777423Z"
    }
   },
   "outputs": [],
   "source": [
    "class Prudhoe_DS(Dataset):\n",
    "    def __init__(self, npy_pth, transforms=None):\n",
    "        self.transforms = transforms\n",
    "        self.npy_pth = npy_pth\n",
    "        self.masks_loc = []\n",
    "        self.labels = []\n",
    "        \n",
    "        for typ in ['pos', 'neg']:\n",
    "            for fn in os.listdir(os.path.join(self.npy_pth, typ)):\n",
    "                \n",
    "                full_fn = os.path.join(self.npy_pth, typ, fn)\n",
    "                self.masks_loc.append(full_fn)\n",
    "#                 masks.append(np.load(full_fn))\n",
    "                \n",
    "                label = 1 if typ == 'pos' else 0\n",
    "                self.labels.append(label)\n",
    "        \n",
    "        self.masks_loc = np.array(self.masks_loc)\n",
    "        self.labels = np.array(self.labels).astype('float32')\n",
    "        \n",
    "    def __len__(self):\n",
    "        return len(self.labels)\n",
    "    \n",
    "    def __getitem__(self, idx):\n",
    "        mask = np.expand_dims(np.load(self.masks_loc[idx]), axis=0).astype('float32')\n",
    "        label = self.labels[idx]\n",
    "        \n",
    "        if self.transforms:\n",
    "            mask = self.transforms()(mask)\n",
    "        \n",
    "        return mask, label"
   ]
  },
  {
   "cell_type": "markdown",
   "metadata": {},
   "source": [
    "---"
   ]
  },
  {
   "cell_type": "code",
   "execution_count": 9,
   "metadata": {
    "execution": {
     "iopub.execute_input": "2021-01-03T20:11:36.804241Z",
     "iopub.status.busy": "2021-01-03T20:11:36.803819Z",
     "iopub.status.idle": "2021-01-03T20:11:36.828640Z",
     "shell.execute_reply": "2021-01-03T20:11:36.827737Z",
     "shell.execute_reply.started": "2021-01-03T20:11:36.804191Z"
    }
   },
   "outputs": [
    {
     "data": {
      "text/plain": [
       "<torch._C.Generator at 0x7f12109afd80>"
      ]
     },
     "execution_count": 9,
     "metadata": {},
     "output_type": "execute_result"
    }
   ],
   "source": [
    "torch.manual_seed(42)"
   ]
  },
  {
   "cell_type": "code",
   "execution_count": 10,
   "metadata": {
    "execution": {
     "iopub.execute_input": "2021-01-03T20:11:36.831117Z",
     "iopub.status.busy": "2021-01-03T20:11:36.830772Z",
     "iopub.status.idle": "2021-01-03T20:11:36.848504Z",
     "shell.execute_reply": "2021-01-03T20:11:36.847543Z",
     "shell.execute_reply.started": "2021-01-03T20:11:36.831074Z"
    }
   },
   "outputs": [],
   "source": [
    "PTH = '/scratch/richardso21/20-21_BGSUB/'\n",
    "site = 'prudhoe_12'"
   ]
  },
  {
   "cell_type": "code",
   "execution_count": 11,
   "metadata": {
    "execution": {
     "iopub.execute_input": "2021-01-03T20:11:36.850275Z",
     "iopub.status.busy": "2021-01-03T20:11:36.849938Z",
     "iopub.status.idle": "2021-01-03T20:11:36.873712Z",
     "shell.execute_reply": "2021-01-03T20:11:36.872728Z",
     "shell.execute_reply.started": "2021-01-03T20:11:36.850236Z"
    }
   },
   "outputs": [],
   "source": [
    "npy_pth = os.path.join(PTH, 'FgSegNet_O_neg', site)"
   ]
  },
  {
   "cell_type": "code",
   "execution_count": 12,
   "metadata": {
    "execution": {
     "iopub.execute_input": "2021-01-03T20:11:36.875793Z",
     "iopub.status.busy": "2021-01-03T20:11:36.875414Z",
     "iopub.status.idle": "2021-01-03T20:11:36.919582Z",
     "shell.execute_reply": "2021-01-03T20:11:36.918478Z",
     "shell.execute_reply.started": "2021-01-03T20:11:36.875747Z"
    }
   },
   "outputs": [],
   "source": [
    "ds = Prudhoe_DS(npy_pth)\n",
    "ds_size = len(ds)"
   ]
  },
  {
   "cell_type": "code",
   "execution_count": 13,
   "metadata": {
    "execution": {
     "iopub.execute_input": "2021-01-03T20:11:36.921473Z",
     "iopub.status.busy": "2021-01-03T20:11:36.921113Z",
     "iopub.status.idle": "2021-01-03T20:11:36.927039Z",
     "shell.execute_reply": "2021-01-03T20:11:36.925974Z",
     "shell.execute_reply.started": "2021-01-03T20:11:36.921429Z"
    }
   },
   "outputs": [],
   "source": [
    "train_size = int(ds_size * .70)\n",
    "val_size = (ds_size - train_size) // 2\n",
    "test_size = ds_size - train_size - val_size"
   ]
  },
  {
   "cell_type": "code",
   "execution_count": 14,
   "metadata": {
    "execution": {
     "iopub.execute_input": "2021-01-03T20:11:36.928872Z",
     "iopub.status.busy": "2021-01-03T20:11:36.928517Z",
     "iopub.status.idle": "2021-01-03T20:11:36.950959Z",
     "shell.execute_reply": "2021-01-03T20:11:36.949881Z",
     "shell.execute_reply.started": "2021-01-03T20:11:36.928828Z"
    }
   },
   "outputs": [],
   "source": [
    "train_ds, val_ds, test_ds = random_split(ds, [train_size, val_size, test_size])"
   ]
  },
  {
   "cell_type": "code",
   "execution_count": 15,
   "metadata": {
    "execution": {
     "iopub.execute_input": "2021-01-03T20:11:36.952810Z",
     "iopub.status.busy": "2021-01-03T20:11:36.952468Z",
     "iopub.status.idle": "2021-01-03T20:11:36.974422Z",
     "shell.execute_reply": "2021-01-03T20:11:36.973239Z",
     "shell.execute_reply.started": "2021-01-03T20:11:36.952767Z"
    }
   },
   "outputs": [],
   "source": [
    "batch_size = 4"
   ]
  },
  {
   "cell_type": "code",
   "execution_count": 16,
   "metadata": {
    "execution": {
     "iopub.execute_input": "2021-01-03T20:11:36.976241Z",
     "iopub.status.busy": "2021-01-03T20:11:36.975866Z",
     "iopub.status.idle": "2021-01-03T20:11:36.999742Z",
     "shell.execute_reply": "2021-01-03T20:11:36.998716Z",
     "shell.execute_reply.started": "2021-01-03T20:11:36.976193Z"
    }
   },
   "outputs": [],
   "source": [
    "train_loader = DataLoader(train_ds, batch_size, shuffle=True, pin_memory=True, num_workers=4)\n",
    "val_loader = DataLoader(val_ds, batch_size*2, pin_memory=True, num_workers=4)\n",
    "test_loader = DataLoader(test_ds, batch_size*2, pin_memory=True, num_workers=4)"
   ]
  },
  {
   "cell_type": "markdown",
   "metadata": {},
   "source": [
    "---"
   ]
  },
  {
   "cell_type": "code",
   "execution_count": 17,
   "metadata": {
    "execution": {
     "iopub.execute_input": "2021-01-03T20:11:37.001517Z",
     "iopub.status.busy": "2021-01-03T20:11:37.001176Z",
     "iopub.status.idle": "2021-01-03T20:11:37.024609Z",
     "shell.execute_reply": "2021-01-03T20:11:37.023539Z",
     "shell.execute_reply.started": "2021-01-03T20:11:37.001475Z"
    }
   },
   "outputs": [],
   "source": [
    "def get_default_device():\n",
    "    \"\"\"Pick GPU if available, else CPU\"\"\"\n",
    "    if torch.cuda.is_available():\n",
    "        return torch.device('cuda')\n",
    "    else:\n",
    "        return torch.device('cpu')"
   ]
  },
  {
   "cell_type": "code",
   "execution_count": 18,
   "metadata": {
    "execution": {
     "iopub.execute_input": "2021-01-03T20:11:37.026999Z",
     "iopub.status.busy": "2021-01-03T20:11:37.026563Z",
     "iopub.status.idle": "2021-01-03T20:11:37.133025Z",
     "shell.execute_reply": "2021-01-03T20:11:37.132133Z",
     "shell.execute_reply.started": "2021-01-03T20:11:37.026947Z"
    }
   },
   "outputs": [
    {
     "data": {
      "text/plain": [
       "device(type='cuda')"
      ]
     },
     "execution_count": 18,
     "metadata": {},
     "output_type": "execute_result"
    }
   ],
   "source": [
    "device = get_default_device()\n",
    "device"
   ]
  },
  {
   "cell_type": "code",
   "execution_count": 19,
   "metadata": {
    "execution": {
     "iopub.execute_input": "2021-01-03T20:11:37.135047Z",
     "iopub.status.busy": "2021-01-03T20:11:37.134657Z",
     "iopub.status.idle": "2021-01-03T20:11:37.158892Z",
     "shell.execute_reply": "2021-01-03T20:11:37.157800Z",
     "shell.execute_reply.started": "2021-01-03T20:11:37.134999Z"
    }
   },
   "outputs": [],
   "source": [
    "def to_device(data, device):\n",
    "    \"\"\"Move tensor(s) to chosen device\"\"\"\n",
    "    if isinstance(data, (list,tuple)):\n",
    "        return [to_device(x, device) for x in data]\n",
    "    return data.to(device, non_blocking=True)\n",
    "\n",
    "class DeviceDataLoader():\n",
    "    \"\"\"Wrap a dataloader to move data to a device\"\"\"\n",
    "    def __init__(self, dl, device):\n",
    "        self.dl = dl\n",
    "        self.device = device\n",
    "        \n",
    "    def __iter__(self):\n",
    "        \"\"\"Yield a batch of data after moving it to device\"\"\"\n",
    "        for b in self.dl: \n",
    "            yield to_device(b, self.device)\n",
    "\n",
    "    def __len__(self):\n",
    "        \"\"\"Number of batches\"\"\"\n",
    "        return len(self.dl)"
   ]
  },
  {
   "cell_type": "code",
   "execution_count": 20,
   "metadata": {
    "execution": {
     "iopub.execute_input": "2021-01-03T20:11:37.160780Z",
     "iopub.status.busy": "2021-01-03T20:11:37.160431Z",
     "iopub.status.idle": "2021-01-03T20:11:37.183049Z",
     "shell.execute_reply": "2021-01-03T20:11:37.181950Z",
     "shell.execute_reply.started": "2021-01-03T20:11:37.160738Z"
    }
   },
   "outputs": [],
   "source": [
    "train_loader = DeviceDataLoader(train_loader, device)\n",
    "val_loader = DeviceDataLoader(val_loader, device)\n",
    "test_loader = DeviceDataLoader(test_loader, device)"
   ]
  },
  {
   "cell_type": "code",
   "execution_count": 21,
   "metadata": {
    "execution": {
     "iopub.execute_input": "2021-01-03T20:11:37.184932Z",
     "iopub.status.busy": "2021-01-03T20:11:37.184576Z",
     "iopub.status.idle": "2021-01-03T20:11:45.946879Z",
     "shell.execute_reply": "2021-01-03T20:11:45.944790Z",
     "shell.execute_reply.started": "2021-01-03T20:11:37.184888Z"
    }
   },
   "outputs": [],
   "source": [
    "model = to_device(Custom_PT(), device)"
   ]
  },
  {
   "cell_type": "code",
   "execution_count": 22,
   "metadata": {
    "execution": {
     "iopub.execute_input": "2021-01-03T20:11:45.949831Z",
     "iopub.status.busy": "2021-01-03T20:11:45.949417Z",
     "iopub.status.idle": "2021-01-03T20:11:48.264376Z",
     "shell.execute_reply": "2021-01-03T20:11:48.263206Z",
     "shell.execute_reply.started": "2021-01-03T20:11:45.949771Z"
    }
   },
   "outputs": [
    {
     "name": "stderr",
     "output_type": "stream",
     "text": [
      "/scratch/richardso21/conda/envs/fgsegnet/lib/python3.6/site-packages/torch/nn/functional.py:1625: UserWarning: nn.functional.sigmoid is deprecated. Use torch.sigmoid instead.\n",
      "  warnings.warn(\"nn.functional.sigmoid is deprecated. Use torch.sigmoid instead.\")\n"
     ]
    },
    {
     "data": {
      "text/plain": [
       "[{'avg_loss': tensor(0.6964, device='cuda:0'), 'avg_acc': tensor(0.6273)}]"
      ]
     },
     "execution_count": 22,
     "metadata": {},
     "output_type": "execute_result"
    }
   ],
   "source": [
    "history = [evaluate(model, val_loader)]\n",
    "history"
   ]
  },
  {
   "cell_type": "code",
   "execution_count": 23,
   "metadata": {
    "execution": {
     "iopub.execute_input": "2021-01-03T20:11:48.267087Z",
     "iopub.status.busy": "2021-01-03T20:11:48.266636Z",
     "iopub.status.idle": "2021-01-03T20:32:08.142421Z",
     "shell.execute_reply": "2021-01-03T20:32:08.140960Z",
     "shell.execute_reply.started": "2021-01-03T20:11:48.267025Z"
    }
   },
   "outputs": [
    {
     "name": "stderr",
     "output_type": "stream",
     "text": [
      "100%|██████████| 496/496 [00:58<00:00,  8.48it/s]\n",
      "  0%|          | 0/496 [00:00<?, ?it/s]"
     ]
    },
    {
     "name": "stdout",
     "output_type": "stream",
     "text": [
      "EPOCH 1          | val_loss:0.619, val_acc (0.7 thr): 0.627\n"
     ]
    },
    {
     "name": "stderr",
     "output_type": "stream",
     "text": [
      "100%|██████████| 496/496 [00:58<00:00,  8.46it/s]\n",
      "  0%|          | 0/496 [00:00<?, ?it/s]"
     ]
    },
    {
     "name": "stdout",
     "output_type": "stream",
     "text": [
      "EPOCH 2          | val_loss:0.450, val_acc (0.7 thr): 0.699\n"
     ]
    },
    {
     "name": "stderr",
     "output_type": "stream",
     "text": [
      "100%|██████████| 496/496 [00:58<00:00,  8.45it/s]\n",
      "  0%|          | 0/496 [00:00<?, ?it/s]"
     ]
    },
    {
     "name": "stdout",
     "output_type": "stream",
     "text": [
      "EPOCH 3          | val_loss:0.853, val_acc (0.7 thr): 0.632\n"
     ]
    },
    {
     "name": "stderr",
     "output_type": "stream",
     "text": [
      "100%|██████████| 496/496 [00:58<00:00,  8.44it/s]\n",
      "  0%|          | 0/496 [00:00<?, ?it/s]"
     ]
    },
    {
     "name": "stdout",
     "output_type": "stream",
     "text": [
      "EPOCH 4          | val_loss:0.512, val_acc (0.7 thr): 0.685\n"
     ]
    },
    {
     "name": "stderr",
     "output_type": "stream",
     "text": [
      "100%|██████████| 496/496 [00:59<00:00,  8.41it/s]\n",
      "  0%|          | 0/496 [00:00<?, ?it/s]"
     ]
    },
    {
     "name": "stdout",
     "output_type": "stream",
     "text": [
      "EPOCH 5          | val_loss:0.806, val_acc (0.7 thr): 0.646\n"
     ]
    },
    {
     "name": "stderr",
     "output_type": "stream",
     "text": [
      "100%|██████████| 496/496 [00:59<00:00,  8.38it/s]\n",
      "  0%|          | 0/496 [00:00<?, ?it/s]"
     ]
    },
    {
     "name": "stdout",
     "output_type": "stream",
     "text": [
      "EPOCH 6          | val_loss:0.608, val_acc (0.7 thr): 0.806\n"
     ]
    },
    {
     "name": "stderr",
     "output_type": "stream",
     "text": [
      "100%|██████████| 496/496 [00:59<00:00,  8.36it/s]\n",
      "  0%|          | 0/496 [00:00<?, ?it/s]"
     ]
    },
    {
     "name": "stdout",
     "output_type": "stream",
     "text": [
      "EPOCH 7          | val_loss:2.491, val_acc (0.7 thr): 0.623\n"
     ]
    },
    {
     "name": "stderr",
     "output_type": "stream",
     "text": [
      "100%|██████████| 496/496 [00:59<00:00,  8.35it/s]\n",
      "  0%|          | 0/496 [00:00<?, ?it/s]"
     ]
    },
    {
     "name": "stdout",
     "output_type": "stream",
     "text": [
      "EPOCH 8          | val_loss:0.418, val_acc (0.7 thr): 0.755\n"
     ]
    },
    {
     "name": "stderr",
     "output_type": "stream",
     "text": [
      "100%|██████████| 496/496 [00:59<00:00,  8.34it/s]\n",
      "  0%|          | 0/496 [00:00<?, ?it/s]"
     ]
    },
    {
     "name": "stdout",
     "output_type": "stream",
     "text": [
      "EPOCH 9          | val_loss:1.607, val_acc (0.7 thr): 0.641\n"
     ]
    },
    {
     "name": "stderr",
     "output_type": "stream",
     "text": [
      "100%|██████████| 496/496 [00:59<00:00,  8.31it/s]\n",
      "  0%|          | 0/496 [00:00<?, ?it/s]"
     ]
    },
    {
     "name": "stdout",
     "output_type": "stream",
     "text": [
      "EPOCH 10         | val_loss:1.040, val_acc (0.7 thr): 0.787\n"
     ]
    },
    {
     "name": "stderr",
     "output_type": "stream",
     "text": [
      "100%|██████████| 496/496 [00:59<00:00,  8.34it/s]\n",
      "  0%|          | 0/496 [00:00<?, ?it/s]"
     ]
    },
    {
     "name": "stdout",
     "output_type": "stream",
     "text": [
      "EPOCH 11         | val_loss:1.019, val_acc (0.7 thr): 0.697\n"
     ]
    },
    {
     "name": "stderr",
     "output_type": "stream",
     "text": [
      "100%|██████████| 496/496 [00:59<00:00,  8.32it/s]\n",
      "  0%|          | 0/496 [00:00<?, ?it/s]"
     ]
    },
    {
     "name": "stdout",
     "output_type": "stream",
     "text": [
      "EPOCH 12         | val_loss:1.547, val_acc (0.7 thr): 0.806\n"
     ]
    },
    {
     "name": "stderr",
     "output_type": "stream",
     "text": [
      "100%|██████████| 496/496 [00:59<00:00,  8.32it/s]\n",
      "  0%|          | 0/496 [00:00<?, ?it/s]"
     ]
    },
    {
     "name": "stdout",
     "output_type": "stream",
     "text": [
      "EPOCH 13         | val_loss:0.725, val_acc (0.7 thr): 0.743\n"
     ]
    },
    {
     "name": "stderr",
     "output_type": "stream",
     "text": [
      "100%|██████████| 496/496 [00:59<00:00,  8.32it/s]\n",
      "  0%|          | 0/496 [00:00<?, ?it/s]"
     ]
    },
    {
     "name": "stdout",
     "output_type": "stream",
     "text": [
      "EPOCH 14         | val_loss:0.642, val_acc (0.7 thr): 0.743\n"
     ]
    },
    {
     "name": "stderr",
     "output_type": "stream",
     "text": [
      "100%|██████████| 496/496 [00:59<00:00,  8.33it/s]\n",
      "  0%|          | 0/496 [00:00<?, ?it/s]"
     ]
    },
    {
     "name": "stdout",
     "output_type": "stream",
     "text": [
      "EPOCH 15         | val_loss:1.133, val_acc (0.7 thr): 0.708\n"
     ]
    },
    {
     "name": "stderr",
     "output_type": "stream",
     "text": [
      "100%|██████████| 496/496 [00:59<00:00,  8.33it/s]\n",
      "  0%|          | 0/496 [00:00<?, ?it/s]"
     ]
    },
    {
     "name": "stdout",
     "output_type": "stream",
     "text": [
      "EPOCH 16         | val_loss:0.763, val_acc (0.7 thr): 0.856\n"
     ]
    },
    {
     "name": "stderr",
     "output_type": "stream",
     "text": [
      "100%|██████████| 496/496 [00:59<00:00,  8.32it/s]\n",
      "  0%|          | 0/496 [00:00<?, ?it/s]"
     ]
    },
    {
     "name": "stdout",
     "output_type": "stream",
     "text": [
      "EPOCH 17         | val_loss:3.864, val_acc (0.7 thr): 0.623\n"
     ]
    },
    {
     "name": "stderr",
     "output_type": "stream",
     "text": [
      "100%|██████████| 496/496 [00:59<00:00,  8.32it/s]\n",
      "  0%|          | 0/496 [00:00<?, ?it/s]"
     ]
    },
    {
     "name": "stdout",
     "output_type": "stream",
     "text": [
      "EPOCH 18         | val_loss:0.645, val_acc (0.7 thr): 0.745\n"
     ]
    },
    {
     "name": "stderr",
     "output_type": "stream",
     "text": [
      "100%|██████████| 496/496 [00:59<00:00,  8.32it/s]\n",
      "  0%|          | 0/496 [00:00<?, ?it/s]"
     ]
    },
    {
     "name": "stdout",
     "output_type": "stream",
     "text": [
      "EPOCH 19         | val_loss:3.879, val_acc (0.7 thr): 0.639\n"
     ]
    },
    {
     "name": "stderr",
     "output_type": "stream",
     "text": [
      "100%|██████████| 496/496 [00:59<00:00,  8.33it/s]\n"
     ]
    },
    {
     "name": "stdout",
     "output_type": "stream",
     "text": [
      "EPOCH 20         | val_loss:2.066, val_acc (0.7 thr): 0.655\n"
     ]
    }
   ],
   "source": [
    "history += fit(20, 1e-5, model, train_loader, val_loader)"
   ]
  },
  {
   "cell_type": "code",
   "execution_count": 24,
   "metadata": {
    "execution": {
     "iopub.execute_input": "2021-01-03T20:32:08.145420Z",
     "iopub.status.busy": "2021-01-03T20:32:08.144996Z",
     "iopub.status.idle": "2021-01-03T20:32:08.149985Z",
     "shell.execute_reply": "2021-01-03T20:32:08.148993Z",
     "shell.execute_reply.started": "2021-01-03T20:32:08.145363Z"
    }
   },
   "outputs": [],
   "source": [
    "# evl = evaluate(model, test_loader)\n",
    "# evl"
   ]
  },
  {
   "cell_type": "code",
   "execution_count": 25,
   "metadata": {
    "execution": {
     "iopub.execute_input": "2021-01-03T20:32:08.151879Z",
     "iopub.status.busy": "2021-01-03T20:32:08.151531Z",
     "iopub.status.idle": "2021-01-03T20:32:08.202618Z",
     "shell.execute_reply": "2021-01-03T20:32:08.201362Z",
     "shell.execute_reply.started": "2021-01-03T20:32:08.151836Z"
    }
   },
   "outputs": [],
   "source": [
    "# torch.save(model.state_dict(), '/scratch/richardso21/20-21_BGSUB/CustomPT12.pth')"
   ]
  },
  {
   "cell_type": "code",
   "execution_count": 26,
   "metadata": {
    "execution": {
     "iopub.execute_input": "2021-01-03T20:32:08.204916Z",
     "iopub.status.busy": "2021-01-03T20:32:08.204505Z",
     "iopub.status.idle": "2021-01-03T20:32:08.218864Z",
     "shell.execute_reply": "2021-01-03T20:32:08.217787Z",
     "shell.execute_reply.started": "2021-01-03T20:32:08.204864Z"
    }
   },
   "outputs": [],
   "source": [
    "# history += fit(15, 1e-6, model, train_loader, val_loader)"
   ]
  },
  {
   "cell_type": "code",
   "execution_count": 27,
   "metadata": {
    "execution": {
     "iopub.execute_input": "2021-01-03T20:32:08.224164Z",
     "iopub.status.busy": "2021-01-03T20:32:08.223764Z",
     "iopub.status.idle": "2021-01-03T20:32:08.244139Z",
     "shell.execute_reply": "2021-01-03T20:32:08.242966Z",
     "shell.execute_reply.started": "2021-01-03T20:32:08.224115Z"
    }
   },
   "outputs": [],
   "source": [
    "# evl2 = evaluate(model, test_loader)\n",
    "# evl2"
   ]
  },
  {
   "cell_type": "code",
   "execution_count": 28,
   "metadata": {
    "execution": {
     "iopub.execute_input": "2021-01-03T20:32:08.246545Z",
     "iopub.status.busy": "2021-01-03T20:32:08.246136Z",
     "iopub.status.idle": "2021-01-03T20:32:08.269535Z",
     "shell.execute_reply": "2021-01-03T20:32:08.268285Z",
     "shell.execute_reply.started": "2021-01-03T20:32:08.246495Z"
    }
   },
   "outputs": [],
   "source": [
    "# torch.save(model.state_dict(), '/scratch/richardso21/20-21_BGSUB/CustomPT12.pth')"
   ]
  },
  {
   "cell_type": "code",
   "execution_count": 29,
   "metadata": {
    "execution": {
     "iopub.execute_input": "2021-01-03T20:32:08.271785Z",
     "iopub.status.busy": "2021-01-03T20:32:08.271376Z",
     "iopub.status.idle": "2021-01-03T20:32:08.294525Z",
     "shell.execute_reply": "2021-01-03T20:32:08.293277Z",
     "shell.execute_reply.started": "2021-01-03T20:32:08.271732Z"
    }
   },
   "outputs": [],
   "source": [
    "# torch.cuda.empty_cache()"
   ]
  },
  {
   "cell_type": "code",
   "execution_count": null,
   "metadata": {},
   "outputs": [],
   "source": []
  }
 ],
 "metadata": {
  "kernelspec": {
   "display_name": "Python 3",
   "language": "python",
   "name": "python3"
  },
  "language_info": {
   "codemirror_mode": {
    "name": "ipython",
    "version": 3
   },
   "file_extension": ".py",
   "mimetype": "text/x-python",
   "name": "python",
   "nbconvert_exporter": "python",
   "pygments_lexer": "ipython3",
   "version": "3.6.10"
  }
 },
 "nbformat": 4,
 "nbformat_minor": 4
}
