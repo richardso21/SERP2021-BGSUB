{
 "cells": [
  {
   "cell_type": "code",
   "execution_count": 1,
   "metadata": {
    "execution": {
     "iopub.execute_input": "2020-12-21T23:12:42.011951Z",
     "iopub.status.busy": "2020-12-21T23:12:42.011483Z",
     "iopub.status.idle": "2020-12-21T23:12:46.803621Z",
     "shell.execute_reply": "2020-12-21T23:12:46.802638Z",
     "shell.execute_reply.started": "2020-12-21T23:12:42.011894Z"
    }
   },
   "outputs": [],
   "source": [
    "import h5py, os, torch\n",
    "from pathlib import Path\n",
    "import torch.nn as nn\n",
    "import torch.nn.functional as F\n",
    "from torch.utils.data import random_split, DataLoader, Dataset\n",
    "import torchvision\n",
    "import numpy as np\n",
    "import pandas as pd\n",
    "import matplotlib.pyplot as plt\n",
    "from tqdm import tqdm"
   ]
  },
  {
   "cell_type": "markdown",
   "metadata": {},
   "source": [
    "## Outline\n",
    " - Generate a specific model for each scene\n",
    "     - Each location: 1600 images w/o presence, 800 imags w/ presence\n",
    " - Create Dataloader\n",
    "     - 80-20 split for training/testing (validation?)\n",
    "     - Each img (input size): 1024 x 720 px\n",
    " - Model Architecture\n",
    "     - Modified VGG16?\n",
    "     - Custom CNN architecture?\n",
    "     - Concatenate pixel values and put in logistic regression?"
   ]
  },
  {
   "cell_type": "markdown",
   "metadata": {},
   "source": [
    "---"
   ]
  },
  {
   "cell_type": "markdown",
   "metadata": {},
   "source": [
    "## Model Base/Helpers/Train & Test functions"
   ]
  },
  {
   "cell_type": "code",
   "execution_count": 2,
   "metadata": {
    "execution": {
     "iopub.execute_input": "2020-12-21T23:12:46.805419Z",
     "iopub.status.busy": "2020-12-21T23:12:46.805137Z",
     "iopub.status.idle": "2020-12-21T23:12:46.811273Z",
     "shell.execute_reply": "2020-12-21T23:12:46.810389Z",
     "shell.execute_reply.started": "2020-12-21T23:12:46.805381Z"
    }
   },
   "outputs": [],
   "source": [
    "def accuracy(outs, labels):\n",
    "    res = {}\n",
    "    # check accuracy for 3 different thresholds\n",
    "    for th in [.50, .75, .80]:\n",
    "        outs_th = outs >= th\n",
    "        # append onto result dictionary to be returned to function that called `accuracy()`\n",
    "        res[th] = torch.tensor(torch.sum(outs_th == labels).item() / len(outs))\n",
    "    return res"
   ]
  },
  {
   "cell_type": "code",
   "execution_count": 3,
   "metadata": {
    "execution": {
     "iopub.execute_input": "2020-12-21T23:12:46.814313Z",
     "iopub.status.busy": "2020-12-21T23:12:46.814023Z",
     "iopub.status.idle": "2020-12-21T23:12:46.856235Z",
     "shell.execute_reply": "2020-12-21T23:12:46.855343Z",
     "shell.execute_reply.started": "2020-12-21T23:12:46.814278Z"
    }
   },
   "outputs": [],
   "source": [
    "class ModelBase(nn.Module):\n",
    "#     training step\n",
    "    def train_step(self, batch):\n",
    "        xb, labels = batch\n",
    "#         xb = xb.float()\n",
    "#         labels = labels.float()\n",
    "        outs = self(xb)\n",
    "        loss = F.binary_cross_entropy(outs, labels)\n",
    "        return loss\n",
    "#     validation step\n",
    "    def val_step(self, batch):\n",
    "        xb, labels = batch\n",
    "#         xb = xb.float()\n",
    "#         labels = labels.float()\n",
    "        outs = self(xb)\n",
    "        loss = F.binary_cross_entropy(outs, labels)\n",
    "        acc = accuracy(outs, labels)\n",
    "        return {'loss': loss.detach(), 'acc': acc}\n",
    "#     validation epoch (avg accuracies and losses)\n",
    "    def val_epoch_end(self, outputs):\n",
    "        for i in range(10):\n",
    "            print(outputs[i])\n",
    "        batch_loss = [x['loss'] for x in outputs]\n",
    "        avg_loss = torch.stack(batch_loss).mean()\n",
    "        batch_acc50 = [x['acc'][.50] for x in outputs]\n",
    "        batch_acc75 = [x['acc'][.75] for x in outputs]\n",
    "        batch_acc80 = [x['acc'][.80] for x in outputs]\n",
    "        avg_acc50 = torch.stack(batch_acc50).mean()\n",
    "        avg_acc75 = torch.stack(batch_acc75).mean()\n",
    "        avg_acc80 = torch.stack(batch_acc80).mean()\n",
    "        return {'avg_loss': avg_loss, 'avg_acc': [avg_acc50, avg_acc75, avg_acc80]}\n",
    "#     print everything important\n",
    "    def epoch_end(self, epoch, avgs, test=False):\n",
    "        s = 'test' if test else 'val'\n",
    "        print(f'EPOCH {epoch + 1:<10} | {s}_loss:{avgs[\"avg_loss\"]:.3f}, {s}_acc (threshold): (.50){avgs[\"avg_acc\"][0]:.3f}, (.75){avgs[\"avg_acc\"][1]:.3f}, (.80){avgs[\"avg_acc\"][2]:.3f}')"
   ]
  },
  {
   "cell_type": "code",
   "execution_count": 4,
   "metadata": {
    "execution": {
     "iopub.execute_input": "2020-12-21T23:12:46.857994Z",
     "iopub.status.busy": "2020-12-21T23:12:46.857722Z",
     "iopub.status.idle": "2020-12-21T23:12:46.888487Z",
     "shell.execute_reply": "2020-12-21T23:12:46.887427Z",
     "shell.execute_reply.started": "2020-12-21T23:12:46.857959Z"
    }
   },
   "outputs": [],
   "source": [
    "@torch.no_grad()\n",
    "def evaluate(model, val_dl):\n",
    "    # eval mode\n",
    "    model.eval()\n",
    "    outputs = [model.val_step(batch) for batch in val_dl]\n",
    "    return model.val_epoch_end(outputs)\n",
    "\n",
    "\n",
    "def fit(epochs, lr, model, train_dl, val_dl, opt_func=torch.optim.Adam):\n",
    "    torch.cuda.empty_cache()\n",
    "    history = []\n",
    "    # define optimizer\n",
    "    optimizer = opt_func(model.parameters(), lr)\n",
    "    # for each epoch...\n",
    "    for epoch in range(epochs):\n",
    "        # training mode\n",
    "        model.train()\n",
    "        # (training) for each batch in train_dl...\n",
    "        for batch in tqdm(train_dl):\n",
    "            # pass thru model\n",
    "            loss = model.train_step(batch)\n",
    "            # perform gradient descent\n",
    "            loss.backward()\n",
    "            optimizer.step()\n",
    "            optimizer.zero_grad()\n",
    "        # validation\n",
    "        res = evaluate(model, val_dl)\n",
    "        # print everything useful\n",
    "        model.epoch_end(epoch, res, test=False)\n",
    "        # append to history\n",
    "        history.append(res)\n",
    "    return history"
   ]
  },
  {
   "cell_type": "markdown",
   "metadata": {},
   "source": [
    "---"
   ]
  },
  {
   "cell_type": "markdown",
   "metadata": {},
   "source": [
    "## Models"
   ]
  },
  {
   "cell_type": "code",
   "execution_count": 5,
   "metadata": {
    "execution": {
     "iopub.execute_input": "2020-12-21T23:12:46.890496Z",
     "iopub.status.busy": "2020-12-21T23:12:46.890089Z",
     "iopub.status.idle": "2020-12-21T23:12:46.913053Z",
     "shell.execute_reply": "2020-12-21T23:12:46.912032Z",
     "shell.execute_reply.started": "2020-12-21T23:12:46.890445Z"
    }
   },
   "outputs": [],
   "source": [
    "class VGG16_PT(ModelBase):\n",
    "    def __init__(self):\n",
    "        super().__init__()\n",
    "#         pretrained VGG16 model w/ batch norm\n",
    "        self.network = torchvision.models.vgg16_bn(pretrained=True)\n",
    "#         change first layer to accept only 1 dimension of color (b/w)\n",
    "        self.network.features[0] = nn.Conv2d(1, 64, kernel_size=3, stride=1, padding=1)\n",
    "#         change last fc layer to output one value\n",
    "        self.network.classifier[6] = nn.Linear(4096, 1, bias=True)\n",
    "        \n",
    "    def forward(self, xb):\n",
    "        out = self.network(xb)\n",
    "        out = F.sigmoid(out)\n",
    "        return out"
   ]
  },
  {
   "cell_type": "code",
   "execution_count": 6,
   "metadata": {
    "execution": {
     "iopub.execute_input": "2020-12-21T23:12:46.914950Z",
     "iopub.status.busy": "2020-12-21T23:12:46.914589Z",
     "iopub.status.idle": "2020-12-21T23:12:46.939928Z",
     "shell.execute_reply": "2020-12-21T23:12:46.938915Z",
     "shell.execute_reply.started": "2020-12-21T23:12:46.914904Z"
    }
   },
   "outputs": [],
   "source": [
    "class VGG11_PT(ModelBase):\n",
    "    def __init__(self):\n",
    "        super().__init__()\n",
    "#         pretrained VGG16 model w/ batch norm\n",
    "        self.network = torchvision.models.vgg11_bn(pretrained=True)\n",
    "#         change first layer to accept only 1 dimension of color (b/w)\n",
    "        self.network.features[0] = nn.Conv2d(1, 64, kernel_size=3, stride=1, padding=1)\n",
    "#         change last fc layer to output one value\n",
    "        self.network.classifier[6] = nn.Linear(4096, 1, bias=True)\n",
    "        \n",
    "    def forward(self, xb):\n",
    "        out = self.network(xb)\n",
    "        out = F.sigmoid(out)\n",
    "        return out"
   ]
  },
  {
   "cell_type": "code",
   "execution_count": 7,
   "metadata": {
    "execution": {
     "iopub.execute_input": "2020-12-21T23:12:46.941838Z",
     "iopub.status.busy": "2020-12-21T23:12:46.941484Z",
     "iopub.status.idle": "2020-12-21T23:12:46.960635Z",
     "shell.execute_reply": "2020-12-21T23:12:46.959717Z",
     "shell.execute_reply.started": "2020-12-21T23:12:46.941792Z"
    }
   },
   "outputs": [],
   "source": [
    "# class Custom_NPT(ModelBase):\n",
    "#     def __init__(self):\n",
    "#         super().__init__()                                       # 1 x 1024 x 720\n",
    "# #         custom-defined model w/o pretrained weights\n",
    "#         self.conv1 = nn.Conv2d(1, 8, kernel_size=3, padding=1)   # 8 x 1024 x 720\n",
    "#         self.conv2 = nn.Conv2d(8, 16, kernel_size=3, padding=1)  # 16 x 1024 x 720\n",
    "#         self.pool1 = nn.MaxPool2d(2)                             # 16 x 512 x 360\n",
    "#         self.conv3 = nn.Conv2d(16, 32, kernel_size=3, padding=1) # 32 x 512 x 360\n",
    "#         self.conv4 = nn.Conv2d(32, 32, kernel_size=3, padding=1) # 32 x 512 x 360\n",
    "#         self.pool2 = nn.MaxPool2d(2)                             # 32 x 256 x 180\n",
    "#         self.conv5 = nn.Conv2d(32, 16, kernel_size=3, padding=1) # 16 x 256 x 180\n",
    "#         self.pool3 = nn.MaxPool2d(2)                             # 8 x 256 x 180\n",
    "#         self.fc1 = nn.Linear(8*256*180, 4096)\n",
    "#         self.fc2 = nn.Linear(4096, 512)\n",
    "#         self.fc3 = nn.Linear(512, 1)\n",
    "        \n",
    "#     def forward(self, xb):\n",
    "#         out = F.relu(self.conv1(xb))\n",
    "#         out = F.relu(self.conv2(out))\n",
    "#         out = self.pool1(out)\n",
    "#         out = F.relu(self.conv3(out))\n",
    "#         out = F.relu(self.conv4(out))\n",
    "#         out = self.pool2(out)\n",
    "#         out = F.relu(self.conv5(out))\n",
    "#         out = self.pool3(out)\n",
    "        \n",
    "#         out = torch.flatten(out, 1)\n",
    "#         out = F.relu(self.fc1(out))"
   ]
  },
  {
   "cell_type": "code",
   "execution_count": 8,
   "metadata": {
    "execution": {
     "iopub.execute_input": "2020-12-21T23:12:46.962518Z",
     "iopub.status.busy": "2020-12-21T23:12:46.962160Z",
     "iopub.status.idle": "2020-12-21T23:12:46.986864Z",
     "shell.execute_reply": "2020-12-21T23:12:46.985867Z",
     "shell.execute_reply.started": "2020-12-21T23:12:46.962472Z"
    }
   },
   "outputs": [],
   "source": [
    "class VGG16_NPT(ModelBase):\n",
    "    def __init__(self):\n",
    "        super().__init__()\n",
    "#         pretrained VGG16 model w/ batch norm\n",
    "        self.network = torchvision.models.vgg16_bn(pretrained=False)\n",
    "#         change first layer to accept only 1 dimension of color (b/w)\n",
    "        self.network.features[0] = nn.Conv2d(1, 64, kernel_size=3, stride=1, padding=1)\n",
    "#         change last fc layer to output one value\n",
    "        self.network.classifier[6] = nn.Linear(4096, 1, bias=True)\n",
    "        \n",
    "    def forward(self, xb):\n",
    "        out = self.network(xb)\n",
    "        out = F.sigmoid(out)\n",
    "        return out"
   ]
  },
  {
   "cell_type": "markdown",
   "metadata": {},
   "source": [
    "---"
   ]
  },
  {
   "cell_type": "markdown",
   "metadata": {},
   "source": [
    "## DataSet & DataLoader"
   ]
  },
  {
   "cell_type": "code",
   "execution_count": 9,
   "metadata": {
    "execution": {
     "iopub.execute_input": "2020-12-21T23:12:46.989482Z",
     "iopub.status.busy": "2020-12-21T23:12:46.989147Z",
     "iopub.status.idle": "2020-12-21T23:12:47.005512Z",
     "shell.execute_reply": "2020-12-21T23:12:47.004670Z",
     "shell.execute_reply.started": "2020-12-21T23:12:46.989438Z"
    }
   },
   "outputs": [],
   "source": [
    "# class Prudhoe_DS(Dataset):\n",
    "#     def __init__(self, h5_pth, transforms=None):\n",
    "#         self.transforms = transforms\n",
    "#         self.h5_pth = h5_pth\n",
    "#         self.mask_locs = []\n",
    "        \n",
    "#         with h5py.File(self.h5_pth, 'r') as F:\n",
    "#             pos_shape = F['POS'].attrs['shape'][0]\n",
    "#             neg_shape = F['NEG'].attrs['shape'][0]\n",
    "#             for shape, key in zip([pos_shape, neg_shape], ['POS', 'NEG']):\n",
    "#                 for i in range(shape):\n",
    "#                     self.mask_locs.append({'key': key,\n",
    "#                                           'key_idx': i})\n",
    "        \n",
    "#     def __len__(self):\n",
    "#         return len(self.mask_locs)\n",
    "    \n",
    "#     def __getitem__(self, idx):\n",
    "#         mask_loc = self.mask_locs[idx]\n",
    "#         with h5py.File(self.h5_pth, 'r') as F:\n",
    "#             mask = F[mask_loc['key']][mask_loc['key_idx']]\n",
    "#             mask = np.array(mask)\n",
    "            \n",
    "#             if self.transforms:\n",
    "#                 mask = self.transforms()(mask)\n",
    "# #             mask = mask.unsqueeze(0)\n",
    "            \n",
    "#         label = 1 if mask_loc['key'] == 'POS' else 0\n",
    "#         return mask, label"
   ]
  },
  {
   "cell_type": "code",
   "execution_count": 10,
   "metadata": {
    "execution": {
     "iopub.execute_input": "2020-12-21T23:12:47.007270Z",
     "iopub.status.busy": "2020-12-21T23:12:47.006951Z",
     "iopub.status.idle": "2020-12-21T23:12:47.025980Z",
     "shell.execute_reply": "2020-12-21T23:12:47.025022Z",
     "shell.execute_reply.started": "2020-12-21T23:12:47.007228Z"
    }
   },
   "outputs": [],
   "source": [
    "# class Prudhoe_DS_v2(Dataset):\n",
    "#     def __init__(self, h5_pth, transforms=None):\n",
    "#         self.transforms = transforms\n",
    "#         self.h5_pth = h5_pth\n",
    "#         self.masks = []\n",
    "#         self.labels = []\n",
    "        \n",
    "#         with h5py.File(self.h5_pth, 'r') as F:\n",
    "#             pos = F['POS']\n",
    "#             neg = F['NEG']\n",
    "#             pos_len = pos.attrs['shape'][0]\n",
    "#             neg_len = neg.attrs['shape'][0]\n",
    "            \n",
    "#             self.masks = np.expand_dims(np.vstack([pos, neg]), axis=1).astype('float32')\n",
    "#             self.labels = np.concatenate([np.ones(pos_len),\n",
    "#                                           np.zeros(neg_len)]).astype('float32')\n",
    "        \n",
    "#     def __len__(self):\n",
    "#         return len(self.labels)\n",
    "    \n",
    "#     def __getitem__(self, idx):\n",
    "#         mask = self.masks[idx]\n",
    "#         label = self.labels[idx]\n",
    "        \n",
    "#         return mask, label"
   ]
  },
  {
   "cell_type": "code",
   "execution_count": 44,
   "metadata": {
    "execution": {
     "iopub.execute_input": "2020-12-21T23:17:37.791111Z",
     "iopub.status.busy": "2020-12-21T23:17:37.790653Z",
     "iopub.status.idle": "2020-12-21T23:17:37.806969Z",
     "shell.execute_reply": "2020-12-21T23:17:37.805906Z",
     "shell.execute_reply.started": "2020-12-21T23:17:37.791057Z"
    }
   },
   "outputs": [],
   "source": [
    "class Prudhoe_DS(Dataset):\n",
    "    def __init__(self, npy_pth, transforms=None):\n",
    "        self.transforms = transforms\n",
    "        self.npy_pth = npy_pth\n",
    "        self.masks_loc = []\n",
    "        self.labels = []\n",
    "        \n",
    "        for typ in ['pos', 'neg']:\n",
    "            for fn in os.listdir(os.path.join(self.npy_pth, typ)):\n",
    "                \n",
    "                full_fn = os.path.join(self.npy_pth, typ, fn)\n",
    "                self.masks_loc.append(full_fn)\n",
    "#                 masks.append(np.load(full_fn))\n",
    "                \n",
    "                label = 1 if typ == 'pos' else 0\n",
    "                self.labels.append(label)\n",
    "        \n",
    "        self.masks_loc = np.array(self.masks_loc)\n",
    "        self.labels = np.array(self.labels).astype('float32')\n",
    "        \n",
    "    def __len__(self):\n",
    "        return len(self.labels)\n",
    "    \n",
    "    def __getitem__(self, idx):\n",
    "        mask = np.expand_dims(np.load(self.masks_loc[idx]), axis=0).astype('float32')\n",
    "        label = self.labels[idx]\n",
    "        \n",
    "        if self.transforms:\n",
    "            mask = self.transforms()(mask)\n",
    "        \n",
    "        return mask, label"
   ]
  },
  {
   "cell_type": "markdown",
   "metadata": {},
   "source": [
    "---"
   ]
  },
  {
   "cell_type": "code",
   "execution_count": 45,
   "metadata": {
    "execution": {
     "iopub.execute_input": "2020-12-21T23:17:39.562554Z",
     "iopub.status.busy": "2020-12-21T23:17:39.562072Z",
     "iopub.status.idle": "2020-12-21T23:17:39.569763Z",
     "shell.execute_reply": "2020-12-21T23:17:39.568696Z",
     "shell.execute_reply.started": "2020-12-21T23:17:39.562500Z"
    }
   },
   "outputs": [
    {
     "data": {
      "text/plain": [
       "<torch._C.Generator at 0x7f0fdce62d80>"
      ]
     },
     "execution_count": 45,
     "metadata": {},
     "output_type": "execute_result"
    }
   ],
   "source": [
    "torch.manual_seed(42)"
   ]
  },
  {
   "cell_type": "code",
   "execution_count": 46,
   "metadata": {
    "execution": {
     "iopub.execute_input": "2020-12-21T23:17:39.693268Z",
     "iopub.status.busy": "2020-12-21T23:17:39.692869Z",
     "iopub.status.idle": "2020-12-21T23:17:39.698036Z",
     "shell.execute_reply": "2020-12-21T23:17:39.696943Z",
     "shell.execute_reply.started": "2020-12-21T23:17:39.693218Z"
    }
   },
   "outputs": [],
   "source": [
    "PTH = '/scratch/richardso21/20-21_BGSUB/'\n",
    "site = 'prudhoe_12'"
   ]
  },
  {
   "cell_type": "code",
   "execution_count": 47,
   "metadata": {
    "execution": {
     "iopub.execute_input": "2020-12-21T23:17:39.818345Z",
     "iopub.status.busy": "2020-12-21T23:17:39.817931Z",
     "iopub.status.idle": "2020-12-21T23:17:39.823448Z",
     "shell.execute_reply": "2020-12-21T23:17:39.822387Z",
     "shell.execute_reply.started": "2020-12-21T23:17:39.818294Z"
    }
   },
   "outputs": [],
   "source": [
    "npy_pth = os.path.join(PTH, 'FgSegNet_O_neg', site)"
   ]
  },
  {
   "cell_type": "code",
   "execution_count": 48,
   "metadata": {
    "execution": {
     "iopub.execute_input": "2020-12-21T23:17:40.294085Z",
     "iopub.status.busy": "2020-12-21T23:17:40.293638Z",
     "iopub.status.idle": "2020-12-21T23:17:40.318981Z",
     "shell.execute_reply": "2020-12-21T23:17:40.317869Z",
     "shell.execute_reply.started": "2020-12-21T23:17:40.294032Z"
    }
   },
   "outputs": [],
   "source": [
    "ds = Prudhoe_DS(npy_pth)\n",
    "ds_size = len(ds)"
   ]
  },
  {
   "cell_type": "code",
   "execution_count": 49,
   "metadata": {
    "execution": {
     "iopub.execute_input": "2020-12-21T23:17:42.683444Z",
     "iopub.status.busy": "2020-12-21T23:17:42.682984Z",
     "iopub.status.idle": "2020-12-21T23:17:42.694221Z",
     "shell.execute_reply": "2020-12-21T23:17:42.693207Z",
     "shell.execute_reply.started": "2020-12-21T23:17:42.683389Z"
    }
   },
   "outputs": [
    {
     "name": "stdout",
     "output_type": "stream",
     "text": [
      "(array([[[1.2868643e-04, 6.1452389e-05, 8.2254410e-06, ...,\n",
      "         1.6927719e-05, 7.4401498e-04, 3.2204390e-04],\n",
      "        [2.0653009e-05, 3.2186508e-06, 2.9802322e-07, ...,\n",
      "         9.5367432e-07, 5.9902668e-06, 1.9371510e-05],\n",
      "        [2.9802322e-08, 0.0000000e+00, 0.0000000e+00, ...,\n",
      "         0.0000000e+00, 1.1920929e-07, 5.9604645e-07],\n",
      "        ...,\n",
      "        [1.6236305e-04, 4.7922134e-05, 9.8943710e-06, ...,\n",
      "         1.3113022e-06, 2.9802322e-06, 2.2053719e-05],\n",
      "        [8.2269311e-04, 2.0080805e-04, 3.0159950e-05, ...,\n",
      "         1.7285347e-06, 4.9769878e-06, 4.7773123e-05],\n",
      "        [3.6109984e-03, 9.2419982e-04, 2.3967028e-04, ...,\n",
      "         2.1070242e-05, 5.3763390e-05, 3.7041306e-04]]], dtype=float32), 1.0) (1, 720, 1024)\n"
     ]
    }
   ],
   "source": [
    "for i in ds:\n",
    "    print(i, i[0].shape)\n",
    "    break"
   ]
  },
  {
   "cell_type": "code",
   "execution_count": 50,
   "metadata": {
    "execution": {
     "iopub.execute_input": "2020-12-21T23:17:49.860741Z",
     "iopub.status.busy": "2020-12-21T23:17:49.860282Z",
     "iopub.status.idle": "2020-12-21T23:17:49.869623Z",
     "shell.execute_reply": "2020-12-21T23:17:49.868510Z",
     "shell.execute_reply.started": "2020-12-21T23:17:49.860686Z"
    }
   },
   "outputs": [],
   "source": [
    "train_size = int(ds_size * .70)\n",
    "val_size = (ds_size - train_size) // 2\n",
    "test_size = ds_size - train_size - val_size"
   ]
  },
  {
   "cell_type": "code",
   "execution_count": 51,
   "metadata": {
    "execution": {
     "iopub.execute_input": "2020-12-21T23:17:50.003817Z",
     "iopub.status.busy": "2020-12-21T23:17:50.003412Z",
     "iopub.status.idle": "2020-12-21T23:17:50.009819Z",
     "shell.execute_reply": "2020-12-21T23:17:50.008758Z",
     "shell.execute_reply.started": "2020-12-21T23:17:50.003766Z"
    }
   },
   "outputs": [],
   "source": [
    "train_ds, val_ds, test_ds = random_split(ds, [train_size, val_size, test_size])"
   ]
  },
  {
   "cell_type": "code",
   "execution_count": 52,
   "metadata": {
    "execution": {
     "iopub.execute_input": "2020-12-21T23:17:50.463128Z",
     "iopub.status.busy": "2020-12-21T23:17:50.462739Z",
     "iopub.status.idle": "2020-12-21T23:17:50.467700Z",
     "shell.execute_reply": "2020-12-21T23:17:50.466655Z",
     "shell.execute_reply.started": "2020-12-21T23:17:50.463079Z"
    }
   },
   "outputs": [],
   "source": [
    "batch_size = 4"
   ]
  },
  {
   "cell_type": "code",
   "execution_count": 53,
   "metadata": {
    "execution": {
     "iopub.execute_input": "2020-12-21T23:17:52.215749Z",
     "iopub.status.busy": "2020-12-21T23:17:52.215294Z",
     "iopub.status.idle": "2020-12-21T23:17:52.223686Z",
     "shell.execute_reply": "2020-12-21T23:17:52.222593Z",
     "shell.execute_reply.started": "2020-12-21T23:17:52.215696Z"
    }
   },
   "outputs": [],
   "source": [
    "train_loader = DataLoader(train_ds, batch_size, shuffle=True, pin_memory=True, num_workers=4)\n",
    "val_loader = DataLoader(val_ds, batch_size*2, pin_memory=True, num_workers=4)\n",
    "test_loader = DataLoader(test_ds, batch_size*2, pin_memory=True, num_workers=4)"
   ]
  },
  {
   "cell_type": "code",
   "execution_count": 54,
   "metadata": {
    "execution": {
     "iopub.execute_input": "2020-12-21T23:17:52.365611Z",
     "iopub.status.busy": "2020-12-21T23:17:52.365222Z",
     "iopub.status.idle": "2020-12-21T23:17:52.370455Z",
     "shell.execute_reply": "2020-12-21T23:17:52.369486Z",
     "shell.execute_reply.started": "2020-12-21T23:17:52.365562Z"
    }
   },
   "outputs": [],
   "source": [
    "from torchvision.utils import make_grid"
   ]
  },
  {
   "cell_type": "code",
   "execution_count": 62,
   "metadata": {
    "execution": {
     "iopub.execute_input": "2020-12-21T23:20:34.462800Z",
     "iopub.status.busy": "2020-12-21T23:20:34.462269Z",
     "iopub.status.idle": "2020-12-21T23:20:35.711280Z",
     "shell.execute_reply": "2020-12-21T23:20:35.709999Z",
     "shell.execute_reply.started": "2020-12-21T23:20:34.462732Z"
    }
   },
   "outputs": [
    {
     "name": "stdout",
     "output_type": "stream",
     "text": [
      "images.shape: torch.Size([4, 1, 720, 1024])\n",
      "tensor([0., 0., 1., 0.])\n"
     ]
    },
    {
     "data": {
      "image/png": "[encoded data removed]",
      "text/plain": [
       "<Figure size 864x432 with 1 Axes>"
      ]
     },
     "metadata": {
      "needs_background": "light"
     },
     "output_type": "display_data"
    }
   ],
   "source": [
    "for images, _ in train_loader:\n",
    "    print('images.shape:', images.shape)\n",
    "    print(_)\n",
    "    plt.figure(figsize=(12,6))\n",
    "    plt.axis('off')\n",
    "    plt.imshow(make_grid(images, nrow=2).permute((1, 2, 0)))\n",
    "    break"
   ]
  },
  {
   "cell_type": "markdown",
   "metadata": {},
   "source": [
    "---"
   ]
  },
  {
   "cell_type": "code",
   "execution_count": 30,
   "metadata": {
    "execution": {
     "iopub.execute_input": "2020-10-27T01:37:24.652645Z",
     "iopub.status.busy": "2020-10-27T01:37:24.652241Z",
     "iopub.status.idle": "2020-10-27T01:37:24.692319Z",
     "shell.execute_reply": "2020-10-27T01:37:24.691354Z",
     "shell.execute_reply.started": "2020-10-27T01:37:24.652591Z"
    }
   },
   "outputs": [],
   "source": [
    "def get_default_device():\n",
    "    \"\"\"Pick GPU if available, else CPU\"\"\"\n",
    "    if torch.cuda.is_available():\n",
    "        return torch.device('cuda')\n",
    "    else:\n",
    "        return torch.device('cpu')"
   ]
  },
  {
   "cell_type": "code",
   "execution_count": 31,
   "metadata": {
    "execution": {
     "iopub.execute_input": "2020-10-27T01:37:24.693966Z",
     "iopub.status.busy": "2020-10-27T01:37:24.693604Z",
     "iopub.status.idle": "2020-10-27T01:37:29.106723Z",
     "shell.execute_reply": "2020-10-27T01:37:29.105802Z",
     "shell.execute_reply.started": "2020-10-27T01:37:24.693918Z"
    }
   },
   "outputs": [
    {
     "data": {
      "text/plain": [
       "device(type='cuda')"
      ]
     },
     "execution_count": 31,
     "metadata": {},
     "output_type": "execute_result"
    }
   ],
   "source": [
    "device = get_default_device()\n",
    "device"
   ]
  },
  {
   "cell_type": "code",
   "execution_count": 32,
   "metadata": {
    "execution": {
     "iopub.execute_input": "2020-10-27T01:37:29.109145Z",
     "iopub.status.busy": "2020-10-27T01:37:29.108465Z",
     "iopub.status.idle": "2020-10-27T01:37:29.151659Z",
     "shell.execute_reply": "2020-10-27T01:37:29.150873Z",
     "shell.execute_reply.started": "2020-10-27T01:37:29.109093Z"
    }
   },
   "outputs": [],
   "source": [
    "def to_device(data, device):\n",
    "    \"\"\"Move tensor(s) to chosen device\"\"\"\n",
    "    if isinstance(data, (list,tuple)):\n",
    "        return [to_device(x, device) for x in data]\n",
    "    return data.to(device, non_blocking=True)\n",
    "\n",
    "class DeviceDataLoader():\n",
    "    \"\"\"Wrap a dataloader to move data to a device\"\"\"\n",
    "    def __init__(self, dl, device):\n",
    "        self.dl = dl\n",
    "        self.device = device\n",
    "        \n",
    "    def __iter__(self):\n",
    "        \"\"\"Yield a batch of data after moving it to device\"\"\"\n",
    "        for b in self.dl: \n",
    "            yield to_device(b, self.device)\n",
    "\n",
    "    def __len__(self):\n",
    "        \"\"\"Number of batches\"\"\"\n",
    "        return len(self.dl)"
   ]
  },
  {
   "cell_type": "code",
   "execution_count": 33,
   "metadata": {
    "execution": {
     "iopub.execute_input": "2020-10-27T01:37:29.153179Z",
     "iopub.status.busy": "2020-10-27T01:37:29.152934Z",
     "iopub.status.idle": "2020-10-27T01:37:29.215580Z",
     "shell.execute_reply": "2020-10-27T01:37:29.214584Z",
     "shell.execute_reply.started": "2020-10-27T01:37:29.153147Z"
    }
   },
   "outputs": [],
   "source": [
    "train_loader = DeviceDataLoader(train_loader, device)\n",
    "val_loader = DeviceDataLoader(val_loader, device)\n",
    "test_loader = DeviceDataLoader(test_loader, device)"
   ]
  },
  {
   "cell_type": "code",
   "execution_count": 34,
   "metadata": {
    "execution": {
     "iopub.execute_input": "2020-10-27T01:37:29.217351Z",
     "iopub.status.busy": "2020-10-27T01:37:29.217004Z",
     "iopub.status.idle": "2020-10-27T01:37:45.874917Z",
     "shell.execute_reply": "2020-10-27T01:37:45.872315Z",
     "shell.execute_reply.started": "2020-10-27T01:37:29.217304Z"
    }
   },
   "outputs": [],
   "source": [
    "model = to_device(VGG11_PT(), device)"
   ]
  },
  {
   "cell_type": "code",
   "execution_count": 35,
   "metadata": {
    "execution": {
     "iopub.execute_input": "2020-10-27T01:37:45.880291Z",
     "iopub.status.busy": "2020-10-27T01:37:45.879018Z",
     "iopub.status.idle": "2020-10-27T01:37:45.888544Z",
     "shell.execute_reply": "2020-10-27T01:37:45.887502Z",
     "shell.execute_reply.started": "2020-10-27T01:37:45.880216Z"
    }
   },
   "outputs": [],
   "source": [
    "# model = model.double()"
   ]
  },
  {
   "cell_type": "code",
   "execution_count": 36,
   "metadata": {
    "execution": {
     "iopub.execute_input": "2020-10-27T01:37:45.891948Z",
     "iopub.status.busy": "2020-10-27T01:37:45.890169Z",
     "iopub.status.idle": "2020-10-27T01:38:01.736383Z",
     "shell.execute_reply": "2020-10-27T01:38:01.735400Z",
     "shell.execute_reply.started": "2020-10-27T01:37:45.891900Z"
    }
   },
   "outputs": [
    {
     "name": "stderr",
     "output_type": "stream",
     "text": [
      "/scratch/richardso21/conda/envs/fgsegnet/lib/python3.6/site-packages/torch/nn/functional.py:1625: UserWarning: nn.functional.sigmoid is deprecated. Use torch.sigmoid instead.\n",
      "  warnings.warn(\"nn.functional.sigmoid is deprecated. Use torch.sigmoid instead.\")\n",
      "/scratch/richardso21/conda/envs/fgsegnet/lib/python3.6/site-packages/ipykernel_launcher.py:16: UserWarning: Using a target size (torch.Size([8])) that is different to the input size (torch.Size([8, 1])) is deprecated. Please ensure they have the same size.\n",
      "  app.launch_new_instance()\n"
     ]
    },
    {
     "name": "stdout",
     "output_type": "stream",
     "text": [
      "{'loss': tensor(0.6872, device='cuda:0'), 'acc': {0.5: tensor(4.), 0.75: tensor(4.), 0.8: tensor(4.)}}\n",
      "{'loss': tensor(0.6899, device='cuda:0'), 'acc': {0.5: tensor(6.), 0.75: tensor(6.), 0.8: tensor(6.)}}\n",
      "{'loss': tensor(0.6913, device='cuda:0'), 'acc': {0.5: tensor(5.), 0.75: tensor(5.), 0.8: tensor(5.)}}\n",
      "{'loss': tensor(0.6957, device='cuda:0'), 'acc': {0.5: tensor(4.), 0.75: tensor(4.), 0.8: tensor(4.)}}\n",
      "{'loss': tensor(0.6875, device='cuda:0'), 'acc': {0.5: tensor(8.), 0.75: tensor(8.), 0.8: tensor(8.)}}\n",
      "{'loss': tensor(0.6891, device='cuda:0'), 'acc': {0.5: tensor(6.2500), 0.75: tensor(7.), 0.8: tensor(7.)}}\n",
      "{'loss': tensor(0.6909, device='cuda:0'), 'acc': {0.5: tensor(5.), 0.75: tensor(5.), 0.8: tensor(5.)}}\n",
      "{'loss': tensor(0.6894, device='cuda:0'), 'acc': {0.5: tensor(6.), 0.75: tensor(6.), 0.8: tensor(6.)}}\n",
      "{'loss': tensor(0.6900, device='cuda:0'), 'acc': {0.5: tensor(6.), 0.75: tensor(6.), 0.8: tensor(6.)}}\n",
      "{'loss': tensor(0.6907, device='cuda:0'), 'acc': {0.5: tensor(6.), 0.75: tensor(6.), 0.8: tensor(6.)}}\n"
     ]
    },
    {
     "data": {
      "text/plain": [
       "[{'avg_loss': tensor(0.6916, device='cuda:0'),\n",
       "  'avg_acc': [tensor(5.1321), tensor(5.2642), tensor(5.2642)]}]"
      ]
     },
     "execution_count": 36,
     "metadata": {},
     "output_type": "execute_result"
    }
   ],
   "source": [
    "history = [evaluate(model, val_loader)]\n",
    "history"
   ]
  },
  {
   "cell_type": "markdown",
   "metadata": {},
   "source": [
    "**TODO**: figure out accuracy bug!"
   ]
  },
  {
   "cell_type": "code",
   "execution_count": 37,
   "metadata": {
    "execution": {
     "iopub.execute_input": "2020-10-27T01:38:01.738390Z",
     "iopub.status.busy": "2020-10-27T01:38:01.738100Z",
     "iopub.status.idle": "2020-10-27T01:38:01.744133Z",
     "shell.execute_reply": "2020-10-27T01:38:01.743267Z",
     "shell.execute_reply.started": "2020-10-27T01:38:01.738356Z"
    }
   },
   "outputs": [],
   "source": [
    "# torch.cuda.empty_cache()"
   ]
  },
  {
   "cell_type": "code",
   "execution_count": null,
   "metadata": {},
   "outputs": [],
   "source": []
  }
 ],
 "metadata": {
  "kernelspec": {
   "display_name": "Python 3",
   "language": "python",
   "name": "python3"
  },
  "language_info": {
   "codemirror_mode": {
    "name": "ipython",
    "version": 3
   },
   "file_extension": ".py",
   "mimetype": "text/x-python",
   "name": "python",
   "nbconvert_exporter": "python",
   "pygments_lexer": "ipython3",
   "version": "3.6.10"
  }
 },
 "nbformat": 4,
 "nbformat_minor": 4
}
