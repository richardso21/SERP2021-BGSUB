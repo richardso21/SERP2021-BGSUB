{
 "cells": [
  {
   "cell_type": "code",
   "execution_count": 139,
   "metadata": {
    "execution": {
     "iopub.execute_input": "2021-01-13T21:15:24.523176Z",
     "iopub.status.busy": "2021-01-13T21:15:24.522662Z",
     "iopub.status.idle": "2021-01-13T21:15:24.533750Z",
     "shell.execute_reply": "2021-01-13T21:15:24.532676Z",
     "shell.execute_reply.started": "2021-01-13T21:15:24.523117Z"
    }
   },
   "outputs": [],
   "source": [
    "import cv2\n",
    "import numpy as np\n",
    "import pandas as pd\n",
    "import matplotlib.pyplot as plt\n",
    "import os\n",
    "from tqdm import tqdm\n",
    "from PIL import Image\n",
    "%matplotlib inline"
   ]
  },
  {
   "cell_type": "code",
   "execution_count": 35,
   "metadata": {
    "execution": {
     "iopub.execute_input": "2021-01-13T20:32:40.925607Z",
     "iopub.status.busy": "2021-01-13T20:32:40.925109Z",
     "iopub.status.idle": "2021-01-13T20:32:40.931285Z",
     "shell.execute_reply": "2021-01-13T20:32:40.930046Z",
     "shell.execute_reply.started": "2021-01-13T20:32:40.925550Z"
    }
   },
   "outputs": [],
   "source": [
    "PTH = '/scratch/richardso21/20-21_BGSUB/archive/FgSegNet_O_old/200/prudhoe_12/pos/'"
   ]
  },
  {
   "cell_type": "code",
   "execution_count": 51,
   "metadata": {
    "execution": {
     "iopub.execute_input": "2021-01-13T20:40:20.741066Z",
     "iopub.status.busy": "2021-01-13T20:40:20.740552Z",
     "iopub.status.idle": "2021-01-13T20:40:23.478617Z",
     "shell.execute_reply": "2021-01-13T20:40:23.477752Z",
     "shell.execute_reply.started": "2021-01-13T20:40:20.741007Z"
    }
   },
   "outputs": [
    {
     "name": "stderr",
     "output_type": "stream",
     "text": [
      "100%|██████████| 961/961 [00:02<00:00, 354.58it/s]\n"
     ]
    }
   ],
   "source": [
    "D = {}\n",
    "for f in tqdm(os.listdir(PTH)):\n",
    "    fn = PTH + f\n",
    "    x = np.load(fn)\n",
    "    D[fn] = [np.concatenate(x).sum()]"
   ]
  },
  {
   "cell_type": "code",
   "execution_count": null,
   "metadata": {},
   "outputs": [],
   "source": [
    "D"
   ]
  },
  {
   "cell_type": "code",
   "execution_count": 59,
   "metadata": {
    "execution": {
     "iopub.execute_input": "2021-01-13T20:41:59.564582Z",
     "iopub.status.busy": "2021-01-13T20:41:59.564068Z",
     "iopub.status.idle": "2021-01-13T20:41:59.574602Z",
     "shell.execute_reply": "2021-01-13T20:41:59.573316Z",
     "shell.execute_reply.started": "2021-01-13T20:41:59.564524Z"
    }
   },
   "outputs": [],
   "source": [
    "Ddf = pd.DataFrame.from_dict(D,orient='index',columns=['sum'])"
   ]
  },
  {
   "cell_type": "code",
   "execution_count": 62,
   "metadata": {
    "execution": {
     "iopub.execute_input": "2021-01-13T20:42:29.194450Z",
     "iopub.status.busy": "2021-01-13T20:42:29.193953Z",
     "iopub.status.idle": "2021-01-13T20:42:29.207999Z",
     "shell.execute_reply": "2021-01-13T20:42:29.206809Z",
     "shell.execute_reply.started": "2021-01-13T20:42:29.194394Z"
    }
   },
   "outputs": [
    {
     "data": {
      "text/html": [
       "<div>\n",
       "<style scoped>\n",
       "    .dataframe tbody tr th:only-of-type {\n",
       "        vertical-align: middle;\n",
       "    }\n",
       "\n",
       "    .dataframe tbody tr th {\n",
       "        vertical-align: top;\n",
       "    }\n",
       "\n",
       "    .dataframe thead th {\n",
       "        text-align: right;\n",
       "    }\n",
       "</style>\n",
       "<table border=\"1\" class=\"dataframe\">\n",
       "  <thead>\n",
       "    <tr style=\"text-align: right;\">\n",
       "      <th></th>\n",
       "      <th>sum</th>\n",
       "    </tr>\n",
       "  </thead>\n",
       "  <tbody>\n",
       "    <tr>\n",
       "      <th>/scratch/richardso21/20-21_BGSUB/archive/FgSegNet_O_old/200/prudhoe_12/pos/2019_100RECNX_RCNX9813.npy</th>\n",
       "      <td>113.237137</td>\n",
       "    </tr>\n",
       "    <tr>\n",
       "      <th>/scratch/richardso21/20-21_BGSUB/archive/FgSegNet_O_old/200/prudhoe_12/pos/2019_100RECNX_RCNX4246.npy</th>\n",
       "      <td>10.681933</td>\n",
       "    </tr>\n",
       "    <tr>\n",
       "      <th>/scratch/richardso21/20-21_BGSUB/archive/FgSegNet_O_old/200/prudhoe_12/pos/2019_100RECNX_RCNX4993.npy</th>\n",
       "      <td>11.753131</td>\n",
       "    </tr>\n",
       "    <tr>\n",
       "      <th>/scratch/richardso21/20-21_BGSUB/archive/FgSegNet_O_old/200/prudhoe_12/pos/2019_100RECNX_RCNX4627.npy</th>\n",
       "      <td>76.495880</td>\n",
       "    </tr>\n",
       "    <tr>\n",
       "      <th>/scratch/richardso21/20-21_BGSUB/archive/FgSegNet_O_old/200/prudhoe_12/pos/2019_100RECNX_RCNX4151.npy</th>\n",
       "      <td>70.366226</td>\n",
       "    </tr>\n",
       "  </tbody>\n",
       "</table>\n",
       "</div>"
      ],
      "text/plain": [
       "                                                           sum\n",
       "/scratch/richardso21/20-21_BGSUB/archive/FgSegN...  113.237137\n",
       "/scratch/richardso21/20-21_BGSUB/archive/FgSegN...   10.681933\n",
       "/scratch/richardso21/20-21_BGSUB/archive/FgSegN...   11.753131\n",
       "/scratch/richardso21/20-21_BGSUB/archive/FgSegN...   76.495880\n",
       "/scratch/richardso21/20-21_BGSUB/archive/FgSegN...   70.366226"
      ]
     },
     "execution_count": 62,
     "metadata": {},
     "output_type": "execute_result"
    }
   ],
   "source": [
    "Ddf.head()"
   ]
  },
  {
   "cell_type": "code",
   "execution_count": 73,
   "metadata": {
    "execution": {
     "iopub.execute_input": "2021-01-13T20:48:33.494321Z",
     "iopub.status.busy": "2021-01-13T20:48:33.493785Z",
     "iopub.status.idle": "2021-01-13T20:48:33.501505Z",
     "shell.execute_reply": "2021-01-13T20:48:33.500490Z",
     "shell.execute_reply.started": "2021-01-13T20:48:33.494261Z"
    }
   },
   "outputs": [],
   "source": [
    "D_sorted = Ddf.sort_values(by=['sum'],ascending=False)"
   ]
  },
  {
   "cell_type": "code",
   "execution_count": 80,
   "metadata": {
    "execution": {
     "iopub.execute_input": "2021-01-13T20:50:43.821540Z",
     "iopub.status.busy": "2021-01-13T20:50:43.821018Z",
     "iopub.status.idle": "2021-01-13T20:50:43.831031Z",
     "shell.execute_reply": "2021-01-13T20:50:43.829902Z",
     "shell.execute_reply.started": "2021-01-13T20:50:43.821482Z"
    }
   },
   "outputs": [
    {
     "data": {
      "text/plain": [
       "58.48186111450195"
      ]
     },
     "execution_count": 80,
     "metadata": {},
     "output_type": "execute_result"
    }
   ],
   "source": [
    "D_sorted['sum'].median()"
   ]
  },
  {
   "cell_type": "code",
   "execution_count": 89,
   "metadata": {
    "execution": {
     "iopub.execute_input": "2021-01-13T20:51:44.638159Z",
     "iopub.status.busy": "2021-01-13T20:51:44.636620Z",
     "iopub.status.idle": "2021-01-13T20:51:44.681468Z",
     "shell.execute_reply": "2021-01-13T20:51:44.680280Z",
     "shell.execute_reply.started": "2021-01-13T20:51:44.637057Z"
    }
   },
   "outputs": [
    {
     "data": {
      "text/html": [
       "<div>\n",
       "<style scoped>\n",
       "    .dataframe tbody tr th:only-of-type {\n",
       "        vertical-align: middle;\n",
       "    }\n",
       "\n",
       "    .dataframe tbody tr th {\n",
       "        vertical-align: top;\n",
       "    }\n",
       "\n",
       "    .dataframe thead th {\n",
       "        text-align: right;\n",
       "    }\n",
       "</style>\n",
       "<table border=\"1\" class=\"dataframe\">\n",
       "  <thead>\n",
       "    <tr style=\"text-align: right;\">\n",
       "      <th></th>\n",
       "      <th>sum</th>\n",
       "    </tr>\n",
       "  </thead>\n",
       "  <tbody>\n",
       "    <tr>\n",
       "      <th>/scratch/richardso21/20-21_BGSUB/archive/FgSegNet_O_old/200/prudhoe_12/pos/2019_Summer_100RECNX_RCNX5765.npy</th>\n",
       "      <td>2011.744385</td>\n",
       "    </tr>\n",
       "    <tr>\n",
       "      <th>/scratch/richardso21/20-21_BGSUB/archive/FgSegNet_O_old/200/prudhoe_12/pos/2019_Summer_100RECNX_RCNX5749.npy</th>\n",
       "      <td>2001.663208</td>\n",
       "    </tr>\n",
       "    <tr>\n",
       "      <th>/scratch/richardso21/20-21_BGSUB/archive/FgSegNet_O_old/200/prudhoe_12/pos/2019_100RECNX_RCNX5262.npy</th>\n",
       "      <td>1902.500244</td>\n",
       "    </tr>\n",
       "    <tr>\n",
       "      <th>/scratch/richardso21/20-21_BGSUB/archive/FgSegNet_O_old/200/prudhoe_12/pos/2019_100RECNX_RCNX5265.npy</th>\n",
       "      <td>1888.469482</td>\n",
       "    </tr>\n",
       "    <tr>\n",
       "      <th>/scratch/richardso21/20-21_BGSUB/archive/FgSegNet_O_old/200/prudhoe_12/pos/2019_Summer_100RECNX_RCNX5748.npy</th>\n",
       "      <td>1887.414429</td>\n",
       "    </tr>\n",
       "    <tr>\n",
       "      <th>/scratch/richardso21/20-21_BGSUB/archive/FgSegNet_O_old/200/prudhoe_12/pos/2019_Summer_100RECNX_RCNX5773.npy</th>\n",
       "      <td>1868.997070</td>\n",
       "    </tr>\n",
       "    <tr>\n",
       "      <th>/scratch/richardso21/20-21_BGSUB/archive/FgSegNet_O_old/200/prudhoe_12/pos/2019_100RECNX_RCNX5263.npy</th>\n",
       "      <td>1848.819824</td>\n",
       "    </tr>\n",
       "    <tr>\n",
       "      <th>/scratch/richardso21/20-21_BGSUB/archive/FgSegNet_O_old/200/prudhoe_12/pos/2019_Summer_100RECNX_RCNX5766.npy</th>\n",
       "      <td>1702.116577</td>\n",
       "    </tr>\n",
       "    <tr>\n",
       "      <th>/scratch/richardso21/20-21_BGSUB/archive/FgSegNet_O_old/200/prudhoe_12/pos/2019_100RECNX_RCNX5259.npy</th>\n",
       "      <td>1642.082275</td>\n",
       "    </tr>\n",
       "    <tr>\n",
       "      <th>/scratch/richardso21/20-21_BGSUB/archive/FgSegNet_O_old/200/prudhoe_12/pos/2019_Summer_100RECNX_RCNX5735.npy</th>\n",
       "      <td>1576.044434</td>\n",
       "    </tr>\n",
       "  </tbody>\n",
       "</table>\n",
       "</div>"
      ],
      "text/plain": [
       "                                                            sum\n",
       "/scratch/richardso21/20-21_BGSUB/archive/FgSegN...  2011.744385\n",
       "/scratch/richardso21/20-21_BGSUB/archive/FgSegN...  2001.663208\n",
       "/scratch/richardso21/20-21_BGSUB/archive/FgSegN...  1902.500244\n",
       "/scratch/richardso21/20-21_BGSUB/archive/FgSegN...  1888.469482\n",
       "/scratch/richardso21/20-21_BGSUB/archive/FgSegN...  1887.414429\n",
       "/scratch/richardso21/20-21_BGSUB/archive/FgSegN...  1868.997070\n",
       "/scratch/richardso21/20-21_BGSUB/archive/FgSegN...  1848.819824\n",
       "/scratch/richardso21/20-21_BGSUB/archive/FgSegN...  1702.116577\n",
       "/scratch/richardso21/20-21_BGSUB/archive/FgSegN...  1642.082275\n",
       "/scratch/richardso21/20-21_BGSUB/archive/FgSegN...  1576.044434"
      ]
     },
     "execution_count": 89,
     "metadata": {},
     "output_type": "execute_result"
    }
   ],
   "source": [
    "D_sorted.loc[abs(D_sorted['sum'] - D_sorted['sum'].mean()) < 500]"
   ]
  },
  {
   "cell_type": "markdown",
   "metadata": {},
   "source": [
    "---"
   ]
  },
  {
   "cell_type": "code",
   "execution_count": 274,
   "metadata": {
    "execution": {
     "iopub.execute_input": "2021-01-13T22:22:44.779045Z",
     "iopub.status.busy": "2021-01-13T22:22:44.778532Z",
     "iopub.status.idle": "2021-01-13T22:22:45.120121Z",
     "shell.execute_reply": "2021-01-13T22:22:45.119392Z",
     "shell.execute_reply.started": "2021-01-13T22:22:44.778985Z"
    }
   },
   "outputs": [
    {
     "name": "stdout",
     "output_type": "stream",
     "text": [
      "1\n"
     ]
    },
    {
     "data": {
      "text/plain": [
       "(720, 1024)"
      ]
     },
     "execution_count": 274,
     "metadata": {},
     "output_type": "execute_result"
    },
    {
     "data": {
      "image/png": "[encoded data removed]",
      "text/plain": [
       "<Figure size 432x288 with 1 Axes>"
      ]
     },
     "metadata": {
      "needs_background": "light"
     },
     "output_type": "display_data"
    }
   ],
   "source": [
    "# load npy array\n",
    "x = np.load('/scratch/richardso21/20-21_BGSUB/archive/FgSegNet_O_old/200/prudhoe_12/pos/2019_100RECNX_RCNX5259.npy')\n",
    "# get its threshold\n",
    "x_th = x > 0.5\n",
    "# convert to OpenCV usable type\n",
    "x_img = x_th.astype('uint8')\n",
    "\n",
    "# perform simple connected components\n",
    "num_labels, labels_im = cv2.connectedComponents(x_img)\n",
    "\n",
    "# plot\n",
    "plt.imshow(labels_im)\n",
    "print(num_labels - 1)\n",
    "labels_im.shape\n"
   ]
  },
  {
   "cell_type": "code",
   "execution_count": null,
   "metadata": {},
   "outputs": [],
   "source": []
  }
 ],
 "metadata": {
  "kernelspec": {
   "display_name": "Python 3",
   "language": "python",
   "name": "python3"
  },
  "language_info": {
   "codemirror_mode": {
    "name": "ipython",
    "version": 3
   },
   "file_extension": ".py",
   "mimetype": "text/x-python",
   "name": "python",
   "nbconvert_exporter": "python",
   "pygments_lexer": "ipython3",
   "version": "3.6.10"
  }
 },
 "nbformat": 4,
 "nbformat_minor": 4
}
