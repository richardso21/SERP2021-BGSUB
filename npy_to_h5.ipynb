{
 "cells": [
  {
   "cell_type": "code",
   "execution_count": 1,
   "metadata": {
    "execution": {
     "iopub.execute_input": "2020-10-26T03:15:16.166054Z",
     "iopub.status.busy": "2020-10-26T03:15:16.165506Z",
     "iopub.status.idle": "2020-10-26T03:15:19.183661Z",
     "shell.execute_reply": "2020-10-26T03:15:19.182646Z",
     "shell.execute_reply.started": "2020-10-26T03:15:16.165989Z"
    }
   },
   "outputs": [],
   "source": [
    "import os\n",
    "import h5py\n",
    "import numpy as np\n",
    "from os.path import join\n",
    "from pathlib import Path\n",
    "\n",
    "PTH = '/scratch/richardso21/20-21_BGSUB/FgSegNet_O'\n",
    "SITES = ['prudhoe_12', 'prudhoe_15', 'prudhoe_22']"
   ]
  },
  {
   "cell_type": "code",
   "execution_count": 4,
   "metadata": {
    "execution": {
     "iopub.execute_input": "2020-10-26T03:16:25.778821Z",
     "iopub.status.busy": "2020-10-26T03:16:25.778430Z",
     "iopub.status.idle": "2020-10-26T03:16:25.783851Z",
     "shell.execute_reply": "2020-10-26T03:16:25.783281Z",
     "shell.execute_reply.started": "2020-10-26T03:16:25.778777Z"
    }
   },
   "outputs": [
    {
     "data": {
      "text/plain": [
       "'/scratch/richardso21/20-21_BGSUB/FgSegNet_O/prudhoe_12_pos_1.npy'"
      ]
     },
     "execution_count": 4,
     "metadata": {},
     "output_type": "execute_result"
    }
   ],
   "source": [
    "test = join(PTH, f'{SITES[0]}_pos_1.npy')\n",
    "test"
   ]
  },
  {
   "cell_type": "code",
   "execution_count": 5,
   "metadata": {
    "execution": {
     "iopub.execute_input": "2020-10-26T03:16:28.011048Z",
     "iopub.status.busy": "2020-10-26T03:16:28.010685Z",
     "iopub.status.idle": "2020-10-26T03:16:28.015976Z",
     "shell.execute_reply": "2020-10-26T03:16:28.015353Z",
     "shell.execute_reply.started": "2020-10-26T03:16:28.011014Z"
    }
   },
   "outputs": [
    {
     "data": {
      "text/plain": [
       "True"
      ]
     },
     "execution_count": 5,
     "metadata": {},
     "output_type": "execute_result"
    }
   ],
   "source": [
    "os.path.isfile(test)"
   ]
  },
  {
   "cell_type": "code",
   "execution_count": 6,
   "metadata": {
    "execution": {
     "iopub.execute_input": "2020-10-26T03:17:35.494574Z",
     "iopub.status.busy": "2020-10-26T03:17:35.494139Z",
     "iopub.status.idle": "2020-10-26T03:17:36.021356Z",
     "shell.execute_reply": "2020-10-26T03:17:36.020703Z",
     "shell.execute_reply.started": "2020-10-26T03:17:35.494521Z"
    }
   },
   "outputs": [
    {
     "data": {
      "text/plain": [
       "(32, 720, 1024)"
      ]
     },
     "execution_count": 6,
     "metadata": {},
     "output_type": "execute_result"
    }
   ],
   "source": [
    "x = np.load(test)\n",
    "x.shape"
   ]
  },
  {
   "cell_type": "code",
   "execution_count": 8,
   "metadata": {
    "execution": {
     "iopub.execute_input": "2020-10-26T03:17:58.926965Z",
     "iopub.status.busy": "2020-10-26T03:17:58.926504Z",
     "iopub.status.idle": "2020-10-26T03:18:02.890426Z",
     "shell.execute_reply": "2020-10-26T03:18:02.889430Z",
     "shell.execute_reply.started": "2020-10-26T03:17:58.926914Z"
    }
   },
   "outputs": [],
   "source": [
    "import matplotlib.pyplot as plt"
   ]
  },
  {
   "cell_type": "code",
   "execution_count": 20,
   "metadata": {
    "execution": {
     "iopub.execute_input": "2020-10-26T03:19:26.758818Z",
     "iopub.status.busy": "2020-10-26T03:19:26.758355Z",
     "iopub.status.idle": "2020-10-26T03:19:26.768778Z",
     "shell.execute_reply": "2020-10-26T03:19:26.767884Z",
     "shell.execute_reply.started": "2020-10-26T03:19:26.758766Z"
    }
   },
   "outputs": [],
   "source": [
    "test_frame = x[20]"
   ]
  },
  {
   "cell_type": "code",
   "execution_count": 21,
   "metadata": {
    "execution": {
     "iopub.execute_input": "2020-10-26T03:19:26.899141Z",
     "iopub.status.busy": "2020-10-26T03:19:26.898755Z",
     "iopub.status.idle": "2020-10-26T03:19:27.319374Z",
     "shell.execute_reply": "2020-10-26T03:19:27.318616Z",
     "shell.execute_reply.started": "2020-10-26T03:19:26.899093Z"
    }
   },
   "outputs": [
    {
     "data": {
      "text/plain": [
       "<matplotlib.image.AxesImage at 0x7f5e91bafd68>"
      ]
     },
     "execution_count": 21,
     "metadata": {},
     "output_type": "execute_result"
    },
    {
     "data": {
      "image/png": "[encoded data removed]",
      "text/plain": [
       "<Figure size 432x288 with 1 Axes>"
      ]
     },
     "metadata": {
      "needs_background": "light"
     },
     "output_type": "display_data"
    }
   ],
   "source": [
    "plt.imshow(test_frame)"
   ]
  },
  {
   "cell_type": "code",
   "execution_count": 22,
   "metadata": {
    "execution": {
     "iopub.execute_input": "2020-10-26T03:19:58.393060Z",
     "iopub.status.busy": "2020-10-26T03:19:58.392617Z",
     "iopub.status.idle": "2020-10-26T03:19:58.778362Z",
     "shell.execute_reply": "2020-10-26T03:19:58.776445Z",
     "shell.execute_reply.started": "2020-10-26T03:19:58.393007Z"
    }
   },
   "outputs": [],
   "source": [
    "test2 = join(PTH, f'{SITES[0]}_pos_2.npy')\n",
    "y = np.load(test2)"
   ]
  },
  {
   "cell_type": "code",
   "execution_count": 23,
   "metadata": {
    "execution": {
     "iopub.execute_input": "2020-10-26T03:20:01.214476Z",
     "iopub.status.busy": "2020-10-26T03:20:01.214151Z",
     "iopub.status.idle": "2020-10-26T03:20:01.220047Z",
     "shell.execute_reply": "2020-10-26T03:20:01.219263Z",
     "shell.execute_reply.started": "2020-10-26T03:20:01.214441Z"
    }
   },
   "outputs": [
    {
     "data": {
      "text/plain": [
       "(32, 720, 1024)"
      ]
     },
     "execution_count": 23,
     "metadata": {},
     "output_type": "execute_result"
    }
   ],
   "source": [
    "y.shape"
   ]
  },
  {
   "cell_type": "code",
   "execution_count": 34,
   "metadata": {
    "execution": {
     "iopub.execute_input": "2020-10-26T03:21:57.016793Z",
     "iopub.status.busy": "2020-10-26T03:21:57.016428Z",
     "iopub.status.idle": "2020-10-26T03:21:57.224035Z",
     "shell.execute_reply": "2020-10-26T03:21:57.223046Z",
     "shell.execute_reply.started": "2020-10-26T03:21:57.016754Z"
    }
   },
   "outputs": [],
   "source": [
    "z = np.vstack((x,y))"
   ]
  },
  {
   "cell_type": "code",
   "execution_count": 35,
   "metadata": {
    "execution": {
     "iopub.execute_input": "2020-10-26T03:21:58.046958Z",
     "iopub.status.busy": "2020-10-26T03:21:58.046398Z",
     "iopub.status.idle": "2020-10-26T03:21:58.055665Z",
     "shell.execute_reply": "2020-10-26T03:21:58.054261Z",
     "shell.execute_reply.started": "2020-10-26T03:21:58.046892Z"
    }
   },
   "outputs": [
    {
     "data": {
      "text/plain": [
       "(64, 720, 1024)"
      ]
     },
     "execution_count": 35,
     "metadata": {},
     "output_type": "execute_result"
    }
   ],
   "source": [
    "z.shape"
   ]
  },
  {
   "cell_type": "markdown",
   "metadata": {},
   "source": [
    "**aha!**"
   ]
  },
  {
   "cell_type": "markdown",
   "metadata": {},
   "source": [
    "---"
   ]
  },
  {
   "cell_type": "code",
   "execution_count": 41,
   "metadata": {
    "execution": {
     "iopub.execute_input": "2020-10-26T14:11:14.714978Z",
     "iopub.status.busy": "2020-10-26T14:11:14.714581Z",
     "iopub.status.idle": "2020-10-26T14:11:14.773081Z",
     "shell.execute_reply": "2020-10-26T14:11:14.772320Z",
     "shell.execute_reply.started": "2020-10-26T14:11:14.714944Z"
    }
   },
   "outputs": [],
   "source": [
    "h5F = h5py.File('/scratch/richardso21/20-21_BGSUB/FgSegNet_O/prudhoe_12.h5', 'r')"
   ]
  },
  {
   "cell_type": "code",
   "execution_count": 42,
   "metadata": {
    "execution": {
     "iopub.execute_input": "2020-10-26T14:11:15.215800Z",
     "iopub.status.busy": "2020-10-26T14:11:15.215463Z",
     "iopub.status.idle": "2020-10-26T14:11:15.220451Z",
     "shell.execute_reply": "2020-10-26T14:11:15.219886Z",
     "shell.execute_reply.started": "2020-10-26T14:11:15.215763Z"
    }
   },
   "outputs": [
    {
     "data": {
      "text/plain": [
       "<HDF5 file \"prudhoe_12.h5\" (mode r)>"
      ]
     },
     "execution_count": 42,
     "metadata": {},
     "output_type": "execute_result"
    }
   ],
   "source": [
    "h5F"
   ]
  },
  {
   "cell_type": "code",
   "execution_count": 43,
   "metadata": {
    "execution": {
     "iopub.execute_input": "2020-10-26T14:11:15.528855Z",
     "iopub.status.busy": "2020-10-26T14:11:15.528199Z",
     "iopub.status.idle": "2020-10-26T14:11:15.542598Z",
     "shell.execute_reply": "2020-10-26T14:11:15.541284Z",
     "shell.execute_reply.started": "2020-10-26T14:11:15.528776Z"
    }
   },
   "outputs": [
    {
     "data": {
      "text/plain": [
       "<KeysViewHDF5 ['NEG', 'POS']>"
      ]
     },
     "execution_count": 43,
     "metadata": {},
     "output_type": "execute_result"
    }
   ],
   "source": [
    "h5F.keys()"
   ]
  },
  {
   "cell_type": "code",
   "execution_count": 44,
   "metadata": {
    "execution": {
     "iopub.execute_input": "2020-10-26T14:11:15.715122Z",
     "iopub.status.busy": "2020-10-26T14:11:15.714620Z",
     "iopub.status.idle": "2020-10-26T14:11:15.723185Z",
     "shell.execute_reply": "2020-10-26T14:11:15.722316Z",
     "shell.execute_reply.started": "2020-10-26T14:11:15.715065Z"
    }
   },
   "outputs": [
    {
     "data": {
      "text/plain": [
       "<HDF5 dataset \"POS\": shape (961, 720, 1024), type \"<f4\">"
      ]
     },
     "execution_count": 44,
     "metadata": {},
     "output_type": "execute_result"
    }
   ],
   "source": [
    "h5F['POS']"
   ]
  },
  {
   "cell_type": "code",
   "execution_count": 54,
   "metadata": {
    "execution": {
     "iopub.execute_input": "2020-10-26T14:20:19.429555Z",
     "iopub.status.busy": "2020-10-26T14:20:19.428407Z",
     "iopub.status.idle": "2020-10-26T14:20:19.465932Z",
     "shell.execute_reply": "2020-10-26T14:20:19.463536Z",
     "shell.execute_reply.started": "2020-10-26T14:20:19.429429Z"
    }
   },
   "outputs": [
    {
     "data": {
      "text/plain": [
       "array([ 961,  720, 1024])"
      ]
     },
     "execution_count": 54,
     "metadata": {},
     "output_type": "execute_result"
    }
   ],
   "source": [
    "h5F['POS'].attrs['shape']"
   ]
  },
  {
   "cell_type": "code",
   "execution_count": null,
   "metadata": {},
   "outputs": [],
   "source": [
    "h5F['POS'].attrs['shape'][0]"
   ]
  },
  {
   "cell_type": "code",
   "execution_count": null,
   "metadata": {},
   "outputs": [],
   "source": []
  }
 ],
 "metadata": {
  "kernelspec": {
   "display_name": "Python 3",
   "language": "python",
   "name": "python3"
  },
  "language_info": {
   "codemirror_mode": {
    "name": "ipython",
    "version": 3
   },
   "file_extension": ".py",
   "mimetype": "text/x-python",
   "name": "python",
   "nbconvert_exporter": "python",
   "pygments_lexer": "ipython3",
   "version": "3.6.10"
  }
 },
 "nbformat": 4,
 "nbformat_minor": 4
}
