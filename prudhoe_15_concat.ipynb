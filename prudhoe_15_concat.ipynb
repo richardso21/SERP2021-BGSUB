{
 "cells": [
  {
   "cell_type": "code",
   "execution_count": 1,
   "metadata": {
    "execution": {
     "iopub.execute_input": "2020-09-01T19:45:47.518304Z",
     "iopub.status.busy": "2020-09-01T19:45:47.517820Z",
     "iopub.status.idle": "2020-09-01T19:45:51.122337Z",
     "shell.execute_reply": "2020-09-01T19:45:51.121101Z",
     "shell.execute_reply.started": "2020-09-01T19:45:47.518236Z"
    }
   },
   "outputs": [],
   "source": [
    "import pandas as pd\n",
    "import numpy as np\n",
    "import matplotlib.pyplot as plt\n",
    "from tqdm import tqdm\n",
    "import os\n",
    "import tarfile"
   ]
  },
  {
   "cell_type": "code",
   "execution_count": 2,
   "metadata": {
    "execution": {
     "iopub.execute_input": "2020-08-10T20:38:22.118984Z",
     "iopub.status.busy": "2020-08-10T20:38:22.118625Z",
     "iopub.status.idle": "2020-08-10T20:38:22.438924Z",
     "shell.execute_reply": "2020-08-10T20:38:22.437834Z",
     "shell.execute_reply.started": "2020-08-10T20:38:22.118939Z"
    }
   },
   "outputs": [
    {
     "name": "stderr",
     "output_type": "stream",
     "text": [
      "/scratch/richardso21/conda/envs/fgsegnet/lib/python3.6/site-packages/IPython/core/interactiveshell.py:3072: DtypeWarning: Columns (17) have mixed types.Specify dtype option on import or set low_memory=False.\n",
      "  interactivity=interactivity, compiler=compiler, result=result)\n"
     ]
    }
   ],
   "source": [
    "f = pd.read_csv('prudhoe_15.csv')"
   ]
  },
  {
   "cell_type": "code",
   "execution_count": 3,
   "metadata": {
    "execution": {
     "iopub.execute_input": "2020-08-10T20:38:22.441245Z",
     "iopub.status.busy": "2020-08-10T20:38:22.440904Z",
     "iopub.status.idle": "2020-08-10T20:38:22.577054Z",
     "shell.execute_reply": "2020-08-10T20:38:22.576141Z",
     "shell.execute_reply.started": "2020-08-10T20:38:22.441201Z"
    }
   },
   "outputs": [
    {
     "data": {
      "text/html": [
       "<div>\n",
       "<style scoped>\n",
       "    .dataframe tbody tr th:only-of-type {\n",
       "        vertical-align: middle;\n",
       "    }\n",
       "\n",
       "    .dataframe tbody tr th {\n",
       "        vertical-align: top;\n",
       "    }\n",
       "\n",
       "    .dataframe thead th {\n",
       "        text-align: right;\n",
       "    }\n",
       "</style>\n",
       "<table border=\"1\" class=\"dataframe\">\n",
       "  <thead>\n",
       "    <tr style=\"text-align: right;\">\n",
       "      <th></th>\n",
       "      <th>File</th>\n",
       "      <th>RelativePath</th>\n",
       "      <th>Folder</th>\n",
       "      <th>Date</th>\n",
       "      <th>Time</th>\n",
       "      <th>ImageQuality</th>\n",
       "      <th>DeleteFlag</th>\n",
       "      <th>Caribou</th>\n",
       "      <th>Bear</th>\n",
       "      <th>Fox</th>\n",
       "      <th>...</th>\n",
       "      <th>Comment</th>\n",
       "      <th>Snow_Cover</th>\n",
       "      <th>Camera_Failure</th>\n",
       "      <th>Not_Counted</th>\n",
       "      <th>First_Calf</th>\n",
       "      <th>Waterfowl</th>\n",
       "      <th>Upland_Game_Bird</th>\n",
       "      <th>Songbird</th>\n",
       "      <th>Sea_Shore_Bird</th>\n",
       "      <th>Unnamed: 24</th>\n",
       "    </tr>\n",
       "  </thead>\n",
       "  <tbody>\n",
       "    <tr>\n",
       "      <th>0</th>\n",
       "      <td>RCNX0001.JPG</td>\n",
       "      <td>S15_5.5-6.9</td>\n",
       "      <td>15</td>\n",
       "      <td>05-May-2019</td>\n",
       "      <td>19:51:54</td>\n",
       "      <td>Ok</td>\n",
       "      <td>False</td>\n",
       "      <td>0</td>\n",
       "      <td>0</td>\n",
       "      <td>0</td>\n",
       "      <td>...</td>\n",
       "      <td>NaN</td>\n",
       "      <td>NaN</td>\n",
       "      <td>NaN</td>\n",
       "      <td>False</td>\n",
       "      <td>False</td>\n",
       "      <td>False</td>\n",
       "      <td>False</td>\n",
       "      <td>False</td>\n",
       "      <td>False</td>\n",
       "      <td>NaN</td>\n",
       "    </tr>\n",
       "    <tr>\n",
       "      <th>1</th>\n",
       "      <td>RCNX0002.JPG</td>\n",
       "      <td>S15_5.5-6.9</td>\n",
       "      <td>15</td>\n",
       "      <td>05-May-2019</td>\n",
       "      <td>19:52:04</td>\n",
       "      <td>Ok</td>\n",
       "      <td>False</td>\n",
       "      <td>0</td>\n",
       "      <td>0</td>\n",
       "      <td>0</td>\n",
       "      <td>...</td>\n",
       "      <td>NaN</td>\n",
       "      <td>NaN</td>\n",
       "      <td>NaN</td>\n",
       "      <td>False</td>\n",
       "      <td>False</td>\n",
       "      <td>False</td>\n",
       "      <td>False</td>\n",
       "      <td>False</td>\n",
       "      <td>False</td>\n",
       "      <td>NaN</td>\n",
       "    </tr>\n",
       "    <tr>\n",
       "      <th>2</th>\n",
       "      <td>RCNX0003.JPG</td>\n",
       "      <td>S15_5.5-6.9</td>\n",
       "      <td>15</td>\n",
       "      <td>05-May-2019</td>\n",
       "      <td>19:52:14</td>\n",
       "      <td>Ok</td>\n",
       "      <td>False</td>\n",
       "      <td>0</td>\n",
       "      <td>0</td>\n",
       "      <td>0</td>\n",
       "      <td>...</td>\n",
       "      <td>NaN</td>\n",
       "      <td>NaN</td>\n",
       "      <td>NaN</td>\n",
       "      <td>False</td>\n",
       "      <td>False</td>\n",
       "      <td>False</td>\n",
       "      <td>False</td>\n",
       "      <td>False</td>\n",
       "      <td>False</td>\n",
       "      <td>NaN</td>\n",
       "    </tr>\n",
       "    <tr>\n",
       "      <th>3</th>\n",
       "      <td>RCNX0004.JPG</td>\n",
       "      <td>S15_5.5-6.9</td>\n",
       "      <td>15</td>\n",
       "      <td>05-May-2019</td>\n",
       "      <td>19:55:00</td>\n",
       "      <td>Ok</td>\n",
       "      <td>False</td>\n",
       "      <td>0</td>\n",
       "      <td>0</td>\n",
       "      <td>0</td>\n",
       "      <td>...</td>\n",
       "      <td>Season_Start</td>\n",
       "      <td>99.0</td>\n",
       "      <td>NaN</td>\n",
       "      <td>False</td>\n",
       "      <td>False</td>\n",
       "      <td>False</td>\n",
       "      <td>False</td>\n",
       "      <td>False</td>\n",
       "      <td>False</td>\n",
       "      <td>NaN</td>\n",
       "    </tr>\n",
       "    <tr>\n",
       "      <th>4</th>\n",
       "      <td>RCNX0005.JPG</td>\n",
       "      <td>S15_5.5-6.9</td>\n",
       "      <td>15</td>\n",
       "      <td>05-May-2019</td>\n",
       "      <td>20:00:00</td>\n",
       "      <td>Ok</td>\n",
       "      <td>False</td>\n",
       "      <td>0</td>\n",
       "      <td>0</td>\n",
       "      <td>0</td>\n",
       "      <td>...</td>\n",
       "      <td>NaN</td>\n",
       "      <td>NaN</td>\n",
       "      <td>NaN</td>\n",
       "      <td>False</td>\n",
       "      <td>False</td>\n",
       "      <td>False</td>\n",
       "      <td>False</td>\n",
       "      <td>False</td>\n",
       "      <td>False</td>\n",
       "      <td>NaN</td>\n",
       "    </tr>\n",
       "  </tbody>\n",
       "</table>\n",
       "<p>5 rows × 25 columns</p>\n",
       "</div>"
      ],
      "text/plain": [
       "           File RelativePath  Folder         Date      Time ImageQuality  \\\n",
       "0  RCNX0001.JPG  S15_5.5-6.9      15  05-May-2019  19:51:54           Ok   \n",
       "1  RCNX0002.JPG  S15_5.5-6.9      15  05-May-2019  19:52:04           Ok   \n",
       "2  RCNX0003.JPG  S15_5.5-6.9      15  05-May-2019  19:52:14           Ok   \n",
       "3  RCNX0004.JPG  S15_5.5-6.9      15  05-May-2019  19:55:00           Ok   \n",
       "4  RCNX0005.JPG  S15_5.5-6.9      15  05-May-2019  20:00:00           Ok   \n",
       "\n",
       "   DeleteFlag  Caribou  Bear  Fox  ...       Comment  Snow_Cover  \\\n",
       "0       False        0     0    0  ...           NaN         NaN   \n",
       "1       False        0     0    0  ...           NaN         NaN   \n",
       "2       False        0     0    0  ...           NaN         NaN   \n",
       "3       False        0     0    0  ...  Season_Start        99.0   \n",
       "4       False        0     0    0  ...           NaN         NaN   \n",
       "\n",
       "   Camera_Failure  Not_Counted  First_Calf Waterfowl  Upland_Game_Bird  \\\n",
       "0             NaN        False       False     False             False   \n",
       "1             NaN        False       False     False             False   \n",
       "2             NaN        False       False     False             False   \n",
       "3             NaN        False       False     False             False   \n",
       "4             NaN        False       False     False             False   \n",
       "\n",
       "  Songbird  Sea_Shore_Bird  Unnamed: 24  \n",
       "0    False           False          NaN  \n",
       "1    False           False          NaN  \n",
       "2    False           False          NaN  \n",
       "3    False           False          NaN  \n",
       "4    False           False          NaN  \n",
       "\n",
       "[5 rows x 25 columns]"
      ]
     },
     "execution_count": 3,
     "metadata": {},
     "output_type": "execute_result"
    }
   ],
   "source": [
    "f.head()"
   ]
  },
  {
   "cell_type": "code",
   "execution_count": 9,
   "metadata": {
    "execution": {
     "iopub.execute_input": "2020-09-01T19:51:11.962261Z",
     "iopub.status.busy": "2020-09-01T19:51:11.961756Z",
     "iopub.status.idle": "2020-09-01T19:51:11.978656Z",
     "shell.execute_reply": "2020-09-01T19:51:11.977608Z",
     "shell.execute_reply.started": "2020-09-01T19:51:11.962201Z"
    }
   },
   "outputs": [
    {
     "data": {
      "text/plain": [
       "array(['S12_5.5_6.8', 'S12_6.9-7.6', 'S12_7.6-8.9', 'S12_8.9-9.4'],\n",
       "      dtype=object)"
      ]
     },
     "execution_count": 9,
     "metadata": {},
     "output_type": "execute_result"
    }
   ],
   "source": [
    "f.RelativePath.unique()"
   ]
  },
  {
   "cell_type": "code",
   "execution_count": 11,
   "metadata": {
    "execution": {
     "iopub.execute_input": "2020-09-01T19:54:06.002466Z",
     "iopub.status.busy": "2020-09-01T19:54:06.001975Z",
     "iopub.status.idle": "2020-09-01T19:54:06.013588Z",
     "shell.execute_reply": "2020-09-01T19:54:06.012422Z",
     "shell.execute_reply.started": "2020-09-01T19:54:06.002407Z"
    }
   },
   "outputs": [],
   "source": [
    "# relative_path = {}\n",
    "# folders = [\"2019/100RECNX\", \"2019/101RECNX\", \"2019_Summer/100RECNX\", \"2019_Summer/101RECNX\"]\n",
    "# for u, v in zip(f.RelativePath.unique(), folders):\n",
    "#     relative_path[u] = v"
   ]
  },
  {
   "cell_type": "code",
   "execution_count": 5,
   "metadata": {
    "execution": {
     "iopub.execute_input": "2020-08-10T20:38:23.088824Z",
     "iopub.status.busy": "2020-08-10T20:38:23.088413Z",
     "iopub.status.idle": "2020-08-10T20:38:23.222617Z",
     "shell.execute_reply": "2020-08-10T20:38:23.221470Z",
     "shell.execute_reply.started": "2020-08-10T20:38:23.088774Z"
    }
   },
   "outputs": [],
   "source": [
    "relative_path = {\n",
    "    \"S15_5.5-6.9\": \"2019/100RECNX\",\n",
    "    \"S15_6.9-7.6\": \"2019/101RECNX\",\n",
    "    \"S15_7.6-8.10\": \"2019_Summer/100RECNX\",\n",
    "    \"S15_8.10-9.4\": \"2019_Summer/101RECNX\"\n",
    "}"
   ]
  },
  {
   "cell_type": "code",
   "execution_count": 6,
   "metadata": {
    "execution": {
     "iopub.execute_input": "2020-08-10T20:38:25.270207Z",
     "iopub.status.busy": "2020-08-10T20:38:25.269724Z",
     "iopub.status.idle": "2020-08-10T20:38:25.276129Z",
     "shell.execute_reply": "2020-08-10T20:38:25.275045Z",
     "shell.execute_reply.started": "2020-08-10T20:38:25.270154Z"
    }
   },
   "outputs": [],
   "source": [
    "def get_abs_path(pth, file):\n",
    "    return os.path.join('/tank/data/nna/cameraTrap/prudhoe/15', relative_path[pth], file)"
   ]
  },
  {
   "cell_type": "code",
   "execution_count": 13,
   "metadata": {
    "execution": {
     "iopub.execute_input": "2020-09-01T22:08:44.802693Z",
     "iopub.status.busy": "2020-09-01T22:08:44.802246Z",
     "iopub.status.idle": "2020-09-01T22:08:44.961490Z",
     "shell.execute_reply": "2020-09-01T22:08:44.960333Z",
     "shell.execute_reply.started": "2020-09-01T22:08:44.802640Z"
    }
   },
   "outputs": [
    {
     "name": "stderr",
     "output_type": "stream",
     "text": [
      "/scratch/richardso21/conda/envs/fgsegnet/lib/python3.6/site-packages/IPython/core/interactiveshell.py:3072: DtypeWarning: Columns (12,19) have mixed types.Specify dtype option on import or set low_memory=False.\n",
      "  interactivity=interactivity, compiler=compiler, result=result)\n"
     ]
    }
   ],
   "source": [
    "f = pd.read_csv('csv_raw/prudhoe_12.csv')"
   ]
  },
  {
   "cell_type": "code",
   "execution_count": 14,
   "metadata": {
    "execution": {
     "iopub.execute_input": "2020-09-01T22:08:57.044747Z",
     "iopub.status.busy": "2020-09-01T22:08:57.044219Z",
     "iopub.status.idle": "2020-09-01T22:08:57.058298Z",
     "shell.execute_reply": "2020-09-01T22:08:57.057318Z",
     "shell.execute_reply.started": "2020-09-01T22:08:57.044681Z"
    }
   },
   "outputs": [
    {
     "data": {
      "text/plain": [
       "array([nan, 'Bird of Prey', 'Upland Game Bird', 'Songbrid', 'Seabird',\n",
       "       'Shorebird'], dtype=object)"
      ]
     },
     "execution_count": 14,
     "metadata": {},
     "output_type": "execute_result"
    }
   ],
   "source": [
    "f.Bird.unique()"
   ]
  },
  {
   "cell_type": "code",
   "execution_count": 17,
   "metadata": {
    "execution": {
     "iopub.execute_input": "2020-09-01T22:10:31.275328Z",
     "iopub.status.busy": "2020-09-01T22:10:31.274958Z",
     "iopub.status.idle": "2020-09-01T22:10:31.284452Z",
     "shell.execute_reply": "2020-09-01T22:10:31.283350Z",
     "shell.execute_reply.started": "2020-09-01T22:10:31.275287Z"
    }
   },
   "outputs": [
    {
     "data": {
      "text/plain": [
       "0        NaN\n",
       "1        NaN\n",
       "2        NaN\n",
       "3        NaN\n",
       "4        NaN\n",
       "        ... \n",
       "35811    NaN\n",
       "35812    NaN\n",
       "35813    NaN\n",
       "35814    NaN\n",
       "35815    NaN\n",
       "Name: Flag_Image, Length: 35816, dtype: object"
      ]
     },
     "execution_count": 17,
     "metadata": {},
     "output_type": "execute_result"
    }
   ],
   "source": [
    "f.iloc[:,12]"
   ]
  },
  {
   "cell_type": "code",
   "execution_count": 2,
   "metadata": {
    "execution": {
     "iopub.execute_input": "2020-09-01T19:46:02.205796Z",
     "iopub.status.busy": "2020-09-01T19:46:02.205438Z",
     "iopub.status.idle": "2020-09-01T19:46:02.210747Z",
     "shell.execute_reply": "2020-09-01T19:46:02.209701Z",
     "shell.execute_reply.started": "2020-09-01T19:46:02.205756Z"
    }
   },
   "outputs": [],
   "source": [
    "categories = [\"Caribou\", \"Bear\", \"Fox\", \"Wolf\", \"Muskox\",\n",
    "              \"Misc_Land_Animal\", \"Human\", \"Other\", \"Waterfowl\",\n",
    "              \"Upland_Game_Bird\", \"Songbird\", \"Sea_Shore_Bird\"]"
   ]
  },
  {
   "cell_type": "code",
   "execution_count": 5,
   "metadata": {
    "execution": {
     "iopub.execute_input": "2020-09-01T19:46:42.624513Z",
     "iopub.status.busy": "2020-09-01T19:46:42.624011Z",
     "iopub.status.idle": "2020-09-01T19:46:42.630040Z",
     "shell.execute_reply": "2020-09-01T19:46:42.628879Z",
     "shell.execute_reply.started": "2020-09-01T19:46:42.624456Z"
    }
   },
   "outputs": [],
   "source": [
    "fs = []"
   ]
  },
  {
   "cell_type": "code",
   "execution_count": 8,
   "metadata": {
    "execution": {
     "iopub.execute_input": "2020-09-01T19:47:58.421268Z",
     "iopub.status.busy": "2020-09-01T19:47:58.420744Z",
     "iopub.status.idle": "2020-09-01T19:47:59.551576Z",
     "shell.execute_reply": "2020-09-01T19:47:59.550196Z",
     "shell.execute_reply.started": "2020-09-01T19:47:58.421211Z"
    }
   },
   "outputs": [
    {
     "name": "stderr",
     "output_type": "stream",
     "text": [
      "4141it [00:01, 3746.02it/s]\n"
     ]
    },
    {
     "ename": "NameError",
     "evalue": "name 'relative_path' is not defined",
     "output_type": "error",
     "traceback": [
      "\u001b[0;31m---------------------------------------------------------------------------\u001b[0m",
      "\u001b[0;31mNameError\u001b[0m                                 Traceback (most recent call last)",
      "\u001b[0;32m<ipython-input-8-7bc539259c72>\u001b[0m in \u001b[0;36m<module>\u001b[0;34m\u001b[0m\n\u001b[1;32m      4\u001b[0m             \u001b[0;32mif\u001b[0m \u001b[0mrow\u001b[0m\u001b[0;34m[\u001b[0m\u001b[0mc\u001b[0m\u001b[0;34m]\u001b[0m \u001b[0;34m>\u001b[0m \u001b[0;36m0\u001b[0m\u001b[0;34m:\u001b[0m\u001b[0;34m\u001b[0m\u001b[0;34m\u001b[0m\u001b[0m\n\u001b[1;32m      5\u001b[0m                 fs.append([row[\"File\"],\n\u001b[0;32m----> 6\u001b[0;31m                            \u001b[0mrelative_path\u001b[0m\u001b[0;34m[\u001b[0m\u001b[0mrow\u001b[0m\u001b[0;34m[\u001b[0m\u001b[0;34m\"RelativePath\"\u001b[0m\u001b[0;34m]\u001b[0m\u001b[0;34m]\u001b[0m\u001b[0;34m,\u001b[0m\u001b[0;34m\u001b[0m\u001b[0;34m\u001b[0m\u001b[0m\n\u001b[0m\u001b[1;32m      7\u001b[0m                            \u001b[0mget_abs_path\u001b[0m\u001b[0;34m(\u001b[0m\u001b[0mrow\u001b[0m\u001b[0;34m[\u001b[0m\u001b[0;34m\"RelativePath\"\u001b[0m\u001b[0;34m]\u001b[0m\u001b[0;34m,\u001b[0m \u001b[0mrow\u001b[0m\u001b[0;34m[\u001b[0m\u001b[0;34m\"File\"\u001b[0m\u001b[0;34m]\u001b[0m\u001b[0;34m)\u001b[0m\u001b[0;34m,\u001b[0m\u001b[0;34m\u001b[0m\u001b[0;34m\u001b[0m\u001b[0m\n\u001b[1;32m      8\u001b[0m                            c])\n",
      "\u001b[0;31mNameError\u001b[0m: name 'relative_path' is not defined"
     ]
    }
   ],
   "source": [
    "for i, row in tqdm(f.iterrows()):\n",
    "    for c in categories:\n",
    "        try:\n",
    "            if row[c] > 0:\n",
    "                fs.append([row[\"File\"],\n",
    "                           relative_path[row[\"RelativePath\"]],\n",
    "                           get_abs_path(row[\"RelativePath\"], row[\"File\"]),\n",
    "                           c])\n",
    "        except KeyError:\n",
    "            pass"
   ]
  },
  {
   "cell_type": "code",
   "execution_count": 28,
   "metadata": {
    "execution": {
     "iopub.execute_input": "2020-08-10T20:49:42.922328Z",
     "iopub.status.busy": "2020-08-10T20:49:42.921909Z",
     "iopub.status.idle": "2020-08-10T20:49:42.930310Z",
     "shell.execute_reply": "2020-08-10T20:49:42.929428Z",
     "shell.execute_reply.started": "2020-08-10T20:49:42.922272Z"
    }
   },
   "outputs": [
    {
     "data": {
      "text/plain": [
       "['RCNX0032.JPG',\n",
       " '2019/100RECNX',\n",
       " '/tank/data/nna/cameraTrap/prudhoe/15/2019/100RECNX/RCNX0032.JPG',\n",
       " 'Human']"
      ]
     },
     "execution_count": 28,
     "metadata": {},
     "output_type": "execute_result"
    }
   ],
   "source": [
    "fs[0]"
   ]
  },
  {
   "cell_type": "code",
   "execution_count": 29,
   "metadata": {
    "execution": {
     "iopub.execute_input": "2020-08-10T20:50:11.016276Z",
     "iopub.status.busy": "2020-08-10T20:50:11.015783Z",
     "iopub.status.idle": "2020-08-10T20:50:11.032066Z",
     "shell.execute_reply": "2020-08-10T20:50:11.030912Z",
     "shell.execute_reply.started": "2020-08-10T20:50:11.016220Z"
    }
   },
   "outputs": [],
   "source": [
    "fs_df = pd.DataFrame(fs, columns=[\"fileName\", \"RelFilePath\", \"AbsFilePath\", \"Type\"])"
   ]
  },
  {
   "cell_type": "code",
   "execution_count": 30,
   "metadata": {
    "execution": {
     "iopub.execute_input": "2020-08-10T20:50:11.531980Z",
     "iopub.status.busy": "2020-08-10T20:50:11.531568Z",
     "iopub.status.idle": "2020-08-10T20:50:11.550926Z",
     "shell.execute_reply": "2020-08-10T20:50:11.549986Z",
     "shell.execute_reply.started": "2020-08-10T20:50:11.531931Z"
    }
   },
   "outputs": [
    {
     "data": {
      "text/html": [
       "<div>\n",
       "<style scoped>\n",
       "    .dataframe tbody tr th:only-of-type {\n",
       "        vertical-align: middle;\n",
       "    }\n",
       "\n",
       "    .dataframe tbody tr th {\n",
       "        vertical-align: top;\n",
       "    }\n",
       "\n",
       "    .dataframe thead th {\n",
       "        text-align: right;\n",
       "    }\n",
       "</style>\n",
       "<table border=\"1\" class=\"dataframe\">\n",
       "  <thead>\n",
       "    <tr style=\"text-align: right;\">\n",
       "      <th></th>\n",
       "      <th>fileName</th>\n",
       "      <th>RelFilePath</th>\n",
       "      <th>AbsFilePath</th>\n",
       "      <th>Type</th>\n",
       "    </tr>\n",
       "  </thead>\n",
       "  <tbody>\n",
       "    <tr>\n",
       "      <th>0</th>\n",
       "      <td>RCNX0032.JPG</td>\n",
       "      <td>2019/100RECNX</td>\n",
       "      <td>/tank/data/nna/cameraTrap/prudhoe/15/2019/100R...</td>\n",
       "      <td>Human</td>\n",
       "    </tr>\n",
       "    <tr>\n",
       "      <th>1</th>\n",
       "      <td>RCNX0533.JPG</td>\n",
       "      <td>2019/100RECNX</td>\n",
       "      <td>/tank/data/nna/cameraTrap/prudhoe/15/2019/100R...</td>\n",
       "      <td>Caribou</td>\n",
       "    </tr>\n",
       "    <tr>\n",
       "      <th>2</th>\n",
       "      <td>RCNX0534.JPG</td>\n",
       "      <td>2019/100RECNX</td>\n",
       "      <td>/tank/data/nna/cameraTrap/prudhoe/15/2019/100R...</td>\n",
       "      <td>Caribou</td>\n",
       "    </tr>\n",
       "    <tr>\n",
       "      <th>3</th>\n",
       "      <td>RCNX0535.JPG</td>\n",
       "      <td>2019/100RECNX</td>\n",
       "      <td>/tank/data/nna/cameraTrap/prudhoe/15/2019/100R...</td>\n",
       "      <td>Caribou</td>\n",
       "    </tr>\n",
       "    <tr>\n",
       "      <th>4</th>\n",
       "      <td>RCNX0536.JPG</td>\n",
       "      <td>2019/100RECNX</td>\n",
       "      <td>/tank/data/nna/cameraTrap/prudhoe/15/2019/100R...</td>\n",
       "      <td>Caribou</td>\n",
       "    </tr>\n",
       "  </tbody>\n",
       "</table>\n",
       "</div>"
      ],
      "text/plain": [
       "       fileName    RelFilePath  \\\n",
       "0  RCNX0032.JPG  2019/100RECNX   \n",
       "1  RCNX0533.JPG  2019/100RECNX   \n",
       "2  RCNX0534.JPG  2019/100RECNX   \n",
       "3  RCNX0535.JPG  2019/100RECNX   \n",
       "4  RCNX0536.JPG  2019/100RECNX   \n",
       "\n",
       "                                         AbsFilePath     Type  \n",
       "0  /tank/data/nna/cameraTrap/prudhoe/15/2019/100R...    Human  \n",
       "1  /tank/data/nna/cameraTrap/prudhoe/15/2019/100R...  Caribou  \n",
       "2  /tank/data/nna/cameraTrap/prudhoe/15/2019/100R...  Caribou  \n",
       "3  /tank/data/nna/cameraTrap/prudhoe/15/2019/100R...  Caribou  \n",
       "4  /tank/data/nna/cameraTrap/prudhoe/15/2019/100R...  Caribou  "
      ]
     },
     "execution_count": 30,
     "metadata": {},
     "output_type": "execute_result"
    }
   ],
   "source": [
    "fs_df.head()"
   ]
  },
  {
   "cell_type": "code",
   "execution_count": 31,
   "metadata": {
    "execution": {
     "iopub.execute_input": "2020-08-10T20:50:16.928940Z",
     "iopub.status.busy": "2020-08-10T20:50:16.928355Z",
     "iopub.status.idle": "2020-08-10T20:50:16.953630Z",
     "shell.execute_reply": "2020-08-10T20:50:16.951915Z",
     "shell.execute_reply.started": "2020-08-10T20:50:16.928878Z"
    }
   },
   "outputs": [],
   "source": [
    "fs_df.to_csv('prudhoe_15_parsed.csv')"
   ]
  },
  {
   "cell_type": "code",
   "execution_count": 37,
   "metadata": {
    "execution": {
     "iopub.execute_input": "2020-08-10T20:53:09.357899Z",
     "iopub.status.busy": "2020-08-10T20:53:09.357393Z",
     "iopub.status.idle": "2020-08-10T20:53:09.364894Z",
     "shell.execute_reply": "2020-08-10T20:53:09.363688Z",
     "shell.execute_reply.started": "2020-08-10T20:53:09.357841Z"
    }
   },
   "outputs": [],
   "source": [
    "tf = tarfile.open('prudhoe_15_positive.tar.gz', mode='x:gz')"
   ]
  },
  {
   "cell_type": "code",
   "execution_count": 38,
   "metadata": {
    "execution": {
     "iopub.execute_input": "2020-08-10T20:53:23.126642Z",
     "iopub.status.busy": "2020-08-10T20:53:23.126171Z",
     "iopub.status.idle": "2020-08-10T20:53:37.650539Z",
     "shell.execute_reply": "2020-08-10T20:53:37.649060Z",
     "shell.execute_reply.started": "2020-08-10T20:53:23.126590Z"
    }
   },
   "outputs": [
    {
     "name": "stdout",
     "output_type": "stream",
     "text": [
      "120 error(s) encountered. [Probably missing files]\n"
     ]
    }
   ],
   "source": [
    "e = 0\n",
    "for i, row in fs_df.iterrows():\n",
    "    try:\n",
    "        tf.add(row[\"AbsFilePath\"], arcname=os.path.join(row[\"RelFilePath\"],row[\"fileName\"]))\n",
    "#         break\n",
    "    except:\n",
    "        e += 1\n",
    "print(f'{e} error(s) encountered. [Probably missing files]')"
   ]
  },
  {
   "cell_type": "code",
   "execution_count": 39,
   "metadata": {
    "execution": {
     "iopub.execute_input": "2020-08-10T20:53:40.101541Z",
     "iopub.status.busy": "2020-08-10T20:53:40.101015Z",
     "iopub.status.idle": "2020-08-10T20:53:40.107772Z",
     "shell.execute_reply": "2020-08-10T20:53:40.106785Z",
     "shell.execute_reply.started": "2020-08-10T20:53:40.101476Z"
    }
   },
   "outputs": [],
   "source": [
    "tf.close()"
   ]
  }
 ],
 "metadata": {
  "kernelspec": {
   "display_name": "Python 3",
   "language": "python",
   "name": "python3"
  },
  "language_info": {
   "codemirror_mode": {
    "name": "ipython",
    "version": 3
   },
   "file_extension": ".py",
   "mimetype": "text/x-python",
   "name": "python",
   "nbconvert_exporter": "python",
   "pygments_lexer": "ipython3",
   "version": "3.6.10"
  }
 },
 "nbformat": 4,
 "nbformat_minor": 4
}
